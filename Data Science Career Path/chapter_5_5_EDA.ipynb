{
 "cells": [
  {
   "cell_type": "markdown",
   "id": "ccfb6676",
   "metadata": {},
   "source": [
    "# Reflective Writing for Data Science Career Path - Codecademy\n",
    "by [Charalampos Spanias](https://cspanias.github.io/aboutme/) - February 2021\n",
    "\n",
    "## Content\n",
    "1. Getting Started with Data Science\n",
    "2. Python Fundamentals\n",
    "3. Data Acquisition\n",
    "4. Data Manipulation with Pandas\n",
    "5. Data Wrangling \\& Tidying\n",
    "    1. Fundamentals\n",
    "    1. Regural Expressions\n",
    "    1. Data Cleaning\n",
    "    1. Tidy Data\n",
    "    1. [Exploratory Data Analysis](#eda)"
   ]
  },
  {
   "cell_type": "markdown",
   "id": "ebffee7c",
   "metadata": {},
   "source": [
    "<a name=\"eda\"></a>\n",
    "# 5.5 Exploratory Data Analysis"
   ]
  }
 ],
 "metadata": {
  "kernelspec": {
   "display_name": "Python 3 (ipykernel)",
   "language": "python",
   "name": "python3"
  },
  "language_info": {
   "codemirror_mode": {
    "name": "ipython",
    "version": 3
   },
   "file_extension": ".py",
   "mimetype": "text/x-python",
   "name": "python",
   "nbconvert_exporter": "python",
   "pygments_lexer": "ipython3",
   "version": "3.9.7"
  }
 },
 "nbformat": 4,
 "nbformat_minor": 5
}
