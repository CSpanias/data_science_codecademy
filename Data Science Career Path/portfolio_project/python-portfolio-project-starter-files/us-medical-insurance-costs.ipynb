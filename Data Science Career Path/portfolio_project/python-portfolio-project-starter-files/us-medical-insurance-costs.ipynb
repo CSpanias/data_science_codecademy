{
 "cells": [
  {
   "cell_type": "markdown",
   "metadata": {},
   "source": [
    "# U.S. Medical Insurance Costs\n",
    "by Charalampos Spanias ([Webite](https://cspanias.github.io/aboutme/), [Codecademy](https://www.codecademy.com/profiles/CSpanias)) <br>\n",
    "\n",
    "This project is based on the **U.S. Medical Insurance Costs** [dataset](https://www.kaggle.com/mirichoi0218/insurance) and is developed as a portfolio project for **Codecademy's [Data Scientist career path](https://www.codecademy.com/learn/paths/data-science)**."
   ]
  },
  {
   "cell_type": "markdown",
   "metadata": {},
   "source": [
    "# CONTENT\n",
    "1. [Project Scope](#ProjectScope)\n",
    "2. [Reading the Dataset](#ImportDataset)\n",
    "3. [Answering Questions](#Questions)\n",
    "    1. [Basic Questions](#Basic)\n",
    "    2. [Project Extensions](#Extensions)"
   ]
  },
  {
   "cell_type": "markdown",
   "metadata": {},
   "source": [
    "<a name=\"ProjectScore\"></a>\n",
    "# 1. Project Scope"
   ]
  },
  {
   "cell_type": "markdown",
   "metadata": {},
   "source": [
    "**Basic Questions** proposed by Codecademy:\n",
    "\n",
    "1. Find out the **average age** of the patients in the dataset.\n",
    "2. Analyze where a majority of the individuals are **from**.\n",
    "3. Look at the different **costs between smokers vs. non-smokers**.\n",
    "4. Figure out what the **average age is for someone who has at least one child** in this dataset.\n",
    "\n",
    "**Project Extentions** proposed by Codecademy (*slightly modified*):\n",
    "\n",
    "1. Perform **Code Refactoring**.\n",
    "2. Perform an **Exploratory Data Analysis** (EDA).\n",
    "2. Build a **Machine Learning model** to make cost predictions.\n",
    "3. Explore areas where the data may include **bias** and how that would impact potential use cases."
   ]
  },
  {
   "cell_type": "markdown",
   "metadata": {},
   "source": [
    "<a name=\"ImportDataset\"></a>\n",
    "# 2. Reading the Dataset"
   ]
  },
  {
   "cell_type": "markdown",
   "metadata": {},
   "source": [
    "I first **imported the dataset** using the `csv` library and the `with` keyword.\n",
    "\n",
    "Then, I used `csv.DictReader` for **converting it into a dictionary** so I can easily access what I need."
   ]
  },
  {
   "cell_type": "code",
   "execution_count": 6,
   "metadata": {
    "scrolled": true
   },
   "outputs": [
    {
     "name": "stdout",
     "output_type": "stream",
     "text": [
      "{'age': '19', 'sex': 'female', 'bmi': '27.9', 'children': '0', 'smoker': 'yes', 'region': 'southwest', 'charges': '16884.924'}\n",
      "{'age': '18', 'sex': 'male', 'bmi': '33.77', 'children': '1', 'smoker': 'no', 'region': 'southeast', 'charges': '1725.5523'}\n",
      "{'age': '28', 'sex': 'male', 'bmi': '33', 'children': '3', 'smoker': 'no', 'region': 'southeast', 'charges': '4449.462'}\n",
      "{'age': '33', 'sex': 'male', 'bmi': '22.705', 'children': '0', 'smoker': 'no', 'region': 'northwest', 'charges': '21984.47061'}\n",
      "{'age': '32', 'sex': 'male', 'bmi': '28.88', 'children': '0', 'smoker': 'no', 'region': 'northwest', 'charges': '3866.8552'}\n",
      "{'age': '31', 'sex': 'female', 'bmi': '25.74', 'children': '0', 'smoker': 'no', 'region': 'southeast', 'charges': '3756.6216'}\n"
     ]
    }
   ],
   "source": [
    "# import the required module\n",
    "import csv\n",
    "\n",
    "# create a count variable for stopping the printing early later\n",
    "count = 0\n",
    "\n",
    "# load the dataset and assign it to a temp variable\n",
    "with open(\"insurance.csv\", newline=\"\") as insurance_data:\n",
    "    # instantiate csv.DictReader and convert the file into a dictionary\n",
    "    reader = csv.DictReader(insurance_data)\n",
    "    # for every row in the dictionary\n",
    "    for row in reader:\n",
    "        # i want to print only the fist 5 rows\n",
    "         if count < 6:\n",
    "            # print row\n",
    "            print(row);\n",
    "            # increase count by 1\n",
    "            count += 1"
   ]
  },
  {
   "cell_type": "markdown",
   "metadata": {},
   "source": [
    "Make **a list for storing each feature** so the desired **calculations** can be performed and answer the project's questions."
   ]
  },
  {
   "cell_type": "code",
   "execution_count": 7,
   "metadata": {},
   "outputs": [],
   "source": [
    "# create the desired lists\n",
    "age_list, sex_list, bmi_list, children_list = [], [], [], []\n",
    "smoker_list, region_list, charges_list = [], [], []\n",
    "\n",
    "# load the dataset and assign it to a temp variable\n",
    "with open(\"insurance.csv\", newline=\"\") as insurance_data:\n",
    "    # instantiate csv.DictReader and convert the file into a dictionary\n",
    "    reader = csv.DictReader(insurance_data)\n",
    "    # for every row in the dictionary\n",
    "    for row in reader:\n",
    "        # append each element into the corresponding list\n",
    "        age_list.append(int(row[\"age\"]))\n",
    "        sex_list.append(row[\"sex\"])\n",
    "        bmi_list.append(row[\"bmi\"])\n",
    "        children_list.append(row[\"children\"])\n",
    "        smoker_list.append(row[\"smoker\"])\n",
    "        region_list.append(row[\"region\"])\n",
    "        charges_list.append(row[\"charges\"])"
   ]
  },
  {
   "cell_type": "markdown",
   "metadata": {},
   "source": [
    "<a name=\"Questions\"></a>\n",
    "# 3. Answering Questions"
   ]
  },
  {
   "cell_type": "markdown",
   "metadata": {},
   "source": [
    "<a name=\"Basic\"></a>\n",
    "## 3.1 Basic Questions\n",
    "1. [Find out the average age of the patients in the dataset.](#MeanAge)\n",
    "2. [Analyze where a majority of the individuals are from.](#Region)\n",
    "3. [Look at the different costs between smokers vs. non-smokers.](#Smokers)\n",
    "4. [Figure out what the average age is for someone who has at least one child in this dataset.](#agechild)"
   ]
  },
  {
   "cell_type": "markdown",
   "metadata": {},
   "source": [
    "<a name=\"MeanAge\"></a>\n",
    "## 3.1.1 Mean Age"
   ]
  },
  {
   "cell_type": "markdown",
   "metadata": {},
   "source": [
    "1. Create `list_mean` function for calculating the mean of a list's numerical elements.\n",
    "\n",
    "\n",
    "2. Create `test_list_mean` function using the `assert()` keyword to test `list_mean`.\n",
    "\n",
    "\n",
    "3. Call `list_mean` to calculate mean age for `age_list`.\n",
    "\n",
    "_**Step `2` was not included in Codecademy's curriculum so far**_."
   ]
  },
  {
   "cell_type": "code",
   "execution_count": 8,
   "metadata": {},
   "outputs": [],
   "source": [
    "def list_mean(a_list):\n",
    "    \"\"\"Calculate the mean of the list's numerical elements.\"\"\"\n",
    "    \n",
    "    # create a variable to store the sum of the list's elements\n",
    "    sum = 0\n",
    "    # create a var to store the list length\n",
    "    list_len = 0\n",
    "    \n",
    "    # for each element within the list\n",
    "    for element in a_list:\n",
    "        # use a try-except block to control for TypeError\n",
    "        try:\n",
    "            # increase sum by the value of this element\n",
    "            sum += element\n",
    "            list_len += 1\n",
    "        except TypeError:\n",
    "            # continue to the next element\n",
    "            continue\n",
    "        \n",
    "    # use a try-except block to control for ZeroDivisionError\n",
    "    try:         \n",
    "        # return the mean value\n",
    "        return sum / list_len\n",
    "    except ZeroDivisionError:\n",
    "        # print a message explaining the error\n",
    "        return \"Your list does not contain any numerical value!\""
   ]
  },
  {
   "cell_type": "markdown",
   "metadata": {},
   "source": [
    "Create a new function using the **`assert` keyword** to test if the **`list_mean`** function works as expected.\n",
    "\n",
    "If something is wrong, when **`test_list_mean`** is called, it should return an **`AssertionError`**. If everything works fine it should return nothing.\n",
    "\n",
    "_More info on **`assert`** [here](https://www.w3schools.com/python/ref_keyword_assert.asp)._"
   ]
  },
  {
   "cell_type": "code",
   "execution_count": 9,
   "metadata": {},
   "outputs": [],
   "source": [
    "def test_list_mean():\n",
    "    \"\"\"Test the list_mean function.\"\"\"\n",
    "    \n",
    "    # test for a short numerical list\n",
    "    assert list_mean([15, 10, 5]) == 10\n",
    "    # test for a longer numerical list\n",
    "    assert list_mean([10, 10, 10, 5, 6, 12, 34, 63]) == 18.75\n",
    "    # test for list that contains non-numbers\n",
    "    assert list_mean([15, \"hi\", 15]) == 15\n",
    "    # test for a list with no numbers at all\n",
    "    assert list_mean([\"hi\", \"bye\"]) == \"Your list does not contain any numerical value!\"\n",
    "\n",
    "    return\n",
    "\n",
    "# call function\n",
    "test_list_mean()"
   ]
  },
  {
   "cell_type": "markdown",
   "metadata": {},
   "source": [
    "Since **`test_list_mean`** returns nothing, it means that everything works as expected!"
   ]
  },
  {
   "cell_type": "code",
   "execution_count": 10,
   "metadata": {
    "scrolled": true
   },
   "outputs": [
    {
     "name": "stdout",
     "output_type": "stream",
     "text": [
      "The mean age of the sample is: 39.21 years.\n"
     ]
    }
   ],
   "source": [
    "# call function to calculate the mean age of age_list\n",
    "print(\"The mean age of the sample is: {:.2f} years.\".format(list_mean(age_list)))"
   ]
  },
  {
   "cell_type": "markdown",
   "metadata": {},
   "source": [
    "<a name=\"Region\"></a>\n",
    "## 3.1.2 Most popular regions"
   ]
  },
  {
   "cell_type": "markdown",
   "metadata": {},
   "source": [
    "1. Create `popular_regions` function to find the three most popular regions of a list.\n",
    "\n",
    "\n",
    "2. Call `popular_regions` on `region_list` to return the three most popular regions.\n",
    "\n",
    "_For **step `1`**, I used the **`operator`** library and its attribute **`itemgetter`**, which is not included in Codecademy's curriculum so far. More info on **`operator`** [here](https://stackabuse.com/how-to-sort-dictionary-by-value-in-python/)._"
   ]
  },
  {
   "cell_type": "code",
   "execution_count": 11,
   "metadata": {},
   "outputs": [],
   "source": [
    "import operator\n",
    "\n",
    "def popular_regions(a_list):\n",
    "    \"\"\"Sort the list's string elements alphabetically.\"\"\"\n",
    "\n",
    "    # create list for storing each region's name\n",
    "    unique_regions = []\n",
    "    \n",
    "    # find every region in list\n",
    "    for region in region_list:\n",
    "        # if this region is not already in list\n",
    "        if region not in unique_regions:\n",
    "            # append region to list\n",
    "            unique_regions.append(region)\n",
    "\n",
    "    # create a dict for storing each region with number of occurences\n",
    "    regions_dict = {}\n",
    "    # for each region in list\n",
    "    for unique_region in unique_regions:\n",
    "        # set region's name as key and number of occurences as value\n",
    "        regions_dict[unique_region] = region_list.count(unique_region)\n",
    "\n",
    "        # sort the dictionary in ascending order\n",
    "        sorted_tuples = sorted(regions_dict.items(), key=operator.itemgetter(1))\n",
    "\n",
    "    print(\"\"\"The most popular region is: {}.\\nThe 2nd most popular region is: {}.\\nThe 3rd most popular region is: {}.\"\"\"\n",
    "          .format(sorted_tuples[-1][0].title(), sorted_tuples[-2][0].title(), sorted_tuples[-3][0].title()))"
   ]
  },
  {
   "cell_type": "code",
   "execution_count": 12,
   "metadata": {
    "scrolled": true
   },
   "outputs": [
    {
     "name": "stdout",
     "output_type": "stream",
     "text": [
      "The most popular region is: Southeast.\n",
      "The 2nd most popular region is: Northwest.\n",
      "The 3rd most popular region is: Southwest.\n"
     ]
    }
   ],
   "source": [
    "popular_regions(region_list)"
   ]
  },
  {
   "cell_type": "markdown",
   "metadata": {},
   "source": [
    "An **alternative way** is demonstrated below."
   ]
  },
  {
   "cell_type": "code",
   "execution_count": 13,
   "metadata": {},
   "outputs": [
    {
     "name": "stdout",
     "output_type": "stream",
     "text": [
      "[325, 325, 364, 324] \n",
      "\n",
      "{'southeast', 'northwest', 'southwest', 'northeast'} \n",
      "\n",
      "{'southeast': 325, 'northwest': 325, 'southwest': 364, 'northeast': 324}\n"
     ]
    }
   ],
   "source": [
    "# initiate count variables\n",
    "south_west, north_west, south_east, north_east = 0, 0, 0, 0\n",
    "\n",
    "# iterate over elements, match their starting characters, and append them appropriately\n",
    "for region in region_list:\n",
    "    if region.startswith(\"southw\"):\n",
    "        south_west += 1\n",
    "    elif region.startswith(\"southe\"):\n",
    "        south_east += 1\n",
    "    elif region.startswith(\"northw\"):\n",
    "        north_west += 1\n",
    "    else: # region.startswith(\"northe\")\n",
    "        north_east += 1\n",
    "\n",
    "# create a list with the counts\n",
    "counts = [south_west, north_west, south_east, north_east]\n",
    "\n",
    "# check counts for each region\n",
    "print(counts, \"\\n\")\n",
    "\n",
    "# remove duplicate values\n",
    "print(set(region_list), \"\\n\")\n",
    "\n",
    "# create a dict with region_name as key and counts as its value\n",
    "region_counts_dict = {key:value for key, value in zip(set(region_list), counts)}\n",
    "\n",
    "# check dict\n",
    "print(region_counts_dict)"
   ]
  },
  {
   "cell_type": "markdown",
   "metadata": {},
   "source": [
    "<a name=\"Smoker\"></a>\n",
    "## 3.1.3 Smoker vs non-Smoker costs"
   ]
  },
  {
   "cell_type": "markdown",
   "metadata": {},
   "source": [
    "For calculating the **mean insurance cost** for smokers and non-smokers, I will use the **Pandas library** for the following:\n",
    "\n",
    "\n",
    "1. **Import the CSV file** as a **Pandas DataFrame** using **`pd.read_csv`**.\n",
    "\n",
    "\n",
    "2. Select a **subset** with the columns of interest using **slicing techniques**.\n",
    "\n",
    "\n",
    "3. Calculate the **mean cost** for each category using **`groupby`**.\n",
    "\n",
    "\n",
    "4. Calculate the **difference** between the two categories using **slicing techniques** such as **dot notation** and **`iloc`**."
   ]
  },
  {
   "cell_type": "code",
   "execution_count": 19,
   "metadata": {
    "scrolled": true
   },
   "outputs": [
    {
     "data": {
      "text/html": [
       "<div>\n",
       "<style scoped>\n",
       "    .dataframe tbody tr th:only-of-type {\n",
       "        vertical-align: middle;\n",
       "    }\n",
       "\n",
       "    .dataframe tbody tr th {\n",
       "        vertical-align: top;\n",
       "    }\n",
       "\n",
       "    .dataframe thead th {\n",
       "        text-align: right;\n",
       "    }\n",
       "</style>\n",
       "<table border=\"1\" class=\"dataframe\">\n",
       "  <thead>\n",
       "    <tr style=\"text-align: right;\">\n",
       "      <th></th>\n",
       "      <th>age</th>\n",
       "      <th>sex</th>\n",
       "      <th>bmi</th>\n",
       "      <th>children</th>\n",
       "      <th>smoker</th>\n",
       "      <th>region</th>\n",
       "      <th>charges</th>\n",
       "    </tr>\n",
       "  </thead>\n",
       "  <tbody>\n",
       "    <tr>\n",
       "      <th>0</th>\n",
       "      <td>19</td>\n",
       "      <td>female</td>\n",
       "      <td>27.900</td>\n",
       "      <td>0</td>\n",
       "      <td>yes</td>\n",
       "      <td>southwest</td>\n",
       "      <td>16884.92400</td>\n",
       "    </tr>\n",
       "    <tr>\n",
       "      <th>1</th>\n",
       "      <td>18</td>\n",
       "      <td>male</td>\n",
       "      <td>33.770</td>\n",
       "      <td>1</td>\n",
       "      <td>no</td>\n",
       "      <td>southeast</td>\n",
       "      <td>1725.55230</td>\n",
       "    </tr>\n",
       "    <tr>\n",
       "      <th>2</th>\n",
       "      <td>28</td>\n",
       "      <td>male</td>\n",
       "      <td>33.000</td>\n",
       "      <td>3</td>\n",
       "      <td>no</td>\n",
       "      <td>southeast</td>\n",
       "      <td>4449.46200</td>\n",
       "    </tr>\n",
       "    <tr>\n",
       "      <th>3</th>\n",
       "      <td>33</td>\n",
       "      <td>male</td>\n",
       "      <td>22.705</td>\n",
       "      <td>0</td>\n",
       "      <td>no</td>\n",
       "      <td>northwest</td>\n",
       "      <td>21984.47061</td>\n",
       "    </tr>\n",
       "    <tr>\n",
       "      <th>4</th>\n",
       "      <td>32</td>\n",
       "      <td>male</td>\n",
       "      <td>28.880</td>\n",
       "      <td>0</td>\n",
       "      <td>no</td>\n",
       "      <td>northwest</td>\n",
       "      <td>3866.85520</td>\n",
       "    </tr>\n",
       "  </tbody>\n",
       "</table>\n",
       "</div>"
      ],
      "text/plain": [
       "   age     sex     bmi  children smoker     region      charges\n",
       "0   19  female  27.900         0    yes  southwest  16884.92400\n",
       "1   18    male  33.770         1     no  southeast   1725.55230\n",
       "2   28    male  33.000         3     no  southeast   4449.46200\n",
       "3   33    male  22.705         0     no  northwest  21984.47061\n",
       "4   32    male  28.880         0     no  northwest   3866.85520"
      ]
     },
     "execution_count": 19,
     "metadata": {},
     "output_type": "execute_result"
    }
   ],
   "source": [
    "import pandas as pd\n",
    "\n",
    "# import CSV file as pandas DataFrame\n",
    "df = pd.read_csv('insurance.csv')\n",
    "\n",
    "# check first 5 rows\n",
    "df.head()"
   ]
  },
  {
   "cell_type": "code",
   "execution_count": 20,
   "metadata": {
    "scrolled": true
   },
   "outputs": [
    {
     "data": {
      "text/html": [
       "<div>\n",
       "<style scoped>\n",
       "    .dataframe tbody tr th:only-of-type {\n",
       "        vertical-align: middle;\n",
       "    }\n",
       "\n",
       "    .dataframe tbody tr th {\n",
       "        vertical-align: top;\n",
       "    }\n",
       "\n",
       "    .dataframe thead th {\n",
       "        text-align: right;\n",
       "    }\n",
       "</style>\n",
       "<table border=\"1\" class=\"dataframe\">\n",
       "  <thead>\n",
       "    <tr style=\"text-align: right;\">\n",
       "      <th></th>\n",
       "      <th>smoker</th>\n",
       "      <th>charges</th>\n",
       "    </tr>\n",
       "  </thead>\n",
       "  <tbody>\n",
       "    <tr>\n",
       "      <th>0</th>\n",
       "      <td>yes</td>\n",
       "      <td>16884.92400</td>\n",
       "    </tr>\n",
       "    <tr>\n",
       "      <th>1</th>\n",
       "      <td>no</td>\n",
       "      <td>1725.55230</td>\n",
       "    </tr>\n",
       "    <tr>\n",
       "      <th>2</th>\n",
       "      <td>no</td>\n",
       "      <td>4449.46200</td>\n",
       "    </tr>\n",
       "    <tr>\n",
       "      <th>3</th>\n",
       "      <td>no</td>\n",
       "      <td>21984.47061</td>\n",
       "    </tr>\n",
       "    <tr>\n",
       "      <th>4</th>\n",
       "      <td>no</td>\n",
       "      <td>3866.85520</td>\n",
       "    </tr>\n",
       "  </tbody>\n",
       "</table>\n",
       "</div>"
      ],
      "text/plain": [
       "  smoker      charges\n",
       "0    yes  16884.92400\n",
       "1     no   1725.55230\n",
       "2     no   4449.46200\n",
       "3     no  21984.47061\n",
       "4     no   3866.85520"
      ]
     },
     "execution_count": 20,
     "metadata": {},
     "output_type": "execute_result"
    }
   ],
   "source": [
    "# create a subset with the cols of interest\n",
    "df_smoker_cost = df[['smoker', 'charges']]\n",
    "\n",
    "# check first 5 rows\n",
    "df_smoker_cost.head()"
   ]
  },
  {
   "cell_type": "code",
   "execution_count": 27,
   "metadata": {},
   "outputs": [
    {
     "data": {
      "text/html": [
       "<div>\n",
       "<style scoped>\n",
       "    .dataframe tbody tr th:only-of-type {\n",
       "        vertical-align: middle;\n",
       "    }\n",
       "\n",
       "    .dataframe tbody tr th {\n",
       "        vertical-align: top;\n",
       "    }\n",
       "\n",
       "    .dataframe thead th {\n",
       "        text-align: right;\n",
       "    }\n",
       "</style>\n",
       "<table border=\"1\" class=\"dataframe\">\n",
       "  <thead>\n",
       "    <tr style=\"text-align: right;\">\n",
       "      <th></th>\n",
       "      <th>smoker</th>\n",
       "      <th>Mean Cost</th>\n",
       "    </tr>\n",
       "  </thead>\n",
       "  <tbody>\n",
       "    <tr>\n",
       "      <th>0</th>\n",
       "      <td>no</td>\n",
       "      <td>8434.268298</td>\n",
       "    </tr>\n",
       "    <tr>\n",
       "      <th>1</th>\n",
       "      <td>yes</td>\n",
       "      <td>32050.231832</td>\n",
       "    </tr>\n",
       "  </tbody>\n",
       "</table>\n",
       "</div>"
      ],
      "text/plain": [
       "  smoker     Mean Cost\n",
       "0     no   8434.268298\n",
       "1    yes  32050.231832"
      ]
     },
     "execution_count": 27,
     "metadata": {},
     "output_type": "execute_result"
    }
   ],
   "source": [
    "# calculate mean cost for smokers\n",
    "mean_cost = df_smoker_cost.groupby('smoker').charges.mean().reset_index()\n",
    "\n",
    "# rename col\n",
    "mean_cost.rename(columns={'charges': 'Mean Cost'}, inplace=True)\n",
    "\n",
    "# check first 5 rows\n",
    "mean_cost.head()"
   ]
  },
  {
   "cell_type": "code",
   "execution_count": 35,
   "metadata": {},
   "outputs": [
    {
     "name": "stdout",
     "output_type": "stream",
     "text": [
      "The mean insurance cost for a smoker is: $32050.\n",
      "\n",
      "The mean insurance cost for a non-smoker is: $8434.\n",
      "\n",
      "The difference between smoker and non-smoker is: $23616.\n"
     ]
    }
   ],
   "source": [
    "# calculate difference\n",
    "cost_smoker = mean_cost['Mean Cost'].iloc[1]\n",
    "cost_nonsmoker = mean_cost['Mean Cost'].iloc[0]\n",
    "cost_diff = cost_smoker - cost_nonsmoker \n",
    "\n",
    "# print message\n",
    "print(\"The mean insurance cost for a smoker is: ${:.0f}.\\n\".format(cost_smoker))\n",
    "print(\"The mean insurance cost for a non-smoker is: ${:.0f}.\\n\".format(cost_nonsmoker))\n",
    "print(\"The difference between smoker and non-smoker is: ${:.0f}.\".format(cost_diff))"
   ]
  },
  {
   "cell_type": "markdown",
   "metadata": {},
   "source": [
    "<a name=\"agechild\"></a>\n",
    "## 3.1.4 Mean Age for someone with at least one child."
   ]
  },
  {
   "cell_type": "markdown",
   "metadata": {},
   "source": [
    "I will use again the **Pandas library** to answer this question.\n",
    "\n",
    "1. Select a **subset** with the columns of interest using **slicing techniques**.\n",
    "\n",
    "\n",
    "2. Calculate the **mean age**."
   ]
  },
  {
   "cell_type": "code",
   "execution_count": 37,
   "metadata": {},
   "outputs": [
    {
     "data": {
      "text/html": [
       "<div>\n",
       "<style scoped>\n",
       "    .dataframe tbody tr th:only-of-type {\n",
       "        vertical-align: middle;\n",
       "    }\n",
       "\n",
       "    .dataframe tbody tr th {\n",
       "        vertical-align: top;\n",
       "    }\n",
       "\n",
       "    .dataframe thead th {\n",
       "        text-align: right;\n",
       "    }\n",
       "</style>\n",
       "<table border=\"1\" class=\"dataframe\">\n",
       "  <thead>\n",
       "    <tr style=\"text-align: right;\">\n",
       "      <th></th>\n",
       "      <th>age</th>\n",
       "      <th>children</th>\n",
       "    </tr>\n",
       "  </thead>\n",
       "  <tbody>\n",
       "    <tr>\n",
       "      <th>0</th>\n",
       "      <td>19</td>\n",
       "      <td>0</td>\n",
       "    </tr>\n",
       "    <tr>\n",
       "      <th>1</th>\n",
       "      <td>18</td>\n",
       "      <td>1</td>\n",
       "    </tr>\n",
       "    <tr>\n",
       "      <th>2</th>\n",
       "      <td>28</td>\n",
       "      <td>3</td>\n",
       "    </tr>\n",
       "    <tr>\n",
       "      <th>3</th>\n",
       "      <td>33</td>\n",
       "      <td>0</td>\n",
       "    </tr>\n",
       "    <tr>\n",
       "      <th>4</th>\n",
       "      <td>32</td>\n",
       "      <td>0</td>\n",
       "    </tr>\n",
       "  </tbody>\n",
       "</table>\n",
       "</div>"
      ],
      "text/plain": [
       "   age  children\n",
       "0   19         0\n",
       "1   18         1\n",
       "2   28         3\n",
       "3   33         0\n",
       "4   32         0"
      ]
     },
     "execution_count": 37,
     "metadata": {},
     "output_type": "execute_result"
    }
   ],
   "source": [
    "# select subset\n",
    "age_child_df = df[ ['age', 'children']]\n",
    "\n",
    "# check first 5 rows\n",
    "age_child_df.head()"
   ]
  },
  {
   "cell_type": "code",
   "execution_count": 39,
   "metadata": {},
   "outputs": [
    {
     "data": {
      "text/html": [
       "<div>\n",
       "<style scoped>\n",
       "    .dataframe tbody tr th:only-of-type {\n",
       "        vertical-align: middle;\n",
       "    }\n",
       "\n",
       "    .dataframe tbody tr th {\n",
       "        vertical-align: top;\n",
       "    }\n",
       "\n",
       "    .dataframe thead th {\n",
       "        text-align: right;\n",
       "    }\n",
       "</style>\n",
       "<table border=\"1\" class=\"dataframe\">\n",
       "  <thead>\n",
       "    <tr style=\"text-align: right;\">\n",
       "      <th></th>\n",
       "      <th>age</th>\n",
       "      <th>children</th>\n",
       "    </tr>\n",
       "  </thead>\n",
       "  <tbody>\n",
       "    <tr>\n",
       "      <th>1</th>\n",
       "      <td>18</td>\n",
       "      <td>1</td>\n",
       "    </tr>\n",
       "    <tr>\n",
       "      <th>2</th>\n",
       "      <td>28</td>\n",
       "      <td>3</td>\n",
       "    </tr>\n",
       "    <tr>\n",
       "      <th>6</th>\n",
       "      <td>46</td>\n",
       "      <td>1</td>\n",
       "    </tr>\n",
       "    <tr>\n",
       "      <th>7</th>\n",
       "      <td>37</td>\n",
       "      <td>3</td>\n",
       "    </tr>\n",
       "    <tr>\n",
       "      <th>8</th>\n",
       "      <td>37</td>\n",
       "      <td>2</td>\n",
       "    </tr>\n",
       "  </tbody>\n",
       "</table>\n",
       "</div>"
      ],
      "text/plain": [
       "   age  children\n",
       "1   18         1\n",
       "2   28         3\n",
       "6   46         1\n",
       "7   37         3\n",
       "8   37         2"
      ]
     },
     "execution_count": 39,
     "metadata": {},
     "output_type": "execute_result"
    }
   ],
   "source": [
    "# select those who only have at least 1 children\n",
    "subset = age_child_df[age_child_df.children > 0]\n",
    "\n",
    "# check fist 5 rows\n",
    "subset.head()"
   ]
  },
  {
   "cell_type": "code",
   "execution_count": 43,
   "metadata": {},
   "outputs": [
    {
     "name": "stdout",
     "output_type": "stream",
     "text": [
      "The mean age of persons who have at least 1 child is: 39.78 years old.\n",
      "\n"
     ]
    }
   ],
   "source": [
    "# calculate mean age\n",
    "mean_age_with_child = subset.age.mean()\n",
    "\n",
    "# print message\n",
    "print(\"The mean age of persons who have at least 1 child is: {:.2f} years old.\\n\".format(mean_age_with_child))"
   ]
  },
  {
   "cell_type": "code",
   "execution_count": 50,
   "metadata": {},
   "outputs": [
    {
     "data": {
      "text/html": [
       "<div>\n",
       "<style scoped>\n",
       "    .dataframe tbody tr th:only-of-type {\n",
       "        vertical-align: middle;\n",
       "    }\n",
       "\n",
       "    .dataframe tbody tr th {\n",
       "        vertical-align: top;\n",
       "    }\n",
       "\n",
       "    .dataframe thead th {\n",
       "        text-align: right;\n",
       "    }\n",
       "</style>\n",
       "<table border=\"1\" class=\"dataframe\">\n",
       "  <thead>\n",
       "    <tr style=\"text-align: right;\">\n",
       "      <th></th>\n",
       "      <th>Number of Children</th>\n",
       "      <th>Mean Age</th>\n",
       "    </tr>\n",
       "  </thead>\n",
       "  <tbody>\n",
       "    <tr>\n",
       "      <th>0</th>\n",
       "      <td>1</td>\n",
       "      <td>39.453704</td>\n",
       "    </tr>\n",
       "    <tr>\n",
       "      <th>1</th>\n",
       "      <td>2</td>\n",
       "      <td>39.445833</td>\n",
       "    </tr>\n",
       "    <tr>\n",
       "      <th>2</th>\n",
       "      <td>3</td>\n",
       "      <td>41.566879</td>\n",
       "    </tr>\n",
       "    <tr>\n",
       "      <th>3</th>\n",
       "      <td>4</td>\n",
       "      <td>39.000000</td>\n",
       "    </tr>\n",
       "    <tr>\n",
       "      <th>4</th>\n",
       "      <td>5</td>\n",
       "      <td>35.611111</td>\n",
       "    </tr>\n",
       "  </tbody>\n",
       "</table>\n",
       "</div>"
      ],
      "text/plain": [
       "   Number of Children   Mean Age\n",
       "0                   1  39.453704\n",
       "1                   2  39.445833\n",
       "2                   3  41.566879\n",
       "3                   4  39.000000\n",
       "4                   5  35.611111"
      ]
     },
     "execution_count": 50,
     "metadata": {},
     "output_type": "execute_result"
    }
   ],
   "source": [
    "# calculate mean age based on number of children\n",
    "df_kids_mean_age = subset.groupby('children').mean().reset_index()\n",
    "\n",
    "# rename col\n",
    "df_kids_mean_age.rename(columns={'age': 'Mean Age', 'children': 'Number of Children'}, inplace=True)\n",
    "\n",
    "# print df\n",
    "df_kids_mean_age"
   ]
  },
  {
   "cell_type": "markdown",
   "metadata": {},
   "source": [
    "<a name=\"Extensions\"></a>\n",
    "## 3.2 Project Extensions\n",
    "**Project Extentions** proposed by Codecademy (*slightly modified*):\n",
    "\n",
    "1. [Code Refactoring.](#Refactoring)\n",
    "2. [Perform an Exploratory Data Analysis (EDA).](#EDA)\n",
    "2. [Build a **Machine Learning model** to make cost predictions.](#ML)\n",
    "3. [Explore areas where the data may include **bias** and how that would impact potential use cases.](#Bias)"
   ]
  },
  {
   "cell_type": "markdown",
   "metadata": {},
   "source": [
    "<a name=\"Refactoring\"></a>\n",
    "## 3.2.1 Perform Code Refactoring\n",
    "\n",
    "You can find a part of [Wikipedia's term definition](https://en.wikipedia.org/wiki/Code_refactoring) below: \n",
    "\n",
    ">**Restructuring existing computer code**—changing the factoring—without changing its external behavior. Refactoring is intended to **improve** the **design**, **structure**, and/or **implementation** of the software (its non-functional attributes), while preserving its functionality. Potential advantages of refactoring may include **improved code readability** and **reduced complexity**."
   ]
  }
 ],
 "metadata": {
  "kernelspec": {
   "display_name": "Python 3 (ipykernel)",
   "language": "python",
   "name": "python3"
  },
  "language_info": {
   "codemirror_mode": {
    "name": "ipython",
    "version": 3
   },
   "file_extension": ".py",
   "mimetype": "text/x-python",
   "name": "python",
   "nbconvert_exporter": "python",
   "pygments_lexer": "ipython3",
   "version": "3.9.7"
  }
 },
 "nbformat": 4,
 "nbformat_minor": 4
}
