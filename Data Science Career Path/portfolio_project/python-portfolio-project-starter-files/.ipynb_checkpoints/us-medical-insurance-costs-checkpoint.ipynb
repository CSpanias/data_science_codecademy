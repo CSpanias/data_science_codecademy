{
 "cells": [
  {
   "cell_type": "markdown",
   "metadata": {},
   "source": [
    "# U.S. Medical Insurance Costs\n",
    "by Charalampos Spanias ([Webite](https://cspanias.github.io/aboutme/), [Codecademy](https://www.codecademy.com/profiles/CSpanias)) <br>\n",
    "\n",
    "This project is based on the **U.S. Medical Insurance Costs** [dataset](https://www.kaggle.com/mirichoi0218/insurance) and is developed as a portfolio project for **Codecademy's [Data Scientist career path](https://www.codecademy.com/learn/paths/data-science)**."
   ]
  },
  {
   "cell_type": "markdown",
   "metadata": {},
   "source": [
    "# CONTENT\n",
    "1. [Project Scope](#ProjectScope)\n",
    "2. [Reading the Dataset](#ImportDataset)\n",
    "3. [Answering Questions](#Questions)\n",
    "    1. [Basic Questions](#Basic)\n",
    "    2. [Project Extensions](#Extensions)"
   ]
  },
  {
   "cell_type": "markdown",
   "metadata": {},
   "source": [
    "<a name=\"ProjectScore\"></a>\n",
    "## 1. Project Scope\n",
    "\n",
    "**Basic Questions** proposed by Codecademy:\n",
    "\n",
    "1. Find out the average age of the patients in the dataset.\n",
    "2. Analyze where a majority of the individuals are from.\n",
    "3. Look at the different costs between smokers vs. non-smokers.\n",
    "4. Figure out what the average age is for someone who has at least one child in this dataset.\n",
    "\n",
    "**Project Extentions** proposed by Codecademy (*slightly modified*):\n",
    "\n",
    "1. Perform **Code Refactoring**.\n",
    "2. Perform an **Exploratory Data Analysis** (EDA).\n",
    "2. Build a **Machine Learning model** to make cost predictions.\n",
    "3. Explore areas where the data may include **bias** and how that would impact potential use cases."
   ]
  },
  {
   "cell_type": "markdown",
   "metadata": {},
   "source": [
    "<a name=\"ImportDataset\"></a>\n",
    "## 2. Reading the Dataset\n",
    "I first **imported the dataset** using the `csv` library and the `with` keyword.\n",
    "\n",
    "Then, I used `csv.DictReader` for **converting it into a dictionary** so I can easily access what I need."
   ]
  },
  {
   "cell_type": "code",
   "execution_count": 2,
   "metadata": {
    "scrolled": true
   },
   "outputs": [
    {
     "name": "stdout",
     "output_type": "stream",
     "text": [
      "{'age': '19', 'sex': 'female', 'bmi': '27.9', 'children': '0', 'smoker': 'yes', 'region': 'southwest', 'charges': '16884.924'}\n",
      "{'age': '18', 'sex': 'male', 'bmi': '33.77', 'children': '1', 'smoker': 'no', 'region': 'southeast', 'charges': '1725.5523'}\n",
      "{'age': '28', 'sex': 'male', 'bmi': '33', 'children': '3', 'smoker': 'no', 'region': 'southeast', 'charges': '4449.462'}\n",
      "{'age': '33', 'sex': 'male', 'bmi': '22.705', 'children': '0', 'smoker': 'no', 'region': 'northwest', 'charges': '21984.47061'}\n",
      "{'age': '32', 'sex': 'male', 'bmi': '28.88', 'children': '0', 'smoker': 'no', 'region': 'northwest', 'charges': '3866.8552'}\n",
      "{'age': '31', 'sex': 'female', 'bmi': '25.74', 'children': '0', 'smoker': 'no', 'region': 'southeast', 'charges': '3756.6216'}\n"
     ]
    }
   ],
   "source": [
    "# import the required module\n",
    "import csv\n",
    "\n",
    "# create a count variable for stopping the printing early later\n",
    "count = 0\n",
    "# load the dataset and assign it to a temp variable\n",
    "with open(\"insurance.csv\", newline=\"\") as insurance_data:\n",
    "    # instantiate csv.DictReader and convert the file into a dictionary\n",
    "    reader = csv.DictReader(insurance_data)\n",
    "    # for every row in the dictionary\n",
    "    for row in reader:\n",
    "        # i want to print only the fist 5 rows\n",
    "         if count < 6:\n",
    "            # print row\n",
    "            print(row);\n",
    "            # increase count by 1\n",
    "            count += 1"
   ]
  },
  {
   "cell_type": "markdown",
   "metadata": {},
   "source": [
    "Make **a list for storing each feature** so the desired **calculations** can be performed and answer the project's questions."
   ]
  },
  {
   "cell_type": "code",
   "execution_count": 3,
   "metadata": {},
   "outputs": [],
   "source": [
    "# create the desired lists\n",
    "age_list, sex_list, bmi_list, children_list = [], [], [], []\n",
    "smoker_list, region_list, charges_list = [], [], []\n",
    "\n",
    "# load the dataset and assign it to a temp variable\n",
    "with open(\"insurance.csv\", newline=\"\") as insurance_data:\n",
    "    # instantiate csv.DictReader and convert the file into a dictionary\n",
    "    reader = csv.DictReader(insurance_data)\n",
    "    # for every row in the dictionary\n",
    "    for row in reader:\n",
    "        # append each element into the corresponding list\n",
    "        age_list.append(int(row[\"age\"]))\n",
    "        sex_list.append(row[\"sex\"])\n",
    "        bmi_list.append(row[\"bmi\"])\n",
    "        children_list.append(row[\"children\"])\n",
    "        smoker_list.append(row[\"smoker\"])\n",
    "        region_list.append(row[\"region\"])\n",
    "        charges_list.append(row[\"charges\"])"
   ]
  },
  {
   "cell_type": "markdown",
   "metadata": {},
   "source": [
    "<a name=\"Questions\"></a>\n",
    "# 3. Answering Questions"
   ]
  },
  {
   "cell_type": "markdown",
   "metadata": {},
   "source": [
    "<a name=\"Basic\"></a>\n",
    "## 3.1 Basic Questions\n",
    "**Basic Questions** proposed by Codecademy:\n",
    "1. [Find out the average age of the patients in the dataset.](#MeanAge)\n",
    "2. [Analyze where a majority of the individuals are from.](#Region)\n",
    "3. [Look at the different costs between smokers vs. non-smokers.](#Smokers)\n",
    "4. [Figure out what the average age is for someone who has at least one child in this dataset.](#AgeChild)"
   ]
  },
  {
   "cell_type": "markdown",
   "metadata": {},
   "source": [
    "<a name=\"MeanAge\"></a>\n",
    "## 3.1.1. Mean Age\n",
    "1. Create `list_mean` function for calculating the mean of a list's numerical elements.\n",
    "2. Create `test_list_mean` function using the `assert()` keyword to test `list_mean`.\n",
    "3. Call `list_mean` to calculate mean age for `age_list`.\n",
    "\n",
    "***Step `2` was not included in Codecademy's curriculum so far***"
   ]
  },
  {
   "cell_type": "code",
   "execution_count": 4,
   "metadata": {},
   "outputs": [],
   "source": [
    "def list_mean(a_list):\n",
    "    \"\"\"Calculate the mean of the list's numerical elements.\"\"\"\n",
    "    \n",
    "    # create a variable to store the sum of the list's elements\n",
    "    sum = 0\n",
    "    # create a var to store the list length\n",
    "    list_len = 0\n",
    "    \n",
    "    # for each element within the list\n",
    "    for element in a_list:\n",
    "        # use a try-except block to control for TypeError\n",
    "        try:\n",
    "            # increase sum by the value of this element\n",
    "            sum += element\n",
    "            list_len += 1\n",
    "        except TypeError:\n",
    "            # continue to the next element\n",
    "            continue\n",
    "        \n",
    "    # use a try-except block to control for ZeroDivisionError\n",
    "    try:         \n",
    "        # return the mean value\n",
    "        return sum / list_len\n",
    "    except ZeroDivisionError:\n",
    "        # print a message explaining the error\n",
    "        return \"Your list does not contain any numerical value!\""
   ]
  },
  {
   "cell_type": "markdown",
   "metadata": {},
   "source": [
    "Create a new function using the `assert` keyword** to test if the `list_mean` function works as expected.\n",
    "\n",
    "If something is wrong, when `test_list_mean` is called, it should return an `AssertionError`. If everything works fine it should return nothing.\n",
    "\n",
    "More info `assert` [here](https://www.w3schools.com/python/ref_keyword_assert.asp)."
   ]
  },
  {
   "cell_type": "code",
   "execution_count": 5,
   "metadata": {},
   "outputs": [],
   "source": [
    "def test_list_mean():\n",
    "    \"\"\"Test the list_mean function.\"\"\"\n",
    "    \n",
    "    # test for a short numerical list\n",
    "    assert list_mean([15, 10, 5]) == 10\n",
    "    # test for a longer numerical list\n",
    "    assert list_mean([10, 10, 10, 5, 6, 12, 34, 63]) == 18.75\n",
    "    # test for list that contains non-numbers\n",
    "    assert list_mean([15, \"hi\", 15]) == 15\n",
    "    # test for a list with no numbers at all\n",
    "    assert list_mean([\"hi\", \"bye\"]) == \"Your list does not contain any numerical value!\"\n",
    "\n",
    "    return\n",
    "\n",
    "# call function\n",
    "test_list_mean()"
   ]
  },
  {
   "cell_type": "markdown",
   "metadata": {},
   "source": [
    "Since `test_list_mean` returns nothing, it means that everything works as expected!"
   ]
  },
  {
   "cell_type": "code",
   "execution_count": 6,
   "metadata": {
    "scrolled": true
   },
   "outputs": [
    {
     "name": "stdout",
     "output_type": "stream",
     "text": [
      "The mean age of the sample is: 39.21 years.\n"
     ]
    }
   ],
   "source": [
    "# call function to calculate the mean age of age_list\n",
    "print(\"The mean age of the sample is: {:.2f} years.\".format(list_mean(age_list)))"
   ]
  },
  {
   "cell_type": "markdown",
   "metadata": {},
   "source": [
    "<a name=\"Region\"></a>\n",
    "## 3.1.2. Most popular regions\n",
    "1. Create `popular_regions` function to find the three most popular regions of a list.\n",
    "2. Call `popular_regions` on `region_list` to return the three most popular regions.\n",
    "\n",
    "***For step `1`, I used the `operator` library and its attribute `itemgetter`, which is not included in Codecademy's curriculum so far. More info about that [here](https://stackabuse.com/how-to-sort-dictionary-by-value-in-python/).***"
   ]
  },
  {
   "cell_type": "code",
   "execution_count": 7,
   "metadata": {},
   "outputs": [],
   "source": [
    "import operator\n",
    "\n",
    "def popular_regions(a_list):\n",
    "    \"\"\"Sort the list's string elements alphabetically.\"\"\"\n",
    "\n",
    "    # create list for storing each region's name\n",
    "    unique_regions = []\n",
    "    # find every region in list\n",
    "    for region in region_list:\n",
    "        # if this region is not already in list\n",
    "        if region not in unique_regions:\n",
    "            # append region to list\n",
    "            unique_regions.append(region)\n",
    "\n",
    "    # create a dict for storing each region with number of occurences\n",
    "    regions_dict = {}\n",
    "    # for each region in list\n",
    "    for unique_region in unique_regions:\n",
    "        # set region's name as key and number of occurences as value\n",
    "        regions_dict[unique_region] = region_list.count(unique_region)\n",
    "\n",
    "        # sort the dictionary in ascending order\n",
    "        sorted_tuples = sorted(regions_dict.items(), key=operator.itemgetter(1))\n",
    "\n",
    "    print(\"\"\"The most popular region is: {}.\\nThe 2nd most popular region is: {}.\\nThe 3rd most popular region is: {}.\"\"\"\n",
    "          .format(sorted_tuples[-1][0].title(), sorted_tuples[-2][0].title(), sorted_tuples[-3][0].title()))"
   ]
  },
  {
   "cell_type": "code",
   "execution_count": 8,
   "metadata": {
    "scrolled": true
   },
   "outputs": [
    {
     "name": "stdout",
     "output_type": "stream",
     "text": [
      "The most popular region is: Southeast.\n",
      "The 2nd most popular region is: Northwest.\n",
      "The 3rd most popular region is: Southwest.\n"
     ]
    }
   ],
   "source": [
    "popular_regions(region_list)"
   ]
  },
  {
   "cell_type": "markdown",
   "metadata": {},
   "source": [
    "An **alternative way** is demonstrated below."
   ]
  },
  {
   "cell_type": "code",
   "execution_count": 25,
   "metadata": {},
   "outputs": [
    {
     "name": "stdout",
     "output_type": "stream",
     "text": [
      "[325, 325, 364, 324] \n",
      "\n",
      "{'southwest', 'northwest', 'southeast', 'northeast'} \n",
      "\n",
      "{'southwest': 325, 'northwest': 325, 'southeast': 364, 'northeast': 324}\n"
     ]
    }
   ],
   "source": [
    "# initiate count variables\n",
    "south_west, north_west, south_east, north_east = 0, 0, 0, 0\n",
    "\n",
    "for region in region_list:\n",
    "    if region.startswith(\"southw\"):\n",
    "        south_west += 1\n",
    "    elif region.startswith(\"southe\"):\n",
    "        south_east += 1\n",
    "    elif region.startswith(\"northw\"):\n",
    "        north_west += 1\n",
    "    else: # region.startswith(\"northe\")\n",
    "        north_east += 1\n",
    "\n",
    "# create a list with the counts\n",
    "counts = [south_west, north_west, south_east, north_east]\n",
    "\n",
    "# check counts for each region\n",
    "print(counts, \"\\n\")\n",
    "\n",
    "# remove duplicate values\n",
    "print(set(region_list), \"\\n\")\n",
    "\n",
    "# create a dict with region_name as key and counts as its value\n",
    "region_counts_dict = {key:value for key, value in zip(set(region_list), counts)}\n",
    "\n",
    "# check dict\n",
    "print(region_counts_dict)"
   ]
  },
  {
   "cell_type": "code",
   "execution_count": 28,
   "metadata": {},
   "outputs": [
    {
     "ename": "TypeError",
     "evalue": "object of type 'type' has no len()",
     "output_type": "error",
     "traceback": [
      "\u001b[1;31m---------------------------------------------------------------------------\u001b[0m",
      "\u001b[1;31mTypeError\u001b[0m                                 Traceback (most recent call last)",
      "\u001b[1;32m~\\AppData\\Local\\Temp/ipykernel_16720/1577309049.py\u001b[0m in \u001b[0;36m<module>\u001b[1;34m\u001b[0m\n\u001b[0;32m     10\u001b[0m ]\n\u001b[0;32m     11\u001b[0m \u001b[1;33m\u001b[0m\u001b[0m\n\u001b[1;32m---> 12\u001b[1;33m \u001b[0mprint\u001b[0m\u001b[1;33m(\u001b[0m\u001b[0mlist\u001b[0m\u001b[1;33m(\u001b[0m\u001b[0mregion_counts_dict\u001b[0m\u001b[1;33m)\u001b[0m\u001b[1;33m.\u001b[0m\u001b[0msort\u001b[0m\u001b[1;33m(\u001b[0m\u001b[0mkey\u001b[0m\u001b[1;33m=\u001b[0m\u001b[0mmyFunc\u001b[0m\u001b[1;33m)\u001b[0m\u001b[1;33m)\u001b[0m\u001b[1;33m\u001b[0m\u001b[1;33m\u001b[0m\u001b[0m\n\u001b[0m",
      "\u001b[1;32m~\\AppData\\Local\\Temp/ipykernel_16720/1577309049.py\u001b[0m in \u001b[0;36mmyFunc\u001b[1;34m(e)\u001b[0m\n\u001b[0;32m      1\u001b[0m \u001b[1;32mdef\u001b[0m \u001b[0mmyFunc\u001b[0m\u001b[1;33m(\u001b[0m\u001b[0me\u001b[0m\u001b[1;33m)\u001b[0m\u001b[1;33m:\u001b[0m\u001b[1;33m\u001b[0m\u001b[1;33m\u001b[0m\u001b[0m\n\u001b[1;32m----> 2\u001b[1;33m     \u001b[1;32mfor\u001b[0m \u001b[0mi\u001b[0m \u001b[1;32min\u001b[0m \u001b[0mrange\u001b[0m\u001b[1;33m(\u001b[0m\u001b[0mlen\u001b[0m\u001b[1;33m(\u001b[0m\u001b[0mdict\u001b[0m\u001b[1;33m)\u001b[0m\u001b[1;33m)\u001b[0m\u001b[1;33m:\u001b[0m\u001b[1;33m\u001b[0m\u001b[1;33m\u001b[0m\u001b[0m\n\u001b[0m\u001b[0;32m      3\u001b[0m         \u001b[1;32mreturn\u001b[0m \u001b[0mdict\u001b[0m\u001b[1;33m[\u001b[0m\u001b[0mi\u001b[0m\u001b[1;33m]\u001b[0m\u001b[1;33m\u001b[0m\u001b[1;33m\u001b[0m\u001b[0m\n\u001b[0;32m      4\u001b[0m \u001b[1;33m\u001b[0m\u001b[0m\n\u001b[0;32m      5\u001b[0m cars = [\n",
      "\u001b[1;31mTypeError\u001b[0m: object of type 'type' has no len()"
     ]
    }
   ],
   "source": [
    "def myFunc(dict):\n",
    "    for i in range(len(dict)):\n",
    "        return dict[i]\n",
    "\n",
    "cars = [\n",
    "  {'car': 'Ford', 'year': 2005},\n",
    "  {'car': 'Mitsubishi', 'year': 2000},\n",
    "  {'car': 'BMW', 'year': 2019},\n",
    "  {'car': 'VW', 'year': 2011}\n",
    "]\n",
    "\n",
    "print(list(region_counts_dict.sort(key=myFunc))"
   ]
  },
  {
   "cell_type": "markdown",
   "metadata": {},
   "source": [
    "<a name=\"Smoker\"></a>\n",
    "## 3.1.3. Smoker vs non-Smoker costs\n",
    "1. Create `smoking_cost` function that:\n",
    "    1. Splits a single list into two sublists: `smokers` and `non-smokers`.\n",
    "    2. Caclulates the mean insurance cost of each sublist.\n",
    "    3. Compares the mean difference between the two costs.\n",
    "2. Call `smoking_costs` on `smoker_list` to return the mean difference between the two costs."
   ]
  },
  {
   "cell_type": "markdown",
   "metadata": {},
   "source": [
    "<a name=\"Extensions\"></a>\n",
    "## 3.2 Project Extensions\n",
    "**Project Extentions** proposed by Codecademy (*slightly modified*):\n",
    "\n",
    "1. [Code Refactoring.](#Refactoring)\n",
    "2. [Perform an Exploratory Data Analysis (EDA).](#EDA)\n",
    "2. [Build a **Machine Learning model** to make cost predictions.](#ML)\n",
    "3. [Explore areas where the data may include **bias** and how that would impact potential use cases.](#Bias)"
   ]
  },
  {
   "cell_type": "markdown",
   "metadata": {},
   "source": [
    "<a name=\"Refactoring\"></a>\n",
    "## 3.2.1 Perform Code Refactoring\n",
    "\n",
    "You can find a part of [Wikipedia's term definition](https://en.wikipedia.org/wiki/Code_refactoring) below: \n",
    "\n",
    ">**Restructuring existing computer code**—changing the factoring—without changing its external behavior. Refactoring is intended to **improve** the **design**, **structure**, and/or **implementation** of the software (its non-functional attributes), while preserving its functionality. Potential advantages of refactoring may include **improved code readability** and **reduced complexity**."
   ]
  }
 ],
 "metadata": {
  "kernelspec": {
   "display_name": "Python 3 (ipykernel)",
   "language": "python",
   "name": "python3"
  },
  "language_info": {
   "codemirror_mode": {
    "name": "ipython",
    "version": 3
   },
   "file_extension": ".py",
   "mimetype": "text/x-python",
   "name": "python",
   "nbconvert_exporter": "python",
   "pygments_lexer": "ipython3",
   "version": "3.9.7"
  }
 },
 "nbformat": 4,
 "nbformat_minor": 4
}
