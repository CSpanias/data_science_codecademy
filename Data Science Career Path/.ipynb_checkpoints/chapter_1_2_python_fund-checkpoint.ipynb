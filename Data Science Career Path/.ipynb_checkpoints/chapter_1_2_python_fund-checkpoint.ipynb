{
 "cells": [
  {
   "cell_type": "markdown",
   "id": "ccfb6676",
   "metadata": {},
   "source": [
    "# Reflective Writing for Data Science Career Path - Codecademy\n",
    "by Charalampos Spanias - January 2021\n",
    "\n",
    "## Content\n",
    "1. [Getting Started with Data Science](#DS)\n",
    "2. [Python Fundamentals](#PythonFun)\n",
    "    1. [Jupyter Notebook Tricks](#JN)\n",
    "    1. [Markdown Syntax](#Markdown)\n",
    "    1. [Latex](#Latex)\n",
    "    1. [Git & GitHub Desktop](#Git)\n",
    "    1. [Lists](#Lists)\n",
    "    1. [Tuples](#Tuples)\n",
    "    1. [Loops](#Loops)\n",
    "    1. [Strings](#Strings)\n",
    "    1. [Dictionaries](#Dict)\n",
    "    1. [Classes](#Classes)\n",
    "    1. [Modules](#Modules)\n",
    "    1. [Files](#Files)"
   ]
  },
  {
   "cell_type": "markdown",
   "id": "6c3f34c9",
   "metadata": {},
   "source": [
    "# IDEAS\n",
    "\n",
    "**Start-to-end sports project!?**\n",
    "* Research data from BJJ? Develop norms?\n",
    "* Stats from UFC or Greek MMA figthers?\n",
    "* Use of NLP in BJJ vs MMA twitter athlete posts?\n",
    "\n",
    "**Collaboration**\n",
    "* **Code Reviews**\n",
    "    1. What is the code is doing? Purpose, context?\n",
    "        * Do you have the right background info?\n",
    "        * Do you fully understand why this code is needed?\n",
    "        * Do you understand how this code fits into the project?\n",
    "    2. Frame your mid (types of comments)\n",
    "        * What is the experience level of the author?\n",
    "        * what is your relationship with the author?\n",
    "    3. Test the code (functionality)\n",
    "        * Erros?\n",
    "        * Time to run?\n",
    "    4. Inspect the code\n",
    "        * Naming conventions\n",
    "        * DRY principles\n",
    "        * Error handling\n",
    "        * Consistency\n",
    "    5. Compile review\n",
    "        * [Adding comments to specific lines of codes on GitHub](https://tbaggery.com/2008/04/19/a-note-about-git-commit-messages.html)\n",
    "        * Formal report with the goods and bads\n",
    "* [**CodeWars**](https://www.codewars.com/dashboard)\n",
    "* **Pair Programming** (Agile Framework)\n",
    "* **Kaggle Teams**\n",
    "\n",
    "**Define functions** if you find yourself to repeatedly write the same code!\n",
    "\n",
    "**TODO list**: \n",
    "1. [`pandas_profiling`](https://pandas-profiling.github.io/pandas-profiling/docs/master/rtd/)\n",
    "2. [`sweetviz`](https://pypi.org/project/sweetviz/)\n",
    "3. [generator expressions](https://www.python.org/dev/peps/pep-0289/).\n",
    "4. `nltk.app.wordnet()` graphical wordnet browser\n",
    "5. [`print(nltk.tokenwrap())`](https://tedboy.github.io/nlps/generated/generated/nltk.tokenwrap.html) pretty print for nltk tokens\n",
    "6. nlkt's [different tokenizers](https://www.nltk.org/api/nltk.tokenize.html), e.g.regex tokenizer!\n",
    "7. string formatting types [here](https://pyformat.info/) and [here](https://docs.python.org/2/library/stdtypes.html#string-formatting-operations)"
   ]
  },
  {
   "cell_type": "markdown",
   "id": "c3478858",
   "metadata": {},
   "source": [
    "<a name=\"DS\"> </a>\n",
    "# 1. Data Science\n",
    "**Data Science** uses data to:\n",
    "* Inform decisions \n",
    "* Make predictions\n",
    "* Identify patterns\n",
    "\n",
    "**Data Science combined with Domain Expertise** allows to better understand the data based on context specific situations.\n",
    "\n",
    "Common applications:\n",
    "* Reports (fintech, conferences, education)\n",
    "* Recommender Systems (Netflix)\n",
    "* Dynamic Pricing (airplane ticketing)\n",
    "* NLP (chatbots, linguistics, sentiment analysis)"
   ]
  },
  {
   "cell_type": "markdown",
   "id": "cc1af714",
   "metadata": {},
   "source": [
    "<a name=\"PythonFun\"> </a>\n",
    "# 2. Python Fundamentals\n",
    "\n",
    "**Command Line Interfaces** (CLIs) come in many forms. **Bash** (**B**ourne-**A**gain **SH**ell) is a specific kind of CLI and the default shell for Linux and Mac, an alternative to Command Prompt for Windows.\n",
    "\n",
    "**Basic Git Commands**: <br>\n",
    "* `ls` list current dir contents <br>\n",
    "* `mkdir test` create a new folder named \"test\" <br>\n",
    "* `cd test` navigate into the test folder <br>\n",
    "* `echo \"Hello Bash\" >> hello_bash.txt` create a txt and add \"Hello Bash\" <br>\n",
    "* `cat hello_bash.txt` print the content of the file <br>\n",
    "* `cd ..\\` go back one level\n",
    "* `cd ..\\..\\` go back two levels\n",
    "\n",
    "**Anaconda** is a Python and R distribution that includes packages, development environments, etc. **Miniconda** is a “minimal” version of Anaconda.\n",
    "\n",
    "**Package Managers** &rarr; help with installing, updating, and removing packages.\n",
    "1. ``conda`` comes with both Anaconda & Miniconda. It manages packages and environments in any language!\n",
    "2. ``Pip`` is another popular package manager. Only manages Python packages!"
   ]
  },
  {
   "cell_type": "code",
   "execution_count": 1,
   "id": "e35fd18e",
   "metadata": {},
   "outputs": [
    {
     "data": {
      "text/plain": [
       "10.0"
      ]
     },
     "execution_count": 1,
     "metadata": {},
     "output_type": "execute_result"
    }
   ],
   "source": [
    "# find Square Root function\n",
    "def square_root(num):\n",
    "    return num**0.5\n",
    "\n",
    "square_root(100)"
   ]
  },
  {
   "cell_type": "markdown",
   "id": "005ba7eb",
   "metadata": {},
   "source": [
    "<a name=\"JN\"> </a>\n",
    "## 2.1 [Jupyter Notebook](https://jupyter.brynmawr.edu/services/public/dblank/Jupyter%20Notebook%20Users%20Manual.ipynb)\n",
    "A type of **Integrated Development Environment** (IDE). IDEs are places to write code that offer some supportive features such as **syntax highlighting**, **debugging**, and **code completion**.\n",
    "\n",
    "[Tricks for JN Article](https://towardsdatascience.com/15-tips-and-tricks-for-jupyter-notebook-that-will-ease-your-coding-experience-e469207ac95c)"
   ]
  },
  {
   "cell_type": "code",
   "execution_count": 2,
   "id": "2e01ef0e",
   "metadata": {},
   "outputs": [],
   "source": [
    "# get help for something\n",
    "len?"
   ]
  },
  {
   "cell_type": "code",
   "execution_count": 3,
   "id": "2a276fe6",
   "metadata": {},
   "outputs": [
    {
     "name": "stdout",
     "output_type": "stream",
     "text": [
      "\n"
     ]
    }
   ],
   "source": [
    "# get the args of a function by Shift+Tab\n",
    "print()"
   ]
  },
  {
   "cell_type": "code",
   "execution_count": 4,
   "id": "d59a9bc8",
   "metadata": {
    "scrolled": true
   },
   "outputs": [
    {
     "name": "stdout",
     "output_type": "stream",
     "text": [
      "0\n",
      "1\n",
      "2\n",
      "3\n",
      "4\n",
      "5\n",
      "6\n",
      "7\n",
      "8\n",
      "9\n",
      "10\n",
      "11\n",
      "12\n",
      "13\n",
      "14\n",
      "15\n",
      "16\n",
      "17\n",
      "18\n",
      "19\n",
      "20\n",
      "21\n",
      "22\n",
      "23\n",
      "24\n"
     ]
    }
   ],
   "source": [
    "# reduce the output by left clicking it\n",
    "for i in range(25):\n",
    "    print(i)"
   ]
  },
  {
   "cell_type": "code",
   "execution_count": 5,
   "id": "107bd0aa",
   "metadata": {},
   "outputs": [
    {
     "ename": "SyntaxError",
     "evalue": "EOL while scanning string literal (Temp/ipykernel_3412/2033454717.py, line 2)",
     "output_type": "error",
     "traceback": [
      "\u001b[1;36m  File \u001b[1;32m\"C:\\Users\\10inm\\AppData\\Local\\Temp/ipykernel_3412/2033454717.py\"\u001b[1;36m, line \u001b[1;32m2\u001b[0m\n\u001b[1;33m    print(\"line 1)\u001b[0m\n\u001b[1;37m                  ^\u001b[0m\n\u001b[1;31mSyntaxError\u001b[0m\u001b[1;31m:\u001b[0m EOL while scanning string literal\n"
     ]
    }
   ],
   "source": [
    "# multiple line editing with Alt+Drag\n",
    "print(\"line 1)\n",
    "print(\"line 2)\n",
    "print(\"line 3)"
   ]
  },
  {
   "cell_type": "code",
   "execution_count": null,
   "id": "92074296",
   "metadata": {},
   "outputs": [],
   "source": [
    "# debugging\n",
    "x = 10\n",
    "y = 0\n",
    "z = x / y"
   ]
  },
  {
   "cell_type": "code",
   "execution_count": null,
   "id": "ada11631",
   "metadata": {},
   "outputs": [],
   "source": [
    "%debug"
   ]
  },
  {
   "cell_type": "markdown",
   "id": "3423d65d",
   "metadata": {},
   "source": [
    "<a name=\"Markdown\"> </a>\n",
    "## 2.2 Markdown syntax\n",
    "***\n",
    "New line <br>\n",
    "&uarr;  \n",
    "&darr;  \n",
    "&larr;  \n",
    "&rarr;  \n",
    "&harr;  "
   ]
  },
  {
   "cell_type": "markdown",
   "id": "5ef6d465",
   "metadata": {},
   "source": [
    "<a name=\"Latex\"> </a>\n",
    "## 2.3 [Latex Syntax](https://www.latex-project.org/)\n",
    "Useful for mathematical and scientific writing <br>\n",
    "\n",
    "`\\` spacing in display mode <br>\n",
    "`\\\\` add a new line when in math display mode <br>\n",
    "`\\frac{arg 1}{arg 2}` fraction <br>\n",
    "`^{}` superscript <br>\n",
    " `_{}` indice (subscript) <br>\n",
    "`\\sqrt[n]{arg}` roots <br>\n",
    "`[n]` optional <br>\n",
    "`\\` greek letters, capitalization also works <br>\n",
    "`{\\;}` - a thick space <br>\n",
    "`{\\:}` - a medium space <br>\n",
    "`{\\,}` - a thin space <br>\n",
    "`{\\!}` - a negative thin space <br>"
   ]
  },
  {
   "cell_type": "markdown",
   "id": "0d347692",
   "metadata": {},
   "source": [
    "For normal text:\n",
    "$ \\frac{1\\alpha^{2}}{\\sqrt[5]{2}} $\n",
    "\n",
    "For centered paragraph:\n",
    "$$ \\frac{1^{2}}{\\sqrt[5]{2}} $$"
   ]
  },
  {
   "cell_type": "markdown",
   "id": "ab788dba",
   "metadata": {},
   "source": [
    "<a name=\"MagicCommands\"> </a>\n",
    "## 2.5 Magic Commands\n",
    "[**Magic commands**](https://ipython.readthedocs.io/en/stable/interactive/magics.html) are a group of special commands that help with a variety of non-coding tasks.\n",
    "\n",
    "1. **Line magics** contain a single percent symbol % prefix and work on a single line of input.\n",
    "2. **Cell magics** contain a double percent sign %% prefix and work on multiple lines of input.\n",
    "\n",
    "`%lsmagic` Return a list all magic command <br>\n",
    "`%run` Execute external python script <br>\n",
    "`%load` Load in a local file, URL, function, or class <br>\n",
    "`%who` Return a list of any variables that have a certain type within the notebook. <br>\n",
    "`%matplotlib notebook` Allow you to interactively work with plots from matplotlib. <br>\n",
    "`%matplotlib inline` Allow you to disable interactivity with plots. <br>\n",
    "`%%time` Show the time it took to execute the line of code. Good for checking efficiency. <br>"
   ]
  },
  {
   "cell_type": "code",
   "execution_count": null,
   "id": "077934b7",
   "metadata": {
    "scrolled": true
   },
   "outputs": [],
   "source": [
    "%%time\n",
    "# execution time\n",
    "print(10**10)"
   ]
  },
  {
   "cell_type": "markdown",
   "id": "4905954d",
   "metadata": {},
   "source": [
    "* **Pretty Displays** <br>\n",
    "Displays all variables and statements on its own line <br>\n",
    "`from IPython.core.interactiveshell import InteractiveShell` <br>\n",
    "`InteractiveShell.ast_node_interactivity = \"all\"`\n",
    " \n",
    " \n",
    "* **Suppressing output of a function with `;`** <br>\n",
    "For plots ending with ; will suppress output and show only the plot."
   ]
  },
  {
   "cell_type": "markdown",
   "id": "10bfb3d4",
   "metadata": {},
   "source": [
    "<a name=\"Git\"> </a>\n",
    "## 2.4 Git\n",
    "\n",
    "**Version Control Systems** (VCS) <br>\n",
    "* File management\n",
    "* History tracking\n",
    "* Rewind to older versions\n",
    "\n",
    "**Git** (a popular VCS)\n",
    "* **Repository** is a project managed with Git \n",
    "* File history = a series of snapshots in time (**commits**)\n",
    "\n",
    "**GitHub** is a popular hosting service for Git repos."
   ]
  },
  {
   "cell_type": "markdown",
   "id": "7aee7fe2",
   "metadata": {},
   "source": [
    "<a name=\"Lists\"> </a>\n",
    "## 2.5 Lists\n",
    "1. [`.count()`](#Lcount)\n",
    "1. [`.remove()`](#Lremove)\n",
    "1. [`.pop()` ](#Lpop)\n",
    "1. [`insert()`](#Linsert)\n",
    "1. [`sorted()`](#Lsorted)\n",
    "1. [`.sort()`](#Lsort)\n",
    "1. [`zip()`](#Lzip)\n",
    "1. [`slicing[:]`](#Lslice)"
   ]
  },
  {
   "cell_type": "markdown",
   "id": "ce79b549",
   "metadata": {},
   "source": [
    "<a name=\"Lcount\"></a>\n",
    "### 2.5.1 **`count()`**"
   ]
  },
  {
   "cell_type": "code",
   "execution_count": null,
   "id": "2c816cdf",
   "metadata": {},
   "outputs": [],
   "source": [
    "my_list = ['a', 'b', 'a', 'c']\n",
    "\n",
    "# count the number of an element\n",
    "print(my_list.count('a'))"
   ]
  },
  {
   "cell_type": "markdown",
   "id": "68e3f028",
   "metadata": {},
   "source": [
    "<a name=\"Lremove\"></a>\n",
    "### 2.5.2 **`remove()`**"
   ]
  },
  {
   "cell_type": "code",
   "execution_count": null,
   "id": "bcf30063",
   "metadata": {},
   "outputs": [],
   "source": [
    "# remove an item's 1st occurence using its value\n",
    "my_list.remove(\"a\")\n",
    "print(my_list)"
   ]
  },
  {
   "cell_type": "markdown",
   "id": "9deba186",
   "metadata": {},
   "source": [
    "<a name=\"Lpop\"></a>\n",
    "### 2.5.3 **`pop()`**"
   ]
  },
  {
   "cell_type": "code",
   "execution_count": null,
   "id": "4e55c823",
   "metadata": {},
   "outputs": [],
   "source": [
    "# remove an item from a specific index\n",
    "my_list.pop(1)\n",
    "print(my_list)"
   ]
  },
  {
   "cell_type": "markdown",
   "id": "c98343c8",
   "metadata": {},
   "source": [
    "<a name=\"Linsert\"></a>\n",
    "### 2.5.4 **`insert()`**"
   ]
  },
  {
   "cell_type": "code",
   "execution_count": null,
   "id": "8166900c",
   "metadata": {},
   "outputs": [],
   "source": [
    "# insert an element into a specific position\n",
    "my_list.insert(1, 'a')\n",
    "print(my_list)"
   ]
  },
  {
   "cell_type": "markdown",
   "id": "2d87e79b",
   "metadata": {},
   "source": [
    "<a name=\"Lsorted\"></a>\n",
    "### 2.5.5 **`sorted()`**"
   ]
  },
  {
   "cell_type": "code",
   "execution_count": null,
   "id": "1f9e8769",
   "metadata": {},
   "outputs": [],
   "source": [
    "# returns a sorted list (does not affect original)\n",
    "print(sorted(my_list))\n",
    "print(my_list)"
   ]
  },
  {
   "cell_type": "markdown",
   "id": "5f992c2b",
   "metadata": {},
   "source": [
    "<a name=\"Lsort\"></a>\n",
    "### 2.5.6 **`.sort()`**"
   ]
  },
  {
   "cell_type": "code",
   "execution_count": null,
   "id": "287c00d5",
   "metadata": {},
   "outputs": [],
   "source": [
    "# sort list on the spot (modifies the original)\n",
    "my_list.sort()\n",
    "print(my_list)"
   ]
  },
  {
   "cell_type": "code",
   "execution_count": 6,
   "id": "3c51fefb",
   "metadata": {},
   "outputs": [
    {
     "name": "stdout",
     "output_type": "stream",
     "text": [
      "[{'car': 'Mitsubishi', 'year': 2000}, {'car': 'Ford', 'year': 2005}, {'car': 'VW', 'year': 2011}, {'car': 'BMW', 'year': 2019}]\n"
     ]
    }
   ],
   "source": [
    "def myFunc(e):\n",
    "    return e['year']\n",
    "\n",
    "cars = [\n",
    "  {'car': 'Ford', 'year': 2005},\n",
    "  {'car': 'Mitsubishi', 'year': 2000},\n",
    "  {'car': 'BMW', 'year': 2019},\n",
    "  {'car': 'VW', 'year': 2011}\n",
    "]\n",
    "\n",
    "cars.sort(key=myFunc)\n",
    "print(cars)"
   ]
  },
  {
   "cell_type": "markdown",
   "id": "73529dd8",
   "metadata": {},
   "source": [
    "<a name=\"Lzip\"></a>\n",
    "### 2.5.7 **`zip()`**"
   ]
  },
  {
   "cell_type": "code",
   "execution_count": null,
   "id": "b955cb41",
   "metadata": {},
   "outputs": [],
   "source": [
    "list_1 = [\"x\", \"y\", \"z\"]\n",
    "list_2 = [1, 2, 3]\n",
    "\n",
    "# combine two lists into pairs\n",
    "combined_list = zip(list_1, list_2)\n",
    "print(list(combined_list))"
   ]
  },
  {
   "cell_type": "markdown",
   "id": "93838000",
   "metadata": {},
   "source": [
    "<a name=\"Lslice\"></a>\n",
    "### 2.5.8 Slicing"
   ]
  },
  {
   "cell_type": "code",
   "execution_count": null,
   "id": "b13b188f",
   "metadata": {},
   "outputs": [],
   "source": [
    "# slicing - last index is exclusive\n",
    "my_name = \"Charalampos\"\n",
    "# slice fist 3 letters\n",
    "first_three = my_name[:3] # 0, 1, 2\n",
    "print(first_three)"
   ]
  },
  {
   "cell_type": "markdown",
   "id": "f3db39b6",
   "metadata": {},
   "source": [
    "<a name=\"Tuples\"> </a>\n",
    "## 2.6 Tuples"
   ]
  },
  {
   "cell_type": "code",
   "execution_count": null,
   "id": "66f618e9",
   "metadata": {},
   "outputs": [],
   "source": [
    "# assign multiple variables\n",
    "info = (\"name\", 10, \"gender\")\n",
    "# must be equal size\n",
    "name, age, gender = info\n",
    "print(name)\n",
    "print(age)\n",
    "print(gender)"
   ]
  },
  {
   "cell_type": "markdown",
   "id": "25f22b33",
   "metadata": {},
   "source": [
    "<a name='Loops'> </a>\n",
    "## 2.7 Loops\n",
    "1. [**`break`**](#break)\n",
    "2. [**`continue`**](#continue)"
   ]
  },
  {
   "cell_type": "markdown",
   "id": "ee2ade1c",
   "metadata": {},
   "source": [
    "<a name=\"break\"></a>\n",
    "When the program hits a **`break`** statement it immediately **terminates a loop**."
   ]
  },
  {
   "cell_type": "code",
   "execution_count": null,
   "id": "0fe5a8f2",
   "metadata": {},
   "outputs": [],
   "source": [
    "items_on_sale = [\"blue shirt\", \"striped socks\", \"knit dress\", \"red headband\", \"dinosaur onesie\"]\n",
    " \n",
    "print(\"Checking the sale list:\")\n",
    " \n",
    "for item in items_on_sale:\n",
    "    print(item)\n",
    "    if item == \"knit dress\":\n",
    "        # without break it will keep iterating until the end of the list\n",
    "        break\n",
    " \n",
    "print(\"End of search!\")"
   ]
  },
  {
   "cell_type": "markdown",
   "id": "e4b2fac0",
   "metadata": {},
   "source": [
    "<a name=\"continue\"></a>\n",
    "When the program hits a **`continue`** statement it **skips the current iteration** of the loop."
   ]
  },
  {
   "cell_type": "code",
   "execution_count": null,
   "id": "0b2499f0",
   "metadata": {},
   "outputs": [],
   "source": [
    "ages = [12, 38, 34, 26, 21, 19, 67, 41, 17]\n",
    "\n",
    "for age in ages:\n",
    "    if age < 21:\n",
    "        # if age < 21 go back to the start of the loop\n",
    "        continue\n",
    "    print(age)"
   ]
  },
  {
   "cell_type": "markdown",
   "id": "79874a6b",
   "metadata": {},
   "source": [
    "<a name=\"Strings\"> </a>\n",
    "## 2.8 Strings\n",
    "1. [`.split(delimiter)`](#split)\n",
    "1. [`'delimiter'.join(list)`](#join)\n",
    "1. [`.strip()`](#strip)\n",
    "1. [`string_name.replace(substring_being_replaced, new_substring)`](#replace)\n",
    "1. [`string.find(string)`](#find)\n",
    "1. [`.format()`](#format)\n",
    "1. [Reverse String Exercise](#reversestring)"
   ]
  },
  {
   "cell_type": "markdown",
   "id": "32fe752a",
   "metadata": {},
   "source": [
    "<a name=\"split\"></a>\n",
    "### 2.8.1 `.split(delimiter)`"
   ]
  },
  {
   "cell_type": "code",
   "execution_count": null,
   "id": "9fc56ef9",
   "metadata": {},
   "outputs": [],
   "source": [
    "sent = \"This is a sentence.\"\n",
    "# default delimiter is space\n",
    "tokenized = sent.split()\n",
    "print(tokenized)\n",
    "\n",
    "# passing delimiter, split in a specific element\n",
    "# the delimiter is removed\n",
    "tokenized_1 = sent.split(\"s\")\n",
    "print(tokenized_1)\n",
    "\n",
    "# if delimiter is the last element a \"\" will remain\n",
    "tokenized_2 = sent.split(\".\")\n",
    "print(tokenized_2)"
   ]
  },
  {
   "cell_type": "code",
   "execution_count": null,
   "id": "39ddf099",
   "metadata": {},
   "outputs": [],
   "source": [
    "authors = \"Audre Lorde,Gabriela Mistral,Jean Toomer,An Qi, Walt Whitman,Shel Silverstein\"\n",
    "\n",
    "# split author names\n",
    "author_names = authors.split(',')\n",
    "print(author_names)\n",
    "\n",
    "# get last names only\n",
    "author_last_names = []\n",
    "for name in author_names:\n",
    "    author_last_names.append(name.split()[-1])\n",
    "  \n",
    "print(author_last_names)"
   ]
  },
  {
   "cell_type": "code",
   "execution_count": null,
   "id": "1435dcb3",
   "metadata": {},
   "outputs": [],
   "source": [
    "smooth_chorus = \\\n",
    "\"\"\"And if you said, \"This life ain't good enough.\"\n",
    "I would give my world to lift you up\n",
    "I could change my life to better suit your mood\n",
    "Because you're so smooth\"\"\"\n",
    " \n",
    "# split every new line\n",
    "chorus_lines = smooth_chorus.split('\\n')\n",
    "print(chorus_lines)"
   ]
  },
  {
   "cell_type": "markdown",
   "id": "bf5176fb",
   "metadata": {},
   "source": [
    "<a name=\"join\"></a>\n",
    "### 2.8.2 `'delimiter'.join(list)`"
   ]
  },
  {
   "cell_type": "code",
   "execution_count": null,
   "id": "7c0fc7e8",
   "metadata": {},
   "outputs": [],
   "source": [
    "my_munequita = ['My', 'Spanish', 'Harlem', 'Mona', 'Lisa']\n",
    "# join elements with space as the delimiter\n",
    "my_mun_joined= ' '.join(my_munequita)\n",
    "print(my_mun_joined)"
   ]
  },
  {
   "cell_type": "code",
   "execution_count": null,
   "id": "f8135343",
   "metadata": {},
   "outputs": [],
   "source": [
    "santana_songs = ['Oye Como Va', 'Smooth', 'Black Magic Woman', 'Samba Pa Ti', 'Maria Maria']\n",
    "santana_songs_csv = ','.join(santana_songs)\n",
    "print(santana_songs_csv)"
   ]
  },
  {
   "cell_type": "code",
   "execution_count": null,
   "id": "e6c048e0",
   "metadata": {},
   "outputs": [],
   "source": [
    "smooth_fifth_verse_lines = ['Well I\\'m from the barrio', 'You hear my rhythm on your radio',\n",
    "                            'You feel the turning of the world so soft and slow', 'Turning you \\'round and \\'round']\n",
    " \n",
    "smooth_fifth_verse = '\\n'.join(smooth_fifth_verse_lines)\n",
    " \n",
    "print(smooth_fifth_verse)"
   ]
  },
  {
   "cell_type": "markdown",
   "id": "bdc73a6f",
   "metadata": {},
   "source": [
    "<a name=\"strip\"></a>\n",
    "### 2.8.3 `strip()`"
   ]
  },
  {
   "cell_type": "code",
   "execution_count": null,
   "id": "a8e37de5",
   "metadata": {},
   "outputs": [],
   "source": [
    "# stipping trailing whitespace\n",
    "featuring = \"           rob thomas                 \"\n",
    "print(featuring.strip())\n",
    "print()\n",
    "\n",
    "# stripping a trailing character, but not whitespace!\n",
    "featuring = \"!!!rob thomas       !!!!!\"\n",
    "print(featuring.strip('!')) "
   ]
  },
  {
   "cell_type": "markdown",
   "id": "a5859da7",
   "metadata": {},
   "source": [
    "<a name=\"replace\"></a>\n",
    "### 2.8.4 `string_name.replace(substring_being_replaced, new_substring)` <br>"
   ]
  },
  {
   "cell_type": "code",
   "execution_count": null,
   "id": "d153a165",
   "metadata": {},
   "outputs": [],
   "source": [
    "with_spaces = \"You got the kind of loving that can be so smooth\"\n",
    "with_underscores = with_spaces.replace(' ', '_')\n",
    "print(with_underscores)"
   ]
  },
  {
   "cell_type": "markdown",
   "id": "eb72759b",
   "metadata": {},
   "source": [
    "<a name=\"find\"></a>\n",
    "### 2.8.5 `string.find(string)`"
   ]
  },
  {
   "cell_type": "code",
   "execution_count": null,
   "id": "7e4b91f5",
   "metadata": {},
   "outputs": [],
   "source": [
    "# returns the first index value where that string is located\n",
    "print('smooth'.find('t'))"
   ]
  },
  {
   "cell_type": "markdown",
   "id": "5ffcda2b",
   "metadata": {},
   "source": [
    "<a name=\"format\"></a>\n",
    "### 2.8.6 `.format()`"
   ]
  },
  {
   "cell_type": "code",
   "execution_count": null,
   "id": "b3f05363",
   "metadata": {},
   "outputs": [],
   "source": [
    "title = \"x\"\n",
    "poet = \"y\"\n",
    "print('The poem \"{x}\" is written by {y}.'.format(x=title, y=poet))"
   ]
  },
  {
   "cell_type": "code",
   "execution_count": null,
   "id": "1abcd621",
   "metadata": {
    "scrolled": true
   },
   "outputs": [],
   "source": [
    "def favorite_song_statement(song, artist):\n",
    "    return \"My favorite song is {song} by {artist}.\".format(song=song, artist=artist)\n",
    "\n",
    "favorite_song_statement(\"lalala\", \"singer\")"
   ]
  },
  {
   "cell_type": "markdown",
   "id": "2f4c1b65",
   "metadata": {},
   "source": [
    "<a name=\"reversestring\"></a>\n",
    "### 2.8.7 Reverse string exercise"
   ]
  },
  {
   "cell_type": "code",
   "execution_count": null,
   "id": "c348b947",
   "metadata": {},
   "outputs": [],
   "source": [
    "def reverse_string(word):\n",
    "    reverse_string = \"\"\n",
    "    for i in range(len(word)-1, -1, -1):\n",
    "        reverse_string += word[i]\n",
    "        print(i)\n",
    "    return reverse_string\n",
    "\n",
    "\n",
    "print(reverse_string(\"Codecademy\"))"
   ]
  },
  {
   "cell_type": "markdown",
   "id": "a4ddb63c",
   "metadata": {},
   "source": [
    "<a name=\"Dict\"></a>\n",
    "## 2.9 Dictionaries\n",
    "1. [`dict.update()`](#DictUpdate)\n",
    "1. [`Dictionary comprehensions`](#DictComprehensions)\n",
    "1. [Accessing Key](#AccessKey)\n",
    "1. [Accessing Invalid Key](#AccessInvalidKey)\n",
    "1. [`dict.get(key, ?)`](#DictGet)\n",
    "1. [`dict.pop(key, ?)`](#DictPop)\n",
    "1. [Get All Keys / Items](#DictGetAll)\n",
    "1. [Appending a New Value to an Existing Key](#DictAppend)\n",
    "1. [Slicing a Dictonary](#DictSlice)"
   ]
  },
  {
   "cell_type": "markdown",
   "id": "ce9b363b",
   "metadata": {},
   "source": [
    "<a name=\"DictUpdate\"></a>\n",
    "### 2.9.1 `dict.update()` <br>"
   ]
  },
  {
   "cell_type": "code",
   "execution_count": 7,
   "id": "06745825",
   "metadata": {},
   "outputs": [
    {
     "name": "stdout",
     "output_type": "stream",
     "text": [
      "{'zebras': 8}\n",
      "{'zebras': 8, 'elephants': 5, 'lions': 4}\n"
     ]
    }
   ],
   "source": [
    "# add a key:value pair\n",
    "animals_in_zoo = {}\n",
    "animals_in_zoo[\"zebras\"] = 8\n",
    "print(animals_in_zoo)\n",
    "\n",
    "# add multiple keys\n",
    "animals_in_zoo.update({\"elephants\": 5, \"lions\": 4})\n",
    "print(animals_in_zoo)"
   ]
  },
  {
   "cell_type": "code",
   "execution_count": 8,
   "id": "db959ce2",
   "metadata": {},
   "outputs": [
    {
     "name": "stdout",
     "output_type": "stream",
     "text": [
      "{'zebras': 8, 'elephants': 5, 'lions': 5}\n"
     ]
    }
   ],
   "source": [
    "# overwrite values\n",
    "animals_in_zoo['lions'] = 5\n",
    "print(animals_in_zoo)"
   ]
  },
  {
   "cell_type": "markdown",
   "id": "accc6534",
   "metadata": {},
   "source": [
    "<a name=\"DictComprehensions\"></a>\n",
    "### 2.9.2 Dictionary Comprehensions"
   ]
  },
  {
   "cell_type": "code",
   "execution_count": 9,
   "id": "d223c3cb",
   "metadata": {},
   "outputs": [
    {
     "name": "stdout",
     "output_type": "stream",
     "text": [
      "{'espresso': 64, 'chai': 40, 'decaf': 0, 'drip': 120}\n"
     ]
    }
   ],
   "source": [
    "# two seperate lists of equal length\n",
    "drinks = [\"espresso\", \"chai\", \"decaf\", \"drip\"]\n",
    "caffeine = [64, 40, 0, 120]\n",
    "\n",
    "# convert it to a dict by iterating a ZIP OBJECT and NOT A LIST\n",
    "drinks_to_caffeine = {key:value for key, value in zip(drinks, caffeine)}\n",
    "print(drinks_to_caffeine)"
   ]
  },
  {
   "cell_type": "markdown",
   "id": "1347806e",
   "metadata": {},
   "source": [
    "<a name=\"AccessKey\"></a>\n",
    "### 2.9.3 Accessing a Key Value"
   ]
  },
  {
   "cell_type": "code",
   "execution_count": 10,
   "id": "36da5092",
   "metadata": {
    "scrolled": false
   },
   "outputs": [
    {
     "name": "stdout",
     "output_type": "stream",
     "text": [
      "40\n"
     ]
    }
   ],
   "source": [
    "# access a value from a key\n",
    "print(drinks_to_caffeine[\"chai\"])"
   ]
  },
  {
   "cell_type": "markdown",
   "id": "15025a96",
   "metadata": {},
   "source": [
    "<a name=\"AccessInvalidKey\"></a>\n",
    "### 2.9.4 Accessing an Invalid Key"
   ]
  },
  {
   "cell_type": "code",
   "execution_count": 11,
   "id": "1ee08210",
   "metadata": {},
   "outputs": [
    {
     "ename": "KeyError",
     "evalue": "'flat_white'",
     "output_type": "error",
     "traceback": [
      "\u001b[1;31m---------------------------------------------------------------------------\u001b[0m",
      "\u001b[1;31mKeyError\u001b[0m                                  Traceback (most recent call last)",
      "\u001b[1;32m~\\AppData\\Local\\Temp/ipykernel_3412/458369289.py\u001b[0m in \u001b[0;36m<module>\u001b[1;34m\u001b[0m\n\u001b[0;32m      1\u001b[0m \u001b[1;31m# access an invalid key -> KeyError\u001b[0m\u001b[1;33m\u001b[0m\u001b[1;33m\u001b[0m\u001b[0m\n\u001b[1;32m----> 2\u001b[1;33m \u001b[0mprint\u001b[0m\u001b[1;33m(\u001b[0m\u001b[0mdrinks_to_caffeine\u001b[0m\u001b[1;33m[\u001b[0m\u001b[1;34m\"flat_white\"\u001b[0m\u001b[1;33m]\u001b[0m\u001b[1;33m)\u001b[0m\u001b[1;33m\u001b[0m\u001b[1;33m\u001b[0m\u001b[0m\n\u001b[0m",
      "\u001b[1;31mKeyError\u001b[0m: 'flat_white'"
     ]
    }
   ],
   "source": [
    "# access an invalid key -> KeyError\n",
    "print(drinks_to_caffeine[\"flat_white\"])"
   ]
  },
  {
   "cell_type": "code",
   "execution_count": 12,
   "id": "fa14e664",
   "metadata": {},
   "outputs": [
    {
     "name": "stdout",
     "output_type": "stream",
     "text": [
      "This key does not exist.\n"
     ]
    }
   ],
   "source": [
    "# 1st option: conditional\n",
    "key_to_check = 'flat_white'\n",
    "if key_to_check in drinks_to_caffeine:\n",
    "    print(drinks_to_caffeine['flat_white'])\n",
    "else:\n",
    "    print(\"This key does not exist.\")"
   ]
  },
  {
   "cell_type": "code",
   "execution_count": 13,
   "id": "d2719e06",
   "metadata": {},
   "outputs": [
    {
     "name": "stdout",
     "output_type": "stream",
     "text": [
      "This key does not exist.\n"
     ]
    }
   ],
   "source": [
    "# 2nd option: exceptions\n",
    "try:\n",
    "    print(drinks_to_caffeine[key_to_check])\n",
    "except KeyError:\n",
    "    print(\"This key does not exist.\")"
   ]
  },
  {
   "cell_type": "markdown",
   "id": "27e62557",
   "metadata": {},
   "source": [
    "<a name=\"DictGet\"></a>\n",
    "### 2.9.5 `dict.get(key)`"
   ]
  },
  {
   "cell_type": "code",
   "execution_count": 39,
   "id": "e78d1995",
   "metadata": {},
   "outputs": [
    {
     "name": "stdout",
     "output_type": "stream",
     "text": [
      "None\n",
      "We don't have flat white at the moment!\n"
     ]
    }
   ],
   "source": [
    "# will return None \n",
    "print(drinks_to_caffeine.get(\"flat_white\"))\n",
    " \n",
    "# will return the specified value\n",
    "print(drinks_to_caffeine.get(\"flat_white\", \"We don't have flat white at the moment!\"))"
   ]
  },
  {
   "cell_type": "markdown",
   "id": "293778e9",
   "metadata": {},
   "source": [
    "<a name=\"DictPop\"></a>\n",
    "### 2.9.6  `dict.pop(key)`"
   ]
  },
  {
   "cell_type": "code",
   "execution_count": 15,
   "id": "0f410c56",
   "metadata": {
    "scrolled": true
   },
   "outputs": [
    {
     "name": "stdout",
     "output_type": "stream",
     "text": [
      "{'health potion': 10, 'cake of the cure': 5, 'green elixir': 20, 'strength sandwich': 25}\n",
      "65\n"
     ]
    }
   ],
   "source": [
    "available_items = {\"health potion\": 10, \"cake of the cure\": 5, \"green elixir\": 20,\n",
    "                  \"strength sandwich\": 25, \"stamina grains\": 15, \"power stew\": 30}\n",
    "\n",
    "health_points = 20\n",
    "\n",
    "# add key value to health points and remove it from the dict\n",
    "health_points += available_items.pop(\"stamina grains\", 0)\n",
    "health_points += available_items.pop(\"power stew\", 0)\n",
    "# if key value is invalid return 0\n",
    "health_points += available_items.pop(\"mystic bread\", 0)\n",
    "\n",
    "print(available_items)\n",
    "print(health_points)"
   ]
  },
  {
   "cell_type": "markdown",
   "id": "6f6a0f53",
   "metadata": {},
   "source": [
    "<a name=\"DictGetAll\"></a>\n",
    "### 2.9.7  Get All Keys / Items"
   ]
  },
  {
   "cell_type": "code",
   "execution_count": 16,
   "id": "89f86872",
   "metadata": {
    "scrolled": true
   },
   "outputs": [
    {
     "name": "stdout",
     "output_type": "stream",
     "text": [
      "dict_keys(['espresso', 'chai', 'decaf', 'drip'])\n",
      "dict_values([64, 40, 0, 120])\n",
      "dict_items([('espresso', 64), ('chai', 40), ('decaf', 0), ('drip', 120)])\n",
      "\n",
      "Espresso has 64 grams of caffeine.\n",
      "Chai has 40 grams of caffeine.\n",
      "Decaf has 0 grams of caffeine.\n",
      "Drip has 120 grams of caffeine.\n"
     ]
    }
   ],
   "source": [
    "# get all keys\n",
    "coffee_types = drinks_to_caffeine.keys()\n",
    "print(coffee_types)\n",
    "\n",
    "# get all items\n",
    "coffee_values = drinks_to_caffeine.values()\n",
    "print(coffee_values)\n",
    "\n",
    "# get both keys and values\n",
    "coffee_items = drinks_to_caffeine.items()\n",
    "print(coffee_items)\n",
    "print(\"\")\n",
    "# print all items\n",
    "for key, value in drinks_to_caffeine.items():\n",
    "    print(\"{} has {} grams of caffeine.\".format(key.title(), value))"
   ]
  },
  {
   "cell_type": "markdown",
   "id": "b7cc6408",
   "metadata": {},
   "source": [
    "<a name=\"DictAppend\"></a>\n",
    "### 2.9.8 Appending a New Value to an Existing Key"
   ]
  },
  {
   "cell_type": "code",
   "execution_count": 17,
   "id": "fd54bcae",
   "metadata": {
    "scrolled": true
   },
   "outputs": [
    {
     "name": "stdout",
     "output_type": "stream",
     "text": [
      "{'a': [1, 2, 3]}\n"
     ]
    }
   ],
   "source": [
    "dict_1 = {\"a\": [1, 2]}\n",
    "\n",
    "dict_1[\"a\"]+=[3]\n",
    "\n",
    "print(dict_1)"
   ]
  },
  {
   "cell_type": "markdown",
   "id": "0c877363",
   "metadata": {},
   "source": [
    "<a name=\"DictSlice\"></a>\n",
    "### 2.9.9 Slicing a Dictionary"
   ]
  },
  {
   "cell_type": "code",
   "execution_count": null,
   "id": "ab5d3735",
   "metadata": {},
   "outputs": [],
   "source": [
    "import itertools\n",
    "\n",
    "# slice the dict\n",
    "dict(itertools.islice(translate.items(), 2))"
   ]
  },
  {
   "cell_type": "markdown",
   "id": "cd779d49",
   "metadata": {},
   "source": [
    "<a name=\"Classes\"> </a>\n",
    "## 2.10 Classes\n",
    "A template for a data type.\n",
    "\n",
    "A class instance &rarr; **object**. \n",
    "\n",
    "**Object Oriented Programming** (OOP) &rarr; The pattern of defining classes and creating objects to represent the responsibilities of a program.\n",
    "\n",
    "**Instantiation**: class &rarr; object  \n",
    "**type()**: object &rarr; class  "
   ]
  },
  {
   "cell_type": "code",
   "execution_count": 18,
   "id": "849c68c2",
   "metadata": {},
   "outputs": [
    {
     "name": "stdout",
     "output_type": "stream",
     "text": [
      "<class '__main__.Facade'>\n"
     ]
    }
   ],
   "source": [
    "# define class\n",
    "class Facade:\n",
    "    pass\n",
    "\n",
    "# instatiate class\n",
    "facade_1 = Facade()\n",
    "\n",
    "# __main__ == defined on this current file\n",
    "facade_1_type = type(facade_1)\n",
    "print(facade_1_type)"
   ]
  },
  {
   "cell_type": "markdown",
   "id": "6809df54",
   "metadata": {},
   "source": [
    "**Class variable** &rarr; the same data are available to every instance of a class. Defined in the class definition."
   ]
  },
  {
   "cell_type": "code",
   "execution_count": 19,
   "id": "7d56cfea",
   "metadata": {},
   "outputs": [
    {
     "name": "stdout",
     "output_type": "stream",
     "text": [
      "A+\n"
     ]
    }
   ],
   "source": [
    "class Student:\n",
    "    grade = \"A+\"\n",
    "   \n",
    "student = Student()\n",
    "print(student.grade)"
   ]
  },
  {
   "cell_type": "markdown",
   "id": "b160300f",
   "metadata": {},
   "source": [
    "**Methods** &rarr; functions that are defined as part of a class. \n",
    "* The first argument in a method is always the object that is calling the method. \n",
    "* Methods always have at least this one argument.\n",
    "\n",
    "*Convention recommends that we name this first argument **self**.* "
   ]
  },
  {
   "cell_type": "code",
   "execution_count": 20,
   "id": "c2d1da14",
   "metadata": {},
   "outputs": [
    {
     "name": "stdout",
     "output_type": "stream",
     "text": [
      "My name is X.\n"
     ]
    },
    {
     "data": {
      "text/plain": [
       "15.0"
      ]
     },
     "execution_count": 20,
     "metadata": {},
     "output_type": "execute_result"
    }
   ],
   "source": [
    "class Student:\n",
    "    # class variable\n",
    "    grade = 10\n",
    "    \n",
    "    \n",
    "    def name(self):\n",
    "        print(\"My name is X.\")\n",
    "        \n",
    "    \n",
    "    def calculate_final(self, grade1):\n",
    "        # self.class_variable\n",
    "        return (self.grade + grade1) / 2\n",
    "        \n",
    "student = Student()\n",
    "student.name()\n",
    "student.calculate_final(20)"
   ]
  },
  {
   "cell_type": "markdown",
   "id": "6975ae55",
   "metadata": {},
   "source": [
    "**Magic / Dunder** method &rarr; method with special behavior (dunder &rarr; **d**ouble-**under**scores)   \n",
    "&darr;  \n",
    "**\\__init__()** method &rarr; used to initialize a newly created object. It is called every time the class is instantiated.\n",
    "\n",
    "**Constructors** &rarr; methods that are used to prepare an object being instantiated are called. (In Python usually referred to the **\\__init__()** method)"
   ]
  },
  {
   "cell_type": "code",
   "execution_count": 40,
   "id": "85636e59",
   "metadata": {},
   "outputs": [
    {
     "name": "stdout",
     "output_type": "stream",
     "text": [
      "HELLO?!\n"
     ]
    }
   ],
   "source": [
    "class Shouter:\n",
    "    \n",
    "    def __init__(self):\n",
    "        print(\"HELLO?!\")\n",
    "\n",
    "# whatever is in the init dunder is automatically evaluated!\n",
    "shout1 = Shouter()"
   ]
  },
  {
   "cell_type": "code",
   "execution_count": 22,
   "id": "63c6d00f",
   "metadata": {},
   "outputs": [
    {
     "name": "stdout",
     "output_type": "stream",
     "text": [
      "SHOUT\n",
      "LET IT ALL OUT\n"
     ]
    }
   ],
   "source": [
    "class Shouter:\n",
    "    def __init__(self, phrase):\n",
    "        # make sure phrase is a string\n",
    "        if type(phrase) == str:\n",
    "          # then shout it out\n",
    "          print(phrase.upper())\n",
    "\n",
    "shout1 = Shouter(\"shout\")\n",
    "shout2 = Shouter(\"let it all out\")"
   ]
  },
  {
   "cell_type": "markdown",
   "id": "ef517e2e",
   "metadata": {},
   "source": [
    "**Instance variables** &rarr; the data held by an object; they aren't shared by all instances"
   ]
  },
  {
   "cell_type": "code",
   "execution_count": 23,
   "id": "28cefc4a",
   "metadata": {},
   "outputs": [
    {
     "name": "stdout",
     "output_type": "stream",
     "text": [
      "This works! This too!\n"
     ]
    }
   ],
   "source": [
    "class FakeDict:\n",
    "      pass\n",
    "\n",
    "# instantiate objects\n",
    "fake_dict1 = FakeDict()\n",
    "fake_dict2 = FakeDict()\n",
    "\n",
    "# assign different instance variables to each\n",
    "fake_dict1.fake_key = \"This works!\"\n",
    "fake_dict2.fake_key = \"This too!\"\n",
    " \n",
    "# join the two strings together\n",
    "working_string = \"{} {}\".format(fake_dict1.fake_key, fake_dict2.fake_key)\n",
    "print(working_string)"
   ]
  },
  {
   "cell_type": "markdown",
   "id": "3d63f599",
   "metadata": {},
   "source": [
    "**Attribute functions of an object** &rarr; instance + class variables\n",
    "\n",
    "If we attempt to access an attribute that is neither a class variable nor an instance variable of the object Python will throw an **AttributeError**:"
   ]
  },
  {
   "cell_type": "code",
   "execution_count": 24,
   "id": "31065956",
   "metadata": {},
   "outputs": [
    {
     "name": "stdout",
     "output_type": "stream",
     "text": [
      "This text gets printed!\n"
     ]
    }
   ],
   "source": [
    "class NoCustomAttributes:\n",
    "    pass\n",
    " \n",
    "attributeless = NoCustomAttributes()\n",
    " \n",
    "try:\n",
    "  attributeless.fake_attribute\n",
    "except AttributeError:\n",
    "  print(\"This text gets printed!\")"
   ]
  },
  {
   "cell_type": "markdown",
   "id": "ccdfddd5",
   "metadata": {},
   "source": [
    "What if we aren’t sure if an object has an attribute or not? \n",
    "\n",
    "`hasattr(object, \"attribute\")` &rarr; **True** (an object has a given attribute), else **False**.  \n",
    "\n",
    "`getattr(object, \"attribute\", default?)` &rarr; get the actual value of the attribute"
   ]
  },
  {
   "cell_type": "code",
   "execution_count": 25,
   "id": "1657dfbc",
   "metadata": {},
   "outputs": [
    {
     "name": "stdout",
     "output_type": "stream",
     "text": [
      "False\n"
     ]
    },
    {
     "data": {
      "text/plain": [
       "800"
      ]
     },
     "execution_count": 25,
     "metadata": {},
     "output_type": "execute_result"
    }
   ],
   "source": [
    "# calling a non-existing attribute\n",
    "print(hasattr(attributeless, \"fake_attribute\"))\n",
    "# calling a non-existing attribute with default value\n",
    "getattr(attributeless, \"other_fake_attribute\", 800)"
   ]
  },
  {
   "cell_type": "markdown",
   "id": "c04a6871",
   "metadata": {},
   "source": [
    "**Self** &rarr; refers to the object and not the class being called."
   ]
  },
  {
   "cell_type": "code",
   "execution_count": 41,
   "id": "d598ce20",
   "metadata": {},
   "outputs": [
    {
     "name": "stdout",
     "output_type": "stream",
     "text": [
      "www.codecademy.com\n",
      "www.wikipedia.org\n"
     ]
    }
   ],
   "source": [
    "class SearchEngineEntry:\n",
    "    def __init__(self, url):\n",
    "        self.url = url\n",
    "\n",
    "# create instance variables\n",
    "codecademy = SearchEngineEntry(\"www.codecademy.com\")\n",
    "wikipedia = SearchEngineEntry(\"www.wikipedia.org\")\n",
    " \n",
    "print(codecademy.url)\n",
    "print(wikipedia.url)"
   ]
  },
  {
   "cell_type": "code",
   "execution_count": 27,
   "id": "fc27df87",
   "metadata": {
    "scrolled": true
   },
   "outputs": [
    {
     "name": "stdout",
     "output_type": "stream",
     "text": [
      "www.codecademy.com\n",
      "www.wikipedia.org\n",
      "https://www.codecademy.com\n",
      "https://www.wikipedia.org\n"
     ]
    }
   ],
   "source": [
    "class SearchEngineEntry:\n",
    "    \n",
    "    # class variable shared by all methods\n",
    "    secure_prefix = \"https://\"\n",
    "    \n",
    "    # constructor with argument\n",
    "    def __init__(self, url):\n",
    "        self.url = url\n",
    "        print(self.url)\n",
    "    \n",
    "    # class method using class variables\n",
    "    def secure(self):\n",
    "        return \"{prefix}{site}\".format(prefix=self.secure_prefix, site=self.url)\n",
    "\n",
    "# creating an object + evaluting the constructor\n",
    "codecademy = SearchEngineEntry(\"www.codecademy.com\")\n",
    "wikipedia = SearchEngineEntry(\"www.wikipedia.org\")\n",
    "\n",
    "print(codecademy.secure()) \n",
    "print(wikipedia.secure())"
   ]
  },
  {
   "cell_type": "markdown",
   "id": "281851d8",
   "metadata": {},
   "source": [
    "`dir()` &rarr; investigate an object’s attributes at runtime (short for directory)\n",
    "\n",
    "Python automatically adds a number of attributes to all objects that get created. These internal attributes are usually indicated by double-underscores. But sure enough, attribute is in that list."
   ]
  },
  {
   "cell_type": "code",
   "execution_count": 28,
   "id": "0faff086",
   "metadata": {
    "scrolled": true
   },
   "outputs": [
    {
     "data": {
      "text/plain": [
       "['__add__',\n",
       " '__class__',\n",
       " '__class_getitem__',\n",
       " '__contains__',\n",
       " '__delattr__',\n",
       " '__delitem__',\n",
       " '__dir__',\n",
       " '__doc__',\n",
       " '__eq__',\n",
       " '__format__',\n",
       " '__ge__',\n",
       " '__getattribute__',\n",
       " '__getitem__',\n",
       " '__gt__',\n",
       " '__hash__',\n",
       " '__iadd__',\n",
       " '__imul__',\n",
       " '__init__',\n",
       " '__init_subclass__',\n",
       " '__iter__',\n",
       " '__le__',\n",
       " '__len__',\n",
       " '__lt__',\n",
       " '__mul__',\n",
       " '__ne__',\n",
       " '__new__',\n",
       " '__reduce__',\n",
       " '__reduce_ex__',\n",
       " '__repr__',\n",
       " '__reversed__',\n",
       " '__rmul__',\n",
       " '__setattr__',\n",
       " '__setitem__',\n",
       " '__sizeof__',\n",
       " '__str__',\n",
       " '__subclasshook__',\n",
       " 'append',\n",
       " 'clear',\n",
       " 'copy',\n",
       " 'count',\n",
       " 'extend',\n",
       " 'index',\n",
       " 'insert',\n",
       " 'pop',\n",
       " 'remove',\n",
       " 'reverse',\n",
       " 'sort']"
      ]
     },
     "execution_count": 28,
     "metadata": {},
     "output_type": "execute_result"
    }
   ],
   "source": [
    "class FakeDict:\n",
    "    pass\n",
    " \n",
    "# instantiate an object\n",
    "fake_dict = FakeDict()\n",
    "# create an instance variable\n",
    "fake_dict.attribute = \"Cool\"\n",
    " \n",
    "# check object's attributes\n",
    "dir(fake_dict) \n",
    "# includes the instance variable \"attribute\"\n",
    "\n",
    "# create a list object\n",
    "list_1 = []\n",
    "# check object's attributes\n",
    "dir(list_1)"
   ]
  },
  {
   "cell_type": "markdown",
   "id": "66af78b7",
   "metadata": {},
   "source": [
    "**String Representation** &rarr; when we print out an object we get a default representation that seems fairly useless:"
   ]
  },
  {
   "cell_type": "code",
   "execution_count": 29,
   "id": "6a1956d4",
   "metadata": {},
   "outputs": [
    {
     "name": "stdout",
     "output_type": "stream",
     "text": [
      "<__main__.Employee object at 0x000002A37B695370>\n"
     ]
    }
   ],
   "source": [
    "class Employee():\n",
    "    def __init__(self, name):\n",
    "        self.name = name\n",
    " \n",
    "\n",
    "argus = Employee(\"Argus Filch\")\n",
    "# where the class is defined (__main__) and computer's memory address where this object is stored\n",
    "print(argus)"
   ]
  },
  {
   "cell_type": "markdown",
   "id": "22bfe91a",
   "metadata": {},
   "source": [
    "` __repr__(self)` &rarr; tells Python what we want the string representation of the class to be."
   ]
  },
  {
   "cell_type": "code",
   "execution_count": 30,
   "id": "d161a770",
   "metadata": {},
   "outputs": [
    {
     "name": "stdout",
     "output_type": "stream",
     "text": [
      "Argus Filch\n"
     ]
    }
   ],
   "source": [
    "class Employee():\n",
    "    def __init__(self, name):\n",
    "        self.name = name\n",
    "        \n",
    "    # can only have 1 parameter and must return a string\n",
    "    def __repr__(self):\n",
    "        return self.name\n",
    " \n",
    "argus = Employee(\"Argus Filch\")\n",
    "print(argus)"
   ]
  },
  {
   "cell_type": "markdown",
   "id": "6d723a31",
   "metadata": {},
   "source": [
    "<a name=\"Modules\"></a>\n",
    "## 2.11 Modules\n",
    "1. [General](#General)\n",
    "2. [Datetime](#Datetime)\n",
    "3. [Pipenv](#Pipenv)"
   ]
  },
  {
   "cell_type": "markdown",
   "id": "9fb2792c",
   "metadata": {},
   "source": [
    "<a name=\"General\"></a>\n",
    "### General\n",
    "A collection of Python declarations intended broadly to be used as a tool. \n",
    "\n",
    "Also referred to as “**libraries**” or “**packages**” — a package is really a directory that holds a collection of modules.\n",
    "\n",
    "`from module_name import object_name`"
   ]
  },
  {
   "cell_type": "code",
   "execution_count": 31,
   "id": "6465c259",
   "metadata": {},
   "outputs": [
    {
     "name": "stdout",
     "output_type": "stream",
     "text": [
      "2022-01-25 19:18:46.362684\n"
     ]
    }
   ],
   "source": [
    "# from datetime module import datetime object\n",
    "from datetime import datetime\n",
    "\n",
    "# assing the current time to a variable\n",
    "current_time = datetime.now()\n",
    "# print current time\n",
    "print(current_time)"
   ]
  },
  {
   "cell_type": "code",
   "execution_count": 32,
   "id": "4f0d4f67",
   "metadata": {},
   "outputs": [
    {
     "name": "stdout",
     "output_type": "stream",
     "text": [
      "[20, 37, 51, 94, 4, 37, 67, 32, 82, 8, 36, 86, 24, 80, 20, 28, 54, 51, 99, 70, 56, 37, 97, 62, 29, 99, 22, 68, 36, 80, 37, 63, 45, 100, 21, 73, 83, 59, 51, 80, 89, 91, 46, 74, 40, 90, 94, 79, 36, 6, 58, 35, 70, 97, 27, 27, 87, 66, 55, 23, 81, 67, 3, 16, 66, 74, 10, 12, 64, 10, 57, 51, 59, 74, 64, 65, 7, 51, 94, 48, 77, 71, 40, 56, 81, 101, 33, 36, 90, 44, 31, 44, 69, 90, 89, 41, 72, 71, 23, 100, 23]\n",
      "\n",
      "55\n"
     ]
    }
   ],
   "source": [
    "# import random module\n",
    "import random\n",
    "\n",
    "# create a list with 100 random numbers, with each between 1-100\n",
    "random_list = [random.randint(1, 101) for num in range(101)]\n",
    "# print the list\n",
    "print(random_list)\n",
    "\n",
    "# pick a random number from the list\n",
    "randomer_number = random.choice(random_list)\n",
    "print(\"\")\n",
    "# print the selected number\n",
    "print(randomer_number)"
   ]
  },
  {
   "cell_type": "markdown",
   "id": "bbee7214",
   "metadata": {},
   "source": [
    "Python's default behavior offers a namespace for the module, e.g. `random.randint()`.\n",
    "\n",
    "A **namespace** isolates the functions, classes, and variables defined in the module from the code in the file doing the importing. **Local namespace** is where the code is run. Sometimes a namespace could be **ambiguous**, **lengthy**, or **conflict** with an object defined within the local namespace.\n",
    "\n",
    "**Aliasing** &rarr; `import module_name as name_you_pick_for_the_module`\n",
    "\n",
    "`import *` &rarr; **\\*** is known as a **wildcard**; it matches anything and everything. This syntax is considered **dangerous** because it could pollute (the same name could apply to two possible things) our local namespace."
   ]
  },
  {
   "cell_type": "code",
   "execution_count": 42,
   "id": "87140188",
   "metadata": {
    "scrolled": true
   },
   "outputs": [
    {
     "name": "stdout",
     "output_type": "stream",
     "text": [
      "range(1, 13)\n",
      "[132, 192, 584, 61, 908, 705, 285, 6, 390, 626, 951, 975]\n"
     ]
    },
    {
     "data": {
      "image/png": "[encoded data removed]",
      "text/plain": [
       "<Figure size 432x288 with 1 Axes>"
      ]
     },
     "metadata": {
      "needs_background": "light"
     },
     "output_type": "display_data"
    }
   ],
   "source": [
    "from matplotlib import pyplot as plt\n",
    "import random\n",
    "\n",
    "# define a variable with the range of number from 1 to 13\n",
    "numbers_a = range(1, 13)\n",
    "# print list\n",
    "print(numbers_a)\n",
    "\n",
    "# take 12 points at random from range 1 to 1000\n",
    "numbers_b = random.sample(range(1000), k=len(numbers_a))\n",
    "print(numbers_b)\n",
    "\n",
    "# plot the two variables\n",
    "plt.plot(numbers_a, numbers_b)\n",
    "# show the plot\n",
    "plt.show()"
   ]
  },
  {
   "cell_type": "code",
   "execution_count": 34,
   "id": "22fcf438",
   "metadata": {},
   "outputs": [
    {
     "name": "stdout",
     "output_type": "stream",
     "text": [
      "0.8899999999999999\n",
      "0.89\n",
      "0.34450000000000003\n",
      "0.3445\n",
      "0.8320000000000001\n",
      "0.832\n"
     ]
    }
   ],
   "source": [
    "# Import Decimal below:\n",
    "from decimal import Decimal\n",
    "\n",
    "# Fix the floating point math below:\n",
    "two_decimal_points_before = 0.2 + 0.69\n",
    "print(two_decimal_points_before)\n",
    "two_decimal_points = Decimal('0.2') + Decimal('0.69')\n",
    "print(two_decimal_points)\n",
    "\n",
    "four_decimal_points_before = 0.53 * 0.65\n",
    "print(four_decimal_points_before)\n",
    "four_decimal_points = Decimal('0.53') * Decimal('0.65')\n",
    "print(four_decimal_points)\n",
    "\n",
    "three_decimal_points_before = 0.532 + 0.3\n",
    "print(three_decimal_points_before)\n",
    "three_decimal_points = Decimal('0.532') + Decimal('0.3')\n",
    "print(three_decimal_points)"
   ]
  },
  {
   "cell_type": "markdown",
   "id": "5a8c2ad4",
   "metadata": {},
   "source": [
    "<a name=\"Datetime\"></a>\n",
    "### Datetime\n",
    "`import datetime`"
   ]
  },
  {
   "cell_type": "code",
   "execution_count": 35,
   "id": "4f5f28c9",
   "metadata": {
    "scrolled": false
   },
   "outputs": [
    {
     "name": "stdout",
     "output_type": "stream",
     "text": [
      "1989-09-11 04:25:12\n",
      "1989\n",
      "0\n"
     ]
    }
   ],
   "source": [
    "from datetime import datetime\n",
    "\n",
    "# create a datetime object using year, month, day, hours, mins, secs\n",
    "birthday = datetime(1989, 9, 11, 4, 25, 12)\n",
    "# print datetime object\n",
    "print(birthday)\n",
    "# extract year\n",
    "print(birthday.year)\n",
    "# extract weekday, Monday = 0, Sunday = 6\n",
    "print(birthday.weekday())"
   ]
  },
  {
   "cell_type": "markdown",
   "id": "12dd8025",
   "metadata": {},
   "source": [
    "`datetime.now()` &rarr; get the current datetime."
   ]
  },
  {
   "cell_type": "code",
   "execution_count": 36,
   "id": "795bcab2",
   "metadata": {
    "scrolled": true
   },
   "outputs": [
    {
     "name": "stdout",
     "output_type": "stream",
     "text": [
      "2022-01-25 19:18:47.935477\n",
      "11824 days, 19:18:47.935477\n"
     ]
    }
   ],
   "source": [
    "# print the current time\n",
    "print(datetime.now())\n",
    "\n",
    "# subtract dates\n",
    "print(datetime.now() - datetime(1989, 9, 11))"
   ]
  },
  {
   "cell_type": "markdown",
   "id": "97fa9a0e",
   "metadata": {},
   "source": [
    "`datetime.strptime(string, format)` &rarr; converts a string to a datetime object."
   ]
  },
  {
   "cell_type": "code",
   "execution_count": 37,
   "id": "7be766c3",
   "metadata": {},
   "outputs": [
    {
     "name": "stdout",
     "output_type": "stream",
     "text": [
      "2018-01-15 00:00:00\n",
      "1\n",
      "2018\n"
     ]
    }
   ],
   "source": [
    "# parsing a date\n",
    "date = 'Jan 15, 2018'\n",
    "# (string, format of what each element represents)\n",
    "parsed_date = datetime.strptime(date, \"%b %d, %Y\")\n",
    "print(parsed_date)\n",
    "print(parsed_date.month)\n",
    "print(parsed_date.year)"
   ]
  },
  {
   "cell_type": "markdown",
   "id": "e4fb7081",
   "metadata": {},
   "source": [
    "`datetime.strftime(datetime, string)` &rarr; converts a datetime object to a string."
   ]
  },
  {
   "cell_type": "code",
   "execution_count": 38,
   "id": "6d8c2774",
   "metadata": {},
   "outputs": [
    {
     "name": "stdout",
     "output_type": "stream",
     "text": [
      "Jan 25, 2022\n"
     ]
    }
   ],
   "source": [
    "date_string = datetime.strftime(datetime.now(), '%b %d, %Y')\n",
    "print(date_string)"
   ]
  },
  {
   "cell_type": "markdown",
   "id": "9daeb779",
   "metadata": {},
   "source": [
    "<a name=\"Pipenv\"></a>\n",
    "### [Pipenv](https://www.codecademy.com/paths/data-science/tracks/dscp-python-fundamentals/modules/dscp-python-modules/videos/learn-python3-pipenv)\n",
    "Useful when working on **differet projects** that require **different Python / module versions** on the same computer.\n",
    "\n",
    "**Virtual Environment** &rarr; local to a specific project which defines all the required versions.\n",
    "\n",
    "`pip install --user pipenv` &rarr; add **PATH** to **Systems Enviroment Variables**\n",
    "\n",
    "*from project's 1 directory*  \n",
    "`pipenv --three` &rarr; initialise VE with Python3 (**Pipfile**)\n",
    "`pipenv install numpy` &rarr; installing latest version (**Pipfile.lock**)\n",
    "`pipenv install requests==2.18.1` &rarr; install requests v.2.18.1\n",
    "\n",
    "*from project's 2 directory*  \n",
    "`pipenv --three` &rarr; initialise VE with Python3 (**Pipfile**) <br>\n",
    "`pipenv install numpy==1.15.2` &rarr; installing numpy v 1.15.2 (**Pipfile.lock**) <br>\n",
    "`pipenv install requests` &rarr; install latest version <br>\n",
    "\n",
    "*from project's 1 directory*  \n",
    "`pipenv shell` &rarr; `python3` &rarr; `import numpy` &rarr; `print(numpy.__version__)` # 1.15.2\n",
    "\n",
    "`exit()` &rarr; `exit`"
   ]
  },
  {
   "cell_type": "markdown",
   "id": "83546905",
   "metadata": {},
   "source": [
    "<a name=\"Files\"></a>\n",
    "## 2.12 Files\n",
    "1. [Reading a File](#ReadingFiles)\n",
    "2. [Iterating Through Lines](#IteratingLines)\n",
    "3. [Reading a Line](#ReadingLines)\n",
    "4. [Writing a File](#WritingFiles)\n",
    "5. [Appending to a File](#Appending)\n",
    "6. [`with`](#with)\n",
    "7. [CSV files](#csv)\n",
    "8. [JSON files](#json)"
   ]
  },
  {
   "cell_type": "markdown",
   "id": "174736a6",
   "metadata": {},
   "source": [
    "<a name=\"ReadingFiles\"></a>\n",
    "### Reading a File\n",
    "\n",
    "**General Syntax**: <br>\n",
    "`create file_object\n",
    "    read file_object_content\n",
    "print file_object_content`\n",
    "\n",
    "`with open('real_cool_document.txt') as cool_doc:\n",
    "    cool_contents = cool_doc.read() \n",
    "print(cool_contents)` \n",
    "\n",
    "``file.read()`` stores the text in a **single string**."
   ]
  },
  {
   "cell_type": "code",
   "execution_count": 21,
   "id": "d672d42a",
   "metadata": {},
   "outputs": [
    {
     "name": "stdout",
     "output_type": "stream",
     "text": [
      "1. How many lines do we write on the daily,\n",
      "2. Many money, we write many many many\n",
      "3. How many lines do you write on the daily,\n",
      "4. Say you say many money, you write many many many\n"
     ]
    }
   ],
   "source": [
    "# create a file object\n",
    "with open(r\"C:\\Users\\10inm\\ai_bootcamp\\test_corpus\\sample.txt\") as file:\n",
    "    # read the contents and assign them in a variable as a single string\n",
    "    file_contents = file.read()   \n",
    "# print content files\n",
    "print(file_contents)"
   ]
  },
  {
   "cell_type": "markdown",
   "id": "f8737c57",
   "metadata": {},
   "source": [
    "<a name=\"IteratingLines\"></a>\n",
    "### Iterating Through Lines\n",
    "We can also read a text file **line by line** using `file.readlines()`."
   ]
  },
  {
   "cell_type": "code",
   "execution_count": 22,
   "id": "68c614a1",
   "metadata": {},
   "outputs": [
    {
     "name": "stdout",
     "output_type": "stream",
     "text": [
      "1. How many lines do we write on the daily,\n",
      "\n",
      "2. Many money, we write many many many\n",
      "\n",
      "3. How many lines do you write on the daily,\n",
      "\n",
      "4. Say you say many money, you write many many many\n"
     ]
    }
   ],
   "source": [
    "# create a file object\n",
    "with open(r\"C:\\Users\\10inm\\ai_bootcamp\\test_corpus\\sample.txt\") as file:\n",
    "    # iterate line by line through the file contents\n",
    "    for line in file.readlines():\n",
    "        # print the line\n",
    "        print(line)"
   ]
  },
  {
   "cell_type": "markdown",
   "id": "277a7495",
   "metadata": {},
   "source": [
    "<a name=\"ReadingLines\"></a>\n",
    "### Reading a Line\n",
    "\n",
    "`file.readline()` permits to **read just one line** at a time."
   ]
  },
  {
   "cell_type": "code",
   "execution_count": 23,
   "id": "e6caf5f9",
   "metadata": {},
   "outputs": [
    {
     "name": "stdout",
     "output_type": "stream",
     "text": [
      "1. How many lines do we write on the daily,\n",
      "\n",
      "2. Many money, we write many many many\n",
      "\n"
     ]
    }
   ],
   "source": [
    "# create a file object\n",
    "with open(r\"C:\\Users\\10inm\\ai_bootcamp\\test_corpus\\sample.txt\") as file:\n",
    "    # read the first line and assign it to a variable\n",
    "    first_line = file.readline()\n",
    "    # read the second line and assign it to a variable\n",
    "    second_line = file.readline()\n",
    "        \n",
    "# print 1st line\n",
    "print(first_line)\n",
    "# print 2nd line\n",
    "print(second_line)"
   ]
  },
  {
   "cell_type": "markdown",
   "id": "3a681328",
   "metadata": {},
   "source": [
    "<a name=\"WritingFiles\"></a>\n",
    "### [Writing a File](https://docs.python.org/3/library/functions.html#open)\n",
    "`'r'` open for reading (default) <br>\n",
    "`'w'` open for writing, truncating the file first  <br>\n",
    "\n",
    "`open(file, mode='r')`\n",
    "\n",
    ">If there is already a file called 'generated_file.txt' it will completely **overwrite** that file, erasing whatever its contents were before."
   ]
  },
  {
   "cell_type": "code",
   "execution_count": 24,
   "id": "69f06325",
   "metadata": {},
   "outputs": [],
   "source": [
    "# open the specified file in write mode\n",
    "with open('generated_file.txt', 'w') as gen_file:\n",
    "    # write the specified string to the file\n",
    "    gen_file.write(\"What an incredible file!\")"
   ]
  },
  {
   "cell_type": "markdown",
   "id": "465bc889",
   "metadata": {},
   "source": [
    "<a name=\"Appending\"></a>\n",
    "### Appending to a File\n",
    "`'a'` open for writing, appending to the end of file if it exists <br>"
   ]
  },
  {
   "cell_type": "code",
   "execution_count": 26,
   "id": "887ff976",
   "metadata": {},
   "outputs": [],
   "source": [
    "# open the specified file in append mode\n",
    "with open('generated_file.txt', 'a') as gen_file:\n",
    "    # append the specified string to the file\n",
    "    gen_file.write(\"... and it still is!\")"
   ]
  },
  {
   "cell_type": "markdown",
   "id": "59e45494",
   "metadata": {},
   "source": [
    "`'r'` open for reading (default) <br>\n",
    "`'w'` open for writing, truncating the file first  <br>\n",
    "`'x'` open for exclusive creation, failing if the file already exists <br>\n",
    "`'a'` open for writing, appending to the end of file if it exists <br>\n",
    "`'b'` binary mode <br>\n",
    "`'t'` text mode (default)  <br>\n",
    "`'+'` open for updating (reading and writing)  <br>\n",
    "\n",
    "`open(file, mode='')`"
   ]
  },
  {
   "cell_type": "markdown",
   "id": "8fc64960",
   "metadata": {},
   "source": [
    "<a name=\"with\"></a>\n",
    "### `with`\n",
    "The **with keyword** invokes something called a **context manager** for the file that we’re calling `open()` on.\n",
    "\n",
    "This context manager **takes care of opening** the file when we call `open()` **and then closing** the file after we leave the indented block.\n",
    "\n",
    "Since your files exist outside your Python script, we need to tell Python when we’re done with them so that it can **close the connection to that file**. Leaving a file connection open unnecessarily can affect **performance** or impact other programs on your computer that might be trying to **access** that file.\n",
    "\n",
    "The **with syntax replaces older ways to access files where you need to call** `.close()` **on the file object manually**. We can still open up a file and append to it with the old syntax, as long as we remember to close the file connection afterwards."
   ]
  },
  {
   "cell_type": "code",
   "execution_count": 29,
   "id": "44557505",
   "metadata": {},
   "outputs": [],
   "source": [
    "# create a file object in append mode\n",
    "sample_file = open('sample.txt', 'a')\n",
    " \n",
    "# append a line\n",
    "sample_file.write(\"Montréal\")\n",
    " \n",
    "# close the file\n",
    "sample_file.close()"
   ]
  },
  {
   "cell_type": "markdown",
   "id": "338d77b1",
   "metadata": {},
   "source": [
    "<a name=\"csv\"></a>\n",
    "### CSV Files\n",
    "`from csv import DictReader`\n",
    "\n",
    "`with open('file.csv', newline='') as file_csv:` the **newline** argument makes sure that we don’t accidentally mistake a line break in one of our data fields as a new row in our CSV.\n",
    "\n",
    "`user_reader = cvs.DictReader(file_csv)` converts the CSV lines to dictionaries with the **first line entries** as the **keys**."
   ]
  },
  {
   "cell_type": "code",
   "execution_count": 2,
   "id": "0e5e83d3",
   "metadata": {},
   "outputs": [
    {
     "name": "stdout",
     "output_type": "stream",
     "text": [
      "['wigginsryan@yahoo.com', 'hcosta@hotmail.com', 'a_bark_x@turner.com', 'lynniegonz@hotmail.com']\n"
     ]
    }
   ],
   "source": [
    "import csv\n",
    "\n",
    "# create an empty list\n",
    "list_of_email_addresses = []\n",
    "# create a file object\n",
    "with open('sample.csv', newline='') as users_csv:\n",
    "    # convert lines to dicts\n",
    "    user_reader = csv.DictReader(users_csv)\n",
    "    # for each row (starting from the 2nd)\n",
    "    for row in user_reader:\n",
    "        # append email column value to list\n",
    "        list_of_email_addresses.append(row['Email'])\n",
    "        \n",
    "print(list_of_email_addresses)"
   ]
  },
  {
   "cell_type": "markdown",
   "id": "f9e7d0ef",
   "metadata": {},
   "source": [
    "People used to call **Tab-Separated Values** files **TSV** files, but nowadays we call **all files** with a list of different values a **CSV file** and then use different **delimiters** to indicate where the different values start and stop.\n",
    ">Name;Address;Telephone  \n",
    "Donna Smith;126 Orr Corner Suite 857\\nEast Michael, LA 54411;906-918-6560\n",
    "\n",
    "The possibility of a new line escaped by a \\n character in our data is why we pass the **newline=''** keyword argument to `open()`."
   ]
  },
  {
   "cell_type": "code",
   "execution_count": 26,
   "id": "80ace70e",
   "metadata": {
    "scrolled": true
   },
   "outputs": [
    {
     "name": "stdout",
     "output_type": "stream",
     "text": [
      "126 Orr Corner Suite 857\\nEast Michael, LA 54411\n",
      "6965 Miller Station Suite 485\\nNorth Michelle, KS 64364\n",
      "8749 Alicia Vista Apt. 288\\nLake Victoriaberg, TN 51094\n",
      "20116 Stephanie Stravenue\\nWhitneytown, IA 87358\n",
      "558 Melissa Keys Apt. 588\\nNorth Teresahaven, WA 63411\n",
      "725 Gloria Views Suite 628\\nEast Scott, IN 38095\n"
     ]
    },
    {
     "data": {
      "text/plain": [
       "['126 Orr Corner Suite 857,East Michael, LA 54411',\n",
       " '6965 Miller Station Suite 485,North Michelle, KS 64364',\n",
       " '8749 Alicia Vista Apt. 288,Lake Victoriaberg, TN 51094',\n",
       " '20116 Stephanie Stravenue,Whitneytown, IA 87358',\n",
       " '558 Melissa Keys Apt. 588,North Teresahaven, WA 63411',\n",
       " '725 Gloria Views Suite 628,East Scott, IN 38095']"
      ]
     },
     "execution_count": 26,
     "metadata": {},
     "output_type": "execute_result"
    }
   ],
   "source": [
    "# create an empty list\n",
    "address_list = []\n",
    "# create a file object\n",
    "with open('addresses.csv', newline='') as addresses_csv:\n",
    "    # create a reader object using ';' as the delimiter\n",
    "    address_reader = csv.DictReader(addresses_csv, delimiter=';')\n",
    "    # for each row of the reader object\n",
    "    for row in address_reader:\n",
    "        # print the value of the column 'Address'\n",
    "        address_list.append(row['Address'])\n",
    "        print(row['Address'])\n",
    "\n",
    "# clean list elements       \n",
    "clean_list = []\n",
    "# for each address in the list\n",
    "for address in address_list:\n",
    "    # replace '\\\\n' with ',' and append it to the new list\n",
    "    clean_list.append(address.replace(\"\\\\n\", \",\"))\n",
    "# print new list\n",
    "clean_list"
   ]
  },
  {
   "cell_type": "markdown",
   "id": "1fcd6577",
   "metadata": {},
   "source": [
    "We can also **write** into a **CSV** file.<br>\n",
    "`csv.DictWriter()`\n",
    "\n",
    "`writer_object.writeheader()`headers (first row) <br>\n",
    "`writer_object.writerow()` writes each line to the CSV file."
   ]
  },
  {
   "cell_type": "code",
   "execution_count": 35,
   "id": "94ed8939",
   "metadata": {},
   "outputs": [],
   "source": [
    "# some data that we want to convert into a CSV file\n",
    "big_list = [{'name': 'Fredrick Stein', 'userid': 6712359021, 'is_admin': False},\n",
    "            {'name': 'Wiltmore Denis', 'userid': 2525942, 'is_admin': False},\n",
    "            {'name': 'Greely Plonk', 'userid': 15890235, 'is_admin': False},\n",
    "            {'name': 'Dendris Stulo', 'userid': 572189563, 'is_admin': True}] \n",
    "\n",
    "# create write object\n",
    "with open('output.csv', 'w') as output_csv:\n",
    "    # define the fields\n",
    "    fields = ['name', 'userid', 'is_admin']\n",
    "    # instantiate writer object passing the file handler object and our fieldnames\n",
    "    output_writer = csv.DictWriter(output_csv, fieldnames=fields)\n",
    "    # write the 1st line first (headers)\n",
    "    output_writer.writeheader()\n",
    "    for item in big_list:\n",
    "        # write each line to the CSV\n",
    "        output_writer.writerow(item)"
   ]
  },
  {
   "cell_type": "code",
   "execution_count": 40,
   "id": "e03feca9",
   "metadata": {},
   "outputs": [],
   "source": [
    "# some data that we want to convert into a CSV file\n",
    "big_string = \"\"\"\n",
    "            aaaaaaaaaaaaaaaa\n",
    "            bbbbbbbbbbbbbbbb\n",
    "            cccccccccccccccc\n",
    "\"\"\"\n",
    "\n",
    "# create write object\n",
    "with open('output_string.csv', 'w') as output_string_csv:\n",
    "    # write string within the CSV\n",
    "    output_string_csv.write(big_string)"
   ]
  },
  {
   "cell_type": "markdown",
   "id": "9ed701c3",
   "metadata": {},
   "source": [
    "<a name=\"json\"></a>\n",
    "### JSON Files\n",
    "\n",
    "**J**ava**S**cript **O**bject **N**otation is a file format inspired by the programming language JavaScript. The name, like CSV is a bit of a misnomer — some JSON is not valid JavaScript (and plenty of JavaScript is not valid JSON).\n",
    "\n",
    "JSON’s format is **similar to Python dictionary** syntax. \n",
    "\n",
    "`import json` parses JSON files into Python dictionaries. "
   ]
  },
  {
   "cell_type": "code",
   "execution_count": 36,
   "id": "f8fea367",
   "metadata": {},
   "outputs": [
    {
     "name": "stdout",
     "output_type": "stream",
     "text": [
      "Now that's JSON!\n",
      "Now that's some _serious_ JSON!\n"
     ]
    }
   ],
   "source": [
    "import json\n",
    "\n",
    "# create a reader object\n",
    "with open('purchase.json') as purchase_json:\n",
    "    # parse JSON file's content and assign it to a variable\n",
    "    purchase_data = json.load(purchase_json)\n",
    "\n",
    "print(purchase_data['text'])\n",
    "print(purchase_data['secret text'])"
   ]
  },
  {
   "cell_type": "markdown",
   "id": "c18a69af",
   "metadata": {},
   "source": [
    "We can use the json library to **translate Python objects to JSON** which is useful in instances where you’re using a Python library to **serve web pages**.\n",
    "\n",
    "`json.dump(data_object, file_object)`"
   ]
  },
  {
   "cell_type": "code",
   "execution_count": 38,
   "id": "a1cdada2",
   "metadata": {},
   "outputs": [],
   "source": [
    "# a Python dict\n",
    "turn_to_json = {\n",
    "  'eventId': 674189,\n",
    "  'dateTime': '2015-02-12T09:23:17.511Z',\n",
    "  'chocolate': 'Semi-sweet Dark',\n",
    "  'isTomatoAFruit': True\n",
    "}\n",
    "\n",
    "# create a writer object\n",
    "with open('output.json', 'w') as json_file:\n",
    "    # write dict to the json file\n",
    "    json.dump(turn_to_json, json_file)"
   ]
  },
  {
   "cell_type": "markdown",
   "id": "51062228",
   "metadata": {},
   "source": [
    "Python's [tutorial](https://docs.python.org/3/tutorial/inputoutput.html#reading-and-writing-files) on reading and writing files."
   ]
  }
 ],
 "metadata": {
  "kernelspec": {
   "display_name": "Python 3 (ipykernel)",
   "language": "python",
   "name": "python3"
  },
  "language_info": {
   "codemirror_mode": {
    "name": "ipython",
    "version": 3
   },
   "file_extension": ".py",
   "mimetype": "text/x-python",
   "name": "python",
   "nbconvert_exporter": "python",
   "pygments_lexer": "ipython3",
   "version": "3.9.7"
  }
 },
 "nbformat": 4,
 "nbformat_minor": 5
}
