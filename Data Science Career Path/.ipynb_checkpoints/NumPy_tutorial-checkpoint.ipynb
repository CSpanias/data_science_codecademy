{
 "cells": [
  {
   "cell_type": "markdown",
   "id": "c59265c3",
   "metadata": {},
   "source": [
    "# NumPy's  [official tutorial](https://numpy.org/doc/stable/user/whatisnumpy.html#whatisnumpy)\n",
    "1. [What is NumPy?](#what)\n",
    "2. [Why is NumPy Fast?](#whyfast)\n",
    "3. [NumPy QuickStart](#quickstart)\n",
    "    1. [The Basics](#basics)\n",
    "    1. [Shape Manipulation](#shapemanipulation)\n",
    "    1. [Copies and Views](#copiesviews)\n",
    "    1. [Less Basic](#lessbasic)\n",
    "    1. [Advanced Indexing and Index Tricks](#indexing)\n",
    "    1. [Tricks and Tips](#tips)\n",
    "    1. [Further Reading](#reading)"
   ]
  },
  {
   "cell_type": "markdown",
   "id": "a0ae72f3",
   "metadata": {},
   "source": [
    "<a name=\"what\"></a>\n",
    "# 1. What is NumPy?"
   ]
  },
  {
   "cell_type": "markdown",
   "id": "22f1c192",
   "metadata": {},
   "source": [
    "There are several **important differences between NumPy arrays and the standard Python sequences**:\n",
    "1. NumPy arrays have a **fixed size at creation**, unlike Python lists (which can grow dynamically). Changing the size of an ndarray will create a new array and delete the original.\n",
    "2. The elements in a NumPy array are all required to be of the **same data type**, and thus will be the same size in memory. The exception: one can have arrays of (Python, including NumPy) objects, thereby allowing for arrays of different sized elements.\n",
    "3. NumPy arrays facilitate advanced mathematical and other types of **operations on large numbers of data**. Typically, such operations are executed more efficiently and with less code than is possible using Python’s built-in sequences.\n",
    "\n",
    "NumPy performs **operations at near-C speeds**, but with **Python's code simplicity**"
   ]
  },
  {
   "cell_type": "markdown",
   "id": "5603a847",
   "metadata": {},
   "source": [
    "<a name=\"whyfast\"></a>\n",
    "# 2. Why is NumPy Fast?"
   ]
  },
  {
   "cell_type": "markdown",
   "id": "5ae602a4",
   "metadata": {},
   "source": [
    "1. **Vectorization** describes the **absence of any explicit looping, indexing, etc.**, in the code - these things are taking place, of course, just **“behind the scenes” in optimized, pre-compiled C code**. \n",
    "    1. Vectorized code is more **concise and easier to read**\n",
    "    2. Fewer lines of code generally means **fewer bugs**\n",
    "    3. The code more closely **resembles standard mathematical notation**\n",
    "    4. Vectorization results in more **“Pythonic” code**.\n",
    "\n",
    "\n",
    "2. **Broadcasting** is the term used to describe the implicit **element-by-element behavior of operations**; generally speaking, in NumPy all operations, not just arithmetic operations, but logical, bit-wise, functional, etc., behave in this implicit element-by-element fashion, i.e., they broadcast."
   ]
  }
 ],
 "metadata": {
  "kernelspec": {
   "display_name": "Python 3 (ipykernel)",
   "language": "python",
   "name": "python3"
  },
  "language_info": {
   "codemirror_mode": {
    "name": "ipython",
    "version": 3
   },
   "file_extension": ".py",
   "mimetype": "text/x-python",
   "name": "python",
   "nbconvert_exporter": "python",
   "pygments_lexer": "ipython3",
   "version": "3.9.7"
  }
 },
 "nbformat": 4,
 "nbformat_minor": 5
}
