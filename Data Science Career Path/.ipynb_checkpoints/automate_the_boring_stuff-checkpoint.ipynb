{
 "cells": [
  {
   "cell_type": "markdown",
   "id": "9bec1a9c",
   "metadata": {},
   "source": [
    "# [Automate the Boring Stuff with Python](https://automatetheboringstuff.com/)\n",
    "Notes by [CSpanias](https://cspanias.github.io/aboutme/) - February 2022"
   ]
  },
  {
   "cell_type": "markdown",
   "id": "bee58eac",
   "metadata": {},
   "source": [
    "# Content\n",
    "1. [Flow Control (Ch2)](#Ch2)\n",
    "2. [Functions (Ch3)](#Ch3)"
   ]
  },
  {
   "cell_type": "markdown",
   "id": "896ec695",
   "metadata": {},
   "source": [
    "<a name=\"Ch2\"></a>\n",
    "# 1. Flow Control\n",
    "1. [Boolean Operators](#BooleanOperators)\n",
    "1. [Sys.exit()](#sysexit)"
   ]
  },
  {
   "cell_type": "markdown",
   "id": "a8c6ea08",
   "metadata": {},
   "source": [
    "<a name=\"BooleanOperators\"></a>\n",
    "## 1.1 Boolean Operators"
   ]
  },
  {
   "cell_type": "markdown",
   "id": "3ed79d92",
   "metadata": {},
   "source": [
    "**Boolean Operators** are used to compare **Boolean values**. \n",
    "\n",
    "**`and`** & **`or`** binary operators <br>\n",
    "**`not`** unary operator\n",
    "\n",
    "Like **comparison operators** they evaluate the expression down to **Boolean values**.\n",
    "\n",
    "Order of operations:\n",
    "1. Math operations\n",
    "2. Comparison operations\n",
    "3. **`not`** operators\n",
    "4. **`and`** operators\n",
    "5. **`or`** operators"
   ]
  },
  {
   "cell_type": "markdown",
   "id": "2b72e3b2",
   "metadata": {},
   "source": [
    "<a name=\"sysexit\"></a>\n",
    "## 1.2 sys.Exit()"
   ]
  },
  {
   "cell_type": "markdown",
   "id": "9cdf0946",
   "metadata": {},
   "source": [
    "We can cause a program to **terminate early**, or exit, before the last instruction."
   ]
  },
  {
   "cell_type": "code",
   "execution_count": 3,
   "id": "af0b1a14",
   "metadata": {},
   "outputs": [
    {
     "name": "stdout",
     "output_type": "stream",
     "text": [
      "Type exit to exit.\n",
      "exit\n"
     ]
    },
    {
     "ename": "SystemExit",
     "evalue": "",
     "output_type": "error",
     "traceback": [
      "An exception has occurred, use %tb to see the full traceback.\n",
      "\u001b[1;31mSystemExit\u001b[0m\n"
     ]
    }
   ],
   "source": [
    "import sys\n",
    "\n",
    "while True:\n",
    "    print('Type exit to exit.')\n",
    "    response = input()\n",
    "    if response == 'exit':\n",
    "        sys.exit()\n",
    "    print('You typed {}.'.format(response))"
   ]
  },
  {
   "cell_type": "markdown",
   "id": "afadabae",
   "metadata": {},
   "source": [
    "<a name=\"Ch3\"></a>\n",
    "# 2. Functions"
   ]
  },
  {
   "cell_type": "code",
   "execution_count": null,
   "id": "0dea4894",
   "metadata": {},
   "outputs": [],
   "source": []
  }
 ],
 "metadata": {
  "kernelspec": {
   "display_name": "Python 3 (ipykernel)",
   "language": "python",
   "name": "python3"
  },
  "language_info": {
   "codemirror_mode": {
    "name": "ipython",
    "version": 3
   },
   "file_extension": ".py",
   "mimetype": "text/x-python",
   "name": "python",
   "nbconvert_exporter": "python",
   "pygments_lexer": "ipython3",
   "version": "3.9.7"
  }
 },
 "nbformat": 4,
 "nbformat_minor": 5
}
