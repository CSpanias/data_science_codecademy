{
 "cells": [
  {
   "cell_type": "markdown",
   "id": "ccfb6676",
   "metadata": {},
   "source": [
    "# Reflective Writing for Data Science Career Path - Codecademy\n",
    "by [Charalampos Spanias](https://cspanias.github.io/aboutme/) - February 2021\n",
    "\n",
    "## Content\n",
    "1. Getting Started with Data Science\n",
    "2. Python Fundamentals\n",
    "3. Data Acquisition\n",
    "4. Data Manipulation with Pandas\n",
    "5. [Data Wrangling \\& Tidying](#wrangling)\n",
    "    1. Fundamentals\n",
    "    1. Regural Expressions\n",
    "    1. [Data Cleaning](#cleaning)\n",
    "        1. [Diagnose Data](#diagnose)\n",
    "        1. [Multiple Files](#multiplefiles)\n",
    "        1. [Reshaping Data](#reshapingdata)\n",
    "        1. [Duplicates](#duplicates)\n",
    "        1. [Index Splitting](#splitindex)\n",
    "        1. [Character Splitting](#splitchar)\n",
    "        1. [Looking at Types](#dtypes)\n",
    "        1. [String Parsing](#stringparsing)\n",
    "        1. [More String Parsing](#stringparsing+)\n",
    "        1. [Missing Values](#nans)"
   ]
  },
  {
   "cell_type": "markdown",
   "id": "eae61a5f",
   "metadata": {},
   "source": [
    "<a name=\"wrangling\"></a>\n",
    "# 5. Data Wrangling & Tidying"
   ]
  },
  {
   "cell_type": "markdown",
   "id": "ebffee7c",
   "metadata": {},
   "source": [
    "<a name=\"cleaning\"></a>\n",
    "# 5.4 Data Cleaning"
   ]
  },
  {
   "cell_type": "markdown",
   "id": "14a110df",
   "metadata": {},
   "source": [
    "<a name=\"diagnose\"></a>\n",
    "## 5.4.2 Diagnose Data"
   ]
  },
  {
   "cell_type": "markdown",
   "id": "73eb6740",
   "metadata": {},
   "source": [
    "We often describe __data that is easy to analyze and visualize as “tidy data”__. For data to be tidy, it must have:\n",
    "\n",
    "1. Each variable as a separate column\n",
    "1. Each row as a separate observation\n",
    "\n",
    "The first step of diagnosing whether or not a dataset is tidy is using `pandas` functions to explore and probe the dataset.\n",
    "\n",
    "Some of the most useful ones are:\n",
    "\n",
    "* `.head()` — display the first 5 rows of the table\n",
    "* `.info()` — display a summary of the table\n",
    "* `.describe()` — display the summary statistics of the table\n",
    "* `.columns` — display the column names of the table\n",
    "* `.value_counts()` — display the distinct values for a column"
   ]
  },
  {
   "cell_type": "code",
   "execution_count": 1,
   "id": "4e743bc9",
   "metadata": {
    "scrolled": true
   },
   "outputs": [
    {
     "data": {
      "text/html": [
       "<div>\n",
       "<style scoped>\n",
       "    .dataframe tbody tr th:only-of-type {\n",
       "        vertical-align: middle;\n",
       "    }\n",
       "\n",
       "    .dataframe tbody tr th {\n",
       "        vertical-align: top;\n",
       "    }\n",
       "\n",
       "    .dataframe thead th {\n",
       "        text-align: right;\n",
       "    }\n",
       "</style>\n",
       "<table border=\"1\" class=\"dataframe\">\n",
       "  <thead>\n",
       "    <tr style=\"text-align: right;\">\n",
       "      <th></th>\n",
       "      <th>Grocery Item</th>\n",
       "      <th>Cake Recipe</th>\n",
       "      <th>Pancake Recipe</th>\n",
       "      <th>Cookie Recipe</th>\n",
       "    </tr>\n",
       "  </thead>\n",
       "  <tbody>\n",
       "    <tr>\n",
       "      <th>0</th>\n",
       "      <td>Eggs</td>\n",
       "      <td>2</td>\n",
       "      <td>3</td>\n",
       "      <td>1</td>\n",
       "    </tr>\n",
       "    <tr>\n",
       "      <th>1</th>\n",
       "      <td>Milk</td>\n",
       "      <td>1</td>\n",
       "      <td>2</td>\n",
       "      <td>1</td>\n",
       "    </tr>\n",
       "    <tr>\n",
       "      <th>2</th>\n",
       "      <td>Flour</td>\n",
       "      <td>2</td>\n",
       "      <td>1</td>\n",
       "      <td>2</td>\n",
       "    </tr>\n",
       "  </tbody>\n",
       "</table>\n",
       "</div>"
      ],
      "text/plain": [
       "  Grocery Item  Cake Recipe  Pancake Recipe  Cookie Recipe\n",
       "0         Eggs            2               3              1\n",
       "1         Milk            1               2              1\n",
       "2        Flour            2               1              2"
      ]
     },
     "execution_count": 1,
     "metadata": {},
     "output_type": "execute_result"
    }
   ],
   "source": [
    "import pandas as pd\n",
    "\n",
    "df1 = pd.read_csv('df1.csv')\n",
    "df1.head()"
   ]
  },
  {
   "cell_type": "code",
   "execution_count": 2,
   "id": "912d722d",
   "metadata": {},
   "outputs": [
    {
     "data": {
      "text/html": [
       "<div>\n",
       "<style scoped>\n",
       "    .dataframe tbody tr th:only-of-type {\n",
       "        vertical-align: middle;\n",
       "    }\n",
       "\n",
       "    .dataframe tbody tr th {\n",
       "        vertical-align: top;\n",
       "    }\n",
       "\n",
       "    .dataframe thead th {\n",
       "        text-align: right;\n",
       "    }\n",
       "</style>\n",
       "<table border=\"1\" class=\"dataframe\">\n",
       "  <thead>\n",
       "    <tr style=\"text-align: right;\">\n",
       "      <th></th>\n",
       "      <th>Grocery Item</th>\n",
       "      <th>Recipe</th>\n",
       "      <th>Number</th>\n",
       "    </tr>\n",
       "  </thead>\n",
       "  <tbody>\n",
       "    <tr>\n",
       "      <th>0</th>\n",
       "      <td>Eggs</td>\n",
       "      <td>Cake Recipe</td>\n",
       "      <td>2</td>\n",
       "    </tr>\n",
       "    <tr>\n",
       "      <th>1</th>\n",
       "      <td>Milk</td>\n",
       "      <td>Cake Recipe</td>\n",
       "      <td>1</td>\n",
       "    </tr>\n",
       "    <tr>\n",
       "      <th>2</th>\n",
       "      <td>Flour</td>\n",
       "      <td>Cake Recipe</td>\n",
       "      <td>2</td>\n",
       "    </tr>\n",
       "    <tr>\n",
       "      <th>3</th>\n",
       "      <td>Eggs</td>\n",
       "      <td>Pancake Recipe</td>\n",
       "      <td>3</td>\n",
       "    </tr>\n",
       "    <tr>\n",
       "      <th>4</th>\n",
       "      <td>Milk</td>\n",
       "      <td>Pancake Recipe</td>\n",
       "      <td>2</td>\n",
       "    </tr>\n",
       "  </tbody>\n",
       "</table>\n",
       "</div>"
      ],
      "text/plain": [
       "  Grocery Item          Recipe  Number\n",
       "0         Eggs     Cake Recipe       2\n",
       "1         Milk     Cake Recipe       1\n",
       "2        Flour     Cake Recipe       2\n",
       "3         Eggs  Pancake Recipe       3\n",
       "4         Milk  Pancake Recipe       2"
      ]
     },
     "execution_count": 2,
     "metadata": {},
     "output_type": "execute_result"
    }
   ],
   "source": [
    "df2 = pd.read_csv('df2.csv')\n",
    "df2.head()"
   ]
  },
  {
   "cell_type": "markdown",
   "id": "823a516d",
   "metadata": {},
   "source": [
    "<a name=\"multiplefiles\"></a>\n",
    "## 5.4.3 Multiple Files"
   ]
  },
  {
   "cell_type": "markdown",
   "id": "35d1da60",
   "metadata": {},
   "source": [
    "Often, you have the __same data separated out into multiple files__.\n",
    "\n",
    "Let’s say that we have a ton of files following the filename structure: `'file1.csv'`, `'file2.csv'`, `'file3.csv'`, and so on. \n",
    "\n",
    "The power of pandas is mainly in being able to __manipulate large amounts of structured data__, so we want to be able to get all of the relevant information into one table so that we can analyze the aggregate data.\n",
    "\n",
    "We can combine the use of `glob`, which can open multiple files by using __regex matching to get the filenames__, with `pandas` to organize this data better."
   ]
  },
  {
   "cell_type": "code",
   "execution_count": 3,
   "id": "7bc5c52e",
   "metadata": {},
   "outputs": [
    {
     "name": "stdout",
     "output_type": "stream",
     "text": [
      "['exams0.csv', 'exams1.csv', 'exams2.csv']\n"
     ]
    },
    {
     "data": {
      "text/html": [
       "<div>\n",
       "<style scoped>\n",
       "    .dataframe tbody tr th:only-of-type {\n",
       "        vertical-align: middle;\n",
       "    }\n",
       "\n",
       "    .dataframe tbody tr th {\n",
       "        vertical-align: top;\n",
       "    }\n",
       "\n",
       "    .dataframe thead th {\n",
       "        text-align: right;\n",
       "    }\n",
       "</style>\n",
       "<table border=\"1\" class=\"dataframe\">\n",
       "  <thead>\n",
       "    <tr style=\"text-align: right;\">\n",
       "      <th></th>\n",
       "      <th>id</th>\n",
       "      <th>full_name</th>\n",
       "      <th>gender_age</th>\n",
       "      <th>fractions</th>\n",
       "      <th>probability</th>\n",
       "      <th>grade</th>\n",
       "    </tr>\n",
       "  </thead>\n",
       "  <tbody>\n",
       "    <tr>\n",
       "      <th>0</th>\n",
       "      <td>0</td>\n",
       "      <td>Kizzee Kensington</td>\n",
       "      <td>F17</td>\n",
       "      <td>68%</td>\n",
       "      <td>76%</td>\n",
       "      <td>12th grade</td>\n",
       "    </tr>\n",
       "    <tr>\n",
       "      <th>1</th>\n",
       "      <td>1</td>\n",
       "      <td>Garret Hartfleet</td>\n",
       "      <td>M17</td>\n",
       "      <td>68%</td>\n",
       "      <td>90%</td>\n",
       "      <td>12th grade</td>\n",
       "    </tr>\n",
       "    <tr>\n",
       "      <th>2</th>\n",
       "      <td>2</td>\n",
       "      <td>Ingrid Meatyard</td>\n",
       "      <td>F18</td>\n",
       "      <td>65%</td>\n",
       "      <td>NaN</td>\n",
       "      <td>12th grade</td>\n",
       "    </tr>\n",
       "    <tr>\n",
       "      <th>3</th>\n",
       "      <td>3</td>\n",
       "      <td>Verney Sainsberry</td>\n",
       "      <td>M18</td>\n",
       "      <td>85%</td>\n",
       "      <td>76%</td>\n",
       "      <td>9th grade</td>\n",
       "    </tr>\n",
       "    <tr>\n",
       "      <th>4</th>\n",
       "      <td>4</td>\n",
       "      <td>Lonni Bruhnicke</td>\n",
       "      <td>F16</td>\n",
       "      <td>71%</td>\n",
       "      <td>81%</td>\n",
       "      <td>9th grade</td>\n",
       "    </tr>\n",
       "  </tbody>\n",
       "</table>\n",
       "</div>"
      ],
      "text/plain": [
       "   id          full_name gender_age fractions probability       grade\n",
       "0   0  Kizzee Kensington        F17       68%         76%  12th grade\n",
       "1   1   Garret Hartfleet        M17       68%         90%  12th grade\n",
       "2   2    Ingrid Meatyard        F18       65%         NaN  12th grade\n",
       "3   3  Verney Sainsberry        M18       85%         76%   9th grade\n",
       "4   4    Lonni Bruhnicke        F16       71%         81%   9th grade"
      ]
     },
     "execution_count": 3,
     "metadata": {},
     "output_type": "execute_result"
    }
   ],
   "source": [
    "import glob\n",
    "\n",
    "# return all file paths that match the specific pattern\n",
    "files = glob.glob('exams*.csv')\n",
    "\n",
    "df_list = []\n",
    "# iterate through files\n",
    "for filename in files:\n",
    "    # read each file\n",
    "    data = pd.read_csv(filename)\n",
    "    # append file's data\n",
    "    df_list.append(data)\n",
    "    \n",
    "# concatenate all elements    \n",
    "df = pd.concat(df_list)\n",
    "\n",
    "print(files)\n",
    "df.head()"
   ]
  },
  {
   "cell_type": "markdown",
   "id": "04bf57d6",
   "metadata": {},
   "source": [
    "<a name=\"reshapingdata\"></a>\n",
    "## 5.4.4 Reshaping Data"
   ]
  },
  {
   "cell_type": "markdown",
   "id": "72634e87",
   "metadata": {},
   "source": [
    "Since we want each variable as a separate column and each row as a separate observation, we can use `pd.melt()` to do this transformation. `.melt()` takes in a DataFrame, and the columns to unpack:\n",
    "\n",
    "The parameters you provide are:\n",
    "\n",
    "1. `frame`: the DataFrame you want to melt\n",
    "1. `id_vars`: the column(s) of the old DataFrame to preserve\n",
    "1. `value_vars`: the column(s) of the old DataFrame that you want to turn into variables\n",
    "1. `value_name`: what to call the column of the new DataFrame that stores the values\n",
    "1. `var_name`: what to call the column of the new DataFrame that stores the variables\n",
    "\n",
    "The default names may work in certain situations, but it’s best to always have data that is self-explanatory. Thus, we often use `.columns()` to rename the columns after melting:"
   ]
  },
  {
   "cell_type": "code",
   "execution_count": 5,
   "id": "34a5c56d",
   "metadata": {
    "scrolled": true
   },
   "outputs": [
    {
     "name": "stdout",
     "output_type": "stream",
     "text": [
      "Index(['Unnamed: 0', 'full_name', 'gender_age', 'fractions', 'probability',\n",
      "       'grade'],\n",
      "      dtype='object')\n"
     ]
    },
    {
     "data": {
      "text/html": [
       "<div>\n",
       "<style scoped>\n",
       "    .dataframe tbody tr th:only-of-type {\n",
       "        vertical-align: middle;\n",
       "    }\n",
       "\n",
       "    .dataframe tbody tr th {\n",
       "        vertical-align: top;\n",
       "    }\n",
       "\n",
       "    .dataframe thead th {\n",
       "        text-align: right;\n",
       "    }\n",
       "</style>\n",
       "<table border=\"1\" class=\"dataframe\">\n",
       "  <thead>\n",
       "    <tr style=\"text-align: right;\">\n",
       "      <th></th>\n",
       "      <th>id</th>\n",
       "      <th>full_name</th>\n",
       "      <th>gender_age</th>\n",
       "      <th>fractions</th>\n",
       "      <th>probability</th>\n",
       "      <th>grade</th>\n",
       "    </tr>\n",
       "  </thead>\n",
       "  <tbody>\n",
       "    <tr>\n",
       "      <th>0</th>\n",
       "      <td>0</td>\n",
       "      <td>Kizzee Kensington</td>\n",
       "      <td>F17</td>\n",
       "      <td>68%</td>\n",
       "      <td>76%</td>\n",
       "      <td>12th grade</td>\n",
       "    </tr>\n",
       "    <tr>\n",
       "      <th>1</th>\n",
       "      <td>1</td>\n",
       "      <td>Garret Hartfleet</td>\n",
       "      <td>M17</td>\n",
       "      <td>68%</td>\n",
       "      <td>90%</td>\n",
       "      <td>12th grade</td>\n",
       "    </tr>\n",
       "    <tr>\n",
       "      <th>2</th>\n",
       "      <td>2</td>\n",
       "      <td>Ingrid Meatyard</td>\n",
       "      <td>F18</td>\n",
       "      <td>65%</td>\n",
       "      <td>NaN</td>\n",
       "      <td>12th grade</td>\n",
       "    </tr>\n",
       "    <tr>\n",
       "      <th>3</th>\n",
       "      <td>3</td>\n",
       "      <td>Verney Sainsberry</td>\n",
       "      <td>M18</td>\n",
       "      <td>85%</td>\n",
       "      <td>76%</td>\n",
       "      <td>9th grade</td>\n",
       "    </tr>\n",
       "    <tr>\n",
       "      <th>4</th>\n",
       "      <td>4</td>\n",
       "      <td>Lonni Bruhnicke</td>\n",
       "      <td>F16</td>\n",
       "      <td>71%</td>\n",
       "      <td>81%</td>\n",
       "      <td>9th grade</td>\n",
       "    </tr>\n",
       "    <tr>\n",
       "      <th>...</th>\n",
       "      <td>...</td>\n",
       "      <td>...</td>\n",
       "      <td>...</td>\n",
       "      <td>...</td>\n",
       "      <td>...</td>\n",
       "      <td>...</td>\n",
       "    </tr>\n",
       "    <tr>\n",
       "      <th>95</th>\n",
       "      <td>95</td>\n",
       "      <td>Massimo Babbs</td>\n",
       "      <td>M16</td>\n",
       "      <td>84%</td>\n",
       "      <td>83%</td>\n",
       "      <td>11th grade</td>\n",
       "    </tr>\n",
       "    <tr>\n",
       "      <th>96</th>\n",
       "      <td>96</td>\n",
       "      <td>Garrek Manuely</td>\n",
       "      <td>M14</td>\n",
       "      <td>70%</td>\n",
       "      <td>85%</td>\n",
       "      <td>9th grade</td>\n",
       "    </tr>\n",
       "    <tr>\n",
       "      <th>97</th>\n",
       "      <td>97</td>\n",
       "      <td>Winslow Lilliman</td>\n",
       "      <td>M15</td>\n",
       "      <td>81%</td>\n",
       "      <td>83%</td>\n",
       "      <td>11th grade</td>\n",
       "    </tr>\n",
       "    <tr>\n",
       "      <th>98</th>\n",
       "      <td>98</td>\n",
       "      <td>Grantham Yate</td>\n",
       "      <td>M15</td>\n",
       "      <td>77%</td>\n",
       "      <td>87%</td>\n",
       "      <td>10th grade</td>\n",
       "    </tr>\n",
       "    <tr>\n",
       "      <th>99</th>\n",
       "      <td>99</td>\n",
       "      <td>Dennie Chopping</td>\n",
       "      <td>M16</td>\n",
       "      <td>81%</td>\n",
       "      <td>83%</td>\n",
       "      <td>9th grade</td>\n",
       "    </tr>\n",
       "  </tbody>\n",
       "</table>\n",
       "<p>300 rows × 6 columns</p>\n",
       "</div>"
      ],
      "text/plain": [
       "    id          full_name gender_age fractions probability       grade\n",
       "0    0  Kizzee Kensington        F17       68%         76%  12th grade\n",
       "1    1   Garret Hartfleet        M17       68%         90%  12th grade\n",
       "2    2    Ingrid Meatyard        F18       65%         NaN  12th grade\n",
       "3    3  Verney Sainsberry        M18       85%         76%   9th grade\n",
       "4    4    Lonni Bruhnicke        F16       71%         81%   9th grade\n",
       "..  ..                ...        ...       ...         ...         ...\n",
       "95  95      Massimo Babbs        M16       84%         83%  11th grade\n",
       "96  96     Garrek Manuely        M14       70%         85%   9th grade\n",
       "97  97   Winslow Lilliman        M15       81%         83%  11th grade\n",
       "98  98      Grantham Yate        M15       77%         87%  10th grade\n",
       "99  99    Dennie Chopping        M16       81%         83%   9th grade\n",
       "\n",
       "[300 rows x 6 columns]"
      ]
     },
     "execution_count": 5,
     "metadata": {},
     "output_type": "execute_result"
    }
   ],
   "source": [
    "students = pd.read_csv(\"students.csv\")\n",
    "\n",
    "print(students.columns)\n",
    "\n",
    "df"
   ]
  },
  {
   "cell_type": "markdown",
   "id": "ec585bbc",
   "metadata": {},
   "source": [
    "We want to make **each row an observation**."
   ]
  },
  {
   "cell_type": "code",
   "execution_count": 6,
   "id": "50c3033f",
   "metadata": {},
   "outputs": [
    {
     "name": "stdout",
     "output_type": "stream",
     "text": [
      "Index(['full_name', 'gender_age', 'grade', 'exam', 'score'], dtype='object') \n",
      "\n",
      "fractions      1000\n",
      "probability    1000\n",
      "Name: exam, dtype: int64\n"
     ]
    },
    {
     "data": {
      "text/html": [
       "<div>\n",
       "<style scoped>\n",
       "    .dataframe tbody tr th:only-of-type {\n",
       "        vertical-align: middle;\n",
       "    }\n",
       "\n",
       "    .dataframe tbody tr th {\n",
       "        vertical-align: top;\n",
       "    }\n",
       "\n",
       "    .dataframe thead th {\n",
       "        text-align: right;\n",
       "    }\n",
       "</style>\n",
       "<table border=\"1\" class=\"dataframe\">\n",
       "  <thead>\n",
       "    <tr style=\"text-align: right;\">\n",
       "      <th></th>\n",
       "      <th>full_name</th>\n",
       "      <th>gender_age</th>\n",
       "      <th>grade</th>\n",
       "      <th>exam</th>\n",
       "      <th>score</th>\n",
       "    </tr>\n",
       "  </thead>\n",
       "  <tbody>\n",
       "    <tr>\n",
       "      <th>0</th>\n",
       "      <td>Moses Kirckman</td>\n",
       "      <td>M14</td>\n",
       "      <td>11th grade</td>\n",
       "      <td>fractions</td>\n",
       "      <td>69%</td>\n",
       "    </tr>\n",
       "    <tr>\n",
       "      <th>1</th>\n",
       "      <td>Timofei Strowan</td>\n",
       "      <td>M18</td>\n",
       "      <td>11th grade</td>\n",
       "      <td>fractions</td>\n",
       "      <td>63%</td>\n",
       "    </tr>\n",
       "    <tr>\n",
       "      <th>2</th>\n",
       "      <td>Silvain Poll</td>\n",
       "      <td>M18</td>\n",
       "      <td>9th grade</td>\n",
       "      <td>fractions</td>\n",
       "      <td>69%</td>\n",
       "    </tr>\n",
       "    <tr>\n",
       "      <th>3</th>\n",
       "      <td>Lezley Pinxton</td>\n",
       "      <td>M18</td>\n",
       "      <td>11th grade</td>\n",
       "      <td>fractions</td>\n",
       "      <td>NaN</td>\n",
       "    </tr>\n",
       "    <tr>\n",
       "      <th>4</th>\n",
       "      <td>Bernadene Saunper</td>\n",
       "      <td>F17</td>\n",
       "      <td>11th grade</td>\n",
       "      <td>fractions</td>\n",
       "      <td>72%</td>\n",
       "    </tr>\n",
       "  </tbody>\n",
       "</table>\n",
       "</div>"
      ],
      "text/plain": [
       "           full_name gender_age       grade       exam score\n",
       "0     Moses Kirckman        M14  11th grade  fractions   69%\n",
       "1    Timofei Strowan        M18  11th grade  fractions   63%\n",
       "2       Silvain Poll        M18   9th grade  fractions   69%\n",
       "3     Lezley Pinxton        M18  11th grade  fractions   NaN\n",
       "4  Bernadene Saunper        F17  11th grade  fractions   72%"
      ]
     },
     "execution_count": 6,
     "metadata": {},
     "output_type": "execute_result"
    }
   ],
   "source": [
    "students = pd.melt(frame=students, id_vars=['full_name', 'gender_age', 'grade'],\n",
    "       value_vars=['fractions', 'probability'], value_name='score', var_name='exam')\n",
    "\n",
    "print(students.columns, \"\\n\")\n",
    "print(students.exam.value_counts())\n",
    "students.head()"
   ]
  },
  {
   "cell_type": "markdown",
   "id": "dd29322b",
   "metadata": {},
   "source": [
    "<a name=\"duplicates\"></a>\n",
    "## 5.4.5 Duplicates"
   ]
  },
  {
   "cell_type": "markdown",
   "id": "913c6fbc",
   "metadata": {},
   "source": [
    "To check for duplicates, we can use the pandas function `.duplicated()`, which will return a Series telling us which rows are duplicate rows.\n",
    "\n",
    "We can use the pandas `.drop_duplicates()` function to remove all rows that are duplicates of another row.\n",
    "as exactly the same as another row. But the two \"peach\" rows remain because there is a difference in the price column.\n",
    "\n",
    "If we wanted to remove every row with a duplicate value in the item column, we could specify a __subset__.\n",
    "\n",
    "`df = df.drop_duplicates(subset=['col_name'])` By default, this __keeps the first occurrence of the duplicate__.\n",
    "\n",
    "\n",
    "__Make sure that the columns you drop duplicates from are specifically the ones where duplicates don’t belong__. \n",
    "\n",
    "You wouldn’t want to drop duplicates with the price column as a subset, for example, because __it’s okay if multiple items cost the same amount__."
   ]
  },
  {
   "cell_type": "code",
   "execution_count": 25,
   "id": "9c36c47f",
   "metadata": {},
   "outputs": [
    {
     "name": "stdout",
     "output_type": "stream",
     "text": [
      "False    1976\n",
      "dtype: int64 \n",
      "\n",
      "False    1976\n",
      "dtype: int64\n"
     ]
    }
   ],
   "source": [
    "duplicates = students.duplicated()\n",
    "\n",
    "# check the number of duplicates\n",
    "print(duplicates.value_counts(), \"\\n\")\n",
    "\n",
    "students = students.drop_duplicates()\n",
    "\n",
    "duplicates = students.duplicated()\n",
    "print(duplicates.value_counts())"
   ]
  },
  {
   "cell_type": "markdown",
   "id": "d3d7bd6f",
   "metadata": {},
   "source": [
    "<a name=\"splitindex\"></a>\n",
    "## 5.4.6 Index Splitting"
   ]
  },
  {
   "cell_type": "markdown",
   "id": "a001e116",
   "metadata": {},
   "source": [
    "In trying to get clean data, we want to __make sure each column represents one type of measurement__."
   ]
  },
  {
   "cell_type": "code",
   "execution_count": 8,
   "id": "3aa99e1a",
   "metadata": {},
   "outputs": [
    {
     "name": "stdout",
     "output_type": "stream",
     "text": [
      "The day is: 20.\n",
      "The month is: 02.\n",
      "The year is: 2022.\n"
     ]
    }
   ],
   "source": [
    "dates = [\"18/02/2022\", \"19/02/2022\", \"20/02/2022\"]\n",
    "\n",
    "for date in dates:\n",
    "    day = date[:2]\n",
    "    month = date[3:5]\n",
    "    year = date[-4:]\n",
    "    \n",
    "print(f\"The day is: {day}.\")\n",
    "print(f\"The month is: {month}.\")\n",
    "print(f\"The year is: {year}.\")"
   ]
  },
  {
   "cell_type": "markdown",
   "id": "f14b9a12",
   "metadata": {},
   "source": [
    "<a name=\"splitchar\"></a>\n",
    "## 5.4.7 Character Splitting"
   ]
  },
  {
   "cell_type": "markdown",
   "id": "bb7d2749",
   "metadata": {},
   "source": [
    "When we have a column which contains two types of data, it might be __not possible to split them using slicing__ as above.\n",
    "\n",
    "Let’s say we have a column called “type” with data entries in the format \"admin_US\" or \"user_Kenya\". Just like we saw before, this column actually contains two types of data. One seems to be the user type (with values like “admin” or “user”) and one seems to be the country this user is in (with values like “US” or “Kenya”).\n",
    "\n",
    "We can no longer just split along the first 4 characters because admin and user are of different lengths. Instead, we know that we want to split along the \"_\". Using that, we can split this column into two separate, cleaner columns:"
   ]
  },
  {
   "cell_type": "code",
   "execution_count": 16,
   "id": "6e423f2a",
   "metadata": {},
   "outputs": [
    {
     "data": {
      "text/html": [
       "<div>\n",
       "<style scoped>\n",
       "    .dataframe tbody tr th:only-of-type {\n",
       "        vertical-align: middle;\n",
       "    }\n",
       "\n",
       "    .dataframe tbody tr th {\n",
       "        vertical-align: top;\n",
       "    }\n",
       "\n",
       "    .dataframe thead th {\n",
       "        text-align: right;\n",
       "    }\n",
       "</style>\n",
       "<table border=\"1\" class=\"dataframe\">\n",
       "  <thead>\n",
       "    <tr style=\"text-align: right;\">\n",
       "      <th></th>\n",
       "      <th>role_country</th>\n",
       "    </tr>\n",
       "  </thead>\n",
       "  <tbody>\n",
       "    <tr>\n",
       "      <th>0</th>\n",
       "      <td>user_Kenya</td>\n",
       "    </tr>\n",
       "    <tr>\n",
       "      <th>1</th>\n",
       "      <td>admin_US</td>\n",
       "    </tr>\n",
       "    <tr>\n",
       "      <th>2</th>\n",
       "      <td>moderator_GR</td>\n",
       "    </tr>\n",
       "  </tbody>\n",
       "</table>\n",
       "</div>"
      ],
      "text/plain": [
       "   role_country\n",
       "0    user_Kenya\n",
       "1      admin_US\n",
       "2  moderator_GR"
      ]
     },
     "execution_count": 16,
     "metadata": {},
     "output_type": "execute_result"
    }
   ],
   "source": [
    "df = pd.DataFrame([\"user_Kenya\", \"admin_US\", \"moderator_GR\"], columns=['role_country'])\n",
    "df"
   ]
  },
  {
   "cell_type": "code",
   "execution_count": 17,
   "id": "31935968",
   "metadata": {},
   "outputs": [
    {
     "data": {
      "text/html": [
       "<div>\n",
       "<style scoped>\n",
       "    .dataframe tbody tr th:only-of-type {\n",
       "        vertical-align: middle;\n",
       "    }\n",
       "\n",
       "    .dataframe tbody tr th {\n",
       "        vertical-align: top;\n",
       "    }\n",
       "\n",
       "    .dataframe thead th {\n",
       "        text-align: right;\n",
       "    }\n",
       "</style>\n",
       "<table border=\"1\" class=\"dataframe\">\n",
       "  <thead>\n",
       "    <tr style=\"text-align: right;\">\n",
       "      <th></th>\n",
       "      <th>role_country</th>\n",
       "      <th>str_split</th>\n",
       "    </tr>\n",
       "  </thead>\n",
       "  <tbody>\n",
       "    <tr>\n",
       "      <th>0</th>\n",
       "      <td>user_Kenya</td>\n",
       "      <td>[user, Kenya]</td>\n",
       "    </tr>\n",
       "    <tr>\n",
       "      <th>1</th>\n",
       "      <td>admin_US</td>\n",
       "      <td>[admin, US]</td>\n",
       "    </tr>\n",
       "    <tr>\n",
       "      <th>2</th>\n",
       "      <td>moderator_GR</td>\n",
       "      <td>[moderator, GR]</td>\n",
       "    </tr>\n",
       "  </tbody>\n",
       "</table>\n",
       "</div>"
      ],
      "text/plain": [
       "   role_country        str_split\n",
       "0    user_Kenya    [user, Kenya]\n",
       "1      admin_US      [admin, US]\n",
       "2  moderator_GR  [moderator, GR]"
      ]
     },
     "execution_count": 17,
     "metadata": {},
     "output_type": "execute_result"
    }
   ],
   "source": [
    "# Create the 'str_split' column\n",
    "df['str_split'] = df.role_country.str.split('_')\n",
    "df"
   ]
  },
  {
   "cell_type": "code",
   "execution_count": 18,
   "id": "eb780770",
   "metadata": {},
   "outputs": [
    {
     "data": {
      "text/html": [
       "<div>\n",
       "<style scoped>\n",
       "    .dataframe tbody tr th:only-of-type {\n",
       "        vertical-align: middle;\n",
       "    }\n",
       "\n",
       "    .dataframe tbody tr th {\n",
       "        vertical-align: top;\n",
       "    }\n",
       "\n",
       "    .dataframe thead th {\n",
       "        text-align: right;\n",
       "    }\n",
       "</style>\n",
       "<table border=\"1\" class=\"dataframe\">\n",
       "  <thead>\n",
       "    <tr style=\"text-align: right;\">\n",
       "      <th></th>\n",
       "      <th>role_country</th>\n",
       "      <th>str_split</th>\n",
       "      <th>usertype</th>\n",
       "    </tr>\n",
       "  </thead>\n",
       "  <tbody>\n",
       "    <tr>\n",
       "      <th>0</th>\n",
       "      <td>user_Kenya</td>\n",
       "      <td>[user, Kenya]</td>\n",
       "      <td>user</td>\n",
       "    </tr>\n",
       "    <tr>\n",
       "      <th>1</th>\n",
       "      <td>admin_US</td>\n",
       "      <td>[admin, US]</td>\n",
       "      <td>admin</td>\n",
       "    </tr>\n",
       "    <tr>\n",
       "      <th>2</th>\n",
       "      <td>moderator_GR</td>\n",
       "      <td>[moderator, GR]</td>\n",
       "      <td>moderator</td>\n",
       "    </tr>\n",
       "  </tbody>\n",
       "</table>\n",
       "</div>"
      ],
      "text/plain": [
       "   role_country        str_split   usertype\n",
       "0    user_Kenya    [user, Kenya]       user\n",
       "1      admin_US      [admin, US]      admin\n",
       "2  moderator_GR  [moderator, GR]  moderator"
      ]
     },
     "execution_count": 18,
     "metadata": {},
     "output_type": "execute_result"
    }
   ],
   "source": [
    "# Create the 'usertype' column\n",
    "df['usertype'] = df.str_split.str.get(0)\n",
    "df"
   ]
  },
  {
   "cell_type": "code",
   "execution_count": 19,
   "id": "d3d6f5c4",
   "metadata": {},
   "outputs": [
    {
     "data": {
      "text/html": [
       "<div>\n",
       "<style scoped>\n",
       "    .dataframe tbody tr th:only-of-type {\n",
       "        vertical-align: middle;\n",
       "    }\n",
       "\n",
       "    .dataframe tbody tr th {\n",
       "        vertical-align: top;\n",
       "    }\n",
       "\n",
       "    .dataframe thead th {\n",
       "        text-align: right;\n",
       "    }\n",
       "</style>\n",
       "<table border=\"1\" class=\"dataframe\">\n",
       "  <thead>\n",
       "    <tr style=\"text-align: right;\">\n",
       "      <th></th>\n",
       "      <th>role_country</th>\n",
       "      <th>str_split</th>\n",
       "      <th>usertype</th>\n",
       "      <th>country</th>\n",
       "    </tr>\n",
       "  </thead>\n",
       "  <tbody>\n",
       "    <tr>\n",
       "      <th>0</th>\n",
       "      <td>user_Kenya</td>\n",
       "      <td>[user, Kenya]</td>\n",
       "      <td>user</td>\n",
       "      <td>Kenya</td>\n",
       "    </tr>\n",
       "    <tr>\n",
       "      <th>1</th>\n",
       "      <td>admin_US</td>\n",
       "      <td>[admin, US]</td>\n",
       "      <td>admin</td>\n",
       "      <td>US</td>\n",
       "    </tr>\n",
       "    <tr>\n",
       "      <th>2</th>\n",
       "      <td>moderator_GR</td>\n",
       "      <td>[moderator, GR]</td>\n",
       "      <td>moderator</td>\n",
       "      <td>GR</td>\n",
       "    </tr>\n",
       "  </tbody>\n",
       "</table>\n",
       "</div>"
      ],
      "text/plain": [
       "   role_country        str_split   usertype country\n",
       "0    user_Kenya    [user, Kenya]       user   Kenya\n",
       "1      admin_US      [admin, US]      admin      US\n",
       "2  moderator_GR  [moderator, GR]  moderator      GR"
      ]
     },
     "execution_count": 19,
     "metadata": {},
     "output_type": "execute_result"
    }
   ],
   "source": [
    "# Create the 'country' column\n",
    "df['country'] = df.str_split.str.get(1)\n",
    "df"
   ]
  },
  {
   "cell_type": "markdown",
   "id": "e871c930",
   "metadata": {},
   "source": [
    "<a name=\"dtypes\"></a>\n",
    "## 5.4.8 Looking at Types"
   ]
  },
  {
   "cell_type": "markdown",
   "id": "e087cc14",
   "metadata": {},
   "source": [
    "Each pandas __Series can hold items of the same data type__. The `dtypes` that pandas uses are:\n",
    "1. float\n",
    "1. int\n",
    "1. bool\n",
    "1. datetime\n",
    "1. timedelta\n",
    "1. category\n",
    "1. object"
   ]
  },
  {
   "cell_type": "code",
   "execution_count": 24,
   "id": "fd6f2f2d",
   "metadata": {},
   "outputs": [
    {
     "data": {
      "text/plain": [
       "full_name     object\n",
       "gender_age    object\n",
       "grade         object\n",
       "exam          object\n",
       "score         object\n",
       "dtype: object"
      ]
     },
     "execution_count": 24,
     "metadata": {},
     "output_type": "execute_result"
    }
   ],
   "source": [
    "students.dtypes"
   ]
  },
  {
   "cell_type": "markdown",
   "id": "7341eefa",
   "metadata": {},
   "source": [
    "<a name=\"stringparsing\"></a>\n",
    "## 5.4.9 String Parsing"
   ]
  },
  {
   "cell_type": "markdown",
   "id": "d331c5eb",
   "metadata": {},
   "source": [
    "Sometimes we need to modify strings in our DataFrames to help us __transform them into more meaningful metrics__."
   ]
  },
  {
   "cell_type": "code",
   "execution_count": 36,
   "id": "6d073f91",
   "metadata": {},
   "outputs": [
    {
     "name": "stdout",
     "output_type": "stream",
     "text": [
      "item        object\n",
      "price       object\n",
      "calories     int64\n",
      "dtype: object\n"
     ]
    },
    {
     "data": {
      "text/html": [
       "<div>\n",
       "<style scoped>\n",
       "    .dataframe tbody tr th:only-of-type {\n",
       "        vertical-align: middle;\n",
       "    }\n",
       "\n",
       "    .dataframe tbody tr th {\n",
       "        vertical-align: top;\n",
       "    }\n",
       "\n",
       "    .dataframe thead th {\n",
       "        text-align: right;\n",
       "    }\n",
       "</style>\n",
       "<table border=\"1\" class=\"dataframe\">\n",
       "  <thead>\n",
       "    <tr style=\"text-align: right;\">\n",
       "      <th></th>\n",
       "      <th>item</th>\n",
       "      <th>price</th>\n",
       "      <th>calories</th>\n",
       "    </tr>\n",
       "  </thead>\n",
       "  <tbody>\n",
       "    <tr>\n",
       "      <th>0</th>\n",
       "      <td>banana</td>\n",
       "      <td>$1</td>\n",
       "      <td>105</td>\n",
       "    </tr>\n",
       "    <tr>\n",
       "      <th>1</th>\n",
       "      <td>apple</td>\n",
       "      <td>$0.75</td>\n",
       "      <td>95</td>\n",
       "    </tr>\n",
       "    <tr>\n",
       "      <th>2</th>\n",
       "      <td>peach</td>\n",
       "      <td>$3</td>\n",
       "      <td>55</td>\n",
       "    </tr>\n",
       "    <tr>\n",
       "      <th>3</th>\n",
       "      <td>peach</td>\n",
       "      <td>$4</td>\n",
       "      <td>55</td>\n",
       "    </tr>\n",
       "  </tbody>\n",
       "</table>\n",
       "</div>"
      ],
      "text/plain": [
       "     item  price  calories\n",
       "0  banana     $1       105\n",
       "1   apple  $0.75        95\n",
       "2   peach     $3        55\n",
       "3   peach     $4        55"
      ]
     },
     "execution_count": 36,
     "metadata": {},
     "output_type": "execute_result"
    }
   ],
   "source": [
    "fruits = pd.DataFrame({\n",
    "                \"item\": [\"banana\", \"apple\", \"peach\", \"peach\"],\n",
    "                \"price\": [\"$1\", \"$0.75\", \"$3\", \"$4\"],\n",
    "                \"calories\": [105, 95, 55, 55]\n",
    "})\n",
    "print(fruits.dtypes)\n",
    "fruits"
   ]
  },
  {
   "cell_type": "code",
   "execution_count": 37,
   "id": "117331ac",
   "metadata": {
    "scrolled": true
   },
   "outputs": [
    {
     "data": {
      "text/html": [
       "<div>\n",
       "<style scoped>\n",
       "    .dataframe tbody tr th:only-of-type {\n",
       "        vertical-align: middle;\n",
       "    }\n",
       "\n",
       "    .dataframe tbody tr th {\n",
       "        vertical-align: top;\n",
       "    }\n",
       "\n",
       "    .dataframe thead th {\n",
       "        text-align: right;\n",
       "    }\n",
       "</style>\n",
       "<table border=\"1\" class=\"dataframe\">\n",
       "  <thead>\n",
       "    <tr style=\"text-align: right;\">\n",
       "      <th></th>\n",
       "      <th>item</th>\n",
       "      <th>price</th>\n",
       "      <th>calories</th>\n",
       "    </tr>\n",
       "  </thead>\n",
       "  <tbody>\n",
       "    <tr>\n",
       "      <th>0</th>\n",
       "      <td>banana</td>\n",
       "      <td>1</td>\n",
       "      <td>105</td>\n",
       "    </tr>\n",
       "    <tr>\n",
       "      <th>1</th>\n",
       "      <td>apple</td>\n",
       "      <td>0.75</td>\n",
       "      <td>95</td>\n",
       "    </tr>\n",
       "    <tr>\n",
       "      <th>2</th>\n",
       "      <td>peach</td>\n",
       "      <td>3</td>\n",
       "      <td>55</td>\n",
       "    </tr>\n",
       "    <tr>\n",
       "      <th>3</th>\n",
       "      <td>peach</td>\n",
       "      <td>4</td>\n",
       "      <td>55</td>\n",
       "    </tr>\n",
       "  </tbody>\n",
       "</table>\n",
       "</div>"
      ],
      "text/plain": [
       "     item price  calories\n",
       "0  banana     1       105\n",
       "1   apple  0.75        95\n",
       "2   peach     3        55\n",
       "3   peach     4        55"
      ]
     },
     "execution_count": 37,
     "metadata": {},
     "output_type": "execute_result"
    }
   ],
   "source": [
    "fruits.price.replace(\"[\\$]\", \"\", regex=True, inplace=True)\n",
    "fruits"
   ]
  },
  {
   "cell_type": "code",
   "execution_count": 38,
   "id": "c8ed22bf",
   "metadata": {},
   "outputs": [
    {
     "name": "stdout",
     "output_type": "stream",
     "text": [
      "item         object\n",
      "price       float64\n",
      "calories      int64\n",
      "dtype: object\n"
     ]
    },
    {
     "data": {
      "text/html": [
       "<div>\n",
       "<style scoped>\n",
       "    .dataframe tbody tr th:only-of-type {\n",
       "        vertical-align: middle;\n",
       "    }\n",
       "\n",
       "    .dataframe tbody tr th {\n",
       "        vertical-align: top;\n",
       "    }\n",
       "\n",
       "    .dataframe thead th {\n",
       "        text-align: right;\n",
       "    }\n",
       "</style>\n",
       "<table border=\"1\" class=\"dataframe\">\n",
       "  <thead>\n",
       "    <tr style=\"text-align: right;\">\n",
       "      <th></th>\n",
       "      <th>item</th>\n",
       "      <th>price</th>\n",
       "      <th>calories</th>\n",
       "    </tr>\n",
       "  </thead>\n",
       "  <tbody>\n",
       "    <tr>\n",
       "      <th>0</th>\n",
       "      <td>banana</td>\n",
       "      <td>1.00</td>\n",
       "      <td>105</td>\n",
       "    </tr>\n",
       "    <tr>\n",
       "      <th>1</th>\n",
       "      <td>apple</td>\n",
       "      <td>0.75</td>\n",
       "      <td>95</td>\n",
       "    </tr>\n",
       "    <tr>\n",
       "      <th>2</th>\n",
       "      <td>peach</td>\n",
       "      <td>3.00</td>\n",
       "      <td>55</td>\n",
       "    </tr>\n",
       "    <tr>\n",
       "      <th>3</th>\n",
       "      <td>peach</td>\n",
       "      <td>4.00</td>\n",
       "      <td>55</td>\n",
       "    </tr>\n",
       "  </tbody>\n",
       "</table>\n",
       "</div>"
      ],
      "text/plain": [
       "     item  price  calories\n",
       "0  banana   1.00       105\n",
       "1   apple   0.75        95\n",
       "2   peach   3.00        55\n",
       "3   peach   4.00        55"
      ]
     },
     "execution_count": 38,
     "metadata": {},
     "output_type": "execute_result"
    }
   ],
   "source": [
    "fruits.price = pd.to_numeric(fruits.price)\n",
    "print(fruits.dtypes)\n",
    "fruits"
   ]
  },
  {
   "cell_type": "markdown",
   "id": "f5905b75",
   "metadata": {},
   "source": [
    "<a name=\"stringparsing+\"></a>\n",
    "## 5.4.10 More String Parsing"
   ]
  },
  {
   "cell_type": "markdown",
   "id": "b85ab2e1",
   "metadata": {},
   "source": [
    "Sometimes we want to do analysis on __numbers that are hidden within string values__. \n",
    "\n",
    "We can __use regex to extract this numerical data__ from the strings they are trapped in. "
   ]
  },
  {
   "cell_type": "code",
   "execution_count": 39,
   "id": "35ef0e3a",
   "metadata": {},
   "outputs": [
    {
     "data": {
      "text/html": [
       "<div>\n",
       "<style scoped>\n",
       "    .dataframe tbody tr th:only-of-type {\n",
       "        vertical-align: middle;\n",
       "    }\n",
       "\n",
       "    .dataframe tbody tr th {\n",
       "        vertical-align: top;\n",
       "    }\n",
       "\n",
       "    .dataframe thead th {\n",
       "        text-align: right;\n",
       "    }\n",
       "</style>\n",
       "<table border=\"1\" class=\"dataframe\">\n",
       "  <thead>\n",
       "    <tr style=\"text-align: right;\">\n",
       "      <th></th>\n",
       "      <th>date</th>\n",
       "      <th>exercise_reps</th>\n",
       "    </tr>\n",
       "  </thead>\n",
       "  <tbody>\n",
       "    <tr>\n",
       "      <th>0</th>\n",
       "      <td>10/18/2018</td>\n",
       "      <td>lungers - 30 reps</td>\n",
       "    </tr>\n",
       "    <tr>\n",
       "      <th>1</th>\n",
       "      <td>10/18/2018</td>\n",
       "      <td>squats - 20 reps</td>\n",
       "    </tr>\n",
       "    <tr>\n",
       "      <th>2</th>\n",
       "      <td>10/18/2018</td>\n",
       "      <td>deadlifts - 25 reps</td>\n",
       "    </tr>\n",
       "  </tbody>\n",
       "</table>\n",
       "</div>"
      ],
      "text/plain": [
       "         date        exercise_reps\n",
       "0  10/18/2018    lungers - 30 reps\n",
       "1  10/18/2018     squats - 20 reps\n",
       "2  10/18/2018  deadlifts - 25 reps"
      ]
     },
     "execution_count": 39,
     "metadata": {},
     "output_type": "execute_result"
    }
   ],
   "source": [
    "df = pd.DataFrame({\n",
    "    \"date\": [\"10/18/2018\", \"10/18/2018\", \"10/18/2018\"],\n",
    "    \"exercise_reps\": [\"lungers - 30 reps\", \"squats - 20 reps\", \"deadlifts - 25 reps\"]\n",
    "})\n",
    "df"
   ]
  },
  {
   "cell_type": "code",
   "execution_count": 40,
   "id": "fb4ddc4d",
   "metadata": {},
   "outputs": [
    {
     "data": {
      "text/html": [
       "<div>\n",
       "<style scoped>\n",
       "    .dataframe tbody tr th:only-of-type {\n",
       "        vertical-align: middle;\n",
       "    }\n",
       "\n",
       "    .dataframe tbody tr th {\n",
       "        vertical-align: top;\n",
       "    }\n",
       "\n",
       "    .dataframe thead th {\n",
       "        text-align: right;\n",
       "    }\n",
       "</style>\n",
       "<table border=\"1\" class=\"dataframe\">\n",
       "  <thead>\n",
       "    <tr style=\"text-align: right;\">\n",
       "      <th></th>\n",
       "      <th>0</th>\n",
       "      <th>1</th>\n",
       "      <th>2</th>\n",
       "    </tr>\n",
       "  </thead>\n",
       "  <tbody>\n",
       "    <tr>\n",
       "      <th>0</th>\n",
       "      <td>lungers -</td>\n",
       "      <td>30</td>\n",
       "      <td>reps</td>\n",
       "    </tr>\n",
       "    <tr>\n",
       "      <th>1</th>\n",
       "      <td>squats -</td>\n",
       "      <td>20</td>\n",
       "      <td>reps</td>\n",
       "    </tr>\n",
       "    <tr>\n",
       "      <th>2</th>\n",
       "      <td>deadlifts -</td>\n",
       "      <td>25</td>\n",
       "      <td>reps</td>\n",
       "    </tr>\n",
       "  </tbody>\n",
       "</table>\n",
       "</div>"
      ],
      "text/plain": [
       "              0   1      2\n",
       "0    lungers -   30   reps\n",
       "1     squats -   20   reps\n",
       "2  deadlifts -   25   reps"
      ]
     },
     "execution_count": 40,
     "metadata": {},
     "output_type": "execute_result"
    }
   ],
   "source": [
    "split_df = df['exercise_reps'].str.split('(\\d+)', expand=True)\n",
    "split_df"
   ]
  },
  {
   "cell_type": "code",
   "execution_count": 42,
   "id": "68686353",
   "metadata": {},
   "outputs": [
    {
     "data": {
      "text/html": [
       "<div>\n",
       "<style scoped>\n",
       "    .dataframe tbody tr th:only-of-type {\n",
       "        vertical-align: middle;\n",
       "    }\n",
       "\n",
       "    .dataframe tbody tr th {\n",
       "        vertical-align: top;\n",
       "    }\n",
       "\n",
       "    .dataframe thead th {\n",
       "        text-align: right;\n",
       "    }\n",
       "</style>\n",
       "<table border=\"1\" class=\"dataframe\">\n",
       "  <thead>\n",
       "    <tr style=\"text-align: right;\">\n",
       "      <th></th>\n",
       "      <th>date</th>\n",
       "      <th>exercise_reps</th>\n",
       "      <th>reps</th>\n",
       "      <th>exercise</th>\n",
       "    </tr>\n",
       "  </thead>\n",
       "  <tbody>\n",
       "    <tr>\n",
       "      <th>0</th>\n",
       "      <td>10/18/2018</td>\n",
       "      <td>lungers - 30 reps</td>\n",
       "      <td>30</td>\n",
       "      <td>lungers</td>\n",
       "    </tr>\n",
       "    <tr>\n",
       "      <th>1</th>\n",
       "      <td>10/18/2018</td>\n",
       "      <td>squats - 20 reps</td>\n",
       "      <td>20</td>\n",
       "      <td>squats</td>\n",
       "    </tr>\n",
       "    <tr>\n",
       "      <th>2</th>\n",
       "      <td>10/18/2018</td>\n",
       "      <td>deadlifts - 25 reps</td>\n",
       "      <td>25</td>\n",
       "      <td>deadlifts</td>\n",
       "    </tr>\n",
       "  </tbody>\n",
       "</table>\n",
       "</div>"
      ],
      "text/plain": [
       "         date        exercise_reps  reps   exercise\n",
       "0  10/18/2018    lungers - 30 reps    30    lungers\n",
       "1  10/18/2018     squats - 20 reps    20     squats\n",
       "2  10/18/2018  deadlifts - 25 reps    25  deadlifts"
      ]
     },
     "execution_count": 42,
     "metadata": {},
     "output_type": "execute_result"
    }
   ],
   "source": [
    "df['reps'] = pd.to_numeric(split_df[1])\n",
    "df['exercise'] = split_df[0].replace('[\\- ]', '', regex=True)\n",
    "df"
   ]
  },
  {
   "cell_type": "markdown",
   "id": "7e9469c8",
   "metadata": {},
   "source": [
    "<a name=\"nans\"></a>\n",
    "## 5.4.11 Missing Values"
   ]
  },
  {
   "cell_type": "markdown",
   "id": "e581dd57",
   "metadata": {},
   "source": [
    "We often have data with missing elements, as a result of a __problem with the data collection process or errors in the way the data was stored__. The missing elements normally show up as `NaN` (or Not a Number) values:\n",
    "\n",
    "Some calculations we do will just __skip the `NaN` values__ but some calculations or visualizations we try to perform will __break when a NaN is encountered__.\n",
    "\n",
    "Most of the time, we use one of two methods to deal with missing values:\n",
    "1. `df.dropna()` drops all rows with NaNs or `df.dropna(subset=[`col_name`])`\n",
    "2. `df.fillna()` fill the all NaNs with some aggregate value or `df.fillna(value={\"col_A\":df.col_A.mean(), \"col_B\":df.col_B.mean()})`"
   ]
  },
  {
   "cell_type": "code",
   "execution_count": 46,
   "id": "442cfdd6",
   "metadata": {},
   "outputs": [
    {
     "data": {
      "text/html": [
       "<div>\n",
       "<style scoped>\n",
       "    .dataframe tbody tr th:only-of-type {\n",
       "        vertical-align: middle;\n",
       "    }\n",
       "\n",
       "    .dataframe tbody tr th {\n",
       "        vertical-align: top;\n",
       "    }\n",
       "\n",
       "    .dataframe thead th {\n",
       "        text-align: right;\n",
       "    }\n",
       "</style>\n",
       "<table border=\"1\" class=\"dataframe\">\n",
       "  <thead>\n",
       "    <tr style=\"text-align: right;\">\n",
       "      <th></th>\n",
       "      <th>full_name</th>\n",
       "      <th>gender_age</th>\n",
       "      <th>grade</th>\n",
       "      <th>exam</th>\n",
       "      <th>score</th>\n",
       "    </tr>\n",
       "  </thead>\n",
       "  <tbody>\n",
       "    <tr>\n",
       "      <th>0</th>\n",
       "      <td>Moses Kirckman</td>\n",
       "      <td>M14</td>\n",
       "      <td>11th grade</td>\n",
       "      <td>fractions</td>\n",
       "      <td>69%</td>\n",
       "    </tr>\n",
       "    <tr>\n",
       "      <th>1</th>\n",
       "      <td>Timofei Strowan</td>\n",
       "      <td>M18</td>\n",
       "      <td>11th grade</td>\n",
       "      <td>fractions</td>\n",
       "      <td>63%</td>\n",
       "    </tr>\n",
       "    <tr>\n",
       "      <th>2</th>\n",
       "      <td>Silvain Poll</td>\n",
       "      <td>M18</td>\n",
       "      <td>9th grade</td>\n",
       "      <td>fractions</td>\n",
       "      <td>69%</td>\n",
       "    </tr>\n",
       "    <tr>\n",
       "      <th>3</th>\n",
       "      <td>Lezley Pinxton</td>\n",
       "      <td>M18</td>\n",
       "      <td>11th grade</td>\n",
       "      <td>fractions</td>\n",
       "      <td>NaN</td>\n",
       "    </tr>\n",
       "    <tr>\n",
       "      <th>4</th>\n",
       "      <td>Bernadene Saunper</td>\n",
       "      <td>F17</td>\n",
       "      <td>11th grade</td>\n",
       "      <td>fractions</td>\n",
       "      <td>72%</td>\n",
       "    </tr>\n",
       "    <tr>\n",
       "      <th>...</th>\n",
       "      <td>...</td>\n",
       "      <td>...</td>\n",
       "      <td>...</td>\n",
       "      <td>...</td>\n",
       "      <td>...</td>\n",
       "    </tr>\n",
       "    <tr>\n",
       "      <th>1995</th>\n",
       "      <td>Wilie Stillert</td>\n",
       "      <td>F14</td>\n",
       "      <td>9th grade</td>\n",
       "      <td>probability</td>\n",
       "      <td>69%</td>\n",
       "    </tr>\n",
       "    <tr>\n",
       "      <th>1996</th>\n",
       "      <td>Gertie Flicker</td>\n",
       "      <td>F15</td>\n",
       "      <td>11th grade</td>\n",
       "      <td>probability</td>\n",
       "      <td>86%</td>\n",
       "    </tr>\n",
       "    <tr>\n",
       "      <th>1997</th>\n",
       "      <td>Yettie Labes</td>\n",
       "      <td>F14</td>\n",
       "      <td>12th grade</td>\n",
       "      <td>probability</td>\n",
       "      <td>82%</td>\n",
       "    </tr>\n",
       "    <tr>\n",
       "      <th>1998</th>\n",
       "      <td>Lock McGuinley</td>\n",
       "      <td>M18</td>\n",
       "      <td>10th grade</td>\n",
       "      <td>probability</td>\n",
       "      <td>84%</td>\n",
       "    </tr>\n",
       "    <tr>\n",
       "      <th>1999</th>\n",
       "      <td>Bebe Lebbern</td>\n",
       "      <td>F15</td>\n",
       "      <td>12th grade</td>\n",
       "      <td>probability</td>\n",
       "      <td>91%</td>\n",
       "    </tr>\n",
       "  </tbody>\n",
       "</table>\n",
       "<p>2000 rows × 5 columns</p>\n",
       "</div>"
      ],
      "text/plain": [
       "              full_name gender_age       grade         exam score\n",
       "0        Moses Kirckman        M14  11th grade    fractions   69%\n",
       "1       Timofei Strowan        M18  11th grade    fractions   63%\n",
       "2          Silvain Poll        M18   9th grade    fractions   69%\n",
       "3        Lezley Pinxton        M18  11th grade    fractions   NaN\n",
       "4     Bernadene Saunper        F17  11th grade    fractions   72%\n",
       "...                 ...        ...         ...          ...   ...\n",
       "1995     Wilie Stillert        F14   9th grade  probability   69%\n",
       "1996     Gertie Flicker        F15  11th grade  probability   86%\n",
       "1997       Yettie Labes        F14  12th grade  probability   82%\n",
       "1998     Lock McGuinley        M18  10th grade  probability   84%\n",
       "1999       Bebe Lebbern        F15  12th grade  probability   91%\n",
       "\n",
       "[2000 rows x 5 columns]"
      ]
     },
     "execution_count": 46,
     "metadata": {},
     "output_type": "execute_result"
    }
   ],
   "source": [
    "students"
   ]
  },
  {
   "cell_type": "code",
   "execution_count": 53,
   "id": "7e9bed65",
   "metadata": {
    "scrolled": true
   },
   "outputs": [
    {
     "name": "stdout",
     "output_type": "stream",
     "text": [
      "full_name      object\n",
      "gender_age     object\n",
      "grade          object\n",
      "exam           object\n",
      "score         float64\n",
      "dtype: object\n"
     ]
    },
    {
     "data": {
      "text/plain": [
       "0    69.0\n",
       "1    63.0\n",
       "2    69.0\n",
       "3     NaN\n",
       "4    72.0\n",
       "5     NaN\n",
       "6    86.0\n",
       "7    81.0\n",
       "8    68.0\n",
       "9    59.0\n",
       "Name: score, dtype: float64"
      ]
     },
     "execution_count": 53,
     "metadata": {},
     "output_type": "execute_result"
    }
   ],
   "source": [
    "students.score.replace('%',\"\", inplace=True, regex=True)\n",
    "print(students.dtypes)\n",
    "students.score.head(10)"
   ]
  },
  {
   "cell_type": "code",
   "execution_count": 54,
   "id": "79ab6241",
   "metadata": {},
   "outputs": [
    {
     "data": {
      "text/plain": [
       "0    69.0\n",
       "1    63.0\n",
       "2    69.0\n",
       "3     0.0\n",
       "4    72.0\n",
       "5     0.0\n",
       "6    86.0\n",
       "7    81.0\n",
       "8    68.0\n",
       "9    59.0\n",
       "Name: score, dtype: float64"
      ]
     },
     "execution_count": 54,
     "metadata": {},
     "output_type": "execute_result"
    }
   ],
   "source": [
    "students.score = pd.to_numeric(students.score)\n",
    "mean_score = students.score.mean()\n",
    "students.score.fillna(value=0, inplace=True)\n",
    "students.score.head(10)"
   ]
  },
  {
   "cell_type": "markdown",
   "id": "881b2f41",
   "metadata": {},
   "source": [
    "[pandas.Series.str.extract()](https://pandas.pydata.org/pandas-docs/stable/reference/api/pandas.Series.str.extract.html)"
   ]
  }
 ],
 "metadata": {
  "kernelspec": {
   "display_name": "Python 3 (ipykernel)",
   "language": "python",
   "name": "python3"
  },
  "language_info": {
   "codemirror_mode": {
    "name": "ipython",
    "version": 3
   },
   "file_extension": ".py",
   "mimetype": "text/x-python",
   "name": "python",
   "nbconvert_exporter": "python",
   "pygments_lexer": "ipython3",
   "version": "3.9.7"
  }
 },
 "nbformat": 4,
 "nbformat_minor": 5
}
