{
 "cells": [
  {
   "cell_type": "markdown",
   "id": "5a30c292",
   "metadata": {},
   "source": [
    "# Codecademy Revision Exercises"
   ]
  },
  {
   "cell_type": "markdown",
   "id": "a63da295",
   "metadata": {},
   "source": [
    "# CONTENT\n",
    "1. [Lists](#lists)\n",
    "1. [Loops](#loops)\n",
    "1. [Strings](#strings)\n",
    "1. [Dicts](#dicts)"
   ]
  },
  {
   "cell_type": "markdown",
   "id": "79e484bf",
   "metadata": {},
   "source": [
    "<a name=\"lists\"></a>\n",
    "# Lists"
   ]
  },
  {
   "cell_type": "code",
   "execution_count": 12,
   "id": "5b8ddb42",
   "metadata": {
    "scrolled": true
   },
   "outputs": [
    {
     "name": "stdout",
     "output_type": "stream",
     "text": [
      "The word 'dog' appears 3 times.\n",
      "\n",
      "['dog', 'lion', 'cat', 'mouse', 'dog', 'horse', 'fish', 'dog', 'mouse'] \n",
      "\n",
      "The animal 'lion' was removed from the list.\n",
      "['dog', 'cat', 'mouse', 'dog', 'horse', 'fish', 'dog', 'mouse'] \n",
      "\n",
      "['dog', 'cat', 'dog', 'horse', 'fish', 'dog', 'mouse'] \n",
      "\n",
      "[('dog', 'medium'), ('cat', 'small'), ('dog', 'medium'), ('horse', 'large'), ('fish', 'small'), ('dog', 'medium'), ('mouse', 'small')] \n",
      "\n",
      "['cat', 'dog', 'dog', 'dog', 'fish', 'horse', 'mouse'] \n",
      "\n",
      "['large', 'medium', 'medium', 'medium', 'small', 'small', 'small']\n"
     ]
    }
   ],
   "source": [
    "animals = ['dog', 'cat', 'mouse', 'dog', 'horse', 'fish', 'dog', 'mouse']\n",
    "\n",
    "# count frequency of an element\n",
    "print(f\"The word '{animals[0]}' appears {animals.count('dog')} times.\\n\")\n",
    "\n",
    "# insert an element into a specific place\n",
    "animals.insert(1, 'lion')\n",
    "print(animals, \"\\n\")\n",
    "\n",
    "# remove an element using its index\n",
    "removed_animal = animals.pop(1)\n",
    "print(f\"The animal '{removed_animal}' was removed from the list.\")\n",
    "print(animals, \"\\n\")\n",
    "\n",
    "# remove an element using its name\n",
    "animals.remove('mouse')\n",
    "print(animals,\"\\n\")\n",
    "\n",
    "# merge two lists\n",
    "categories = ['medium', 'small', 'medium', 'large', 'small', 'medium', 'small']\n",
    "animal_categories = list(zip(animals, categories))\n",
    "print(animal_categories, \"\\n\")\n",
    "\n",
    "# sort list alphabetically\n",
    "sorted_animals = sorted(animals)\n",
    "print(sorted_animals, \"\\n\")\n",
    "\n",
    "# sort list in place\n",
    "categories.sort()\n",
    "print(categories)"
   ]
  },
  {
   "cell_type": "markdown",
   "id": "41d597d9",
   "metadata": {},
   "source": [
    "<a name=\"loops\"></a>\n",
    "# Loops"
   ]
  },
  {
   "cell_type": "code",
   "execution_count": 13,
   "id": "bde8c031",
   "metadata": {},
   "outputs": [
    {
     "name": "stdout",
     "output_type": "stream",
     "text": [
      "Athens\n",
      "Edinburgh\n",
      "Nantes\n"
     ]
    }
   ],
   "source": [
    "cities = ['Athens', 'Edinburgh', 'Nantes', 'London', 'Amsterdam']\n",
    "\n",
    "for city in cities:\n",
    "    print(city)\n",
    "    if city == 'Nantes':\n",
    "        # escape loop\n",
    "        break"
   ]
  },
  {
   "cell_type": "code",
   "execution_count": 18,
   "id": "4f39d1d1",
   "metadata": {
    "scrolled": true
   },
   "outputs": [
    {
     "name": "stdout",
     "output_type": "stream",
     "text": [
      "Athens\n",
      "Edinburgh\n",
      "Athens\n",
      "Nantes\n",
      "London\n",
      "Amsterdam\n"
     ]
    }
   ],
   "source": [
    "cities = ['Athens', 'Edinburgh', 'ATH', 'Athens', 'Nantes', 'London', 'Amsterdam']\n",
    "cities_set = []\n",
    "\n",
    "for city in cities:\n",
    "    if len(city) < 4:\n",
    "        # go back to the loop\n",
    "        continue\n",
    "    print(city)"
   ]
  },
  {
   "cell_type": "markdown",
   "id": "91d6cd67",
   "metadata": {},
   "source": [
    "<a name=\"strings\"></a>\n",
    "# Strings"
   ]
  },
  {
   "cell_type": "code",
   "execution_count": 39,
   "id": "81e8c6b5",
   "metadata": {},
   "outputs": [
    {
     "name": "stdout",
     "output_type": "stream",
     "text": [
      "          Molly is a 2 years old female dog of colour white and of breed mongrel.           \n",
      "\n",
      "['Molly', 'is', 'a', '2', 'years', 'old', 'female', 'dog', 'of', 'colour', 'white', 'and', 'of', 'breed', 'mongrel.'] \n",
      "\n",
      "Molly is a 2 years old female dog of colour white and of breed mongrel. \n",
      "\n",
      "Molly is a 2 years old female dog of colour white and of breed mongrel. \n",
      "\n",
      "          Molly is a 2 years old female dog of colour white and of breed mongrel. \n",
      "\n",
      "Molly is a 2 years old female dog of colour white and of breed mongrel.           \n",
      "\n",
      "Molly is a 2 years old female cat of colour white and of breed mongrel. \n",
      "\n",
      "11 \n",
      "\n",
      "True\n"
     ]
    }
   ],
   "source": [
    "original_sent = '          Molly is a 2 years old female dog of colour white and of breed mongrel.          '\n",
    "print(original_sent, '\\n')\n",
    "\n",
    "tokens = original_sent.split()\n",
    "print(tokens, \"\\n\")\n",
    "\n",
    "sent = \" \".join(tokens)\n",
    "print(sent, \"\\n\")\n",
    "\n",
    "print(original_sent.strip(), \"\\n\")\n",
    "print(original_sent.rstrip(), \"\\n\")\n",
    "print(original_sent.lstrip(), \"\\n\")\n",
    "\n",
    "print(sent.replace('dog', 'cat'), \"\\n\")\n",
    "\n",
    "print(sent.find('2'), \"\\n\")\n",
    "\n",
    "print('female' in sent)"
   ]
  },
  {
   "cell_type": "code",
   "execution_count": 38,
   "id": "a33b7dae",
   "metadata": {
    "scrolled": true
   },
   "outputs": [
    {
     "data": {
      "text/plain": [
       "'margana'"
      ]
     },
     "execution_count": 38,
     "metadata": {},
     "output_type": "execute_result"
    }
   ],
   "source": [
    "# reverse string exercise\n",
    "word = 'anagram'\n",
    "word[::-1]"
   ]
  },
  {
   "cell_type": "markdown",
   "id": "97fbf954",
   "metadata": {},
   "source": [
    "<a name=\"dicts\"></a>\n",
    "# Dictionaries"
   ]
  },
  {
   "cell_type": "code",
   "execution_count": null,
   "id": "db648547",
   "metadata": {},
   "outputs": [],
   "source": []
  },
  {
   "cell_type": "code",
   "execution_count": null,
   "id": "50d9bec0",
   "metadata": {},
   "outputs": [],
   "source": []
  },
  {
   "cell_type": "code",
   "execution_count": null,
   "id": "9b2fbd5f",
   "metadata": {},
   "outputs": [],
   "source": []
  }
 ],
 "metadata": {
  "kernelspec": {
   "display_name": "Python 3 (ipykernel)",
   "language": "python",
   "name": "python3"
  },
  "language_info": {
   "codemirror_mode": {
    "name": "ipython",
    "version": 3
   },
   "file_extension": ".py",
   "mimetype": "text/x-python",
   "name": "python",
   "nbconvert_exporter": "python",
   "pygments_lexer": "ipython3",
   "version": "3.9.7"
  }
 },
 "nbformat": 4,
 "nbformat_minor": 5
}
