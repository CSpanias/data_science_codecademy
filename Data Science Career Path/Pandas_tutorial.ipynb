{
 "cells": [
  {
   "cell_type": "markdown",
   "id": "7277bd94",
   "metadata": {},
   "source": [
    "# Pandas's  [official tutorial](https://pandas.pydata.org/docs/user_guide/10min.html)\n",
    "1. [Intro to Data Structures](#structures)\n",
    "2. [Essential Basic Functionality](#basic)\n",
    "3. [IO tools](#iotools)\n",
    "1. [Indexing and Selecting Data](#indexing)\n",
    "1. [MultiIndex / Advanced Indexing](#indexing2)\n",
    "1. [Merge, Join, Concatenate and Compare](#concatenate)\n",
    "1. [Reshaping and Pivot Tables](#reshaping)\n",
    "1. [Working with Text Data](#text)\n",
    "1. [Working with Missing Data](#nans)\n",
    "1. [Duplicate Labels](#duplicates)"
   ]
  }
 ],
 "metadata": {
  "kernelspec": {
   "display_name": "Python 3 (ipykernel)",
   "language": "python",
   "name": "python3"
  },
  "language_info": {
   "codemirror_mode": {
    "name": "ipython",
    "version": 3
   },
   "file_extension": ".py",
   "mimetype": "text/x-python",
   "name": "python",
   "nbconvert_exporter": "python",
   "pygments_lexer": "ipython3",
   "version": "3.9.7"
  }
 },
 "nbformat": 4,
 "nbformat_minor": 5
}
