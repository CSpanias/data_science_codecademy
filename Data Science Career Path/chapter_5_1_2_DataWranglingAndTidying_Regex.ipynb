{
 "cells": [
  {
   "cell_type": "markdown",
   "id": "ccfb6676",
   "metadata": {},
   "source": [
    "# Reflective Writing for Data Science Career Path - Codecademy\n",
    "by [Charalampos Spanias](https://cspanias.github.io/aboutme/) - February 2021\n",
    "\n",
    "## Content\n",
    "1. Getting Started with Data Science\n",
    "2. Python Fundamentals\n",
    "3. Data Acquisition\n",
    "4. Data Manipulation with Pandas\n",
    "5. [Data Wrangling \\& Tidying](#wrangling)\n",
    "    1. [Fundamentals](#fun)\n",
    "    1. [Regural Expressions](#regexes)\n",
    "        1. [Intro](#regexintro)\n",
    "        1. [Literals](#literals)\n",
    "        1. [Alternation](#alternation)\n",
    "        1. [Character Sets](#charsets)\n",
    "        1. [Wild for Wildcards](#wildcards)\n",
    "        1. [Ranges](#ranges)\n",
    "        1. [Shorthand Character Classes](#classes)\n",
    "        1. [Grouping](#grouping)\n",
    "        1. [Quantifiers - Fixed](#fixedquant)\n",
    "        1. [Quantifiers - Optional](#optionalquant)\n",
    "        1. [Quantifiers - 0 or More, 1 or More](#starplus)\n",
    "        1. [Anchors](#anchors)"
   ]
  },
  {
   "cell_type": "markdown",
   "id": "eae61a5f",
   "metadata": {},
   "source": [
    "<a name=\"wrangling\"></a>\n",
    "# 5. Data Wrangling & Tidying"
   ]
  },
  {
   "cell_type": "markdown",
   "id": "1cc95c47",
   "metadata": {},
   "source": [
    "<a name=\"fun\"></a>\n",
    "# 5.1 Fundamentals"
   ]
  },
  {
   "cell_type": "markdown",
   "id": "193d301a",
   "metadata": {},
   "source": [
    "Frequently when we work with data, we encounter __unstructured and/or messy data__. While the data may be messy, it is still extremely informative. \n",
    "\n",
    "We need to __clean, transform, and sometimes manipulate the data__ structure to gain any insights. This process is often called __data wrangling__ or __data munging__.\n",
    "\n",
    "At the final stages of the data wrangling process, we will have __a dataset that we can easily use for modeling purposes or for visualization purposes__. This is a __tidy dataset__ where each column is a variable and each row is an observation."
   ]
  },
  {
   "cell_type": "code",
   "execution_count": 58,
   "id": "974f3e61",
   "metadata": {
    "scrolled": false
   },
   "outputs": [
    {
     "data": {
      "text/html": [
       "<div>\n",
       "<style scoped>\n",
       "    .dataframe tbody tr th:only-of-type {\n",
       "        vertical-align: middle;\n",
       "    }\n",
       "\n",
       "    .dataframe tbody tr th {\n",
       "        vertical-align: top;\n",
       "    }\n",
       "\n",
       "    .dataframe thead th {\n",
       "        text-align: right;\n",
       "    }\n",
       "</style>\n",
       "<table border=\"1\" class=\"dataframe\">\n",
       "  <thead>\n",
       "    <tr style=\"text-align: right;\">\n",
       "      <th></th>\n",
       "      <th>click_page_details_name</th>\n",
       "      <th>click_page_details_record</th>\n",
       "      <th>click_page_details_current_streak</th>\n",
       "      <th>click_page_details_age</th>\n",
       "      <th>click_page_details_dob</th>\n",
       "      <th>click_page_details_class</th>\n",
       "      <th>click_page_details_height</th>\n",
       "      <th>click_page_details_reach</th>\n",
       "      <th>click_page_details_last_fight</th>\n",
       "      <th>click_page_details_gym</th>\n",
       "      <th>click_page_details_gym_url</th>\n",
       "      <th>click_page_details_opponent_name</th>\n",
       "      <th>click_page_details_opponent_result</th>\n",
       "      <th>click_page_details_opponent_result_url</th>\n",
       "      <th>click_page_details_opponent_fight_date</th>\n",
       "    </tr>\n",
       "  </thead>\n",
       "  <tbody>\n",
       "    <tr>\n",
       "      <th>170</th>\n",
       "      <td>Giannis Stavridis</td>\n",
       "      <td>0-2-0 (Win-Loss-Draw)</td>\n",
       "      <td>2 Losses</td>\n",
       "      <td>NaN</td>\n",
       "      <td>NaN</td>\n",
       "      <td>Welterweight</td>\n",
       "      <td>NaN</td>\n",
       "      <td>NaN</td>\n",
       "      <td>October 16, 2021</td>\n",
       "      <td>NaN</td>\n",
       "      <td>NaN</td>\n",
       "      <td>Pepi Ivanov</td>\n",
       "      <td>Loss · Decision</td>\n",
       "      <td>https://www.tapology.com/fightcenter/bouts/371...</td>\n",
       "      <td>2018.03.31</td>\n",
       "    </tr>\n",
       "    <tr>\n",
       "      <th>171</th>\n",
       "      <td>Yoan Petrov</td>\n",
       "      <td>0-2-0 (Win-Loss-Draw)</td>\n",
       "      <td>2 Losses</td>\n",
       "      <td>NaN</td>\n",
       "      <td>NaN</td>\n",
       "      <td>Welterweight</td>\n",
       "      <td>NaN</td>\n",
       "      <td>NaN</td>\n",
       "      <td>October 24, 2020</td>\n",
       "      <td>NaN</td>\n",
       "      <td>NaN</td>\n",
       "      <td>Labis Flindris</td>\n",
       "      <td>Cancelled Bout</td>\n",
       "      <td>https://www.tapology.com/fightcenter/bouts/518...</td>\n",
       "      <td>2020.10.24</td>\n",
       "    </tr>\n",
       "    <tr>\n",
       "      <th>172</th>\n",
       "      <td>Yoan Petrov</td>\n",
       "      <td>0-2-0 (Win-Loss-Draw)</td>\n",
       "      <td>2 Losses</td>\n",
       "      <td>NaN</td>\n",
       "      <td>NaN</td>\n",
       "      <td>Welterweight</td>\n",
       "      <td>NaN</td>\n",
       "      <td>NaN</td>\n",
       "      <td>October 24, 2020</td>\n",
       "      <td>NaN</td>\n",
       "      <td>NaN</td>\n",
       "      <td>Sarantis Nikoglou</td>\n",
       "      <td>Cancelled Bout</td>\n",
       "      <td>https://www.tapology.com/fightcenter/bouts/525...</td>\n",
       "      <td>2020.10.24</td>\n",
       "    </tr>\n",
       "    <tr>\n",
       "      <th>173</th>\n",
       "      <td>Yoan Petrov</td>\n",
       "      <td>0-2-0 (Win-Loss-Draw)</td>\n",
       "      <td>2 Losses</td>\n",
       "      <td>NaN</td>\n",
       "      <td>NaN</td>\n",
       "      <td>Welterweight</td>\n",
       "      <td>NaN</td>\n",
       "      <td>NaN</td>\n",
       "      <td>October 24, 2020</td>\n",
       "      <td>NaN</td>\n",
       "      <td>NaN</td>\n",
       "      <td>Georgios Kougioumtzidis</td>\n",
       "      <td>Loss · Decision · Unanimous</td>\n",
       "      <td>https://www.tapology.com/fightcenter/bouts/534...</td>\n",
       "      <td>2020.10.24</td>\n",
       "    </tr>\n",
       "    <tr>\n",
       "      <th>174</th>\n",
       "      <td>Yoan Petrov</td>\n",
       "      <td>0-2-0 (Win-Loss-Draw)</td>\n",
       "      <td>2 Losses</td>\n",
       "      <td>NaN</td>\n",
       "      <td>NaN</td>\n",
       "      <td>Welterweight</td>\n",
       "      <td>NaN</td>\n",
       "      <td>NaN</td>\n",
       "      <td>October 24, 2020</td>\n",
       "      <td>NaN</td>\n",
       "      <td>NaN</td>\n",
       "      <td>Emil Tepavicharov</td>\n",
       "      <td>Loss · Triangle Choke · 3:12 · R1</td>\n",
       "      <td>https://www.tapology.com/fightcenter/bouts/479...</td>\n",
       "      <td>2019.11.16</td>\n",
       "    </tr>\n",
       "  </tbody>\n",
       "</table>\n",
       "</div>"
      ],
      "text/plain": [
       "    click_page_details_name click_page_details_record  \\\n",
       "170       Giannis Stavridis     0-2-0 (Win-Loss-Draw)   \n",
       "171             Yoan Petrov     0-2-0 (Win-Loss-Draw)   \n",
       "172             Yoan Petrov     0-2-0 (Win-Loss-Draw)   \n",
       "173             Yoan Petrov     0-2-0 (Win-Loss-Draw)   \n",
       "174             Yoan Petrov     0-2-0 (Win-Loss-Draw)   \n",
       "\n",
       "    click_page_details_current_streak  click_page_details_age  \\\n",
       "170                          2 Losses                     NaN   \n",
       "171                          2 Losses                     NaN   \n",
       "172                          2 Losses                     NaN   \n",
       "173                          2 Losses                     NaN   \n",
       "174                          2 Losses                     NaN   \n",
       "\n",
       "    click_page_details_dob click_page_details_class click_page_details_height  \\\n",
       "170                    NaN             Welterweight                       NaN   \n",
       "171                    NaN             Welterweight                       NaN   \n",
       "172                    NaN             Welterweight                       NaN   \n",
       "173                    NaN             Welterweight                       NaN   \n",
       "174                    NaN             Welterweight                       NaN   \n",
       "\n",
       "    click_page_details_reach click_page_details_last_fight  \\\n",
       "170                      NaN              October 16, 2021   \n",
       "171                      NaN              October 24, 2020   \n",
       "172                      NaN              October 24, 2020   \n",
       "173                      NaN              October 24, 2020   \n",
       "174                      NaN              October 24, 2020   \n",
       "\n",
       "    click_page_details_gym click_page_details_gym_url  \\\n",
       "170                    NaN                        NaN   \n",
       "171                    NaN                        NaN   \n",
       "172                    NaN                        NaN   \n",
       "173                    NaN                        NaN   \n",
       "174                    NaN                        NaN   \n",
       "\n",
       "    click_page_details_opponent_name click_page_details_opponent_result  \\\n",
       "170                      Pepi Ivanov                    Loss · Decision   \n",
       "171                   Labis Flindris                     Cancelled Bout   \n",
       "172                Sarantis Nikoglou                     Cancelled Bout   \n",
       "173          Georgios Kougioumtzidis        Loss · Decision · Unanimous   \n",
       "174                Emil Tepavicharov  Loss · Triangle Choke · 3:12 · R1   \n",
       "\n",
       "                click_page_details_opponent_result_url  \\\n",
       "170  https://www.tapology.com/fightcenter/bouts/371...   \n",
       "171  https://www.tapology.com/fightcenter/bouts/518...   \n",
       "172  https://www.tapology.com/fightcenter/bouts/525...   \n",
       "173  https://www.tapology.com/fightcenter/bouts/534...   \n",
       "174  https://www.tapology.com/fightcenter/bouts/479...   \n",
       "\n",
       "    click_page_details_opponent_fight_date  \n",
       "170                             2018.03.31  \n",
       "171                             2020.10.24  \n",
       "172                             2020.10.24  \n",
       "173                             2020.10.24  \n",
       "174                             2019.11.16  "
      ]
     },
     "execution_count": 58,
     "metadata": {},
     "output_type": "execute_result"
    }
   ],
   "source": [
    "import pandas as pd\n",
    "\n",
    "# import data\n",
    "df = pd.read_csv('mma_data.csv')\n",
    "\n",
    "# check last 5 rows\n",
    "df.tail()"
   ]
  },
  {
   "cell_type": "code",
   "execution_count": 59,
   "id": "eb779696",
   "metadata": {},
   "outputs": [
    {
     "data": {
      "text/plain": [
       "(175, 15)"
      ]
     },
     "execution_count": 59,
     "metadata": {},
     "output_type": "execute_result"
    }
   ],
   "source": [
    "# check shape\n",
    "df.shape"
   ]
  },
  {
   "cell_type": "code",
   "execution_count": 60,
   "id": "77d9598b",
   "metadata": {},
   "outputs": [
    {
     "data": {
      "text/plain": [
       "click_page_details_name                     0\n",
       "click_page_details_record                   0\n",
       "click_page_details_current_streak           0\n",
       "click_page_details_age                     79\n",
       "click_page_details_dob                     79\n",
       "click_page_details_class                    0\n",
       "click_page_details_height                  76\n",
       "click_page_details_reach                  165\n",
       "click_page_details_last_fight               0\n",
       "click_page_details_gym                     69\n",
       "click_page_details_gym_url                 69\n",
       "click_page_details_opponent_name            0\n",
       "click_page_details_opponent_result         30\n",
       "click_page_details_opponent_result_url     30\n",
       "click_page_details_opponent_fight_date      0\n",
       "dtype: int64"
      ]
     },
     "execution_count": 60,
     "metadata": {},
     "output_type": "execute_result"
    }
   ],
   "source": [
    "# check NaNs\n",
    "df.isna().sum()"
   ]
  },
  {
   "cell_type": "code",
   "execution_count": 61,
   "id": "af9541b9",
   "metadata": {},
   "outputs": [
    {
     "data": {
      "text/plain": [
       "0"
      ]
     },
     "execution_count": 61,
     "metadata": {},
     "output_type": "execute_result"
    }
   ],
   "source": [
    "# check duplicates\n",
    "df.duplicated().sum()\n",
    "\n",
    "# if duplicates\n",
    "# df.drop_duplicates(inplace=True)"
   ]
  },
  {
   "cell_type": "markdown",
   "id": "52861b62",
   "metadata": {},
   "source": [
    "To have some consistency across column names, we will iterate over the column names of our dataset and convert them all to lowercase using the `map()` and `lower()` functions. \n",
    "\n",
    "We also need to make sure to include the `str` function to identify that we are working with strings."
   ]
  },
  {
   "cell_type": "code",
   "execution_count": 54,
   "id": "d790701b",
   "metadata": {
    "scrolled": false
   },
   "outputs": [
    {
     "data": {
      "text/html": [
       "<div>\n",
       "<style scoped>\n",
       "    .dataframe tbody tr th:only-of-type {\n",
       "        vertical-align: middle;\n",
       "    }\n",
       "\n",
       "    .dataframe tbody tr th {\n",
       "        vertical-align: top;\n",
       "    }\n",
       "\n",
       "    .dataframe thead th {\n",
       "        text-align: right;\n",
       "    }\n",
       "</style>\n",
       "<table border=\"1\" class=\"dataframe\">\n",
       "  <thead>\n",
       "    <tr style=\"text-align: right;\">\n",
       "      <th></th>\n",
       "      <th>click_page_details_name</th>\n",
       "      <th>click_page_details_record</th>\n",
       "      <th>click_page_details_current_streak</th>\n",
       "      <th>click_page_details_age</th>\n",
       "      <th>click_page_details_dob</th>\n",
       "      <th>click_page_details_class</th>\n",
       "      <th>click_page_details_height</th>\n",
       "      <th>click_page_details_reach</th>\n",
       "      <th>click_page_details_last_fight</th>\n",
       "      <th>click_page_details_gym</th>\n",
       "      <th>click_page_details_gym_url</th>\n",
       "      <th>click_page_details_opponent_name</th>\n",
       "      <th>click_page_details_opponent_result</th>\n",
       "      <th>click_page_details_opponent_result_url</th>\n",
       "      <th>click_page_details_opponent_fight_date</th>\n",
       "    </tr>\n",
       "  </thead>\n",
       "  <tbody>\n",
       "    <tr>\n",
       "      <th>0</th>\n",
       "      <td>John Palaiologos</td>\n",
       "      <td>18-11-1 (Win-Loss-Draw)</td>\n",
       "      <td>2 Losses</td>\n",
       "      <td>34.0</td>\n",
       "      <td>1987.08.19</td>\n",
       "      <td>Welterweight</td>\n",
       "      <td>6'2\" (188cm)</td>\n",
       "      <td>NaN</td>\n",
       "      <td>December 04, 2021</td>\n",
       "      <td>EFL Martial Arts Academy</td>\n",
       "      <td>https://www.tapology.com/gyms/4110-efl-martial...</td>\n",
       "      <td>Christian Eckerlin</td>\n",
       "      <td>Loss · Rear Naked Choke · 2:55 · R1</td>\n",
       "      <td>https://www.tapology.com/fightcenter/bouts/615...</td>\n",
       "      <td>2021.12.04</td>\n",
       "    </tr>\n",
       "    <tr>\n",
       "      <th>1</th>\n",
       "      <td>John Palaiologos</td>\n",
       "      <td>18-11-1 (Win-Loss-Draw)</td>\n",
       "      <td>2 Losses</td>\n",
       "      <td>34.0</td>\n",
       "      <td>1987.08.19</td>\n",
       "      <td>Welterweight</td>\n",
       "      <td>6'2\" (188cm)</td>\n",
       "      <td>NaN</td>\n",
       "      <td>December 04, 2021</td>\n",
       "      <td>EFL Martial Arts Academy</td>\n",
       "      <td>https://www.tapology.com/gyms/4110-efl-martial...</td>\n",
       "      <td>Jesse Urholin</td>\n",
       "      <td>Loss · Ground &amp; Pound · 3:36 · R2</td>\n",
       "      <td>https://www.tapology.com/fightcenter/bouts/600...</td>\n",
       "      <td>2021.10.01</td>\n",
       "    </tr>\n",
       "    <tr>\n",
       "      <th>2</th>\n",
       "      <td>John Palaiologos</td>\n",
       "      <td>18-11-1 (Win-Loss-Draw)</td>\n",
       "      <td>2 Losses</td>\n",
       "      <td>34.0</td>\n",
       "      <td>1987.08.19</td>\n",
       "      <td>Welterweight</td>\n",
       "      <td>6'2\" (188cm)</td>\n",
       "      <td>NaN</td>\n",
       "      <td>December 04, 2021</td>\n",
       "      <td>EFL Martial Arts Academy</td>\n",
       "      <td>https://www.tapology.com/gyms/4110-efl-martial...</td>\n",
       "      <td>Mukhamed Berkhamov</td>\n",
       "      <td>Cancelled Bout</td>\n",
       "      <td>https://www.tapology.com/fightcenter/bouts/521...</td>\n",
       "      <td>2020.09.26</td>\n",
       "    </tr>\n",
       "    <tr>\n",
       "      <th>3</th>\n",
       "      <td>John Palaiologos</td>\n",
       "      <td>18-11-1 (Win-Loss-Draw)</td>\n",
       "      <td>2 Losses</td>\n",
       "      <td>34.0</td>\n",
       "      <td>1987.08.19</td>\n",
       "      <td>Welterweight</td>\n",
       "      <td>6'2\" (188cm)</td>\n",
       "      <td>NaN</td>\n",
       "      <td>December 04, 2021</td>\n",
       "      <td>EFL Martial Arts Academy</td>\n",
       "      <td>https://www.tapology.com/gyms/4110-efl-martial...</td>\n",
       "      <td>Konstantin Linnik</td>\n",
       "      <td>Win · Punches · 0:48 · R1</td>\n",
       "      <td>https://www.tapology.com/fightcenter/bouts/472...</td>\n",
       "      <td>2019.12.15</td>\n",
       "    </tr>\n",
       "    <tr>\n",
       "      <th>4</th>\n",
       "      <td>John Palaiologos</td>\n",
       "      <td>18-11-1 (Win-Loss-Draw)</td>\n",
       "      <td>2 Losses</td>\n",
       "      <td>34.0</td>\n",
       "      <td>1987.08.19</td>\n",
       "      <td>Welterweight</td>\n",
       "      <td>6'2\" (188cm)</td>\n",
       "      <td>NaN</td>\n",
       "      <td>December 04, 2021</td>\n",
       "      <td>EFL Martial Arts Academy</td>\n",
       "      <td>https://www.tapology.com/gyms/4110-efl-martial...</td>\n",
       "      <td>Piotr Wawrzyniak</td>\n",
       "      <td>Win · Soccer Kick · 4:56 · R1</td>\n",
       "      <td>https://www.tapology.com/fightcenter/bouts/452...</td>\n",
       "      <td>2019.10.05</td>\n",
       "    </tr>\n",
       "  </tbody>\n",
       "</table>\n",
       "</div>"
      ],
      "text/plain": [
       "  click_page_details_name click_page_details_record  \\\n",
       "0        John Palaiologos   18-11-1 (Win-Loss-Draw)   \n",
       "1        John Palaiologos   18-11-1 (Win-Loss-Draw)   \n",
       "2        John Palaiologos   18-11-1 (Win-Loss-Draw)   \n",
       "3        John Palaiologos   18-11-1 (Win-Loss-Draw)   \n",
       "4        John Palaiologos   18-11-1 (Win-Loss-Draw)   \n",
       "\n",
       "  click_page_details_current_streak  click_page_details_age  \\\n",
       "0                          2 Losses                    34.0   \n",
       "1                          2 Losses                    34.0   \n",
       "2                          2 Losses                    34.0   \n",
       "3                          2 Losses                    34.0   \n",
       "4                          2 Losses                    34.0   \n",
       "\n",
       "  click_page_details_dob click_page_details_class click_page_details_height  \\\n",
       "0             1987.08.19             Welterweight              6'2\" (188cm)   \n",
       "1             1987.08.19             Welterweight              6'2\" (188cm)   \n",
       "2             1987.08.19             Welterweight              6'2\" (188cm)   \n",
       "3             1987.08.19             Welterweight              6'2\" (188cm)   \n",
       "4             1987.08.19             Welterweight              6'2\" (188cm)   \n",
       "\n",
       "  click_page_details_reach click_page_details_last_fight  \\\n",
       "0                      NaN             December 04, 2021   \n",
       "1                      NaN             December 04, 2021   \n",
       "2                      NaN             December 04, 2021   \n",
       "3                      NaN             December 04, 2021   \n",
       "4                      NaN             December 04, 2021   \n",
       "\n",
       "     click_page_details_gym  \\\n",
       "0  EFL Martial Arts Academy   \n",
       "1  EFL Martial Arts Academy   \n",
       "2  EFL Martial Arts Academy   \n",
       "3  EFL Martial Arts Academy   \n",
       "4  EFL Martial Arts Academy   \n",
       "\n",
       "                          click_page_details_gym_url  \\\n",
       "0  https://www.tapology.com/gyms/4110-efl-martial...   \n",
       "1  https://www.tapology.com/gyms/4110-efl-martial...   \n",
       "2  https://www.tapology.com/gyms/4110-efl-martial...   \n",
       "3  https://www.tapology.com/gyms/4110-efl-martial...   \n",
       "4  https://www.tapology.com/gyms/4110-efl-martial...   \n",
       "\n",
       "  click_page_details_opponent_name   click_page_details_opponent_result  \\\n",
       "0               Christian Eckerlin  Loss · Rear Naked Choke · 2:55 · R1   \n",
       "1                    Jesse Urholin    Loss · Ground & Pound · 3:36 · R2   \n",
       "2               Mukhamed Berkhamov                       Cancelled Bout   \n",
       "3                Konstantin Linnik            Win · Punches · 0:48 · R1   \n",
       "4                 Piotr Wawrzyniak        Win · Soccer Kick · 4:56 · R1   \n",
       "\n",
       "              click_page_details_opponent_result_url  \\\n",
       "0  https://www.tapology.com/fightcenter/bouts/615...   \n",
       "1  https://www.tapology.com/fightcenter/bouts/600...   \n",
       "2  https://www.tapology.com/fightcenter/bouts/521...   \n",
       "3  https://www.tapology.com/fightcenter/bouts/472...   \n",
       "4  https://www.tapology.com/fightcenter/bouts/452...   \n",
       "\n",
       "  click_page_details_opponent_fight_date  \n",
       "0                             2021.12.04  \n",
       "1                             2021.10.01  \n",
       "2                             2020.09.26  \n",
       "3                             2019.12.15  \n",
       "4                             2019.10.05  "
      ]
     },
     "execution_count": 54,
     "metadata": {},
     "output_type": "execute_result"
    }
   ],
   "source": [
    "# convert col names to lower\n",
    "df.columns = map(str.lower, df.columns)\n",
    "\n",
    "df.head()"
   ]
  },
  {
   "cell_type": "code",
   "execution_count": 41,
   "id": "af702042",
   "metadata": {
    "scrolled": true
   },
   "outputs": [
    {
     "data": {
      "text/plain": [
       "click_page_details_name                    object\n",
       "click_page_details_record                  object\n",
       "click_page_details_current_streak          object\n",
       "click_page_details_age                    float64\n",
       "click_page_details_dob                     object\n",
       "click_page_details_class                   object\n",
       "click_page_details_height                  object\n",
       "click_page_details_reach                   object\n",
       "click_page_details_last_fight              object\n",
       "click_page_details_gym                     object\n",
       "click_page_details_gym_url                 object\n",
       "click_page_details_opponent_name           object\n",
       "click_page_details_opponent_result         object\n",
       "click_page_details_opponent_result_url     object\n",
       "click_page_details_opponent_fight_date     object\n",
       "dtype: object"
      ]
     },
     "execution_count": 41,
     "metadata": {},
     "output_type": "execute_result"
    }
   ],
   "source": [
    "# check dtypes\n",
    "df.dtypes"
   ]
  },
  {
   "cell_type": "code",
   "execution_count": 42,
   "id": "b275cb73",
   "metadata": {
    "scrolled": true
   },
   "outputs": [
    {
     "data": {
      "text/plain": [
       "click_page_details_name                    25\n",
       "click_page_details_record                  14\n",
       "click_page_details_current_streak           9\n",
       "click_page_details_age                      7\n",
       "click_page_details_dob                      9\n",
       "click_page_details_class                    3\n",
       "click_page_details_height                   7\n",
       "click_page_details_reach                    1\n",
       "click_page_details_last_fight              10\n",
       "click_page_details_gym                      5\n",
       "click_page_details_gym_url                  5\n",
       "click_page_details_opponent_name          147\n",
       "click_page_details_opponent_result         89\n",
       "click_page_details_opponent_result_url    128\n",
       "click_page_details_opponent_fight_date    105\n",
       "dtype: int64"
      ]
     },
     "execution_count": 42,
     "metadata": {},
     "output_type": "execute_result"
    }
   ],
   "source": [
    "# check number of unique values per col\n",
    "df.nunique()"
   ]
  },
  {
   "cell_type": "markdown",
   "id": "854822a6",
   "metadata": {},
   "source": [
    "__`df.where(cond, other=NoDefault.no_default, inplace=False, axis=None, level=None, errors='raise', try_cast=NoDefault.no_default)`__\n",
    "\n",
    "[Documentation](https://pandas.pydata.org/docs/reference/api/pandas.DataFrame.where.html)\n",
    "\n",
    "Where `cond` is `True`, keep the original value. Where `False`, replace with corresponding value from other."
   ]
  },
  {
   "cell_type": "code",
   "execution_count": 63,
   "id": "e5d56cff",
   "metadata": {
    "scrolled": true
   },
   "outputs": [
    {
     "data": {
      "text/html": [
       "<div>\n",
       "<style scoped>\n",
       "    .dataframe tbody tr th:only-of-type {\n",
       "        vertical-align: middle;\n",
       "    }\n",
       "\n",
       "    .dataframe tbody tr th {\n",
       "        vertical-align: top;\n",
       "    }\n",
       "\n",
       "    .dataframe thead th {\n",
       "        text-align: right;\n",
       "    }\n",
       "</style>\n",
       "<table border=\"1\" class=\"dataframe\">\n",
       "  <thead>\n",
       "    <tr style=\"text-align: right;\">\n",
       "      <th></th>\n",
       "      <th>name</th>\n",
       "      <th>record</th>\n",
       "      <th>current_streak</th>\n",
       "      <th>age</th>\n",
       "      <th>dob</th>\n",
       "      <th>class</th>\n",
       "      <th>height</th>\n",
       "      <th>reach</th>\n",
       "      <th>last_fight</th>\n",
       "      <th>gym</th>\n",
       "      <th>gym_url</th>\n",
       "      <th>opponent_name</th>\n",
       "      <th>opponent_result</th>\n",
       "      <th>opponent_result_url</th>\n",
       "      <th>opponent_fight_date</th>\n",
       "    </tr>\n",
       "  </thead>\n",
       "  <tbody>\n",
       "    <tr>\n",
       "      <th>0</th>\n",
       "      <td>John Palaiologos</td>\n",
       "      <td>18-11-1 (Win-Loss-Draw)</td>\n",
       "      <td>2 Losses</td>\n",
       "      <td>34.0</td>\n",
       "      <td>1987.08.19</td>\n",
       "      <td>Welterweight</td>\n",
       "      <td>6'2\" (188cm)</td>\n",
       "      <td>NaN</td>\n",
       "      <td>December 04, 2021</td>\n",
       "      <td>EFL Martial Arts Academy</td>\n",
       "      <td>https://www.tapology.com/gyms/4110-efl-martial...</td>\n",
       "      <td>Christian Eckerlin</td>\n",
       "      <td>Loss · Rear Naked Choke · 2:55 · R1</td>\n",
       "      <td>https://www.tapology.com/fightcenter/bouts/615...</td>\n",
       "      <td>2021.12.04</td>\n",
       "    </tr>\n",
       "    <tr>\n",
       "      <th>1</th>\n",
       "      <td>John Palaiologos</td>\n",
       "      <td>18-11-1 (Win-Loss-Draw)</td>\n",
       "      <td>2 Losses</td>\n",
       "      <td>34.0</td>\n",
       "      <td>1987.08.19</td>\n",
       "      <td>Welterweight</td>\n",
       "      <td>6'2\" (188cm)</td>\n",
       "      <td>NaN</td>\n",
       "      <td>December 04, 2021</td>\n",
       "      <td>EFL Martial Arts Academy</td>\n",
       "      <td>https://www.tapology.com/gyms/4110-efl-martial...</td>\n",
       "      <td>Jesse Urholin</td>\n",
       "      <td>Loss · Ground &amp; Pound · 3:36 · R2</td>\n",
       "      <td>https://www.tapology.com/fightcenter/bouts/600...</td>\n",
       "      <td>2021.10.01</td>\n",
       "    </tr>\n",
       "    <tr>\n",
       "      <th>2</th>\n",
       "      <td>John Palaiologos</td>\n",
       "      <td>18-11-1 (Win-Loss-Draw)</td>\n",
       "      <td>2 Losses</td>\n",
       "      <td>34.0</td>\n",
       "      <td>1987.08.19</td>\n",
       "      <td>Welterweight</td>\n",
       "      <td>6'2\" (188cm)</td>\n",
       "      <td>NaN</td>\n",
       "      <td>December 04, 2021</td>\n",
       "      <td>EFL Martial Arts Academy</td>\n",
       "      <td>https://www.tapology.com/gyms/4110-efl-martial...</td>\n",
       "      <td>Mukhamed Berkhamov</td>\n",
       "      <td>Cancelled Bout</td>\n",
       "      <td>https://www.tapology.com/fightcenter/bouts/521...</td>\n",
       "      <td>2020.09.26</td>\n",
       "    </tr>\n",
       "    <tr>\n",
       "      <th>3</th>\n",
       "      <td>John Palaiologos</td>\n",
       "      <td>18-11-1 (Win-Loss-Draw)</td>\n",
       "      <td>2 Losses</td>\n",
       "      <td>34.0</td>\n",
       "      <td>1987.08.19</td>\n",
       "      <td>Welterweight</td>\n",
       "      <td>6'2\" (188cm)</td>\n",
       "      <td>NaN</td>\n",
       "      <td>December 04, 2021</td>\n",
       "      <td>EFL Martial Arts Academy</td>\n",
       "      <td>https://www.tapology.com/gyms/4110-efl-martial...</td>\n",
       "      <td>Konstantin Linnik</td>\n",
       "      <td>Win · Punches · 0:48 · R1</td>\n",
       "      <td>https://www.tapology.com/fightcenter/bouts/472...</td>\n",
       "      <td>2019.12.15</td>\n",
       "    </tr>\n",
       "    <tr>\n",
       "      <th>4</th>\n",
       "      <td>John Palaiologos</td>\n",
       "      <td>18-11-1 (Win-Loss-Draw)</td>\n",
       "      <td>2 Losses</td>\n",
       "      <td>34.0</td>\n",
       "      <td>1987.08.19</td>\n",
       "      <td>Welterweight</td>\n",
       "      <td>6'2\" (188cm)</td>\n",
       "      <td>NaN</td>\n",
       "      <td>December 04, 2021</td>\n",
       "      <td>EFL Martial Arts Academy</td>\n",
       "      <td>https://www.tapology.com/gyms/4110-efl-martial...</td>\n",
       "      <td>Piotr Wawrzyniak</td>\n",
       "      <td>Win · Soccer Kick · 4:56 · R1</td>\n",
       "      <td>https://www.tapology.com/fightcenter/bouts/452...</td>\n",
       "      <td>2019.10.05</td>\n",
       "    </tr>\n",
       "  </tbody>\n",
       "</table>\n",
       "</div>"
      ],
      "text/plain": [
       "               name                   record current_streak   age         dob  \\\n",
       "0  John Palaiologos  18-11-1 (Win-Loss-Draw)       2 Losses  34.0  1987.08.19   \n",
       "1  John Palaiologos  18-11-1 (Win-Loss-Draw)       2 Losses  34.0  1987.08.19   \n",
       "2  John Palaiologos  18-11-1 (Win-Loss-Draw)       2 Losses  34.0  1987.08.19   \n",
       "3  John Palaiologos  18-11-1 (Win-Loss-Draw)       2 Losses  34.0  1987.08.19   \n",
       "4  John Palaiologos  18-11-1 (Win-Loss-Draw)       2 Losses  34.0  1987.08.19   \n",
       "\n",
       "          class        height reach         last_fight  \\\n",
       "0  Welterweight  6'2\" (188cm)   NaN  December 04, 2021   \n",
       "1  Welterweight  6'2\" (188cm)   NaN  December 04, 2021   \n",
       "2  Welterweight  6'2\" (188cm)   NaN  December 04, 2021   \n",
       "3  Welterweight  6'2\" (188cm)   NaN  December 04, 2021   \n",
       "4  Welterweight  6'2\" (188cm)   NaN  December 04, 2021   \n",
       "\n",
       "                        gym  \\\n",
       "0  EFL Martial Arts Academy   \n",
       "1  EFL Martial Arts Academy   \n",
       "2  EFL Martial Arts Academy   \n",
       "3  EFL Martial Arts Academy   \n",
       "4  EFL Martial Arts Academy   \n",
       "\n",
       "                                             gym_url       opponent_name  \\\n",
       "0  https://www.tapology.com/gyms/4110-efl-martial...  Christian Eckerlin   \n",
       "1  https://www.tapology.com/gyms/4110-efl-martial...       Jesse Urholin   \n",
       "2  https://www.tapology.com/gyms/4110-efl-martial...  Mukhamed Berkhamov   \n",
       "3  https://www.tapology.com/gyms/4110-efl-martial...   Konstantin Linnik   \n",
       "4  https://www.tapology.com/gyms/4110-efl-martial...    Piotr Wawrzyniak   \n",
       "\n",
       "                       opponent_result  \\\n",
       "0  Loss · Rear Naked Choke · 2:55 · R1   \n",
       "1    Loss · Ground & Pound · 3:36 · R2   \n",
       "2                       Cancelled Bout   \n",
       "3            Win · Punches · 0:48 · R1   \n",
       "4        Win · Soccer Kick · 4:56 · R1   \n",
       "\n",
       "                                 opponent_result_url opponent_fight_date  \n",
       "0  https://www.tapology.com/fightcenter/bouts/615...          2021.12.04  \n",
       "1  https://www.tapology.com/fightcenter/bouts/600...          2021.10.01  \n",
       "2  https://www.tapology.com/fightcenter/bouts/521...          2020.09.26  \n",
       "3  https://www.tapology.com/fightcenter/bouts/472...          2019.12.15  \n",
       "4  https://www.tapology.com/fightcenter/bouts/452...          2019.10.05  "
      ]
     },
     "execution_count": 63,
     "metadata": {},
     "output_type": "execute_result"
    }
   ],
   "source": [
    "import numpy as np\n",
    "\n",
    "# rename cols\n",
    "df.rename(columns=lambda s: s.replace(\"click_page_details_\", \"\"), inplace=True)\n",
    "\n",
    "df.head()"
   ]
  },
  {
   "cell_type": "code",
   "execution_count": 70,
   "id": "a08c53c8",
   "metadata": {},
   "outputs": [
    {
     "data": {
      "text/html": [
       "<div>\n",
       "<style scoped>\n",
       "    .dataframe tbody tr th:only-of-type {\n",
       "        vertical-align: middle;\n",
       "    }\n",
       "\n",
       "    .dataframe tbody tr th {\n",
       "        vertical-align: top;\n",
       "    }\n",
       "\n",
       "    .dataframe thead th {\n",
       "        text-align: right;\n",
       "    }\n",
       "</style>\n",
       "<table border=\"1\" class=\"dataframe\">\n",
       "  <thead>\n",
       "    <tr style=\"text-align: right;\">\n",
       "      <th></th>\n",
       "      <th>name</th>\n",
       "      <th>record</th>\n",
       "      <th>current_streak</th>\n",
       "      <th>age</th>\n",
       "      <th>dob</th>\n",
       "      <th>class</th>\n",
       "      <th>height</th>\n",
       "      <th>reach</th>\n",
       "      <th>last_fight</th>\n",
       "      <th>gym</th>\n",
       "      <th>gym_url</th>\n",
       "      <th>opponent_name</th>\n",
       "      <th>opponent_result</th>\n",
       "      <th>opponent_result_url</th>\n",
       "      <th>opponent_fight_date</th>\n",
       "    </tr>\n",
       "  </thead>\n",
       "  <tbody>\n",
       "    <tr>\n",
       "      <th>0</th>\n",
       "      <td>John Palaiologos</td>\n",
       "      <td>18-11-1 (Win-Loss-Draw)</td>\n",
       "      <td>2 Losses</td>\n",
       "      <td>34.0</td>\n",
       "      <td>1987.08.19</td>\n",
       "      <td>Welterweight</td>\n",
       "      <td>6'2\" (188cm)</td>\n",
       "      <td>NaN</td>\n",
       "      <td>December 04, 2021</td>\n",
       "      <td>EFL Martial Arts Academy</td>\n",
       "      <td>https://www.tapology.com/gyms/4110-efl-martial...</td>\n",
       "      <td>Christian Eckerlin</td>\n",
       "      <td>Loss · Rear Naked Choke · 2:55 · R1</td>\n",
       "      <td>https://www.tapology.com/fightcenter/bouts/615...</td>\n",
       "      <td>2021.12.04</td>\n",
       "    </tr>\n",
       "    <tr>\n",
       "      <th>1</th>\n",
       "      <td>John Palaiologos</td>\n",
       "      <td>18-11-1 (Win-Loss-Draw)</td>\n",
       "      <td>2 Losses</td>\n",
       "      <td>34.0</td>\n",
       "      <td>1987.08.19</td>\n",
       "      <td>Welterweight</td>\n",
       "      <td>6'2\" (188cm)</td>\n",
       "      <td>NaN</td>\n",
       "      <td>December 04, 2021</td>\n",
       "      <td>EFL Martial Arts Academy</td>\n",
       "      <td>https://www.tapology.com/gyms/4110-efl-martial...</td>\n",
       "      <td>Jesse Urholin</td>\n",
       "      <td>Loss · Ground &amp; Pound · 3:36 · R2</td>\n",
       "      <td>https://www.tapology.com/fightcenter/bouts/600...</td>\n",
       "      <td>2021.10.01</td>\n",
       "    </tr>\n",
       "    <tr>\n",
       "      <th>2</th>\n",
       "      <td>John Palaiologos</td>\n",
       "      <td>18-11-1 (Win-Loss-Draw)</td>\n",
       "      <td>2 Losses</td>\n",
       "      <td>34.0</td>\n",
       "      <td>1987.08.19</td>\n",
       "      <td>Welterweight</td>\n",
       "      <td>6'2\" (188cm)</td>\n",
       "      <td>NaN</td>\n",
       "      <td>December 04, 2021</td>\n",
       "      <td>EFL Martial Arts Academy</td>\n",
       "      <td>https://www.tapology.com/gyms/4110-efl-martial...</td>\n",
       "      <td>Mukhamed Berkhamov</td>\n",
       "      <td>Cancelled Bout</td>\n",
       "      <td>https://www.tapology.com/fightcenter/bouts/521...</td>\n",
       "      <td>2020.09.26</td>\n",
       "    </tr>\n",
       "    <tr>\n",
       "      <th>3</th>\n",
       "      <td>John Palaiologos</td>\n",
       "      <td>18-11-1 (Win-Loss-Draw)</td>\n",
       "      <td>2 Losses</td>\n",
       "      <td>34.0</td>\n",
       "      <td>1987.08.19</td>\n",
       "      <td>Welterweight</td>\n",
       "      <td>6'2\" (188cm)</td>\n",
       "      <td>NaN</td>\n",
       "      <td>December 04, 2021</td>\n",
       "      <td>EFL Martial Arts Academy</td>\n",
       "      <td>https://www.tapology.com/gyms/4110-efl-martial...</td>\n",
       "      <td>Konstantin Linnik</td>\n",
       "      <td>Win · Punches · 0:48 · R1</td>\n",
       "      <td>https://www.tapology.com/fightcenter/bouts/472...</td>\n",
       "      <td>2019.12.15</td>\n",
       "    </tr>\n",
       "    <tr>\n",
       "      <th>4</th>\n",
       "      <td>John Palaiologos</td>\n",
       "      <td>18-11-1 (Win-Loss-Draw)</td>\n",
       "      <td>2 Losses</td>\n",
       "      <td>34.0</td>\n",
       "      <td>1987.08.19</td>\n",
       "      <td>Welterweight</td>\n",
       "      <td>6'2\" (188cm)</td>\n",
       "      <td>NaN</td>\n",
       "      <td>December 04, 2021</td>\n",
       "      <td>EFL Martial Arts Academy</td>\n",
       "      <td>https://www.tapology.com/gyms/4110-efl-martial...</td>\n",
       "      <td>Piotr Wawrzyniak</td>\n",
       "      <td>Win · Soccer Kick · 4:56 · R1</td>\n",
       "      <td>https://www.tapology.com/fightcenter/bouts/452...</td>\n",
       "      <td>2019.10.05</td>\n",
       "    </tr>\n",
       "  </tbody>\n",
       "</table>\n",
       "</div>"
      ],
      "text/plain": [
       "               name                   record current_streak   age         dob  \\\n",
       "0  John Palaiologos  18-11-1 (Win-Loss-Draw)       2 Losses  34.0  1987.08.19   \n",
       "1  John Palaiologos  18-11-1 (Win-Loss-Draw)       2 Losses  34.0  1987.08.19   \n",
       "2  John Palaiologos  18-11-1 (Win-Loss-Draw)       2 Losses  34.0  1987.08.19   \n",
       "3  John Palaiologos  18-11-1 (Win-Loss-Draw)       2 Losses  34.0  1987.08.19   \n",
       "4  John Palaiologos  18-11-1 (Win-Loss-Draw)       2 Losses  34.0  1987.08.19   \n",
       "\n",
       "          class        height reach         last_fight  \\\n",
       "0  Welterweight  6'2\" (188cm)   NaN  December 04, 2021   \n",
       "1  Welterweight  6'2\" (188cm)   NaN  December 04, 2021   \n",
       "2  Welterweight  6'2\" (188cm)   NaN  December 04, 2021   \n",
       "3  Welterweight  6'2\" (188cm)   NaN  December 04, 2021   \n",
       "4  Welterweight  6'2\" (188cm)   NaN  December 04, 2021   \n",
       "\n",
       "                        gym  \\\n",
       "0  EFL Martial Arts Academy   \n",
       "1  EFL Martial Arts Academy   \n",
       "2  EFL Martial Arts Academy   \n",
       "3  EFL Martial Arts Academy   \n",
       "4  EFL Martial Arts Academy   \n",
       "\n",
       "                                             gym_url       opponent_name  \\\n",
       "0  https://www.tapology.com/gyms/4110-efl-martial...  Christian Eckerlin   \n",
       "1  https://www.tapology.com/gyms/4110-efl-martial...       Jesse Urholin   \n",
       "2  https://www.tapology.com/gyms/4110-efl-martial...  Mukhamed Berkhamov   \n",
       "3  https://www.tapology.com/gyms/4110-efl-martial...   Konstantin Linnik   \n",
       "4  https://www.tapology.com/gyms/4110-efl-martial...    Piotr Wawrzyniak   \n",
       "\n",
       "                       opponent_result  \\\n",
       "0  Loss · Rear Naked Choke · 2:55 · R1   \n",
       "1    Loss · Ground & Pound · 3:36 · R2   \n",
       "2                       Cancelled Bout   \n",
       "3            Win · Punches · 0:48 · R1   \n",
       "4        Win · Soccer Kick · 4:56 · R1   \n",
       "\n",
       "                                 opponent_result_url opponent_fight_date  \n",
       "0  https://www.tapology.com/fightcenter/bouts/615...          2021.12.04  \n",
       "1  https://www.tapology.com/fightcenter/bouts/600...          2021.10.01  \n",
       "2  https://www.tapology.com/fightcenter/bouts/521...          2020.09.26  \n",
       "3  https://www.tapology.com/fightcenter/bouts/472...          2019.12.15  \n",
       "4  https://www.tapology.com/fightcenter/bouts/452...          2019.10.05  "
      ]
     },
     "execution_count": 70,
     "metadata": {},
     "output_type": "execute_result"
    }
   ],
   "source": [
    "# here our .where() function replaces age values that are 0 with NaN values\n",
    "df['age'].where(df['age'] > 0 , np.nan, inplace=True)\n",
    "\n",
    "df.head()"
   ]
  },
  {
   "cell_type": "markdown",
   "id": "44919198",
   "metadata": {},
   "source": [
    "__Characterizing missingness with crosstab__\n",
    "\n",
    "Let’s try to understand the missingness in the url column by counting the missing values across each borough. We will use the `crosstab()` function in pandas to do this.\n",
    "\n",
    "The `crosstab()` computes the __frequency of two or more variables__. \n",
    "\n",
    "To look at the missingness in the url column we can add isna() to the column to identify if there is an NaN in that column. This will return a boolean, True if there is a NaN and False if there is not. In our crosstab, we will look at all the boroughs present in our data and whether or not they have missing url links.\n"
   ]
  },
  {
   "cell_type": "code",
   "execution_count": 73,
   "id": "d2574901",
   "metadata": {},
   "outputs": [
    {
     "data": {
      "text/html": [
       "<div>\n",
       "<style scoped>\n",
       "    .dataframe tbody tr th:only-of-type {\n",
       "        vertical-align: middle;\n",
       "    }\n",
       "\n",
       "    .dataframe tbody tr th {\n",
       "        vertical-align: top;\n",
       "    }\n",
       "\n",
       "    .dataframe thead th {\n",
       "        text-align: right;\n",
       "    }\n",
       "</style>\n",
       "<table border=\"1\" class=\"dataframe\">\n",
       "  <thead>\n",
       "    <tr style=\"text-align: right;\">\n",
       "      <th>url is na</th>\n",
       "      <th>False</th>\n",
       "      <th>True</th>\n",
       "    </tr>\n",
       "    <tr>\n",
       "      <th>name</th>\n",
       "      <th></th>\n",
       "      <th></th>\n",
       "    </tr>\n",
       "  </thead>\n",
       "  <tbody>\n",
       "    <tr>\n",
       "      <th>Alexandros Alevras</th>\n",
       "      <td>0</td>\n",
       "      <td>1</td>\n",
       "    </tr>\n",
       "    <tr>\n",
       "      <th>Andreas Tricomitis</th>\n",
       "      <td>15</td>\n",
       "      <td>0</td>\n",
       "    </tr>\n",
       "    <tr>\n",
       "      <th>Aristokratis Papadopoulos</th>\n",
       "      <td>2</td>\n",
       "      <td>0</td>\n",
       "    </tr>\n",
       "    <tr>\n",
       "      <th>Bill Tranakidis</th>\n",
       "      <td>0</td>\n",
       "      <td>1</td>\n",
       "    </tr>\n",
       "    <tr>\n",
       "      <th>Evangelos Zafeiris</th>\n",
       "      <td>0</td>\n",
       "      <td>1</td>\n",
       "    </tr>\n",
       "    <tr>\n",
       "      <th>Georgios Daskalakis</th>\n",
       "      <td>0</td>\n",
       "      <td>4</td>\n",
       "    </tr>\n",
       "    <tr>\n",
       "      <th>Georgios Kaisidis</th>\n",
       "      <td>2</td>\n",
       "      <td>0</td>\n",
       "    </tr>\n",
       "    <tr>\n",
       "      <th>Georgios Kougioumtzidis</th>\n",
       "      <td>2</td>\n",
       "      <td>0</td>\n",
       "    </tr>\n",
       "    <tr>\n",
       "      <th>Giannis Bachar</th>\n",
       "      <td>0</td>\n",
       "      <td>10</td>\n",
       "    </tr>\n",
       "    <tr>\n",
       "      <th>Giannis Stavridis</th>\n",
       "      <td>0</td>\n",
       "      <td>2</td>\n",
       "    </tr>\n",
       "    <tr>\n",
       "      <th>Haralambos Georgiadis</th>\n",
       "      <td>0</td>\n",
       "      <td>1</td>\n",
       "    </tr>\n",
       "    <tr>\n",
       "      <th>Ioannis Nikas</th>\n",
       "      <td>0</td>\n",
       "      <td>22</td>\n",
       "    </tr>\n",
       "    <tr>\n",
       "      <th>John Palaiologos</th>\n",
       "      <td>35</td>\n",
       "      <td>0</td>\n",
       "    </tr>\n",
       "    <tr>\n",
       "      <th>Kodjo Bowel</th>\n",
       "      <td>0</td>\n",
       "      <td>5</td>\n",
       "    </tr>\n",
       "    <tr>\n",
       "      <th>Konstantinos Ntelis</th>\n",
       "      <td>13</td>\n",
       "      <td>0</td>\n",
       "    </tr>\n",
       "    <tr>\n",
       "      <th>Kostas Karafyllidis</th>\n",
       "      <td>0</td>\n",
       "      <td>2</td>\n",
       "    </tr>\n",
       "    <tr>\n",
       "      <th>Labis Flindris</th>\n",
       "      <td>0</td>\n",
       "      <td>4</td>\n",
       "    </tr>\n",
       "    <tr>\n",
       "      <th>Michalis Papanikolau</th>\n",
       "      <td>0</td>\n",
       "      <td>4</td>\n",
       "    </tr>\n",
       "    <tr>\n",
       "      <th>Muhammed Kir Ahmet</th>\n",
       "      <td>0</td>\n",
       "      <td>6</td>\n",
       "    </tr>\n",
       "    <tr>\n",
       "      <th>Nika Panchulidze</th>\n",
       "      <td>3</td>\n",
       "      <td>0</td>\n",
       "    </tr>\n",
       "    <tr>\n",
       "      <th>Robert Oganesyan</th>\n",
       "      <td>19</td>\n",
       "      <td>0</td>\n",
       "    </tr>\n",
       "    <tr>\n",
       "      <th>Simeon Karslidis</th>\n",
       "      <td>0</td>\n",
       "      <td>5</td>\n",
       "    </tr>\n",
       "    <tr>\n",
       "      <th>Sulo Hilaj</th>\n",
       "      <td>5</td>\n",
       "      <td>0</td>\n",
       "    </tr>\n",
       "    <tr>\n",
       "      <th>Valerios Janavar Akritidis</th>\n",
       "      <td>0</td>\n",
       "      <td>7</td>\n",
       "    </tr>\n",
       "    <tr>\n",
       "      <th>Yoan Petrov</th>\n",
       "      <td>0</td>\n",
       "      <td>4</td>\n",
       "    </tr>\n",
       "  </tbody>\n",
       "</table>\n",
       "</div>"
      ],
      "text/plain": [
       "url is na                   False  True\n",
       "name                                   \n",
       "Alexandros Alevras              0     1\n",
       "Andreas Tricomitis             15     0\n",
       "Aristokratis Papadopoulos       2     0\n",
       "Bill Tranakidis                 0     1\n",
       "Evangelos Zafeiris              0     1\n",
       "Georgios Daskalakis             0     4\n",
       "Georgios Kaisidis               2     0\n",
       "Georgios Kougioumtzidis         2     0\n",
       "Giannis Bachar                  0    10\n",
       "Giannis Stavridis               0     2\n",
       "Haralambos Georgiadis           0     1\n",
       "Ioannis Nikas                   0    22\n",
       "John Palaiologos               35     0\n",
       "Kodjo Bowel                     0     5\n",
       "Konstantinos Ntelis            13     0\n",
       "Kostas Karafyllidis             0     2\n",
       "Labis Flindris                  0     4\n",
       "Michalis Papanikolau            0     4\n",
       "Muhammed Kir Ahmet              0     6\n",
       "Nika Panchulidze                3     0\n",
       "Robert Oganesyan               19     0\n",
       "Simeon Karslidis                0     5\n",
       "Sulo Hilaj                      5     0\n",
       "Valerios Janavar Akritidis      0     7\n",
       "Yoan Petrov                     0     4"
      ]
     },
     "execution_count": 73,
     "metadata": {},
     "output_type": "execute_result"
    }
   ],
   "source": [
    "pd.crosstab(\n",
    " \n",
    "        # tabulates the boroughs as the index\n",
    "        df['name'],  \n",
    " \n",
    "        # tabulates the number of missing values in the url column as columns\n",
    "        df['age'].isna(), \n",
    " \n",
    "        # names the rows\n",
    "        rownames = ['name'],\n",
    " \n",
    "        # names the columns \n",
    "        colnames = ['url is na']) "
   ]
  },
  {
   "cell_type": "markdown",
   "id": "7d46593a",
   "metadata": {},
   "source": [
    "__Removing prefixes__\n",
    "\n",
    "It might be easier to read what url links are by removing the prefixes of the websites, such as “https://www.\". We will use `str.lstrip()` to __remove the prefixes__. \n",
    "\n",
    "Similar to when we were working with our column names, we need to make sure to include the `str` function to identify that we are working with strings and `lstrip` to remove parts of the string from the `left side`."
   ]
  },
  {
   "cell_type": "code",
   "execution_count": 75,
   "id": "5e627893",
   "metadata": {},
   "outputs": [
    {
     "data": {
      "text/plain": [
       "0    https://www.tapology.com/gyms/4110-efl-martial...\n",
       "1    https://www.tapology.com/gyms/4110-efl-martial...\n",
       "2    https://www.tapology.com/gyms/4110-efl-martial...\n",
       "3    https://www.tapology.com/gyms/4110-efl-martial...\n",
       "4    https://www.tapology.com/gyms/4110-efl-martial...\n",
       "Name: gym_url, dtype: object"
      ]
     },
     "execution_count": 75,
     "metadata": {},
     "output_type": "execute_result"
    }
   ],
   "source": [
    "df['gym_url'].head()"
   ]
  },
  {
   "cell_type": "code",
   "execution_count": 76,
   "id": "3759c63f",
   "metadata": {},
   "outputs": [
    {
     "data": {
      "text/plain": [
       "0    www.tapology.com/gyms/4110-efl-martial-arts-ac...\n",
       "1    www.tapology.com/gyms/4110-efl-martial-arts-ac...\n",
       "2    www.tapology.com/gyms/4110-efl-martial-arts-ac...\n",
       "3    www.tapology.com/gyms/4110-efl-martial-arts-ac...\n",
       "4    www.tapology.com/gyms/4110-efl-martial-arts-ac...\n",
       "Name: gym_url, dtype: object"
      ]
     },
     "execution_count": 76,
     "metadata": {},
     "output_type": "execute_result"
    }
   ],
   "source": [
    "# .str.lstrip('https://') removes the “https://” from the left side of the string\n",
    "df['gym_url'] = df['gym_url'].str.lstrip('https://') \n",
    "\n",
    "df['gym_url'].head() "
   ]
  },
  {
   "cell_type": "code",
   "execution_count": 77,
   "id": "7db62da0",
   "metadata": {},
   "outputs": [
    {
     "data": {
      "text/plain": [
       "0    tapology.com/gyms/4110-efl-martial-arts-academy\n",
       "1    tapology.com/gyms/4110-efl-martial-arts-academy\n",
       "2    tapology.com/gyms/4110-efl-martial-arts-academy\n",
       "3    tapology.com/gyms/4110-efl-martial-arts-academy\n",
       "4    tapology.com/gyms/4110-efl-martial-arts-academy\n",
       "Name: gym_url, dtype: object"
      ]
     },
     "execution_count": 77,
     "metadata": {},
     "output_type": "execute_result"
    }
   ],
   "source": [
    "# .str.lstrip('www.') removes the “www.” from the left side of the string\n",
    "df['gym_url'] = df['gym_url'].str.lstrip('www.')\n",
    "\n",
    "df['gym_url'].head()"
   ]
  },
  {
   "cell_type": "markdown",
   "id": "b0d7fa98",
   "metadata": {},
   "source": [
    "Amazing! Our __dataset is now much easier to read and use__. \n",
    "\n",
    "We have __identifiable columns and variables__ that are easy to work with thanks to our data wrangling process. \n",
    "\n",
    "We also __corrected illogical data values__ and __made the strings a little easier to read__.\n",
    "\n",
    "In this example, we worked with data that was rather __tidy__, in the sense that __each row was an observation__ and __each column was a variable__. \n",
    "\n",
    "However, what if our dataset was not tidy? What if our columns and rows needed reorganization?"
   ]
  },
  {
   "cell_type": "markdown",
   "id": "7b61e802",
   "metadata": {},
   "source": [
    "__Tidy Data__\n",
    "\n",
    "Let’s take a look at a dataset that has information about the average annual wage for restaurant workers across New York City boroughs and New York City as a whole from the years 2000 and 2007. The data is from the New York State Department of Labor, Quarterly Census of Employment and Wages,and only contains six total rows."
   ]
  },
  {
   "cell_type": "code",
   "execution_count": 86,
   "id": "844dfcb3",
   "metadata": {},
   "outputs": [
    {
     "data": {
      "text/html": [
       "<div>\n",
       "<style scoped>\n",
       "    .dataframe tbody tr th:only-of-type {\n",
       "        vertical-align: middle;\n",
       "    }\n",
       "\n",
       "    .dataframe tbody tr th {\n",
       "        vertical-align: top;\n",
       "    }\n",
       "\n",
       "    .dataframe thead th {\n",
       "        text-align: right;\n",
       "    }\n",
       "</style>\n",
       "<table border=\"1\" class=\"dataframe\">\n",
       "  <thead>\n",
       "    <tr style=\"text-align: right;\">\n",
       "      <th></th>\n",
       "      <th>borough</th>\n",
       "      <th>2000</th>\n",
       "      <th>2007</th>\n",
       "    </tr>\n",
       "  </thead>\n",
       "  <tbody>\n",
       "    <tr>\n",
       "      <th>0</th>\n",
       "      <td>area_A</td>\n",
       "      <td>20000</td>\n",
       "      <td>18000</td>\n",
       "    </tr>\n",
       "    <tr>\n",
       "      <th>1</th>\n",
       "      <td>area_B</td>\n",
       "      <td>25000</td>\n",
       "      <td>20000</td>\n",
       "    </tr>\n",
       "    <tr>\n",
       "      <th>2</th>\n",
       "      <td>area_C</td>\n",
       "      <td>22000</td>\n",
       "      <td>25000</td>\n",
       "    </tr>\n",
       "  </tbody>\n",
       "</table>\n",
       "</div>"
      ],
      "text/plain": [
       "  borough   2000   2007\n",
       "0  area_A  20000  18000\n",
       "1  area_B  25000  20000\n",
       "2  area_C  22000  25000"
      ]
     },
     "execution_count": 86,
     "metadata": {},
     "output_type": "execute_result"
    }
   ],
   "source": [
    "df_toy = pd.DataFrame(\n",
    "    {'borough': ['area_A', 'area_B', 'area_C'],\n",
    "     '2000': [20_000, 25_000, 22_000],\n",
    "     '2007': [18_000, 20_000, 25_000],\n",
    "    }\n",
    ")\n",
    "\n",
    "df_toy"
   ]
  },
  {
   "cell_type": "markdown",
   "id": "c5090a83",
   "metadata": {},
   "source": [
    "There are three variables in this dataset: `borough`, `year`, and `average annual income`. \n",
    "\n",
    "However, we have values (`2000` and `2007`) in the column headers rather than variable names (`year` and `average annual income`). This is not ideal to work with, so let’s fix it! \n",
    "\n",
    "We will use the `melt()` function in pandas to turn the current values (`2000` and `2007`) in the column headers into row values and add `year` and `avg_annual_wage` as our column labels."
   ]
  },
  {
   "cell_type": "code",
   "execution_count": 88,
   "id": "2601d869",
   "metadata": {},
   "outputs": [
    {
     "data": {
      "text/html": [
       "<div>\n",
       "<style scoped>\n",
       "    .dataframe tbody tr th:only-of-type {\n",
       "        vertical-align: middle;\n",
       "    }\n",
       "\n",
       "    .dataframe tbody tr th {\n",
       "        vertical-align: top;\n",
       "    }\n",
       "\n",
       "    .dataframe thead th {\n",
       "        text-align: right;\n",
       "    }\n",
       "</style>\n",
       "<table border=\"1\" class=\"dataframe\">\n",
       "  <thead>\n",
       "    <tr style=\"text-align: right;\">\n",
       "      <th></th>\n",
       "      <th>borough</th>\n",
       "      <th>year</th>\n",
       "      <th>avg_annual_wage</th>\n",
       "    </tr>\n",
       "  </thead>\n",
       "  <tbody>\n",
       "    <tr>\n",
       "      <th>0</th>\n",
       "      <td>area_A</td>\n",
       "      <td>2000</td>\n",
       "      <td>20000</td>\n",
       "    </tr>\n",
       "    <tr>\n",
       "      <th>1</th>\n",
       "      <td>area_B</td>\n",
       "      <td>2000</td>\n",
       "      <td>25000</td>\n",
       "    </tr>\n",
       "    <tr>\n",
       "      <th>2</th>\n",
       "      <td>area_C</td>\n",
       "      <td>2000</td>\n",
       "      <td>22000</td>\n",
       "    </tr>\n",
       "    <tr>\n",
       "      <th>3</th>\n",
       "      <td>area_A</td>\n",
       "      <td>2007</td>\n",
       "      <td>18000</td>\n",
       "    </tr>\n",
       "    <tr>\n",
       "      <th>4</th>\n",
       "      <td>area_B</td>\n",
       "      <td>2007</td>\n",
       "      <td>20000</td>\n",
       "    </tr>\n",
       "    <tr>\n",
       "      <th>5</th>\n",
       "      <td>area_C</td>\n",
       "      <td>2007</td>\n",
       "      <td>25000</td>\n",
       "    </tr>\n",
       "  </tbody>\n",
       "</table>\n",
       "</div>"
      ],
      "text/plain": [
       "  borough  year  avg_annual_wage\n",
       "0  area_A  2000            20000\n",
       "1  area_B  2000            25000\n",
       "2  area_C  2000            22000\n",
       "3  area_A  2007            18000\n",
       "4  area_B  2007            20000\n",
       "5  area_C  2007            25000"
      ]
     },
     "execution_count": 88,
     "metadata": {},
     "output_type": "execute_result"
    }
   ],
   "source": [
    "df_toy_fixed=df_toy.melt(\n",
    " \n",
    "      # which column to use as identifier variables\n",
    "      id_vars=[\"borough\"], \n",
    " \n",
    "      # column name to use for “variable” names/column headers (ie. 2000 and 2007) \n",
    "      var_name=[\"year\"], \n",
    " \n",
    "      # column name for the values originally in the columns 2000 and 2007\n",
    "      value_name=\"avg_annual_wage\") \n",
    "\n",
    "df_toy_fixed"
   ]
  },
  {
   "cell_type": "markdown",
   "id": "5f298cd6",
   "metadata": {},
   "source": [
    "Now we have a tidy dataset where each column is a variable (borough, year, or average annual wage), and each row is an observation! This dataset will be much easier to work with moving forward!"
   ]
  },
  {
   "cell_type": "markdown",
   "id": "997bbb46",
   "metadata": {},
   "source": [
    "<a name=\"regexes\"></a>\n",
    "# 5.3 Regular Expressions\n",
    "1. [Intro](#regexintro)\n",
    "1. [Literals](#literals)\n",
    "1. [Alternation](#alternation)\n",
    "1. [Character Sets](#charsets)\n",
    "1. [Wild for Wildcards](#wildcards)\n",
    "1. [Ranges](#ranges)\n",
    "1. [Shorthand Character Classes](#classes)\n",
    "1. [Grouping](#grouping)\n",
    "1. [Quantifiers - Fixed](#fixedquant)\n",
    "1. [Quantifiers - Optional](#optionalquant)\n",
    "1. [Quantifiers - 0 or More, 1 or More](#starplus)\n",
    "1. [Anchors](#anchors)"
   ]
  },
  {
   "cell_type": "markdown",
   "id": "67a93c90",
   "metadata": {},
   "source": [
    "<a name=\"regexintro\"></a>\n",
    "## 5.3.1 Intro"
   ]
  },
  {
   "cell_type": "markdown",
   "id": "b873e6fd",
   "metadata": {},
   "source": [
    "The technology that __fuels the verification systems__ on nearly every website and application is the ever reliable, often quirky language of __regular expressions__, commonly shortened to __regex__.\n",
    "\n",
    "A regular expression is a __special sequence of characters__ that describe a __pattern of text__ that should be found, or matched, in a string or document."
   ]
  },
  {
   "cell_type": "code",
   "execution_count": 26,
   "id": "9c5b4aaf",
   "metadata": {},
   "outputs": [
    {
     "data": {
      "text/plain": [
       "'\\nA regular expression (shortened as regex or regexp;[1] also referred to as rational expression[2][3]) is a \\nsequence of characters that specifies a search pattern in text. Usually such patterns are used by string-searching \\nalgorithms for \"find\" or \"find and replace\" operations on strings, or for input validation.\\n\\nIt is a technique developed in theoretical computer science and formal language theory.\\n\\nThe concept of regular expressions began in the 1950s, when the American mathematician Stephen Cole Kleene formalized \\nthe description of a regular language. They came into common use with Unix text-processing utilities. Different syntaxes\\nfor writing regular expressions have existed since the 1980s, one being the POSIX standard and another, widely used,\\nbeing the Perl syntax.\\n\\nRegular expressions are used in search engines, search and replace dialogs of word processors and text editors,\\nin text processing utilities such as sed and AWK and in lexical analysis. Many programming languages provide regex\\ncapabilities either built-in or via libraries, as it has uses in many situations.\\n'"
      ]
     },
     "execution_count": 26,
     "metadata": {},
     "output_type": "execute_result"
    }
   ],
   "source": [
    "import re\n",
    "\n",
    "text = \"\"\"\n",
    "A regular expression (shortened as regex or regexp;[1] also referred to as rational expression[2][3]) is a \n",
    "sequence of characters that specifies a search pattern in text. Usually such patterns are used by string-searching \n",
    "algorithms for \"find\" or \"find and replace\" operations on strings, or for input validation.\n",
    "\n",
    "It is a technique developed in theoretical computer science and formal language theory.\n",
    "\n",
    "The concept of regular expressions began in the 1950s, when the American mathematician Stephen Cole Kleene formalized \n",
    "the description of a regular language. They came into common use with Unix text-processing utilities. Different syntaxes\n",
    "for writing regular expressions have existed since the 1980s, one being the POSIX standard and another, widely used,\n",
    "being the Perl syntax.\n",
    "\n",
    "Regular expressions are used in search engines, search and replace dialogs of word processors and text editors,\n",
    "in text processing utilities such as sed and AWK and in lexical analysis. Many programming languages provide regex\n",
    "capabilities either built-in or via libraries, as it has uses in many situations.\n",
    "\"\"\"\n",
    "text"
   ]
  },
  {
   "cell_type": "markdown",
   "id": "b4e0f51e",
   "metadata": {},
   "source": [
    "<a name=\"literals\"></a>\n",
    "## 5.3.2 Literals"
   ]
  },
  {
   "cell_type": "markdown",
   "id": "ab5f1200",
   "metadata": {},
   "source": [
    "The simplest text we can match with regular expressions are __literals__; this is where our regular expression contains the __exact text__ that we want to match."
   ]
  },
  {
   "cell_type": "code",
   "execution_count": 39,
   "id": "10788ba4",
   "metadata": {},
   "outputs": [
    {
     "data": {
      "text/plain": [
       "['love', 'love']"
      ]
     },
     "execution_count": 39,
     "metadata": {},
     "output_type": "execute_result"
    }
   ],
   "source": [
    "# define text\n",
    "text = \"I love baboons and I love gorillas\"\n",
    "# create regex pattern using literals\n",
    "pattern = re.compile(r'love')\n",
    "# find all matches\n",
    "result = pattern.findall(text)\n",
    "# show result\n",
    "result"
   ]
  },
  {
   "cell_type": "markdown",
   "id": "59a50256",
   "metadata": {},
   "source": [
    "<a name=\"alternation\"></a>\n",
    "## 5.3.3 Alternation"
   ]
  },
  {
   "cell_type": "markdown",
   "id": "ee062789",
   "metadata": {},
   "source": [
    "You can __find two distinct phrases__ with the same regular expression using __alternation__. \n",
    "\n",
    "It is performed with the __pipe symbol__, `|`, and allows us to match either the characters preceding the `|` __OR__ the characters after the `|`."
   ]
  },
  {
   "cell_type": "code",
   "execution_count": 36,
   "id": "00a33846",
   "metadata": {},
   "outputs": [
    {
     "data": {
      "text/plain": [
       "['I love baboons ', ' I love gorillas']"
      ]
     },
     "execution_count": 36,
     "metadata": {},
     "output_type": "execute_result"
    }
   ],
   "source": [
    "# define text\n",
    "text = \"I love baboons and I love gorillas\"\n",
    "# create regex pattern using alternation\n",
    "pattern = re.compile(r'I love baboons | I love gorillas')\n",
    "# find all matches\n",
    "result = pattern.findall(text)\n",
    "# show result\n",
    "result"
   ]
  },
  {
   "cell_type": "markdown",
   "id": "321ba698",
   "metadata": {},
   "source": [
    "<a name=\"charsets\"></a>\n",
    "## 5.3.4 Character Sets"
   ]
  },
  {
   "cell_type": "markdown",
   "id": "fa3241f1",
   "metadata": {},
   "source": [
    "Character sets, denoted by a pair of __square brackets__, `[]`, let us match one character from a series of characters, allowing for matches with incorrect or different spellings."
   ]
  },
  {
   "cell_type": "code",
   "execution_count": 40,
   "id": "e808cf75",
   "metadata": {},
   "outputs": [
    {
     "data": {
      "text/plain": [
       "['consencus', 'concencus', 'concensus', 'concencus']"
      ]
     },
     "execution_count": 40,
     "metadata": {},
     "output_type": "execute_result"
    }
   ],
   "source": [
    "# define text\n",
    "text = \"consencus and concencus and concensus and concencus\"\n",
    "# create regex pattern using char sets\n",
    "pattern = re.compile(r'con[sc]en[cs]us')\n",
    "# find all matches\n",
    "result = pattern.findall(text)\n",
    "# show result\n",
    "result"
   ]
  },
  {
   "cell_type": "markdown",
   "id": "64306510",
   "metadata": {},
   "source": [
    "We can make our character sets even more powerful with the help of the __caret symbol__, `^`. Placed __at the front of a character set__, it __negates the set__, matching any character that is not stated. These are called negated character sets."
   ]
  },
  {
   "cell_type": "code",
   "execution_count": 42,
   "id": "4c4d7438",
   "metadata": {},
   "outputs": [
    {
     "data": {
      "text/plain": [
       "['concencus', 'concensus', 'concencus']"
      ]
     },
     "execution_count": 42,
     "metadata": {},
     "output_type": "execute_result"
    }
   ],
   "source": [
    "# define text\n",
    "text = \"consencus and concencus and concensus and concencus\"\n",
    "# create regex pattern using negated char sets \n",
    "pattern = re.compile(r'con[^s]en[cs]us')\n",
    "# find all matches\n",
    "result = pattern.findall(text)\n",
    "# show result\n",
    "result"
   ]
  },
  {
   "cell_type": "markdown",
   "id": "f6b09036",
   "metadata": {},
   "source": [
    "<a name=\"wildcards\"></a>\n",
    "## 5.3.5 Wild for Wildcards"
   ]
  },
  {
   "cell_type": "markdown",
   "id": "b2acae60",
   "metadata": {},
   "source": [
    "Wildcards will **match any single character** (letter, number, symbol or whitespace) in a piece of text. \n",
    "\n",
    "They are useful when we do not care about the specific value of a character, but only that a character exists."
   ]
  },
  {
   "cell_type": "code",
   "execution_count": 44,
   "id": "9c59dffd",
   "metadata": {},
   "outputs": [
    {
     "data": {
      "text/plain": [
       "['consencus', 'concencus', 'concensus', 'concencus']"
      ]
     },
     "execution_count": 44,
     "metadata": {},
     "output_type": "execute_result"
    }
   ],
   "source": [
    "# define text\n",
    "text = \"consencus and concencus and concensus and concencus\"\n",
    "# create regex pattern using wildcard\n",
    "pattern = re.compile(r'con.en.us')\n",
    "# find all matches\n",
    "result = pattern.findall(text)\n",
    "# show result\n",
    "result"
   ]
  },
  {
   "cell_type": "markdown",
   "id": "b0baa219",
   "metadata": {},
   "source": [
    "We can use the __escape character__, `\\`, to escape the functionality of a __metacharacter__ and match the literal character."
   ]
  },
  {
   "cell_type": "code",
   "execution_count": 47,
   "id": "1304d0bf",
   "metadata": {},
   "outputs": [
    {
     "data": {
      "text/plain": [
       "['concencus.']"
      ]
     },
     "execution_count": 47,
     "metadata": {},
     "output_type": "execute_result"
    }
   ],
   "source": [
    "# define text\n",
    "text = \"consencus and concencus and concensus and concencus.\"\n",
    "# create regex pattern using escape char\n",
    "pattern = re.compile(r'con[sc]en[sc]us\\.')\n",
    "# find all matches\n",
    "result = pattern.findall(text)\n",
    "# show result\n",
    "result"
   ]
  },
  {
   "cell_type": "markdown",
   "id": "2aa90e33",
   "metadata": {},
   "source": [
    "<a name=\"ranges\"></a>\n",
    "## 5.3.6 Ranges"
   ]
  },
  {
   "cell_type": "markdown",
   "id": "b6394712",
   "metadata": {},
   "source": [
    "Ranges allow us to __specify a range of characters__ in which we can make a match without having to type out each individual character. "
   ]
  },
  {
   "cell_type": "code",
   "execution_count": 50,
   "id": "5acb1b02",
   "metadata": {},
   "outputs": [
    {
     "data": {
      "text/plain": [
       "['c', 'c', 'a', 'c', 'c', 'c', 'a', 'c', 'c', 'a', 'c', 'c', 'c']"
      ]
     },
     "execution_count": 50,
     "metadata": {},
     "output_type": "execute_result"
    }
   ],
   "source": [
    "# define text\n",
    "text = \"consencus and concencus and concensus and concencus.\"\n",
    "# create regex pattern using range\n",
    "pattern = re.compile(r'[a-c]')\n",
    "# find all matches\n",
    "result = pattern.findall(text)\n",
    "# show result\n",
    "result"
   ]
  },
  {
   "cell_type": "markdown",
   "id": "3256e25b",
   "metadata": {},
   "source": [
    "<a name=\"classes\"></a>\n",
    "## 5.3.7 Shorthand Character Classes"
   ]
  },
  {
   "cell_type": "markdown",
   "id": "aceef48c",
   "metadata": {},
   "source": [
    "There are shorthand character classes that represent __common ranges__:\n",
    "\n",
    "__`\\w`__: the “word character” class represents the regex range `[A-Za-z0-9_]`, and it matches a single uppercase character, lowercase character, digit or underscore\n",
    "\n",
    "__`\\d`__: the “digit character” class represents the regex range `[0-9]`, and it matches a single digit character\n",
    "\n",
    "__`\\s`__: the “whitespace character” class represents the regex range `[ \\t\\r\\n\\f\\v]`, matching a single space, tab, carriage return, line break, form feed, or vertical tab\n",
    "\n",
    "In addition to the shorthand character classes, we also have access to the __negated shorthand character classes__ that will match any character that is NOT in the regular shorthand classes:\n",
    "\n",
    "__`\\W`__: the “non-word character” class represents the regex range `[^A-Za-z0-9_]`, matching any character that is not included in the range represented by \\w\n",
    "\n",
    "__`\\D`__: the “non-digit character” class represents the regex range `[^0-9]`, matching any character that is not included in the range represented by \\d\n",
    "\n",
    "__`\\S`__: the “non-whitespace character” class represents the regex range `[^ \\t\\r\\n\\f\\v]`, matching any character that is not included in the range represented by \\s"
   ]
  },
  {
   "cell_type": "code",
   "execution_count": 53,
   "id": "b0107626",
   "metadata": {},
   "outputs": [
    {
     "data": {
      "text/plain": [
       "['love', 'babo', 'love', 'gori', 'llas']"
      ]
     },
     "execution_count": 53,
     "metadata": {},
     "output_type": "execute_result"
    }
   ],
   "source": [
    "# define text\n",
    "text = \"I love baboons and I love gorillas\"\n",
    "# create regex pattern using shorthands\n",
    "pattern = re.compile(r'\\w\\w\\w\\w')\n",
    "# find all matches\n",
    "result = pattern.findall(text)\n",
    "# show result\n",
    "result"
   ]
  },
  {
   "cell_type": "code",
   "execution_count": 58,
   "id": "22afafa6",
   "metadata": {},
   "outputs": [
    {
     "name": "stdout",
     "output_type": "stream",
     "text": [
      "['I', 'l', 'o', 'v', 'e', 'b', 'a', 'b', 'o', 'o', 'n', 's', 'a', 'n', 'd', 'I', 'l', 'o', 'v', 'e', 'g', 'o', 'r', 'i', 'l', 'l', 'a', 's']\n"
     ]
    }
   ],
   "source": [
    "# define text\n",
    "text = \"I love baboons and I love gorillas\"\n",
    "# create regex pattern using negated shorthands\n",
    "pattern = re.compile(r'\\S')\n",
    "# find all matches\n",
    "result = pattern.findall(text)\n",
    "# show result\n",
    "print(result)"
   ]
  },
  {
   "cell_type": "markdown",
   "id": "17abc685",
   "metadata": {},
   "source": [
    "<a name=\"grouping\"></a>\n",
    "## 5.3.8 Grouping"
   ]
  },
  {
   "cell_type": "markdown",
   "id": "cb87a098",
   "metadata": {},
   "source": [
    "The `|` symbol matches the entire expression before or after itself, but __grouping__, `()`, lets us group parts of a regular expression together, and allows us to __limit alternation__ to part of the regex.\n",
    "\n",
    "These groups are also called __capture groups__, as they have the power to select, or __capture__, a substring from our matched text."
   ]
  },
  {
   "cell_type": "code",
   "execution_count": 64,
   "id": "26e57aca",
   "metadata": {},
   "outputs": [
    {
     "name": "stdout",
     "output_type": "stream",
     "text": [
      "['baboons', 'gorillas']\n"
     ]
    }
   ],
   "source": [
    "# define text\n",
    "text = \"I love baboons and I love gorillas\"\n",
    "# create regex pattern using grouping\n",
    "pattern = re.compile(r'I love (baboons|gorillas)')\n",
    "# find all matches\n",
    "result = pattern.findall(text)\n",
    "# show result\n",
    "print(result)"
   ]
  },
  {
   "cell_type": "markdown",
   "id": "1ab5913d",
   "metadata": {},
   "source": [
    "`(?:...)` is a __non-capturing version of regular parentheses__. \n",
    "\n",
    "Matches whatever regular expression is inside the parentheses, but the substring matched by the group cannot be retrieved after performing a match or referenced later in the pattern."
   ]
  },
  {
   "cell_type": "code",
   "execution_count": 65,
   "id": "da964f1d",
   "metadata": {},
   "outputs": [
    {
     "name": "stdout",
     "output_type": "stream",
     "text": [
      "['I love baboons', 'I love gorillas']\n"
     ]
    }
   ],
   "source": [
    "# define text\n",
    "text = \"I love baboons and I love gorillas\"\n",
    "# create regex pattern using grouping\n",
    "pattern = re.compile(r'I love (?:baboons|gorillas)')\n",
    "# find all matches\n",
    "result = pattern.findall(text)\n",
    "# show result\n",
    "print(result)"
   ]
  },
  {
   "cell_type": "markdown",
   "id": "b1cf612e",
   "metadata": {},
   "source": [
    "<a name=\"fixedquant\"></a>\n",
    "## 5.3.9 Quantifiers - Fixed"
   ]
  },
  {
   "cell_type": "markdown",
   "id": "d2a19459",
   "metadata": {},
   "source": [
    "So far we have only matched text on a **character by character basis**.\n",
    "\n",
    "__Fixed quantifiers__, `{}`, let us indicate the __exact quantity of a character__ we wish to match, or allow us to provide a __quantity range__ to match on.\n",
    "\n",
    "An important note is that quantifiers are considered to be __greedy__. This means that __they will match the greatest quantity of characters they possibly can__. "
   ]
  },
  {
   "cell_type": "code",
   "execution_count": 66,
   "id": "15d02bda",
   "metadata": {},
   "outputs": [
    {
     "name": "stdout",
     "output_type": "stream",
     "text": [
      "['love', 'babo', 'love', 'gori', 'llas']\n"
     ]
    }
   ],
   "source": [
    "# define text\n",
    "text = \"I love baboons and I love gorillas\"\n",
    "# create regex pattern using fixed quantifiers\n",
    "pattern = re.compile(r'\\w{4}')\n",
    "# find all matches\n",
    "result = pattern.findall(text)\n",
    "# show result\n",
    "print(result)"
   ]
  },
  {
   "cell_type": "code",
   "execution_count": 68,
   "id": "2a29a6ed",
   "metadata": {},
   "outputs": [
    {
     "name": "stdout",
     "output_type": "stream",
     "text": [
      "['I', 'love', 'babo', 'ons', 'and', 'I', 'love', 'gori', 'llas']\n"
     ]
    }
   ],
   "source": [
    "# define text\n",
    "text = \"I love baboons and I love gorillas\"\n",
    "# create regex pattern using fixed range quantifiers\n",
    "pattern = re.compile(r'\\w{1,4}')\n",
    "# find all matches\n",
    "result = pattern.findall(text)\n",
    "# show result\n",
    "print(result)"
   ]
  },
  {
   "cell_type": "markdown",
   "id": "ca6333b1",
   "metadata": {},
   "source": [
    "<a name=\"optionalquant\"></a>\n",
    "## 5.3.10 Quantifiers - Optional"
   ]
  },
  {
   "cell_type": "markdown",
   "id": "32f5e4c3",
   "metadata": {},
   "source": [
    "Optional quantifiers, `?`, allow us to __indicate a character in a regex is optional__, or can appear either 0 times or 1 time. \n",
    "\n",
    "Note the `?` only __applies to the character directly before it__."
   ]
  },
  {
   "cell_type": "code",
   "execution_count": 71,
   "id": "7e96e953",
   "metadata": {},
   "outputs": [
    {
     "name": "stdout",
     "output_type": "stream",
     "text": [
      "['love', 'baboons', 'and', 'love', 'gorillas.']\n"
     ]
    }
   ],
   "source": [
    "# define text\n",
    "text = \"I love baboons and I love gorillas.\"\n",
    "# create regex pattern using optional quantifiers\n",
    "pattern = re.compile(r'\\w{3,}\\.?')\n",
    "# find all matches\n",
    "result = pattern.findall(text)\n",
    "# show result\n",
    "print(result)"
   ]
  },
  {
   "cell_type": "markdown",
   "id": "4de91c43",
   "metadata": {},
   "source": [
    "<a name=\"starplus\"></a>\n",
    "## 5.3.11 Quantifiers - 0 or More, 1 or More"
   ]
  },
  {
   "cell_type": "markdown",
   "id": "2c2a15fa",
   "metadata": {},
   "source": [
    "The __Kleene star__, `*`, is also a __quantifier__, and __matches the preceding character 0 or more times__."
   ]
  },
  {
   "cell_type": "code",
   "execution_count": 77,
   "id": "668ed78f",
   "metadata": {},
   "outputs": [
    {
     "name": "stdout",
     "output_type": "stream",
     "text": [
      "['mews', 'meoows', 'meooows', 'meoooooooooooows.']\n"
     ]
    }
   ],
   "source": [
    "# define text\n",
    "text = \"The cat mews, and meoows, and meooows, and meoooooooooooows.\"\n",
    "# create regex pattern using optional quantifiers\n",
    "pattern = re.compile(r'meo*ws\\.?')\n",
    "# find all matches\n",
    "result = pattern.findall(text)\n",
    "# show result\n",
    "print(result)"
   ]
  },
  {
   "cell_type": "markdown",
   "id": "9aa07f76",
   "metadata": {},
   "source": [
    "The __Kleene plus__, `+`, __matches the preceding character 1 or more times__."
   ]
  },
  {
   "cell_type": "code",
   "execution_count": 78,
   "id": "982cc734",
   "metadata": {},
   "outputs": [
    {
     "name": "stdout",
     "output_type": "stream",
     "text": [
      "['meoows', 'meooows', 'meoooooooooooows.']\n"
     ]
    }
   ],
   "source": [
    "# define text\n",
    "text = \"The cat mews, and meoows, and meooows, and meoooooooooooows.\"\n",
    "# create regex pattern using optional quantifiers\n",
    "pattern = re.compile(r'meo+ws\\.?')\n",
    "# find all matches\n",
    "result = pattern.findall(text)\n",
    "# show result\n",
    "print(result)"
   ]
  },
  {
   "cell_type": "markdown",
   "id": "78a93334",
   "metadata": {},
   "source": [
    "<a name=\"anchors\"></a>\n",
    "## 5.3.12 Anchors"
   ]
  },
  {
   "cell_type": "markdown",
   "id": "9def5629",
   "metadata": {},
   "source": [
    "The __anchors hat__, `^`, is used to __match text at the start of a string__."
   ]
  },
  {
   "cell_type": "code",
   "execution_count": 85,
   "id": "ed1047bc",
   "metadata": {},
   "outputs": [
    {
     "name": "stdout",
     "output_type": "stream",
     "text": [
      "['the']\n"
     ]
    }
   ],
   "source": [
    "# define text\n",
    "text = \"the cat mews, and the cat meoows, and meooows, and meoooooooooooows.\"\n",
    "# create regex pattern using optional quantifiers\n",
    "pattern = re.compile(r'^the')\n",
    "# find all matches\n",
    "result = pattern.findall(text)\n",
    "# show result\n",
    "print(result)"
   ]
  },
  {
   "cell_type": "markdown",
   "id": "902bfb3b",
   "metadata": {},
   "source": [
    "The __anchors dollar sign__, `$`, is used to __match text at the end of a string__."
   ]
  },
  {
   "cell_type": "code",
   "execution_count": 86,
   "id": "d4e6827d",
   "metadata": {},
   "outputs": [
    {
     "name": "stdout",
     "output_type": "stream",
     "text": [
      "['ows']\n"
     ]
    }
   ],
   "source": [
    "# define text\n",
    "text = \"The cat mews, and meoows, and meooows, and meoooooooooooows\"\n",
    "# create regex pattern using optional quantifiers\n",
    "pattern = re.compile(r'ows$')\n",
    "# find all matches\n",
    "result = pattern.findall(text)\n",
    "# show result\n",
    "print(result)"
   ]
  },
  {
   "cell_type": "markdown",
   "id": "dc16962b",
   "metadata": {},
   "source": [
    "Regex Official [Documentation](https://docs.python.org/3/library/re.html#module-contents).\n",
    "\n",
    "Useful regex sites for practice: [RegExr](https://regexr.com/) & [regex101](https://regex101.com/)."
   ]
  }
 ],
 "metadata": {
  "kernelspec": {
   "display_name": "Python 3 (ipykernel)",
   "language": "python",
   "name": "python3"
  },
  "language_info": {
   "codemirror_mode": {
    "name": "ipython",
    "version": 3
   },
   "file_extension": ".py",
   "mimetype": "text/x-python",
   "name": "python",
   "nbconvert_exporter": "python",
   "pygments_lexer": "ipython3",
   "version": "3.9.7"
  }
 },
 "nbformat": 4,
 "nbformat_minor": 5
}
