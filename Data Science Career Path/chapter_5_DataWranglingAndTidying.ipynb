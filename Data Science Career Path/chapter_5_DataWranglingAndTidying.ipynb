{
 "cells": [
  {
   "cell_type": "markdown",
   "id": "ccfb6676",
   "metadata": {},
   "source": [
    "# Reflective Writing for Data Science Career Path - Codecademy\n",
    "by [Charalampos Spanias](https://cspanias.github.io/aboutme/) - February 2021\n",
    "\n",
    "## Content\n",
    "1. Getting Started with Data Science\n",
    "2. Python Fundamentals\n",
    "3. Data Acquisition\n",
    "4. Data Manipulation with Pandas\n",
    "5. [Data Wrangling \\& Tidying](#wrangling)\n",
    "    1. [Introduction](#intro)\n",
    "    1. [Fundamentals](#fun)\n",
    "    1. [Regural Expressions](#regexes)\n",
    "    1. [Data Cleaning](#cleaning)\n",
    "    1. [Tidy Data](#tidy)\n",
    "    1. [Pair Programming](#pair)\n",
    "    1. [Exploratory Data Analysis](#eda)"
   ]
  },
  {
   "cell_type": "markdown",
   "id": "eae61a5f",
   "metadata": {},
   "source": [
    "<a name=\"wrangling\"></a>\n",
    "# 5. Data Wrangling & Tidying"
   ]
  },
  {
   "cell_type": "markdown",
   "id": "478cc167",
   "metadata": {},
   "source": [
    "<a name=\"intro\"></a>\n",
    "# 5.1 Intoduction"
   ]
  },
  {
   "cell_type": "markdown",
   "id": "fd72040b",
   "metadata": {},
   "source": [
    "<a name=\"fun\"></a>\n",
    "# 5.2 Fundamentals"
   ]
  },
  {
   "cell_type": "markdown",
   "id": "997bbb46",
   "metadata": {},
   "source": [
    "<a name=\"regexes\"></a>\n",
    "# 5.3 Regular Expressions"
   ]
  },
  {
   "cell_type": "markdown",
   "id": "ebffee7c",
   "metadata": {},
   "source": [
    "<a name=\"cleaning\"></a>\n",
    "# 5.4 Data Cleaning"
   ]
  },
  {
   "cell_type": "markdown",
   "id": "6bdafb5b",
   "metadata": {},
   "source": [
    "<a name=\"tidy\"></a>\n",
    "# 5.5 Tidy Data"
   ]
  },
  {
   "cell_type": "markdown",
   "id": "b51b5ca3",
   "metadata": {},
   "source": [
    "<a name=\"pair\"></a>\n",
    "# 5.6 Pair Programming"
   ]
  },
  {
   "cell_type": "markdown",
   "id": "de0aac21",
   "metadata": {},
   "source": [
    "<a name=\"eda\"></a>\n",
    "# 5.7 Exploratory Data Analysis"
   ]
  }
 ],
 "metadata": {
  "kernelspec": {
   "display_name": "Python 3 (ipykernel)",
   "language": "python",
   "name": "python3"
  },
  "language_info": {
   "codemirror_mode": {
    "name": "ipython",
    "version": 3
   },
   "file_extension": ".py",
   "mimetype": "text/x-python",
   "name": "python",
   "nbconvert_exporter": "python",
   "pygments_lexer": "ipython3",
   "version": "3.9.7"
  }
 },
 "nbformat": 4,
 "nbformat_minor": 5
}
