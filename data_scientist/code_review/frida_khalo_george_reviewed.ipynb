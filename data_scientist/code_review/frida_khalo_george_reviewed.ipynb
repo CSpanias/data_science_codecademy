{
 "cells": [
  {
   "cell_type": "markdown",
   "id": "56c03a1a",
   "metadata": {},
   "source": [
    "# Frida Kahlo Exhibition\n",
    " \n",
    "You've been hired to work on a retrospective of Frida Kahlo's work at a major museum. Your job is to put together the audio tour, but in order to do that you need to create a list of each painting featured in the exhibit, the date it was painted, and its spot in the tour. \n",
    "\n",
    "Use your knowledge of Python lists to create a master list of each painting, its date, and its audio tour ID. "
   ]
  },
  {
   "cell_type": "markdown",
   "id": "638ae81f",
   "metadata": {},
   "source": [
    "## Task 1\n",
    "First, create a list called `paintings` and add the following titles to it:\n",
    "\n",
    "`The Two Fridas, My Dress Hangs Here, Tree of Hope, Self Portrait With Monkeys`"
   ]
  },
  {
   "cell_type": "code",
   "execution_count": 1,
   "id": "243d4126",
   "metadata": {},
   "outputs": [
    {
     "name": "stdout",
     "output_type": "stream",
     "text": [
      "['The Two Fridas', 'My Dress Hangs Here', 'Tree of Hope', 'Self Portrait With Monkeys']\n"
     ]
    }
   ],
   "source": [
    "paintings = [\"The Two Fridas\", \"My Dress Hangs Here\", \"Tree of Hope\", \"Self Portrait With Monkeys\"]\n",
    "print(paintings)"
   ]
  },
  {
   "cell_type": "markdown",
   "id": "43739137",
   "metadata": {},
   "source": [
    "## Task 2\n",
    "\n",
    "Next, create a second list called `dates` and give it the following values:  \n",
    "`1939, 1933, 1946, 1940`"
   ]
  },
  {
   "cell_type": "code",
   "execution_count": 2,
   "id": "7f897df7",
   "metadata": {
    "scrolled": true
   },
   "outputs": [
    {
     "name": "stdout",
     "output_type": "stream",
     "text": [
      "[1939, 1933, 1946, 1940]\n"
     ]
    }
   ],
   "source": [
    "dates = [1939, 1933, 1946, 1940]\n",
    "print(dates)"
   ]
  },
  {
   "cell_type": "markdown",
   "id": "a4c312fe",
   "metadata": {},
   "source": [
    "**Comment #1**  \n",
    "Seems that you know how to create lists, so I have nothing extra to add !"
   ]
  },
  {
   "cell_type": "markdown",
   "id": "d1a02f23",
   "metadata": {},
   "source": [
    "## Task 3 \n",
    "\n",
    "It doesn't do much good to have the paintings without their dates, and vice versa. \n",
    "\n",
    "Zip together the two lists so that each painting is paired with its date and resave it to the `paintings` variable. Make sure to convert the zipped object into a list using the `list()` function. \n",
    "\n",
    "Print the results to the terminal to check your work. "
   ]
  },
  {
   "cell_type": "code",
   "execution_count": 3,
   "id": "18eefd11",
   "metadata": {},
   "outputs": [
    {
     "name": "stdout",
     "output_type": "stream",
     "text": [
      "[(1939, 'The Two Fridas'), (1933, 'My Dress Hangs Here'), (1946, 'Tree of Hope'), (1940, 'Self Portrait With Monkeys')]\n"
     ]
    }
   ],
   "source": [
    "paintings = list(zip(dates, paintings))\n",
    "print(paintings)"
   ]
  },
  {
   "cell_type": "markdown",
   "id": "28394f7c",
   "metadata": {},
   "source": [
    "## Task 4\n",
    "There were some last minute additions to the show that we need to add to our list. Append the following paintings to our `paintings` list then re-print to check they were added correctly:\n",
    "- 'The Broken Column', 1944\n",
    "- 'The Wounded Deer', 1946\n",
    "- 'Me and My Doll', 1937\n",
    "\n",
    "*Hint*: Make sure to append each painting individually and that you're appending them as tuples, not lists."
   ]
  },
  {
   "cell_type": "code",
   "execution_count": 4,
   "id": "39f551c7",
   "metadata": {},
   "outputs": [
    {
     "name": "stdout",
     "output_type": "stream",
     "text": [
      "[(1939, 'The Two Fridas'), (1933, 'My Dress Hangs Here'), (1946, 'Tree of Hope'), (1940, 'Self Portrait With Monkeys'), ('The Broken Column', 1944), ('The Wounded Deer', 1946), ('Me and My Doll', 1937)]\n"
     ]
    }
   ],
   "source": [
    "paintings.append(tuple([\"The Broken Column\", 1944]))\n",
    "paintings.append(tuple([\"The Wounded Deer\", 1946]))\n",
    "paintings.append(tuple([\"Me and My Doll\", 1937]))\n",
    "print(paintings)"
   ]
  },
  {
   "cell_type": "markdown",
   "id": "5f16b1de",
   "metadata": {},
   "source": [
    "**Comment #2**  \n",
    "Althought, I did it myself wrong which I notice afterwards, it says to append them as **tuples** and not **lists**.\n",
    "\n",
    "You created a list which then you converted into a tuple, which is absolutely fine of course, but maybe a more effiecient and succint way would be to just have them as tuples in the first place?\n",
    "\n",
    "For example:  `paintings.append((\"The Broken Column\", 1944))`"
   ]
  },
  {
   "cell_type": "markdown",
   "id": "fe31012c",
   "metadata": {},
   "source": [
    "## Task 5\n",
    "\n",
    "Since each of these paintings is going to be in the audio tour, they each need a unique identification number. But before we assign them a number, we first need to check how many paintings there are in total.\n",
    "\n",
    "Find the length of the `paintings` list."
   ]
  },
  {
   "cell_type": "code",
   "execution_count": 5,
   "id": "acc4de23",
   "metadata": {},
   "outputs": [
    {
     "name": "stdout",
     "output_type": "stream",
     "text": [
      "7\n"
     ]
    }
   ],
   "source": [
    "print(len(paintings))"
   ]
  },
  {
   "cell_type": "markdown",
   "id": "8b1a9fc5",
   "metadata": {},
   "source": [
    "## Task 6\n",
    "\n",
    "Use the `range` method to generate a list of identification numbers that starts at 1 and is equal in length to our list of items.\n",
    "\n",
    "Save the list to the variable `audio_tour_number` and check your work by printing the list."
   ]
  },
  {
   "cell_type": "code",
   "execution_count": 6,
   "id": "33d80fa5",
   "metadata": {},
   "outputs": [
    {
     "name": "stdout",
     "output_type": "stream",
     "text": [
      "[1, 2, 3, 4, 5, 6, 7, 8]\n"
     ]
    }
   ],
   "source": [
    "audio_tour_number = list(range(1, 9))\n",
    "print(audio_tour_number)"
   ]
  },
  {
   "cell_type": "markdown",
   "id": "7eb9d1a4",
   "metadata": {},
   "source": [
    "**Comment #3**  \n",
    "I think you got a bit confused here. \n",
    "\n",
    "In Task 5 you found that **the length of the list is 7**.\n",
    "\n",
    "In Task 6 it asks you to generate a lit using the `range` method that starts at 1 and is **equal with the list length** (which is 7).\n",
    "\n",
    "You code `audio_tour_number = list(range(1, 9))` generates a list that **starts at 1** (which is correct) and **goes up to 9-1** (8) which is not equal to the list length (7). Remember that the the list stops one number before the second number argument!\n",
    "\n",
    "It might be better to do this like this:"
   ]
  },
  {
   "cell_type": "code",
   "execution_count": 7,
   "id": "cc670fb7",
   "metadata": {},
   "outputs": [],
   "source": [
    "# because the tasks asks to starts at 1 and not at 0, I add +1 to the length of list\n",
    "audio_tour_number = list(range(1, len(paintings)+1))\n",
    "# print the list\n",
    "print(audio_tour_number)\n",
    "# print the length of the list\n",
    "print(len(audio_tour_number))\n",
    "# check if the lists are equal\n",
    "print(len(audio_tour_number) == len(paintings))"
   ]
  },
  {
   "cell_type": "markdown",
   "id": "6d001b96",
   "metadata": {},
   "source": [
    "**P.S.** *At the end, although your list had length 8 and not 7, the result is the same; because the paintings list has length 7 it matches only the first 7 elements and discard the 8th element of the audio_tour_number list. But in some other case it could generate errors or cause a mismatch.*"
   ]
  },
  {
   "cell_type": "markdown",
   "id": "4ffe7f57",
   "metadata": {},
   "source": [
    "## Task 7 \n",
    "\n",
    "We're finally read to create our master list. \n",
    "\n",
    "Zip the `audio_tour_number` list to the `paintings` list and save it as `master_list`.\n",
    "\n",
    "*Hint*: Make sure to convert the zipped object into a list using the `list()` function."
   ]
  },
  {
   "cell_type": "code",
   "execution_count": 8,
   "id": "3a22ec83",
   "metadata": {},
   "outputs": [
    {
     "name": "stdout",
     "output_type": "stream",
     "text": [
      "[(1, (1939, 'The Two Fridas')), (2, (1933, 'My Dress Hangs Here')), (3, (1946, 'Tree of Hope')), (4, (1940, 'Self Portrait With Monkeys')), (5, ('The Broken Column', 1944)), (6, ('The Wounded Deer', 1946)), (7, ('Me and My Doll', 1937))]\n"
     ]
    }
   ],
   "source": [
    "master_list = list(zip(audio_tour_number, paintings))\n",
    "print(master_list)"
   ]
  }
 ],
 "metadata": {
  "kernelspec": {
   "display_name": "Python 3 (ipykernel)",
   "language": "python",
   "name": "python3"
  },
  "language_info": {
   "codemirror_mode": {
    "name": "ipython",
    "version": 3
   },
   "file_extension": ".py",
   "mimetype": "text/x-python",
   "name": "python",
   "nbconvert_exporter": "python",
   "pygments_lexer": "ipython3",
   "version": "3.9.7"
  }
 },
 "nbformat": 4,
 "nbformat_minor": 5
}
