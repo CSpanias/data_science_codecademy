{
 "cells": [
  {
   "cell_type": "code",
   "execution_count": 1,
   "id": "802487ab",
   "metadata": {},
   "outputs": [],
   "source": [
    "# names of hurricanes\n",
    "names = ['Cuba I', 'San Felipe II Okeechobee', 'Bahamas', 'Cuba II', 'CubaBrownsville',\n",
    "         'Tampico', 'Labor Day', 'New England', 'Carol', 'Janet', 'Carla', 'Hattie',\n",
    "         'Beulah', 'Camille', 'Edith', 'Anita', 'David', 'Allen', 'Gilbert', 'Hugo',\n",
    "         'Andrew', 'Mitch', 'Isabel', 'Ivan', 'Emily', 'Katrina', 'Rita', 'Wilma',\n",
    "         'Dean', 'Felix', 'Matthew', 'Irma', 'Maria', 'Michael']\n",
    "\n",
    "# months of hurricanes\n",
    "months = ['October', 'September', 'September', 'November', 'August', 'September', 'September', 'September',\n",
    "          'September', 'September', 'September', 'October', 'September', 'August', 'September', 'September',\n",
    "          'August', 'August', 'September', 'September', 'August', 'October', 'September', 'September', 'July',\n",
    "          'August', 'September', 'October', 'August', 'September', 'October', 'September', 'September', 'October']\n",
    "\n",
    "\n",
    "# years of hurricanes\n",
    "years = [1924, 1928, 1932, 1932, 1933, 1933, 1935, 1938, 1953, 1955, 1961, 1961, 1967,\n",
    "         1969, 1971, 1977, 1979, 1980, 1988, 1989, 1992, 1998, 2003, 2004, 2005, 2005,\n",
    "         2005, 2005, 2007, 2007, 2016, 2017, 2017, 2018]\n",
    "\n",
    "# maximum sustained winds (mph) of hurricanes\n",
    "max_sustained_winds = [165, 160, 160, 175, 160, 160, 185, 160, 160, 175, 175, 160, 160,\n",
    "                       175, 160, 175, 175, 190, 185, 160, 175, 180, 165, 165, 160, 175,\n",
    "                       180, 185, 175, 175, 165, 180, 175, 160]\n",
    "\n",
    "# areas affected by each hurricane\n",
    "areas_affected = [['Central America', 'Mexico', 'Cuba', 'Florida', 'The Bahamas'],\n",
    "                  ['Lesser Antilles', 'The Bahamas', 'United States East Coast', 'Atlantic Canada'],\n",
    "                  ['The Bahamas', 'Northeastern United States'],\n",
    "                  ['Lesser Antilles', 'Jamaica', 'Cayman Islands', 'Cuba', 'The Bahamas', 'Bermuda'],\n",
    "                  ['The Bahamas', 'Cuba', 'Florida', 'Texas', 'Tamaulipas'], ['Jamaica', 'Yucatn Peninsula'],\n",
    "                  ['The Bahamas', 'Florida', 'Georgia', 'The Carolinas', 'Virginia'],\n",
    "                  ['Southeastern United States', 'Northeastern United States', 'Southwestern Quebec'],\n",
    "                  ['Bermuda', 'New England', 'Atlantic Canada'], ['Lesser Antilles', 'Central America'],\n",
    "                  ['Texas', 'Louisiana', 'Midwestern United States'], ['Central America'],\n",
    "                  ['The Caribbean', 'Mexico', 'Texas'], ['Cuba', 'United States Gulf Coast'],\n",
    "                  ['The Caribbean', 'Central America', 'Mexico', 'United States Gulf Coast'],\n",
    "                  ['Mexico'], ['The Caribbean', 'United States East coast'],\n",
    "                  ['The Caribbean', 'Yucatn Peninsula', 'Mexico', 'South Texas'],\n",
    "                  ['Jamaica', 'Venezuela', 'Central America', 'Hispaniola', 'Mexico'], \n",
    "                  ['The Caribbean', 'United States East Coast'], ['The Bahamas', 'Florida', 'United States Gulf Coast'],\n",
    "                  ['Central America', 'Yucatn Peninsula', 'South Florida'],\n",
    "                  ['Greater Antilles', 'Bahamas', 'Eastern United States', 'Ontario'],\n",
    "                  ['The Caribbean', 'Venezuela', 'United States Gulf Coast'], \n",
    "                  ['Windward Islands', 'Jamaica', 'Mexico', 'Texas'], ['Bahamas', 'United States Gulf Coast'],\n",
    "                  ['Cuba', 'United States Gulf Coast'], ['Greater Antilles', 'Central America', 'Florida'],\n",
    "                  ['The Caribbean', 'Central America'], ['Nicaragua', 'Honduras'],\n",
    "                  ['Antilles', 'Venezuela', 'Colombia', 'United States East Coast', 'Atlantic Canada'], \n",
    "                  ['Cape Verde', 'The Caribbean', 'British Virgin Islands', 'U.S. Virgin Islands', 'Cuba', 'Florida'],\n",
    "                  ['Lesser Antilles', 'Virgin Islands', 'Puerto Rico', 'Dominican Republic', 'Turks and Caicos Islands'],\n",
    "                  ['Central America', 'United States Gulf Coast (especially Florida Panhandle)']]\n",
    "\n",
    "# damages (USD($)) of hurricanes\n",
    "damages = ['Damages not recorded', '100M', 'Damages not recorded', '40M', '27.9M', '5M', 'Damages not recorded', '306M',\n",
    "           '2M', '65.8M', '326M', '60.3M', '208M', '1.42B', '25.4M', 'Damages not recorded', '1.54B', '1.24B', '7.1B',\n",
    "           '10B', '26.5B', '6.2B', '5.37B', '23.3B', '1.01B', '125B', '12B', '29.4B', '1.76B', '720M', '15.1B', '64.8B',\n",
    "           '91.6B', '25.1B']\n",
    "\n",
    "# deaths for each hurricane\n",
    "deaths = [90,4000,16,3103,179,184,408,682,5,1023,43,319,688,259,37,11,2068,269,318,107,65,19325,51,124,17,1836,125,87,45,\n",
    "          133,603,138,3057,74]\n",
    "\n",
    "# Update Recorded Damages\n",
    "conversion = {\"M\": 1000000, \"B\": 1000000000}"
   ]
  },
  {
   "cell_type": "markdown",
   "id": "3904b8b2",
   "metadata": {},
   "source": [
    "### 1. Write a function that returns a new list of updated damages where the recorded data is converted to float values and the missing data is retained as \"Damages not recorded\"."
   ]
  },
  {
   "cell_type": "code",
   "execution_count": 2,
   "id": "d78fead8",
   "metadata": {},
   "outputs": [
    {
     "name": "stdout",
     "output_type": "stream",
     "text": [
      "['Damages not recorded', 100000000.0, 'Damages not recorded', 40000000.0, 27900000.0, 5000000.0, 'Damages not recorded', 306000000.0, 2000000.0, 65800000.0, 326000000.0, 60300000.0, 208000000.0, 1420000000.0, 25400000.0, 'Damages not recorded', 1540000000.0, 1240000000.0, 7100000000.0, 10000000000.0, 26500000000.0, 6200000000.0, 5370000000.0, 23300000000.0, 1010000000.0, 125000000000.0, 12000000000.0, 29400000000.0, 1760000000.0, 720000000.0, 15100000000.0, 64800000000.0, 91600000000.0, 25100000000.0]\n"
     ]
    }
   ],
   "source": [
    "def string_to_float(list_of_strings):\n",
    "    \"Convert a list of strings to floats. String elements are preserved.\"\n",
    "    damages_updated = []\n",
    "    \n",
    "    for string in list_of_strings:\n",
    "        if \"B\" in string:\n",
    "            num = float(string[:-1]) * conversion[\"B\"]\n",
    "            damages_updated.append(float(num))\n",
    "        elif \"M\" in string:\n",
    "            num = float(string[:-1]) * conversion[\"M\"]\n",
    "            damages_updated.append(float(num))\n",
    "        else:\n",
    "            damages_updated.append(string)\n",
    "    return damages_updated\n",
    "\n",
    "\n",
    "damages_updated = string_to_float(damages)\n",
    "print(damages_updated)"
   ]
  },
  {
   "cell_type": "markdown",
   "id": "d64e7980",
   "metadata": {},
   "source": [
    "### 2. Write a function that constructs a dictionary made out of the lists, where the keys of the dictionary are the names of the hurricanes, and the values are dictionaries themselves containing a key for each piece of data :\n",
    "`(Name, Month, Year,Max Sustained Wind, Areas Affected, Damage, Death)` \n",
    "\n",
    "### Thus the key \"Cuba I\" would have the value: \n",
    "`{'Name': 'Cuba I', 'Month': 'October', 'Year': 1924, 'Max Sustained Wind': 165, 'Areas Affected': ['Central America', 'Mexico', 'Cuba', 'Florida', 'The Bahamas'], 'Damage': 'Damages not recorded', 'Deaths': 90}.`."
   ]
  },
  {
   "cell_type": "code",
   "execution_count": 3,
   "id": "0932b6ea",
   "metadata": {
    "scrolled": true
   },
   "outputs": [
    {
     "name": "stdout",
     "output_type": "stream",
     "text": [
      "{'Cuba I': {'Name': 'Cuba I', 'Month': 'October', 'Year': 1924, 'Max Sustained Wind': 165, 'Areas Affected': ['Central America', 'Mexico', 'Cuba', 'Florida', 'The Bahamas'], 'Damage': 'Damages not recorded', 'Deaths': 90}, 'San Felipe II Okeechobee': {'Name': 'San Felipe II Okeechobee', 'Month': 'September', 'Year': 1928, 'Max Sustained Wind': 160, 'Areas Affected': ['Lesser Antilles', 'The Bahamas', 'United States East Coast', 'Atlantic Canada'], 'Damage': 100000000.0, 'Deaths': 4000}, 'Bahamas': {'Name': 'Bahamas', 'Month': 'September', 'Year': 1932, 'Max Sustained Wind': 160, 'Areas Affected': ['The Bahamas', 'Northeastern United States'], 'Damage': 'Damages not recorded', 'Deaths': 16}, 'Cuba II': {'Name': 'Cuba II', 'Month': 'November', 'Year': 1932, 'Max Sustained Wind': 175, 'Areas Affected': ['Lesser Antilles', 'Jamaica', 'Cayman Islands', 'Cuba', 'The Bahamas', 'Bermuda'], 'Damage': 40000000.0, 'Deaths': 3103}, 'CubaBrownsville': {'Name': 'CubaBrownsville', 'Month': 'August', 'Year': 1933, 'Max Sustained Wind': 160, 'Areas Affected': ['The Bahamas', 'Cuba', 'Florida', 'Texas', 'Tamaulipas'], 'Damage': 27900000.0, 'Deaths': 179}, 'Tampico': {'Name': 'Tampico', 'Month': 'September', 'Year': 1933, 'Max Sustained Wind': 160, 'Areas Affected': ['Jamaica', 'Yucatn Peninsula'], 'Damage': 5000000.0, 'Deaths': 184}, 'Labor Day': {'Name': 'Labor Day', 'Month': 'September', 'Year': 1935, 'Max Sustained Wind': 185, 'Areas Affected': ['The Bahamas', 'Florida', 'Georgia', 'The Carolinas', 'Virginia'], 'Damage': 'Damages not recorded', 'Deaths': 408}, 'New England': {'Name': 'New England', 'Month': 'September', 'Year': 1938, 'Max Sustained Wind': 160, 'Areas Affected': ['Southeastern United States', 'Northeastern United States', 'Southwestern Quebec'], 'Damage': 306000000.0, 'Deaths': 682}, 'Carol': {'Name': 'Carol', 'Month': 'September', 'Year': 1953, 'Max Sustained Wind': 160, 'Areas Affected': ['Bermuda', 'New England', 'Atlantic Canada'], 'Damage': 2000000.0, 'Deaths': 5}, 'Janet': {'Name': 'Janet', 'Month': 'September', 'Year': 1955, 'Max Sustained Wind': 175, 'Areas Affected': ['Lesser Antilles', 'Central America'], 'Damage': 65800000.0, 'Deaths': 1023}, 'Carla': {'Name': 'Carla', 'Month': 'September', 'Year': 1961, 'Max Sustained Wind': 175, 'Areas Affected': ['Texas', 'Louisiana', 'Midwestern United States'], 'Damage': 326000000.0, 'Deaths': 43}, 'Hattie': {'Name': 'Hattie', 'Month': 'October', 'Year': 1961, 'Max Sustained Wind': 160, 'Areas Affected': ['Central America'], 'Damage': 60300000.0, 'Deaths': 319}, 'Beulah': {'Name': 'Beulah', 'Month': 'September', 'Year': 1967, 'Max Sustained Wind': 160, 'Areas Affected': ['The Caribbean', 'Mexico', 'Texas'], 'Damage': 208000000.0, 'Deaths': 688}, 'Camille': {'Name': 'Camille', 'Month': 'August', 'Year': 1969, 'Max Sustained Wind': 175, 'Areas Affected': ['Cuba', 'United States Gulf Coast'], 'Damage': 1420000000.0, 'Deaths': 259}, 'Edith': {'Name': 'Edith', 'Month': 'September', 'Year': 1971, 'Max Sustained Wind': 160, 'Areas Affected': ['The Caribbean', 'Central America', 'Mexico', 'United States Gulf Coast'], 'Damage': 25400000.0, 'Deaths': 37}, 'Anita': {'Name': 'Anita', 'Month': 'September', 'Year': 1977, 'Max Sustained Wind': 175, 'Areas Affected': ['Mexico'], 'Damage': 'Damages not recorded', 'Deaths': 11}, 'David': {'Name': 'David', 'Month': 'August', 'Year': 1979, 'Max Sustained Wind': 175, 'Areas Affected': ['The Caribbean', 'United States East coast'], 'Damage': 1540000000.0, 'Deaths': 2068}, 'Allen': {'Name': 'Allen', 'Month': 'August', 'Year': 1980, 'Max Sustained Wind': 190, 'Areas Affected': ['The Caribbean', 'Yucatn Peninsula', 'Mexico', 'South Texas'], 'Damage': 1240000000.0, 'Deaths': 269}, 'Gilbert': {'Name': 'Gilbert', 'Month': 'September', 'Year': 1988, 'Max Sustained Wind': 185, 'Areas Affected': ['Jamaica', 'Venezuela', 'Central America', 'Hispaniola', 'Mexico'], 'Damage': 7100000000.0, 'Deaths': 318}, 'Hugo': {'Name': 'Hugo', 'Month': 'September', 'Year': 1989, 'Max Sustained Wind': 160, 'Areas Affected': ['The Caribbean', 'United States East Coast'], 'Damage': 10000000000.0, 'Deaths': 107}, 'Andrew': {'Name': 'Andrew', 'Month': 'August', 'Year': 1992, 'Max Sustained Wind': 175, 'Areas Affected': ['The Bahamas', 'Florida', 'United States Gulf Coast'], 'Damage': 26500000000.0, 'Deaths': 65}, 'Mitch': {'Name': 'Mitch', 'Month': 'October', 'Year': 1998, 'Max Sustained Wind': 180, 'Areas Affected': ['Central America', 'Yucatn Peninsula', 'South Florida'], 'Damage': 6200000000.0, 'Deaths': 19325}, 'Isabel': {'Name': 'Isabel', 'Month': 'September', 'Year': 2003, 'Max Sustained Wind': 165, 'Areas Affected': ['Greater Antilles', 'Bahamas', 'Eastern United States', 'Ontario'], 'Damage': 5370000000.0, 'Deaths': 51}, 'Ivan': {'Name': 'Ivan', 'Month': 'September', 'Year': 2004, 'Max Sustained Wind': 165, 'Areas Affected': ['The Caribbean', 'Venezuela', 'United States Gulf Coast'], 'Damage': 23300000000.0, 'Deaths': 124}, 'Emily': {'Name': 'Emily', 'Month': 'July', 'Year': 2005, 'Max Sustained Wind': 160, 'Areas Affected': ['Windward Islands', 'Jamaica', 'Mexico', 'Texas'], 'Damage': 1010000000.0, 'Deaths': 17}, 'Katrina': {'Name': 'Katrina', 'Month': 'August', 'Year': 2005, 'Max Sustained Wind': 175, 'Areas Affected': ['Bahamas', 'United States Gulf Coast'], 'Damage': 125000000000.0, 'Deaths': 1836}, 'Rita': {'Name': 'Rita', 'Month': 'September', 'Year': 2005, 'Max Sustained Wind': 180, 'Areas Affected': ['Cuba', 'United States Gulf Coast'], 'Damage': 12000000000.0, 'Deaths': 125}, 'Wilma': {'Name': 'Wilma', 'Month': 'October', 'Year': 2005, 'Max Sustained Wind': 185, 'Areas Affected': ['Greater Antilles', 'Central America', 'Florida'], 'Damage': 29400000000.0, 'Deaths': 87}, 'Dean': {'Name': 'Dean', 'Month': 'August', 'Year': 2007, 'Max Sustained Wind': 175, 'Areas Affected': ['The Caribbean', 'Central America'], 'Damage': 1760000000.0, 'Deaths': 45}, 'Felix': {'Name': 'Felix', 'Month': 'September', 'Year': 2007, 'Max Sustained Wind': 175, 'Areas Affected': ['Nicaragua', 'Honduras'], 'Damage': 720000000.0, 'Deaths': 133}, 'Matthew': {'Name': 'Matthew', 'Month': 'October', 'Year': 2016, 'Max Sustained Wind': 165, 'Areas Affected': ['Antilles', 'Venezuela', 'Colombia', 'United States East Coast', 'Atlantic Canada'], 'Damage': 15100000000.0, 'Deaths': 603}, 'Irma': {'Name': 'Irma', 'Month': 'September', 'Year': 2017, 'Max Sustained Wind': 180, 'Areas Affected': ['Cape Verde', 'The Caribbean', 'British Virgin Islands', 'U.S. Virgin Islands', 'Cuba', 'Florida'], 'Damage': 64800000000.0, 'Deaths': 138}, 'Maria': {'Name': 'Maria', 'Month': 'September', 'Year': 2017, 'Max Sustained Wind': 175, 'Areas Affected': ['Lesser Antilles', 'Virgin Islands', 'Puerto Rico', 'Dominican Republic', 'Turks and Caicos Islands'], 'Damage': 91600000000.0, 'Deaths': 3057}, 'Michael': {'Name': 'Michael', 'Month': 'October', 'Year': 2018, 'Max Sustained Wind': 160, 'Areas Affected': ['Central America', 'United States Gulf Coast (especially Florida Panhandle)'], 'Damage': 25100000000.0, 'Deaths': 74}}\n"
     ]
    }
   ],
   "source": [
    "def lists_to_dict(names, months, years, max_winds, areas_affected, damanges, deaths):\n",
    "    \"\"\"Combine the lists into one dictionary setting area name as the key.\"\"\"\n",
    "    hurricanes = {}\n",
    "\n",
    "   \n",
    "    for i in range(len(names)):\n",
    "        hurricanes[names[i]] = {'Name': names[i],\n",
    "                            'Month': months[i],\n",
    "                            'Year': years[i],\n",
    "                            'Max Sustained Wind': max_sustained_winds[i],\n",
    "                            'Areas Affected': areas_affected[i],\n",
    "                            'Damage': damages_updated[i],\n",
    "                            'Deaths': deaths[i],\n",
    "                           }\n",
    "    return hurricanes\n",
    "\n",
    "hurricanes = lists_to_dict(names, months, years, max_sustained_winds,\n",
    "                           areas_affected, damages_updated, deaths)\n",
    "print(hurricanes)"
   ]
  },
  {
   "cell_type": "markdown",
   "id": "a8db3ff1",
   "metadata": {},
   "source": [
    "### 3. Write a function that converts the current dictionary of hurricanes to a new dictionary, where the keys are years and the values are lists containing a dictionary for each hurricane that occurred in that year.\n",
    "\n",
    "### For example, the key 1932 would yield the value:\n",
    "`[{'Name': 'Bahamas', 'Month': 'September', 'Year': 1932, 'Max Sustained Wind': 160, 'Areas Affected': ['The Bahamas', 'Northeastern United States'], 'Damage': 'Damages not recorded', 'Deaths': 16}, {'Name': 'Cuba II', 'Month': 'November', 'Year': 1932, 'Max Sustained Wind': 175, 'Areas Affected': ['Lesser Antilles', 'Jamaica', 'Cayman Islands', 'Cuba', 'The Bahamas', 'Bermuda'], 'Damage': 40000000.0, 'Deaths': 3103}]`."
   ]
  },
  {
   "cell_type": "code",
   "execution_count": 4,
   "id": "aef7d33e",
   "metadata": {
    "scrolled": true
   },
   "outputs": [
    {
     "name": "stdout",
     "output_type": "stream",
     "text": [
      "{1924: {'Name': 'Cuba I', 'Month': 'October', 'Year': 1924, 'Max Sustained Wind': 165, 'Areas Affected': ['Central America', 'Mexico', 'Cuba', 'Florida', 'The Bahamas'], 'Damage': 'Damages not recorded', 'Deaths': 90}, 1928: {'Name': 'San Felipe II Okeechobee', 'Month': 'September', 'Year': 1928, 'Max Sustained Wind': 160, 'Areas Affected': ['Lesser Antilles', 'The Bahamas', 'United States East Coast', 'Atlantic Canada'], 'Damage': 100000000.0, 'Deaths': 4000}, 1932: [{'Name': 'Bahamas', 'Month': 'September', 'Year': 1932, 'Max Sustained Wind': 160, 'Areas Affected': ['The Bahamas', 'Northeastern United States'], 'Damage': 'Damages not recorded', 'Deaths': 16}, {'Name': 'Cuba II', 'Month': 'November', 'Year': 1932, 'Max Sustained Wind': 175, 'Areas Affected': ['Lesser Antilles', 'Jamaica', 'Cayman Islands', 'Cuba', 'The Bahamas', 'Bermuda'], 'Damage': 40000000.0, 'Deaths': 3103}], 1933: [{'Name': 'CubaBrownsville', 'Month': 'August', 'Year': 1933, 'Max Sustained Wind': 160, 'Areas Affected': ['The Bahamas', 'Cuba', 'Florida', 'Texas', 'Tamaulipas'], 'Damage': 27900000.0, 'Deaths': 179}, {'Name': 'Tampico', 'Month': 'September', 'Year': 1933, 'Max Sustained Wind': 160, 'Areas Affected': ['Jamaica', 'Yucatn Peninsula'], 'Damage': 5000000.0, 'Deaths': 184}], 1935: {'Name': 'Labor Day', 'Month': 'September', 'Year': 1935, 'Max Sustained Wind': 185, 'Areas Affected': ['The Bahamas', 'Florida', 'Georgia', 'The Carolinas', 'Virginia'], 'Damage': 'Damages not recorded', 'Deaths': 408}, 1938: {'Name': 'New England', 'Month': 'September', 'Year': 1938, 'Max Sustained Wind': 160, 'Areas Affected': ['Southeastern United States', 'Northeastern United States', 'Southwestern Quebec'], 'Damage': 306000000.0, 'Deaths': 682}, 1953: {'Name': 'Carol', 'Month': 'September', 'Year': 1953, 'Max Sustained Wind': 160, 'Areas Affected': ['Bermuda', 'New England', 'Atlantic Canada'], 'Damage': 2000000.0, 'Deaths': 5}, 1955: {'Name': 'Janet', 'Month': 'September', 'Year': 1955, 'Max Sustained Wind': 175, 'Areas Affected': ['Lesser Antilles', 'Central America'], 'Damage': 65800000.0, 'Deaths': 1023}, 1961: [{'Name': 'Carla', 'Month': 'September', 'Year': 1961, 'Max Sustained Wind': 175, 'Areas Affected': ['Texas', 'Louisiana', 'Midwestern United States'], 'Damage': 326000000.0, 'Deaths': 43}, {'Name': 'Hattie', 'Month': 'October', 'Year': 1961, 'Max Sustained Wind': 160, 'Areas Affected': ['Central America'], 'Damage': 60300000.0, 'Deaths': 319}], 1967: {'Name': 'Beulah', 'Month': 'September', 'Year': 1967, 'Max Sustained Wind': 160, 'Areas Affected': ['The Caribbean', 'Mexico', 'Texas'], 'Damage': 208000000.0, 'Deaths': 688}, 1969: {'Name': 'Camille', 'Month': 'August', 'Year': 1969, 'Max Sustained Wind': 175, 'Areas Affected': ['Cuba', 'United States Gulf Coast'], 'Damage': 1420000000.0, 'Deaths': 259}, 1971: {'Name': 'Edith', 'Month': 'September', 'Year': 1971, 'Max Sustained Wind': 160, 'Areas Affected': ['The Caribbean', 'Central America', 'Mexico', 'United States Gulf Coast'], 'Damage': 25400000.0, 'Deaths': 37}, 1977: {'Name': 'Anita', 'Month': 'September', 'Year': 1977, 'Max Sustained Wind': 175, 'Areas Affected': ['Mexico'], 'Damage': 'Damages not recorded', 'Deaths': 11}, 1979: {'Name': 'David', 'Month': 'August', 'Year': 1979, 'Max Sustained Wind': 175, 'Areas Affected': ['The Caribbean', 'United States East coast'], 'Damage': 1540000000.0, 'Deaths': 2068}, 1980: {'Name': 'Allen', 'Month': 'August', 'Year': 1980, 'Max Sustained Wind': 190, 'Areas Affected': ['The Caribbean', 'Yucatn Peninsula', 'Mexico', 'South Texas'], 'Damage': 1240000000.0, 'Deaths': 269}, 1988: {'Name': 'Gilbert', 'Month': 'September', 'Year': 1988, 'Max Sustained Wind': 185, 'Areas Affected': ['Jamaica', 'Venezuela', 'Central America', 'Hispaniola', 'Mexico'], 'Damage': 7100000000.0, 'Deaths': 318}, 1989: {'Name': 'Hugo', 'Month': 'September', 'Year': 1989, 'Max Sustained Wind': 160, 'Areas Affected': ['The Caribbean', 'United States East Coast'], 'Damage': 10000000000.0, 'Deaths': 107}, 1992: {'Name': 'Andrew', 'Month': 'August', 'Year': 1992, 'Max Sustained Wind': 175, 'Areas Affected': ['The Bahamas', 'Florida', 'United States Gulf Coast'], 'Damage': 26500000000.0, 'Deaths': 65}, 1998: {'Name': 'Mitch', 'Month': 'October', 'Year': 1998, 'Max Sustained Wind': 180, 'Areas Affected': ['Central America', 'Yucatn Peninsula', 'South Florida'], 'Damage': 6200000000.0, 'Deaths': 19325}, 2003: {'Name': 'Isabel', 'Month': 'September', 'Year': 2003, 'Max Sustained Wind': 165, 'Areas Affected': ['Greater Antilles', 'Bahamas', 'Eastern United States', 'Ontario'], 'Damage': 5370000000.0, 'Deaths': 51}, 2004: {'Name': 'Ivan', 'Month': 'September', 'Year': 2004, 'Max Sustained Wind': 165, 'Areas Affected': ['The Caribbean', 'Venezuela', 'United States Gulf Coast'], 'Damage': 23300000000.0, 'Deaths': 124}, 2005: [[[{'Name': 'Emily', 'Month': 'July', 'Year': 2005, 'Max Sustained Wind': 160, 'Areas Affected': ['Windward Islands', 'Jamaica', 'Mexico', 'Texas'], 'Damage': 1010000000.0, 'Deaths': 17}, {'Name': 'Katrina', 'Month': 'August', 'Year': 2005, 'Max Sustained Wind': 175, 'Areas Affected': ['Bahamas', 'United States Gulf Coast'], 'Damage': 125000000000.0, 'Deaths': 1836}], {'Name': 'Rita', 'Month': 'September', 'Year': 2005, 'Max Sustained Wind': 180, 'Areas Affected': ['Cuba', 'United States Gulf Coast'], 'Damage': 12000000000.0, 'Deaths': 125}], {'Name': 'Wilma', 'Month': 'October', 'Year': 2005, 'Max Sustained Wind': 185, 'Areas Affected': ['Greater Antilles', 'Central America', 'Florida'], 'Damage': 29400000000.0, 'Deaths': 87}], 2007: [{'Name': 'Dean', 'Month': 'August', 'Year': 2007, 'Max Sustained Wind': 175, 'Areas Affected': ['The Caribbean', 'Central America'], 'Damage': 1760000000.0, 'Deaths': 45}, {'Name': 'Felix', 'Month': 'September', 'Year': 2007, 'Max Sustained Wind': 175, 'Areas Affected': ['Nicaragua', 'Honduras'], 'Damage': 720000000.0, 'Deaths': 133}], 2016: {'Name': 'Matthew', 'Month': 'October', 'Year': 2016, 'Max Sustained Wind': 165, 'Areas Affected': ['Antilles', 'Venezuela', 'Colombia', 'United States East Coast', 'Atlantic Canada'], 'Damage': 15100000000.0, 'Deaths': 603}, 2017: [{'Name': 'Irma', 'Month': 'September', 'Year': 2017, 'Max Sustained Wind': 180, 'Areas Affected': ['Cape Verde', 'The Caribbean', 'British Virgin Islands', 'U.S. Virgin Islands', 'Cuba', 'Florida'], 'Damage': 64800000000.0, 'Deaths': 138}, {'Name': 'Maria', 'Month': 'September', 'Year': 2017, 'Max Sustained Wind': 175, 'Areas Affected': ['Lesser Antilles', 'Virgin Islands', 'Puerto Rico', 'Dominican Republic', 'Turks and Caicos Islands'], 'Damage': 91600000000.0, 'Deaths': 3057}], 2018: {'Name': 'Michael', 'Month': 'October', 'Year': 2018, 'Max Sustained Wind': 160, 'Areas Affected': ['Central America', 'United States Gulf Coast (especially Florida Panhandle)'], 'Damage': 25100000000.0, 'Deaths': 74}}\n"
     ]
    }
   ],
   "source": [
    "def lists_to_dict_year(names, months, years, max_winds, areas_affected, damanges, deaths):\n",
    "    \"\"\"Combine the lists into one dictionary setting area name as the key.\"\"\"\n",
    "    hurricanes = {}\n",
    "\n",
    "   \n",
    "    for i in range(len(names)):\n",
    "        if years[i] not in hurricanes:\n",
    "            hurricanes[years[i]] = {'Name': names[i],\n",
    "                                'Month': months[i],\n",
    "                                'Year': years[i],\n",
    "                                'Max Sustained Wind': max_sustained_winds[i],\n",
    "                                'Areas Affected': areas_affected[i],\n",
    "                                'Damage': damages_updated[i],\n",
    "                                'Deaths': deaths[i],\n",
    "                               }\n",
    "        else:\n",
    "            # convert dict value to list value\n",
    "            hurricanes[years[i]] = [hurricanes[years[i]]]\n",
    "            # append new value to same key value\n",
    "            hurricanes[years[i]]+=[{'Name': names[i],\n",
    "                                   'Month': months[i],\n",
    "                                   'Year': years[i],\n",
    "                                   'Max Sustained Wind': max_sustained_winds[i],\n",
    "                                   'Areas Affected': areas_affected[i],\n",
    "                                   'Damage': damages_updated[i],\n",
    "                                   'Deaths': deaths[i],\n",
    "                                  }]\n",
    "    return hurricanes\n",
    "\n",
    "hurricanes_by_year = lists_to_dict_year(names, months, years, max_sustained_winds,\n",
    "                           areas_affected, damages_updated, deaths)\n",
    "print(hurricanes_by_year)"
   ]
  },
  {
   "cell_type": "markdown",
   "id": "541fbcf1",
   "metadata": {},
   "source": [
    "### 4. Write a function that counts how often each area is listed as an affected area of a hurricane. Store and return the results in a dictionary where the keys are the affected areas and the values are counts of how many times the areas were affected."
   ]
  },
  {
   "cell_type": "code",
   "execution_count": 5,
   "id": "3604089c",
   "metadata": {},
   "outputs": [
    {
     "name": "stdout",
     "output_type": "stream",
     "text": [
      "{'Central America': 4, 'Mexico': 3, 'Cuba': 1, 'Florida': 3, 'The Bahamas': 2, 'Lesser Antilles': 1, 'United States East Coast': 2, 'Atlantic Canada': 4, 'Northeastern United States': 2, 'Jamaica': 1, 'Cayman Islands': 1, 'Bermuda': 2, 'Texas': 3, 'Tamaulipas': 2, 'Yucatn Peninsula': 2, 'Georgia': 1, 'The Carolinas': 1, 'Virginia': 2, 'Southeastern United States': 1, 'Southwestern Quebec': 2, 'New England': 1, 'Louisiana': 1, 'Midwestern United States': 2, 'The Caribbean': 1, 'United States Gulf Coast': 7, 'United States East coast': 2, 'South Texas': 2, 'Venezuela': 1, 'Hispaniola': 1, 'South Florida': 2, 'Greater Antilles': 1, 'Bahamas': 1, 'Eastern United States': 1, 'Ontario': 2, 'Windward Islands': 1, 'Nicaragua': 1, 'Honduras': 2, 'Antilles': 1, 'Colombia': 1, 'Cape Verde': 1, 'British Virgin Islands': 1, 'U.S. Virgin Islands': 1, 'Virgin Islands': 1, 'Puerto Rico': 1, 'Dominican Republic': 1, 'Turks and Caicos Islands': 2, 'United States Gulf Coast (especially Florida Panhandle)': 2}\n"
     ]
    }
   ],
   "source": [
    "def affected_areas_counter(affected_areas_list):\n",
    "    affected_areas = {}\n",
    "    for areas in areas_affected:\n",
    "        for area in areas:\n",
    "            if area not in affected_areas:\n",
    "                affected_areas.update({area: 1})\n",
    "        else: # area in affected_areas\n",
    "            affected_areas[area] = affected_areas[area] + 1\n",
    "    return affected_areas\n",
    "\n",
    "affected_areas = affected_areas_counter(areas_affected)\n",
    "print(affected_areas)"
   ]
  },
  {
   "cell_type": "markdown",
   "id": "18737aba",
   "metadata": {},
   "source": [
    "### 5. Write a function that finds the area affected by the most hurricanes, and how often it was hit."
   ]
  },
  {
   "cell_type": "code",
   "execution_count": 6,
   "id": "23116265",
   "metadata": {},
   "outputs": [
    {
     "name": "stdout",
     "output_type": "stream",
     "text": [
      "{'United States Gulf Coast': 7}\n"
     ]
    }
   ],
   "source": [
    "def most_affected(areas_counts):\n",
    "    \n",
    "    affected_times = 0\n",
    "    for key, value in affected_areas.items():\n",
    "        for i in range(len(affected_areas)):\n",
    "            if affected_times < value:\n",
    "                affected_times = value\n",
    "                most_affected_area = key\n",
    "                \n",
    "    return {most_affected_area: affected_times}\n",
    "\n",
    "most_affected_area = most_affected(affected_areas)\n",
    "print(most_affected_area)"
   ]
  },
  {
   "cell_type": "markdown",
   "id": "f098c800",
   "metadata": {},
   "source": [
    "### 6. Write a function that finds the hurricane that caused the greatest number of deaths, and how many deaths it caused."
   ]
  },
  {
   "cell_type": "code",
   "execution_count": 7,
   "id": "8505ef53",
   "metadata": {},
   "outputs": [
    {
     "name": "stdout",
     "output_type": "stream",
     "text": [
      "{'Mitch': 19325}\n"
     ]
    }
   ],
   "source": [
    "def most_deaths(hurr_dict):\n",
    "    \"\"\"Find the hurricane that caused the most deaths.\"\"\"\n",
    "    deaths_num = 0\n",
    "    \n",
    "    for key, value in hurricanes.items():\n",
    "        for i in range(len(hurricanes)):\n",
    "            if hurricanes[key][\"Deaths\"] > deaths_num:\n",
    "                deaths_num = hurricanes[key][\"Deaths\"]\n",
    "                area = key\n",
    "    return {area: deaths_num}\n",
    "\n",
    "hurr_most_death = most_deaths(hurricanes)\n",
    "print(hurr_most_death)"
   ]
  },
  {
   "cell_type": "markdown",
   "id": "1f2be991",
   "metadata": {},
   "source": [
    "### 7. Write a function that rates hurricanes on a mortality scale according to the following ratings, where the key is the rating and the value is the upper bound of deaths for that rating.\n",
    "\n",
    "```mortality_scale = {0: 0, 1: 100, 2: 500, 3: 1000, 4: 10000}```\n",
    "                   \n",
    "### For example, a hurricane with a 1 mortality rating would have resulted in greater than 0 but less than or equal to 100 deaths. A hurricane with a 5 mortality rating would have resulted in greater than 10000 deaths.\n",
    "\n",
    "### Store the hurricanes in a new dictionary where the keys are mortality ratings and the values are lists containing a dictionary for each hurricane that falls into that mortality rating."
   ]
  },
  {
   "cell_type": "code",
   "execution_count": 34,
   "id": "7eb71b2e",
   "metadata": {
    "scrolled": true
   },
   "outputs": [
    {
     "name": "stdout",
     "output_type": "stream",
     "text": [
      "{0: [], 1: ['Cuba I', 'Bahamas', 'Carol', 'Carla', 'Edith', 'Anita', 'Andrew', 'Isabel', 'Emily', 'Wilma', 'Dean', 'Michael'], 2: ['CubaBrownsville', 'Tampico', 'Labor Day', 'Hattie', 'Camille', 'Allen', 'Gilbert', 'Hugo', 'Ivan', 'Rita', 'Felix', 'Irma'], 3: ['New England', 'Beulah', 'Matthew'], 4: ['San Felipe II Okeechobee', 'Cuba II', 'Janet', 'David', 'Katrina', 'Maria'], 5: ['Mitch']}\n"
     ]
    }
   ],
   "source": [
    "def mortality_rate(hurricanes):\n",
    "    mortality_rating = {0: [], 1: [], 2: [], 3: [], 4: [], 5: []}\n",
    "    for key, value in hurricanes.items():\n",
    "            if hurricanes[key][\"Deaths\"] == 0:\n",
    "                mortality_rating[0].append(key)\n",
    "            elif (hurricanes[key][\"Deaths\"] > 0) and (hurricanes[key][\"Deaths\"] < 100):\n",
    "                mortality_rating[1].append(key)\n",
    "            elif (hurricanes[key][\"Deaths\"] >= 100) and (hurricanes[key][\"Deaths\"] < 500):\n",
    "                mortality_rating[2].append(key)\n",
    "            elif (hurricanes[key][\"Deaths\"] >= 500) and (hurricanes[key][\"Deaths\"] < 1_000):\n",
    "                mortality_rating[3].append(key)\n",
    "            elif (hurricanes[key][\"Deaths\"] >= 1_000) and (hurricanes[key][\"Deaths\"] < 10_000):\n",
    "                mortality_rating[4].append(key)\n",
    "            else: # hurricanes[key][\"Deaths\"] >= 10_000:\n",
    "                mortality_rating[5].append(key)\n",
    "    return mortality_rating\n",
    "\n",
    "mortality_ratings = mortality_rate(hurricanes)\n",
    "print(mortality_ratings)"
   ]
  },
  {
   "cell_type": "markdown",
   "id": "ee83fa97",
   "metadata": {},
   "source": [
    "### 8. Write a function that finds the hurricane that caused the greatest damage, and how costly it was."
   ]
  },
  {
   "cell_type": "code",
   "execution_count": 45,
   "id": "8755fb88",
   "metadata": {
    "scrolled": true
   },
   "outputs": [
    {
     "name": "stdout",
     "output_type": "stream",
     "text": [
      "{'Katrina': 125000000000.0}\n"
     ]
    }
   ],
   "source": [
    "def most_dmg(hurr_dict):\n",
    "    damage = 0\n",
    "    most_dmg = {key:hurricanes[key][\"Damage\"] for key, value in hurricanes.items()}\n",
    "    for key, value in most_dmg.items():\n",
    "        try:\n",
    "            if most_dmg[key] > damage:\n",
    "                most_damage_hurr = key\n",
    "                damage = most_dmg[key]\n",
    "        except TypeError:\n",
    "            continue\n",
    "    return {most_damage_hurr: damage}\n",
    "    \n",
    "print(most_dmg(hurricanes))"
   ]
  },
  {
   "cell_type": "markdown",
   "id": "789bd463",
   "metadata": {},
   "source": [
    "### 9. Write a function that rates hurricanes on a damage scale according to the following ratings, where the key is the rating and the value is the upper bound of damage for that rating.\n",
    "\n",
    "`damage_scale = {0: 0, 1: 100_000_000, 2: 1_000_000_000, 3: 10_000_000_000, 4: 50_000_000_000}`\n",
    "\n",
    "### For example, a hurricane with a 1 damage rating would have resulted in damages greater than 0 USD but less than or equal to 100000000 USD. A hurricane with a 5 damage rating would have resulted in damages greater than 50000000000 USD (talk about a lot of money).\n",
    "\n",
    "### Store the hurricanes in a new dictionary where the keys are damage ratings and the values are lists containing a dictionary for each hurricane that falls into that damage rating."
   ]
  },
  {
   "cell_type": "code",
   "execution_count": 48,
   "id": "f62c3cf7",
   "metadata": {},
   "outputs": [
    {
     "name": "stdout",
     "output_type": "stream",
     "text": [
      "{0: [], 1: ['Cuba II', 'CubaBrownsville', 'Tampico', 'Carol', 'Janet', 'Hattie', 'Edith'], 2: ['San Felipe II Okeechobee', 'New England', 'Carla', 'Beulah', 'Felix'], 3: ['Camille', 'David', 'Allen', 'Gilbert', 'Mitch', 'Isabel', 'Emily', 'Dean'], 4: ['Hugo', 'Andrew', 'Ivan', 'Rita', 'Wilma', 'Matthew', 'Michael'], 5: ['Katrina', 'Irma', 'Maria']}\n"
     ]
    }
   ],
   "source": [
    "def damage_scale(hurricanes):\n",
    "    mortality_rating = {0: [], 1: [], 2: [], 3: [], 4: [], 5: []}\n",
    "    for key, value in hurricanes.items():\n",
    "        try:\n",
    "            if hurricanes[key][\"Damage\"] == 0:\n",
    "                mortality_rating[0].append(key)\n",
    "            elif (hurricanes[key][\"Damage\"] > 0) and (hurricanes[key][\"Damage\"] < 100_000_000):\n",
    "                mortality_rating[1].append(key)\n",
    "            elif (hurricanes[key][\"Damage\"] >= 100_000_000) and (hurricanes[key][\"Damage\"] < 1_000_000_000):\n",
    "                mortality_rating[2].append(key)\n",
    "            elif (hurricanes[key][\"Damage\"] >= 1_000_000_000) and (hurricanes[key][\"Damage\"] < 10_000_000_000):\n",
    "                mortality_rating[3].append(key)\n",
    "            elif (hurricanes[key][\"Damage\"] >= 10_000_000_000) and (hurricanes[key][\"Damage\"] < 50_000_000_000):\n",
    "                mortality_rating[4].append(key)\n",
    "            else: # hurricanes[key][\"Damage\"] >= 50_000_000_000:\n",
    "                mortality_rating[5].append(key)\n",
    "        except TypeError:\n",
    "            continue\n",
    "    return mortality_rating\n",
    "\n",
    "damage_scale_ratings = damage_scale(hurricanes)\n",
    "print(damage_scale_ratings)"
   ]
  }
 ],
 "metadata": {
  "kernelspec": {
   "display_name": "Python 3 (ipykernel)",
   "language": "python",
   "name": "python3"
  },
  "language_info": {
   "codemirror_mode": {
    "name": "ipython",
    "version": 3
   },
   "file_extension": ".py",
   "mimetype": "text/x-python",
   "name": "python",
   "nbconvert_exporter": "python",
   "pygments_lexer": "ipython3",
   "version": "3.9.7"
  }
 },
 "nbformat": 4,
 "nbformat_minor": 5
}
