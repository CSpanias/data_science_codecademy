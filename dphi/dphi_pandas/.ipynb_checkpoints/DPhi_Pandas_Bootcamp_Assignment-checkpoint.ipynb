{
 "cells": [
  {
   "cell_type": "markdown",
   "metadata": {
    "id": "gAcWVKAu7-XY"
   },
   "source": [
    "# DPhi Pandas Final Assignment"
   ]
  },
  {
   "cell_type": "markdown",
   "metadata": {},
   "source": [
    "# CONTENT\n",
    "1. [Data Wrangling](#wrangling)\n",
    "1. [Exploring Data](#eda)\n",
    "1. [Formulating Questions](#questions)\n",
    "1. [Conclusions](#conc)"
   ]
  },
  {
   "cell_type": "markdown",
   "metadata": {},
   "source": [
    "<a name='wrangling'></a>\n",
    "# 1. Data Wrangling"
   ]
  },
  {
   "cell_type": "markdown",
   "metadata": {
    "id": "rwrGCwC28gYK"
   },
   "source": [
    "I choose to find a dataset close to my personal interests, hence, as a Brazilian jiu-jitsu practitioner, I managed to found a Kaggle [dataset](https://www.kaggle.com/drewskidata/top-10-bjj-grapplers) with data from the __top10 BJJ Grapplers__.\n",
    "\n",
    "This dataset includes __no metadata__, so I have not any information on __how it was obtained, from where and for what purpose__. As a result, I can't really check if it contains __legit data or not__, but since this is a practice exercise it does not really matter! \n",
    "\n",
    "Our data files consists of:\n",
    "1. One `.xlxs` file, which contains __data for all 10 athletes__\n",
    "2. Ten `.xlxs` files, which contain __data for each athlete individually__.\n",
    "\n",
    "For practising purposes, we will ignore the former, so we can practice joining different files ourselves.\n",
    "\n",
    "Our files are in the form `athlete_name1.xlxs`, `athlete_name2.xlxs`, etc.\n",
    "\n",
    "Our first goal is to __get all of the relevant information into one table__ so that we can analyze the aggregate data.\n",
    "\n",
    "We can combine the use of `glob`, which can __open multiple files__ by using __regex matching__ to get the filenames, with `pandas` to organize this data better."
   ]
  },
  {
   "cell_type": "code",
   "execution_count": 1,
   "metadata": {},
   "outputs": [
    {
     "name": "stdout",
     "output_type": "stream",
     "text": [
      "We have found the following 10 files:\n",
      "\n",
      "['craig_jones.xlsx', 'diego_pato_oliveira.xlsx', 'gordon_ryan.xlsx', 'kade_ruotolo.xlsx', 'kaynan_duarte.xlsx', 'kennedy_maciel.xlsx', 'micael_galvo.xlsx', 'michael_musumeci.xlsx', 'tim_spriggs.xlsx', 'tye_ruotolo.xlsx']\n"
     ]
    }
   ],
   "source": [
    "import glob\n",
    "import re\n",
    "\n",
    "# return all file paths that match the specific pattern\n",
    "files = glob.glob(r\"*.xlsx\")\n",
    "\n",
    "print(f\"We have found the following {len(files)} files:\\n\\n{files}\")"
   ]
  },
  {
   "cell_type": "markdown",
   "metadata": {},
   "source": [
    "We can see that we managed to put all 10 file names into a list, and now we have to __extract all data from each one__."
   ]
  },
  {
   "cell_type": "code",
   "execution_count": 2,
   "metadata": {
    "scrolled": false
   },
   "outputs": [
    {
     "name": "stdout",
     "output_type": "stream",
     "text": [
      " We have 10 elements in our list. The 1st element is the data for an athlete named Craig Jones.\n"
     ]
    },
    {
     "data": {
      "text/html": [
       "<div>\n",
       "<style scoped>\n",
       "    .dataframe tbody tr th:only-of-type {\n",
       "        vertical-align: middle;\n",
       "    }\n",
       "\n",
       "    .dataframe tbody tr th {\n",
       "        vertical-align: top;\n",
       "    }\n",
       "\n",
       "    .dataframe thead th {\n",
       "        text-align: right;\n",
       "    }\n",
       "</style>\n",
       "<table border=\"1\" class=\"dataframe\">\n",
       "  <thead>\n",
       "    <tr style=\"text-align: right;\">\n",
       "      <th></th>\n",
       "      <th>Column1</th>\n",
       "      <th>Opponent</th>\n",
       "      <th>W/L</th>\n",
       "      <th>Method</th>\n",
       "      <th>Competition</th>\n",
       "      <th>Year</th>\n",
       "      <th>Fighter</th>\n",
       "    </tr>\n",
       "  </thead>\n",
       "  <tbody>\n",
       "    <tr>\n",
       "      <th>0</th>\n",
       "      <td>0</td>\n",
       "      <td>Vagner RochaVagner Rocha</td>\n",
       "      <td>L</td>\n",
       "      <td>EBI/OT</td>\n",
       "      <td>EBI 11</td>\n",
       "      <td>2017</td>\n",
       "      <td>Craig Jones</td>\n",
       "    </tr>\n",
       "    <tr>\n",
       "      <th>1</th>\n",
       "      <td>1</td>\n",
       "      <td>Keenan CorneliusKeenan Cornelius</td>\n",
       "      <td>L</td>\n",
       "      <td>Pts: 13x0</td>\n",
       "      <td>ADCC</td>\n",
       "      <td>2017</td>\n",
       "      <td>Craig Jones</td>\n",
       "    </tr>\n",
       "    <tr>\n",
       "      <th>2</th>\n",
       "      <td>2</td>\n",
       "      <td>Alexandre RibeiroAlexandre Ribeiro</td>\n",
       "      <td>L</td>\n",
       "      <td>Pts: 2x0</td>\n",
       "      <td>ADCC</td>\n",
       "      <td>2017</td>\n",
       "      <td>Craig Jones</td>\n",
       "    </tr>\n",
       "    <tr>\n",
       "      <th>3</th>\n",
       "      <td>3</td>\n",
       "      <td>Gordon RyanGordon Ryan</td>\n",
       "      <td>L</td>\n",
       "      <td>Katagatame</td>\n",
       "      <td>ADCC</td>\n",
       "      <td>2017</td>\n",
       "      <td>Craig Jones</td>\n",
       "    </tr>\n",
       "    <tr>\n",
       "      <th>4</th>\n",
       "      <td>4</td>\n",
       "      <td>Gordon RyanGordon Ryan</td>\n",
       "      <td>L</td>\n",
       "      <td>EBI/OT</td>\n",
       "      <td>EBI 14</td>\n",
       "      <td>2017</td>\n",
       "      <td>Craig Jones</td>\n",
       "    </tr>\n",
       "    <tr>\n",
       "      <th>...</th>\n",
       "      <td>...</td>\n",
       "      <td>...</td>\n",
       "      <td>...</td>\n",
       "      <td>...</td>\n",
       "      <td>...</td>\n",
       "      <td>...</td>\n",
       "      <td>...</td>\n",
       "    </tr>\n",
       "    <tr>\n",
       "      <th>62</th>\n",
       "      <td>64</td>\n",
       "      <td>Satoshi Ishii</td>\n",
       "      <td>W</td>\n",
       "      <td>RNC</td>\n",
       "      <td>SUG 20</td>\n",
       "      <td>2020</td>\n",
       "      <td>Craig Jones</td>\n",
       "    </tr>\n",
       "    <tr>\n",
       "      <th>63</th>\n",
       "      <td>65</td>\n",
       "      <td>Ronaldo JuniorRonaldo Junior</td>\n",
       "      <td>W</td>\n",
       "      <td>Inside heel hook</td>\n",
       "      <td>WNO 6</td>\n",
       "      <td>2021</td>\n",
       "      <td>Craig Jones</td>\n",
       "    </tr>\n",
       "    <tr>\n",
       "      <th>64</th>\n",
       "      <td>66</td>\n",
       "      <td>Luiz PanzaLuiz Panza</td>\n",
       "      <td>W</td>\n",
       "      <td>Inside heel hook</td>\n",
       "      <td>WNO 9</td>\n",
       "      <td>2021</td>\n",
       "      <td>Craig Jones</td>\n",
       "    </tr>\n",
       "    <tr>\n",
       "      <th>65</th>\n",
       "      <td>67</td>\n",
       "      <td>Tye RuotoloTye Ruotolo</td>\n",
       "      <td>W</td>\n",
       "      <td>Referee Decision</td>\n",
       "      <td>WNO 10</td>\n",
       "      <td>2021</td>\n",
       "      <td>Craig Jones</td>\n",
       "    </tr>\n",
       "    <tr>\n",
       "      <th>66</th>\n",
       "      <td>68</td>\n",
       "      <td>Davi RamosDavi Ramos</td>\n",
       "      <td>W</td>\n",
       "      <td>Referee Decision</td>\n",
       "      <td>Polaris 17</td>\n",
       "      <td>2021</td>\n",
       "      <td>Craig Jones</td>\n",
       "    </tr>\n",
       "  </tbody>\n",
       "</table>\n",
       "<p>67 rows × 7 columns</p>\n",
       "</div>"
      ],
      "text/plain": [
       "    Column1                            Opponent W/L            Method  \\\n",
       "0         0            Vagner RochaVagner Rocha   L            EBI/OT   \n",
       "1         1    Keenan CorneliusKeenan Cornelius   L         Pts: 13x0   \n",
       "2         2  Alexandre RibeiroAlexandre Ribeiro   L          Pts: 2x0   \n",
       "3         3              Gordon RyanGordon Ryan   L        Katagatame   \n",
       "4         4              Gordon RyanGordon Ryan   L            EBI/OT   \n",
       "..      ...                                 ...  ..               ...   \n",
       "62       64                       Satoshi Ishii   W               RNC   \n",
       "63       65        Ronaldo JuniorRonaldo Junior   W  Inside heel hook   \n",
       "64       66                Luiz PanzaLuiz Panza   W  Inside heel hook   \n",
       "65       67              Tye RuotoloTye Ruotolo   W  Referee Decision   \n",
       "66       68                Davi RamosDavi Ramos   W  Referee Decision   \n",
       "\n",
       "   Competition  Year      Fighter  \n",
       "0       EBI 11  2017  Craig Jones  \n",
       "1         ADCC  2017  Craig Jones  \n",
       "2         ADCC  2017  Craig Jones  \n",
       "3         ADCC  2017  Craig Jones  \n",
       "4       EBI 14  2017  Craig Jones  \n",
       "..         ...   ...          ...  \n",
       "62      SUG 20  2020  Craig Jones  \n",
       "63       WNO 6  2021  Craig Jones  \n",
       "64       WNO 9  2021  Craig Jones  \n",
       "65      WNO 10  2021  Craig Jones  \n",
       "66  Polaris 17  2021  Craig Jones  \n",
       "\n",
       "[67 rows x 7 columns]"
      ]
     },
     "execution_count": 2,
     "metadata": {},
     "output_type": "execute_result"
    }
   ],
   "source": [
    "import pandas as pd\n",
    "\n",
    "# create empty list\n",
    "df_list = []\n",
    "\n",
    "# iterate through files\n",
    "for filename in files:\n",
    "    # extract data from each file as DataFrame\n",
    "    data = pd.read_excel(filename)\n",
    "    # append file's data\n",
    "    df_list.append(data)\n",
    "    \n",
    "print(f\" We have {len(df_list)} elements in our list.\\\n",
    " The 1st element is the data for an athlete named {df_list[0]['Fighter'][0]}.\")\n",
    "\n",
    "df_list[0]"
   ]
  },
  {
   "cell_type": "markdown",
   "metadata": {},
   "source": [
    "We have now successfuly imported every file as a pandas DataFrame, and we have a list of 10 DataFrames. The last step if to __convert the list into one pandas DataFrame__. "
   ]
  },
  {
   "cell_type": "code",
   "execution_count": 3,
   "metadata": {
    "scrolled": false
   },
   "outputs": [
    {
     "data": {
      "text/html": [
       "<div>\n",
       "<style scoped>\n",
       "    .dataframe tbody tr th:only-of-type {\n",
       "        vertical-align: middle;\n",
       "    }\n",
       "\n",
       "    .dataframe tbody tr th {\n",
       "        vertical-align: top;\n",
       "    }\n",
       "\n",
       "    .dataframe thead th {\n",
       "        text-align: right;\n",
       "    }\n",
       "</style>\n",
       "<table border=\"1\" class=\"dataframe\">\n",
       "  <thead>\n",
       "    <tr style=\"text-align: right;\">\n",
       "      <th></th>\n",
       "      <th>Column1</th>\n",
       "      <th>Opponent</th>\n",
       "      <th>W/L</th>\n",
       "      <th>Method</th>\n",
       "      <th>Competition</th>\n",
       "      <th>Year</th>\n",
       "      <th>Fighter</th>\n",
       "    </tr>\n",
       "  </thead>\n",
       "  <tbody>\n",
       "    <tr>\n",
       "      <th>0</th>\n",
       "      <td>0</td>\n",
       "      <td>Vagner RochaVagner Rocha</td>\n",
       "      <td>L</td>\n",
       "      <td>EBI/OT</td>\n",
       "      <td>EBI 11</td>\n",
       "      <td>2017</td>\n",
       "      <td>Craig Jones</td>\n",
       "    </tr>\n",
       "    <tr>\n",
       "      <th>1</th>\n",
       "      <td>1</td>\n",
       "      <td>Keenan CorneliusKeenan Cornelius</td>\n",
       "      <td>L</td>\n",
       "      <td>Pts: 13x0</td>\n",
       "      <td>ADCC</td>\n",
       "      <td>2017</td>\n",
       "      <td>Craig Jones</td>\n",
       "    </tr>\n",
       "    <tr>\n",
       "      <th>2</th>\n",
       "      <td>2</td>\n",
       "      <td>Alexandre RibeiroAlexandre Ribeiro</td>\n",
       "      <td>L</td>\n",
       "      <td>Pts: 2x0</td>\n",
       "      <td>ADCC</td>\n",
       "      <td>2017</td>\n",
       "      <td>Craig Jones</td>\n",
       "    </tr>\n",
       "    <tr>\n",
       "      <th>3</th>\n",
       "      <td>3</td>\n",
       "      <td>Gordon RyanGordon Ryan</td>\n",
       "      <td>L</td>\n",
       "      <td>Katagatame</td>\n",
       "      <td>ADCC</td>\n",
       "      <td>2017</td>\n",
       "      <td>Craig Jones</td>\n",
       "    </tr>\n",
       "    <tr>\n",
       "      <th>4</th>\n",
       "      <td>4</td>\n",
       "      <td>Gordon RyanGordon Ryan</td>\n",
       "      <td>L</td>\n",
       "      <td>EBI/OT</td>\n",
       "      <td>EBI 14</td>\n",
       "      <td>2017</td>\n",
       "      <td>Craig Jones</td>\n",
       "    </tr>\n",
       "  </tbody>\n",
       "</table>\n",
       "</div>"
      ],
      "text/plain": [
       "   Column1                            Opponent W/L      Method Competition  \\\n",
       "0        0            Vagner RochaVagner Rocha   L      EBI/OT      EBI 11   \n",
       "1        1    Keenan CorneliusKeenan Cornelius   L   Pts: 13x0        ADCC   \n",
       "2        2  Alexandre RibeiroAlexandre Ribeiro   L    Pts: 2x0        ADCC   \n",
       "3        3              Gordon RyanGordon Ryan   L  Katagatame        ADCC   \n",
       "4        4              Gordon RyanGordon Ryan   L      EBI/OT      EBI 14   \n",
       "\n",
       "   Year      Fighter  \n",
       "0  2017  Craig Jones  \n",
       "1  2017  Craig Jones  \n",
       "2  2017  Craig Jones  \n",
       "3  2017  Craig Jones  \n",
       "4  2017  Craig Jones  "
      ]
     },
     "execution_count": 3,
     "metadata": {},
     "output_type": "execute_result"
    }
   ],
   "source": [
    "# concatenate all elements    \n",
    "df = pd.concat(df_list)\n",
    "\n",
    "# check first 5 rows\n",
    "df.head()"
   ]
  },
  {
   "cell_type": "markdown",
   "metadata": {},
   "source": [
    "There are __3 issues__ on this DataFrame:\n",
    "1. We can see that the `Column1` column is just an index, and thus unecessary information for us.\n",
    "\n",
    "\n",
    "2. The column `Opponent` has the name of the athlete repeated.\n",
    "\n",
    "\n",
    "3. The `Method` column includes numerical characters (`13x0`) as well as special characters (`:`) which we are not interesting in. We want to know just the winning method, e.g. `Pts` which means that the match was won on points, and not the exact score.\n",
    "\n",
    "We will start with the simplest one: removing `Column1`.."
   ]
  },
  {
   "cell_type": "code",
   "execution_count": 4,
   "metadata": {
    "scrolled": false
   },
   "outputs": [
    {
     "data": {
      "text/html": [
       "<div>\n",
       "<style scoped>\n",
       "    .dataframe tbody tr th:only-of-type {\n",
       "        vertical-align: middle;\n",
       "    }\n",
       "\n",
       "    .dataframe tbody tr th {\n",
       "        vertical-align: top;\n",
       "    }\n",
       "\n",
       "    .dataframe thead th {\n",
       "        text-align: right;\n",
       "    }\n",
       "</style>\n",
       "<table border=\"1\" class=\"dataframe\">\n",
       "  <thead>\n",
       "    <tr style=\"text-align: right;\">\n",
       "      <th></th>\n",
       "      <th>Opponent</th>\n",
       "      <th>W/L</th>\n",
       "      <th>Method</th>\n",
       "      <th>Competition</th>\n",
       "      <th>Year</th>\n",
       "      <th>Fighter</th>\n",
       "    </tr>\n",
       "  </thead>\n",
       "  <tbody>\n",
       "    <tr>\n",
       "      <th>0</th>\n",
       "      <td>Vagner RochaVagner Rocha</td>\n",
       "      <td>L</td>\n",
       "      <td>EBI/OT</td>\n",
       "      <td>EBI 11</td>\n",
       "      <td>2017</td>\n",
       "      <td>Craig Jones</td>\n",
       "    </tr>\n",
       "    <tr>\n",
       "      <th>1</th>\n",
       "      <td>Keenan CorneliusKeenan Cornelius</td>\n",
       "      <td>L</td>\n",
       "      <td>Pts: 13x0</td>\n",
       "      <td>ADCC</td>\n",
       "      <td>2017</td>\n",
       "      <td>Craig Jones</td>\n",
       "    </tr>\n",
       "    <tr>\n",
       "      <th>2</th>\n",
       "      <td>Alexandre RibeiroAlexandre Ribeiro</td>\n",
       "      <td>L</td>\n",
       "      <td>Pts: 2x0</td>\n",
       "      <td>ADCC</td>\n",
       "      <td>2017</td>\n",
       "      <td>Craig Jones</td>\n",
       "    </tr>\n",
       "    <tr>\n",
       "      <th>3</th>\n",
       "      <td>Gordon RyanGordon Ryan</td>\n",
       "      <td>L</td>\n",
       "      <td>Katagatame</td>\n",
       "      <td>ADCC</td>\n",
       "      <td>2017</td>\n",
       "      <td>Craig Jones</td>\n",
       "    </tr>\n",
       "    <tr>\n",
       "      <th>4</th>\n",
       "      <td>Gordon RyanGordon Ryan</td>\n",
       "      <td>L</td>\n",
       "      <td>EBI/OT</td>\n",
       "      <td>EBI 14</td>\n",
       "      <td>2017</td>\n",
       "      <td>Craig Jones</td>\n",
       "    </tr>\n",
       "  </tbody>\n",
       "</table>\n",
       "</div>"
      ],
      "text/plain": [
       "                             Opponent W/L      Method Competition  Year  \\\n",
       "0            Vagner RochaVagner Rocha   L      EBI/OT      EBI 11  2017   \n",
       "1    Keenan CorneliusKeenan Cornelius   L   Pts: 13x0        ADCC  2017   \n",
       "2  Alexandre RibeiroAlexandre Ribeiro   L    Pts: 2x0        ADCC  2017   \n",
       "3              Gordon RyanGordon Ryan   L  Katagatame        ADCC  2017   \n",
       "4              Gordon RyanGordon Ryan   L      EBI/OT      EBI 14  2017   \n",
       "\n",
       "       Fighter  \n",
       "0  Craig Jones  \n",
       "1  Craig Jones  \n",
       "2  Craig Jones  \n",
       "3  Craig Jones  \n",
       "4  Craig Jones  "
      ]
     },
     "execution_count": 4,
     "metadata": {},
     "output_type": "execute_result"
    }
   ],
   "source": [
    "# drop col\n",
    "df.drop(columns='Column1', axis=1, inplace=True)\n",
    "\n",
    "# check that it worked\n",
    "df.head()"
   ]
  },
  {
   "cell_type": "markdown",
   "metadata": {},
   "source": [
    "We can know with the slightly more complex issue of the `Opponent` column. Let's start by inspecting the column."
   ]
  },
  {
   "cell_type": "code",
   "execution_count": 5,
   "metadata": {
    "scrolled": false
   },
   "outputs": [
    {
     "data": {
      "text/plain": [
       "Keenan CorneliusKeenan Cornelius    12\n",
       "Tex JohnsonTex Johnson              10\n",
       "Yuri SimoesYuri Simoes               8\n",
       "Gabriel SousaGabriel Sousa           7\n",
       "Matheus DinizMatheus Diniz           7\n",
       "                                    ..\n",
       "David Newton                         1\n",
       "Abraham Hall                         1\n",
       "Benjamin Dixon                       1\n",
       "Chad Allen                           1\n",
       "Mica GalvaoMica Galvao               1\n",
       "Name: Opponent, Length: 364, dtype: int64"
      ]
     },
     "execution_count": 5,
     "metadata": {},
     "output_type": "execute_result"
    }
   ],
   "source": [
    "# check unique values\n",
    "df.Opponent.value_counts()"
   ]
  },
  {
   "cell_type": "markdown",
   "metadata": {},
   "source": [
    "We can see that __some names__ are in the form `first_name last_namefirst_name last_name`, but __other names are as it should be__.\n",
    "\n",
    "Solution:\n",
    "1. `split` each string on __whitespace__ and __expand__ each value on a new column\n",
    "\n",
    "\n",
    "2. __concatenate__ the $1st$ and $3rd$ value, i.e. `first_name` and `last_name` with a whitespace in between them\n",
    "\n",
    "\n",
    "3. `drop` the middle column, i.e. `last_namefirst_name`,\n",
    "\n",
    "Job done!"
   ]
  },
  {
   "cell_type": "code",
   "execution_count": 6,
   "metadata": {
    "scrolled": false
   },
   "outputs": [
    {
     "data": {
      "text/html": [
       "<div>\n",
       "<style scoped>\n",
       "    .dataframe tbody tr th:only-of-type {\n",
       "        vertical-align: middle;\n",
       "    }\n",
       "\n",
       "    .dataframe tbody tr th {\n",
       "        vertical-align: top;\n",
       "    }\n",
       "\n",
       "    .dataframe thead th {\n",
       "        text-align: right;\n",
       "    }\n",
       "</style>\n",
       "<table border=\"1\" class=\"dataframe\">\n",
       "  <thead>\n",
       "    <tr style=\"text-align: right;\">\n",
       "      <th></th>\n",
       "      <th>0</th>\n",
       "      <th>1</th>\n",
       "      <th>2</th>\n",
       "    </tr>\n",
       "  </thead>\n",
       "  <tbody>\n",
       "    <tr>\n",
       "      <th>0</th>\n",
       "      <td>Vagner</td>\n",
       "      <td>RochaVagner</td>\n",
       "      <td>Rocha</td>\n",
       "    </tr>\n",
       "    <tr>\n",
       "      <th>1</th>\n",
       "      <td>Keenan</td>\n",
       "      <td>CorneliusKeenan</td>\n",
       "      <td>Cornelius</td>\n",
       "    </tr>\n",
       "    <tr>\n",
       "      <th>2</th>\n",
       "      <td>Alexandre</td>\n",
       "      <td>RibeiroAlexandre</td>\n",
       "      <td>Ribeiro</td>\n",
       "    </tr>\n",
       "    <tr>\n",
       "      <th>3</th>\n",
       "      <td>Gordon</td>\n",
       "      <td>RyanGordon</td>\n",
       "      <td>Ryan</td>\n",
       "    </tr>\n",
       "    <tr>\n",
       "      <th>4</th>\n",
       "      <td>Gordon</td>\n",
       "      <td>RyanGordon</td>\n",
       "      <td>Ryan</td>\n",
       "    </tr>\n",
       "    <tr>\n",
       "      <th>...</th>\n",
       "      <td>...</td>\n",
       "      <td>...</td>\n",
       "      <td>...</td>\n",
       "    </tr>\n",
       "    <tr>\n",
       "      <th>13</th>\n",
       "      <td>Kody</td>\n",
       "      <td>SteeleKody</td>\n",
       "      <td>Steele</td>\n",
       "    </tr>\n",
       "    <tr>\n",
       "      <th>14</th>\n",
       "      <td>William</td>\n",
       "      <td>TackettWilliam</td>\n",
       "      <td>Tackett</td>\n",
       "    </tr>\n",
       "    <tr>\n",
       "      <th>15</th>\n",
       "      <td>Johnny</td>\n",
       "      <td>TamaJohnny</td>\n",
       "      <td>Tama</td>\n",
       "    </tr>\n",
       "    <tr>\n",
       "      <th>16</th>\n",
       "      <td>Dante</td>\n",
       "      <td>LeonDante</td>\n",
       "      <td>Leon</td>\n",
       "    </tr>\n",
       "    <tr>\n",
       "      <th>17</th>\n",
       "      <td>Mica</td>\n",
       "      <td>GalvaoMica</td>\n",
       "      <td>Galvao</td>\n",
       "    </tr>\n",
       "  </tbody>\n",
       "</table>\n",
       "<p>598 rows × 3 columns</p>\n",
       "</div>"
      ],
      "text/plain": [
       "            0                 1          2\n",
       "0      Vagner       RochaVagner      Rocha\n",
       "1      Keenan   CorneliusKeenan  Cornelius\n",
       "2   Alexandre  RibeiroAlexandre    Ribeiro\n",
       "3      Gordon        RyanGordon       Ryan\n",
       "4      Gordon        RyanGordon       Ryan\n",
       "..        ...               ...        ...\n",
       "13       Kody        SteeleKody     Steele\n",
       "14    William    TackettWilliam    Tackett\n",
       "15     Johnny        TamaJohnny       Tama\n",
       "16      Dante         LeonDante       Leon\n",
       "17       Mica        GalvaoMica     Galvao\n",
       "\n",
       "[598 rows x 3 columns]"
      ]
     },
     "execution_count": 6,
     "metadata": {},
     "output_type": "execute_result"
    }
   ],
   "source": [
    "# split column on empty space\n",
    "split_opp = df.Opponent.str.split(' ', expand=True)\n",
    "split_opp"
   ]
  },
  {
   "cell_type": "code",
   "execution_count": 7,
   "metadata": {
    "scrolled": false
   },
   "outputs": [
    {
     "data": {
      "text/html": [
       "<div>\n",
       "<style scoped>\n",
       "    .dataframe tbody tr th:only-of-type {\n",
       "        vertical-align: middle;\n",
       "    }\n",
       "\n",
       "    .dataframe tbody tr th {\n",
       "        vertical-align: top;\n",
       "    }\n",
       "\n",
       "    .dataframe thead th {\n",
       "        text-align: right;\n",
       "    }\n",
       "</style>\n",
       "<table border=\"1\" class=\"dataframe\">\n",
       "  <thead>\n",
       "    <tr style=\"text-align: right;\">\n",
       "      <th></th>\n",
       "      <th>W/L</th>\n",
       "      <th>Method</th>\n",
       "      <th>Competition</th>\n",
       "      <th>Year</th>\n",
       "      <th>Fighter</th>\n",
       "      <th>Opponent</th>\n",
       "    </tr>\n",
       "  </thead>\n",
       "  <tbody>\n",
       "    <tr>\n",
       "      <th>0</th>\n",
       "      <td>L</td>\n",
       "      <td>EBI/OT</td>\n",
       "      <td>EBI 11</td>\n",
       "      <td>2017</td>\n",
       "      <td>Craig Jones</td>\n",
       "      <td>Vagner Rocha</td>\n",
       "    </tr>\n",
       "    <tr>\n",
       "      <th>1</th>\n",
       "      <td>L</td>\n",
       "      <td>Pts: 13x0</td>\n",
       "      <td>ADCC</td>\n",
       "      <td>2017</td>\n",
       "      <td>Craig Jones</td>\n",
       "      <td>Keenan Cornelius</td>\n",
       "    </tr>\n",
       "    <tr>\n",
       "      <th>2</th>\n",
       "      <td>L</td>\n",
       "      <td>Pts: 2x0</td>\n",
       "      <td>ADCC</td>\n",
       "      <td>2017</td>\n",
       "      <td>Craig Jones</td>\n",
       "      <td>Alexandre Ribeiro</td>\n",
       "    </tr>\n",
       "    <tr>\n",
       "      <th>3</th>\n",
       "      <td>L</td>\n",
       "      <td>Katagatame</td>\n",
       "      <td>ADCC</td>\n",
       "      <td>2017</td>\n",
       "      <td>Craig Jones</td>\n",
       "      <td>Gordon Ryan</td>\n",
       "    </tr>\n",
       "    <tr>\n",
       "      <th>4</th>\n",
       "      <td>L</td>\n",
       "      <td>EBI/OT</td>\n",
       "      <td>EBI 14</td>\n",
       "      <td>2017</td>\n",
       "      <td>Craig Jones</td>\n",
       "      <td>Gordon Ryan</td>\n",
       "    </tr>\n",
       "    <tr>\n",
       "      <th>...</th>\n",
       "      <td>...</td>\n",
       "      <td>...</td>\n",
       "      <td>...</td>\n",
       "      <td>...</td>\n",
       "      <td>...</td>\n",
       "      <td>...</td>\n",
       "    </tr>\n",
       "    <tr>\n",
       "      <th>13</th>\n",
       "      <td>W</td>\n",
       "      <td>Inside heel hook</td>\n",
       "      <td>WNO 5</td>\n",
       "      <td>2020</td>\n",
       "      <td>Tye Ruotolo</td>\n",
       "      <td>Kody Steele</td>\n",
       "    </tr>\n",
       "    <tr>\n",
       "      <th>14</th>\n",
       "      <td>W</td>\n",
       "      <td>Referee Decision</td>\n",
       "      <td>WNO 8</td>\n",
       "      <td>2021</td>\n",
       "      <td>Tye Ruotolo</td>\n",
       "      <td>William Tackett</td>\n",
       "    </tr>\n",
       "    <tr>\n",
       "      <th>15</th>\n",
       "      <td>W</td>\n",
       "      <td>Darce choke</td>\n",
       "      <td>WNO Champ.</td>\n",
       "      <td>2021</td>\n",
       "      <td>Tye Ruotolo</td>\n",
       "      <td>Johnny Tama</td>\n",
       "    </tr>\n",
       "    <tr>\n",
       "      <th>16</th>\n",
       "      <td>W</td>\n",
       "      <td>Guillotine</td>\n",
       "      <td>WNO Champ.</td>\n",
       "      <td>2021</td>\n",
       "      <td>Tye Ruotolo</td>\n",
       "      <td>Dante Leon</td>\n",
       "    </tr>\n",
       "    <tr>\n",
       "      <th>17</th>\n",
       "      <td>W</td>\n",
       "      <td>Referee Decision</td>\n",
       "      <td>WNO Champ.</td>\n",
       "      <td>2021</td>\n",
       "      <td>Tye Ruotolo</td>\n",
       "      <td>Mica Galvao</td>\n",
       "    </tr>\n",
       "  </tbody>\n",
       "</table>\n",
       "<p>598 rows × 6 columns</p>\n",
       "</div>"
      ],
      "text/plain": [
       "   W/L            Method Competition  Year      Fighter           Opponent\n",
       "0    L            EBI/OT      EBI 11  2017  Craig Jones       Vagner Rocha\n",
       "1    L         Pts: 13x0        ADCC  2017  Craig Jones   Keenan Cornelius\n",
       "2    L          Pts: 2x0        ADCC  2017  Craig Jones  Alexandre Ribeiro\n",
       "3    L        Katagatame        ADCC  2017  Craig Jones        Gordon Ryan\n",
       "4    L            EBI/OT      EBI 14  2017  Craig Jones        Gordon Ryan\n",
       "..  ..               ...         ...   ...          ...                ...\n",
       "13   W  Inside heel hook       WNO 5  2020  Tye Ruotolo        Kody Steele\n",
       "14   W  Referee Decision       WNO 8  2021  Tye Ruotolo    William Tackett\n",
       "15   W       Darce choke  WNO Champ.  2021  Tye Ruotolo        Johnny Tama\n",
       "16   W        Guillotine  WNO Champ.  2021  Tye Ruotolo         Dante Leon\n",
       "17   W  Referee Decision  WNO Champ.  2021  Tye Ruotolo        Mica Galvao\n",
       "\n",
       "[598 rows x 6 columns]"
      ]
     },
     "execution_count": 7,
     "metadata": {},
     "output_type": "execute_result"
    }
   ],
   "source": [
    "# create df and assign as a col just the first name\n",
    "df_clean = df.assign(Opp_fname = split_opp[0])\n",
    "\n",
    "# assign as a col just the last name\n",
    "df_clean = df_clean.assign(Opp_lname = split_opp[2])\n",
    "\n",
    "# remove the old col\n",
    "df_clean.drop(columns='Opponent', axis=1, inplace=True)\n",
    "\n",
    "# concacenate first and last name into a single col\n",
    "df_clean['Opponent'] = df_clean.Opp_fname + \" \" + df_clean.Opp_lname\n",
    "\n",
    "# remove the unecessary cols\n",
    "df_clean.drop(columns=['Opp_fname', 'Opp_lname'], axis=1, inplace=True)\n",
    "\n",
    "# check new df\n",
    "df_clean"
   ]
  },
  {
   "cell_type": "markdown",
   "metadata": {},
   "source": [
    "Everything looks better now. The last issue we need to deal with is removing both the numerical and special characters from the `Method` column.\n",
    "\n",
    "We can `split` while __extracting__ digits and special chars using __regular expressions__ and `expand` values into new columns."
   ]
  },
  {
   "cell_type": "code",
   "execution_count": 8,
   "metadata": {
    "scrolled": false
   },
   "outputs": [
    {
     "data": {
      "text/html": [
       "<div>\n",
       "<style scoped>\n",
       "    .dataframe tbody tr th:only-of-type {\n",
       "        vertical-align: middle;\n",
       "    }\n",
       "\n",
       "    .dataframe tbody tr th {\n",
       "        vertical-align: top;\n",
       "    }\n",
       "\n",
       "    .dataframe thead th {\n",
       "        text-align: right;\n",
       "    }\n",
       "</style>\n",
       "<table border=\"1\" class=\"dataframe\">\n",
       "  <thead>\n",
       "    <tr style=\"text-align: right;\">\n",
       "      <th></th>\n",
       "      <th>0</th>\n",
       "      <th>1</th>\n",
       "      <th>2</th>\n",
       "      <th>3</th>\n",
       "      <th>4</th>\n",
       "      <th>5</th>\n",
       "      <th>6</th>\n",
       "    </tr>\n",
       "  </thead>\n",
       "  <tbody>\n",
       "    <tr>\n",
       "      <th>0</th>\n",
       "      <td>EBI/OT</td>\n",
       "      <td>None</td>\n",
       "      <td>None</td>\n",
       "      <td>None</td>\n",
       "      <td>None</td>\n",
       "      <td>None</td>\n",
       "      <td>None</td>\n",
       "    </tr>\n",
       "    <tr>\n",
       "      <th>1</th>\n",
       "      <td>Pts</td>\n",
       "      <td>None</td>\n",
       "      <td></td>\n",
       "      <td>13</td>\n",
       "      <td>x</td>\n",
       "      <td>0</td>\n",
       "      <td></td>\n",
       "    </tr>\n",
       "    <tr>\n",
       "      <th>2</th>\n",
       "      <td>Pts</td>\n",
       "      <td>None</td>\n",
       "      <td></td>\n",
       "      <td>2</td>\n",
       "      <td>x</td>\n",
       "      <td>0</td>\n",
       "      <td></td>\n",
       "    </tr>\n",
       "    <tr>\n",
       "      <th>3</th>\n",
       "      <td>Katagatame</td>\n",
       "      <td>None</td>\n",
       "      <td>None</td>\n",
       "      <td>None</td>\n",
       "      <td>None</td>\n",
       "      <td>None</td>\n",
       "      <td>None</td>\n",
       "    </tr>\n",
       "    <tr>\n",
       "      <th>4</th>\n",
       "      <td>EBI/OT</td>\n",
       "      <td>None</td>\n",
       "      <td>None</td>\n",
       "      <td>None</td>\n",
       "      <td>None</td>\n",
       "      <td>None</td>\n",
       "      <td>None</td>\n",
       "    </tr>\n",
       "    <tr>\n",
       "      <th>...</th>\n",
       "      <td>...</td>\n",
       "      <td>...</td>\n",
       "      <td>...</td>\n",
       "      <td>...</td>\n",
       "      <td>...</td>\n",
       "      <td>...</td>\n",
       "      <td>...</td>\n",
       "    </tr>\n",
       "    <tr>\n",
       "      <th>13</th>\n",
       "      <td>Inside heel hook</td>\n",
       "      <td>None</td>\n",
       "      <td>None</td>\n",
       "      <td>None</td>\n",
       "      <td>None</td>\n",
       "      <td>None</td>\n",
       "      <td>None</td>\n",
       "    </tr>\n",
       "    <tr>\n",
       "      <th>14</th>\n",
       "      <td>Referee Decision</td>\n",
       "      <td>None</td>\n",
       "      <td>None</td>\n",
       "      <td>None</td>\n",
       "      <td>None</td>\n",
       "      <td>None</td>\n",
       "      <td>None</td>\n",
       "    </tr>\n",
       "    <tr>\n",
       "      <th>15</th>\n",
       "      <td>Darce choke</td>\n",
       "      <td>None</td>\n",
       "      <td>None</td>\n",
       "      <td>None</td>\n",
       "      <td>None</td>\n",
       "      <td>None</td>\n",
       "      <td>None</td>\n",
       "    </tr>\n",
       "    <tr>\n",
       "      <th>16</th>\n",
       "      <td>Guillotine</td>\n",
       "      <td>None</td>\n",
       "      <td>None</td>\n",
       "      <td>None</td>\n",
       "      <td>None</td>\n",
       "      <td>None</td>\n",
       "      <td>None</td>\n",
       "    </tr>\n",
       "    <tr>\n",
       "      <th>17</th>\n",
       "      <td>Referee Decision</td>\n",
       "      <td>None</td>\n",
       "      <td>None</td>\n",
       "      <td>None</td>\n",
       "      <td>None</td>\n",
       "      <td>None</td>\n",
       "      <td>None</td>\n",
       "    </tr>\n",
       "  </tbody>\n",
       "</table>\n",
       "<p>598 rows × 7 columns</p>\n",
       "</div>"
      ],
      "text/plain": [
       "                   0     1     2     3     4     5     6\n",
       "0             EBI/OT  None  None  None  None  None  None\n",
       "1                Pts  None          13     x     0      \n",
       "2                Pts  None           2     x     0      \n",
       "3         Katagatame  None  None  None  None  None  None\n",
       "4             EBI/OT  None  None  None  None  None  None\n",
       "..               ...   ...   ...   ...   ...   ...   ...\n",
       "13  Inside heel hook  None  None  None  None  None  None\n",
       "14  Referee Decision  None  None  None  None  None  None\n",
       "15       Darce choke  None  None  None  None  None  None\n",
       "16        Guillotine  None  None  None  None  None  None\n",
       "17  Referee Decision  None  None  None  None  None  None\n",
       "\n",
       "[598 rows x 7 columns]"
      ]
     },
     "execution_count": 8,
     "metadata": {},
     "output_type": "execute_result"
    }
   ],
   "source": [
    "# extract and split on digits\n",
    "df_method = df_clean.Method.str.split(r'(\\d+)|:', expand=True)\n",
    "df_method"
   ]
  },
  {
   "cell_type": "markdown",
   "metadata": {},
   "source": [
    "We can see that the $1st$ column is just what we need, thus, we can `assign` it to our DataFrame, while __droping__ the old `Method` column."
   ]
  },
  {
   "cell_type": "code",
   "execution_count": 9,
   "metadata": {},
   "outputs": [
    {
     "data": {
      "text/html": [
       "<div>\n",
       "<style scoped>\n",
       "    .dataframe tbody tr th:only-of-type {\n",
       "        vertical-align: middle;\n",
       "    }\n",
       "\n",
       "    .dataframe tbody tr th {\n",
       "        vertical-align: top;\n",
       "    }\n",
       "\n",
       "    .dataframe thead th {\n",
       "        text-align: right;\n",
       "    }\n",
       "</style>\n",
       "<table border=\"1\" class=\"dataframe\">\n",
       "  <thead>\n",
       "    <tr style=\"text-align: right;\">\n",
       "      <th></th>\n",
       "      <th>W/L</th>\n",
       "      <th>Competition</th>\n",
       "      <th>Year</th>\n",
       "      <th>Fighter</th>\n",
       "      <th>Opponent</th>\n",
       "      <th>Winning_Method</th>\n",
       "    </tr>\n",
       "  </thead>\n",
       "  <tbody>\n",
       "    <tr>\n",
       "      <th>0</th>\n",
       "      <td>L</td>\n",
       "      <td>EBI 11</td>\n",
       "      <td>2017</td>\n",
       "      <td>Craig Jones</td>\n",
       "      <td>Vagner Rocha</td>\n",
       "      <td>EBI/OT</td>\n",
       "    </tr>\n",
       "    <tr>\n",
       "      <th>1</th>\n",
       "      <td>L</td>\n",
       "      <td>ADCC</td>\n",
       "      <td>2017</td>\n",
       "      <td>Craig Jones</td>\n",
       "      <td>Keenan Cornelius</td>\n",
       "      <td>Pts</td>\n",
       "    </tr>\n",
       "    <tr>\n",
       "      <th>2</th>\n",
       "      <td>L</td>\n",
       "      <td>ADCC</td>\n",
       "      <td>2017</td>\n",
       "      <td>Craig Jones</td>\n",
       "      <td>Alexandre Ribeiro</td>\n",
       "      <td>Pts</td>\n",
       "    </tr>\n",
       "    <tr>\n",
       "      <th>3</th>\n",
       "      <td>L</td>\n",
       "      <td>ADCC</td>\n",
       "      <td>2017</td>\n",
       "      <td>Craig Jones</td>\n",
       "      <td>Gordon Ryan</td>\n",
       "      <td>Katagatame</td>\n",
       "    </tr>\n",
       "    <tr>\n",
       "      <th>4</th>\n",
       "      <td>L</td>\n",
       "      <td>EBI 14</td>\n",
       "      <td>2017</td>\n",
       "      <td>Craig Jones</td>\n",
       "      <td>Gordon Ryan</td>\n",
       "      <td>EBI/OT</td>\n",
       "    </tr>\n",
       "  </tbody>\n",
       "</table>\n",
       "</div>"
      ],
      "text/plain": [
       "  W/L Competition  Year      Fighter           Opponent Winning_Method\n",
       "0   L      EBI 11  2017  Craig Jones       Vagner Rocha         EBI/OT\n",
       "1   L        ADCC  2017  Craig Jones   Keenan Cornelius            Pts\n",
       "2   L        ADCC  2017  Craig Jones  Alexandre Ribeiro            Pts\n",
       "3   L        ADCC  2017  Craig Jones        Gordon Ryan     Katagatame\n",
       "4   L      EBI 14  2017  Craig Jones        Gordon Ryan         EBI/OT"
      ]
     },
     "execution_count": 9,
     "metadata": {},
     "output_type": "execute_result"
    }
   ],
   "source": [
    "# assign first col to df_clean\n",
    "df_clean = df_clean.assign(Winning_Method = df_method[0])\n",
    "\n",
    "# remove old col\n",
    "df_clean.drop(columns='Method', axis=1, inplace=True)\n",
    "\n",
    "# check df\n",
    "df_clean.head()"
   ]
  },
  {
   "cell_type": "markdown",
   "metadata": {},
   "source": [
    "Our DataFrame looks good; the `Opponent` and `Winning_Method` columns look much more useful now.\n",
    "\n",
    "We can now __start exploring__ our dataset!"
   ]
  },
  {
   "cell_type": "markdown",
   "metadata": {},
   "source": [
    "<a name='eda'></a>\n",
    "# 2. Exploring Data "
   ]
  },
  {
   "cell_type": "markdown",
   "metadata": {},
   "source": [
    "Since, we __did not collect the data ourselves to answer a specific question__, we can explore what we have and see what we can come up with.  "
   ]
  },
  {
   "cell_type": "code",
   "execution_count": 10,
   "metadata": {},
   "outputs": [
    {
     "data": {
      "text/plain": [
       "(598, 6)"
      ]
     },
     "execution_count": 10,
     "metadata": {},
     "output_type": "execute_result"
    }
   ],
   "source": [
    "# check shape\n",
    "df_clean.shape"
   ]
  },
  {
   "cell_type": "markdown",
   "metadata": {},
   "source": [
    "As we can see our dataset has __598 rows__ and __6 columns__."
   ]
  },
  {
   "cell_type": "code",
   "execution_count": 11,
   "metadata": {
    "scrolled": true
   },
   "outputs": [
    {
     "name": "stdout",
     "output_type": "stream",
     "text": [
      "<class 'pandas.core.frame.DataFrame'>\n",
      "Int64Index: 598 entries, 0 to 17\n",
      "Data columns (total 6 columns):\n",
      " #   Column          Non-Null Count  Dtype \n",
      "---  ------          --------------  ----- \n",
      " 0   W/L             598 non-null    object\n",
      " 1   Competition     598 non-null    object\n",
      " 2   Year            598 non-null    int64 \n",
      " 3   Fighter         598 non-null    object\n",
      " 4   Opponent        408 non-null    object\n",
      " 5   Winning_Method  598 non-null    object\n",
      "dtypes: int64(1), object(5)\n",
      "memory usage: 32.7+ KB\n"
     ]
    }
   ],
   "source": [
    "# check basic info\n",
    "df_clean.info()"
   ]
  },
  {
   "cell_type": "markdown",
   "metadata": {},
   "source": [
    "Our DataFrame contains __no null values__ (all rows have 598 values) and we have __5 columns of type `object`__ and __1 column of type `integer`__."
   ]
  },
  {
   "cell_type": "code",
   "execution_count": 12,
   "metadata": {},
   "outputs": [
    {
     "data": {
      "text/plain": [
       "2019    160\n",
       "2018    136\n",
       "2020     83\n",
       "2021     81\n",
       "2017     63\n",
       "2016     38\n",
       "2015     25\n",
       "2014     12\n",
       "Name: Year, dtype: int64"
      ]
     },
     "execution_count": 12,
     "metadata": {},
     "output_type": "execute_result"
    }
   ],
   "source": [
    "# check year values\n",
    "df_clean.Year.value_counts()"
   ]
  },
  {
   "cell_type": "code",
   "execution_count": 13,
   "metadata": {
    "scrolled": false
   },
   "outputs": [
    {
     "data": {
      "text/html": [
       "<div>\n",
       "<style scoped>\n",
       "    .dataframe tbody tr th:only-of-type {\n",
       "        vertical-align: middle;\n",
       "    }\n",
       "\n",
       "    .dataframe tbody tr th {\n",
       "        vertical-align: top;\n",
       "    }\n",
       "\n",
       "    .dataframe thead th {\n",
       "        text-align: right;\n",
       "    }\n",
       "</style>\n",
       "<table border=\"1\" class=\"dataframe\">\n",
       "  <thead>\n",
       "    <tr style=\"text-align: right;\">\n",
       "      <th></th>\n",
       "      <th>Year</th>\n",
       "    </tr>\n",
       "  </thead>\n",
       "  <tbody>\n",
       "    <tr>\n",
       "      <th>count</th>\n",
       "      <td>598.000000</td>\n",
       "    </tr>\n",
       "    <tr>\n",
       "      <th>mean</th>\n",
       "      <td>2018.513378</td>\n",
       "    </tr>\n",
       "    <tr>\n",
       "      <th>std</th>\n",
       "      <td>1.685187</td>\n",
       "    </tr>\n",
       "    <tr>\n",
       "      <th>min</th>\n",
       "      <td>2014.000000</td>\n",
       "    </tr>\n",
       "    <tr>\n",
       "      <th>25%</th>\n",
       "      <td>2018.000000</td>\n",
       "    </tr>\n",
       "    <tr>\n",
       "      <th>50%</th>\n",
       "      <td>2019.000000</td>\n",
       "    </tr>\n",
       "    <tr>\n",
       "      <th>75%</th>\n",
       "      <td>2020.000000</td>\n",
       "    </tr>\n",
       "    <tr>\n",
       "      <th>max</th>\n",
       "      <td>2021.000000</td>\n",
       "    </tr>\n",
       "  </tbody>\n",
       "</table>\n",
       "</div>"
      ],
      "text/plain": [
       "              Year\n",
       "count   598.000000\n",
       "mean   2018.513378\n",
       "std       1.685187\n",
       "min    2014.000000\n",
       "25%    2018.000000\n",
       "50%    2019.000000\n",
       "75%    2020.000000\n",
       "max    2021.000000"
      ]
     },
     "execution_count": 13,
     "metadata": {},
     "output_type": "execute_result"
    }
   ],
   "source": [
    "# check basic stats of the numerical col\n",
    "df_clean.describe()"
   ]
  },
  {
   "cell_type": "markdown",
   "metadata": {},
   "source": [
    "Looking at the `Year` column we can see that the dataset includes relatively __recent matches (2014 to 2021)__, and that __the majority__ of them took place in __2019__. "
   ]
  },
  {
   "cell_type": "code",
   "execution_count": 14,
   "metadata": {
    "scrolled": true
   },
   "outputs": [
    {
     "data": {
      "text/html": [
       "<div>\n",
       "<style scoped>\n",
       "    .dataframe tbody tr th:only-of-type {\n",
       "        vertical-align: middle;\n",
       "    }\n",
       "\n",
       "    .dataframe tbody tr th {\n",
       "        vertical-align: top;\n",
       "    }\n",
       "\n",
       "    .dataframe thead th {\n",
       "        text-align: right;\n",
       "    }\n",
       "</style>\n",
       "<table border=\"1\" class=\"dataframe\">\n",
       "  <thead>\n",
       "    <tr style=\"text-align: right;\">\n",
       "      <th></th>\n",
       "      <th>W/L</th>\n",
       "      <th>Competition</th>\n",
       "      <th>Fighter</th>\n",
       "      <th>Opponent</th>\n",
       "      <th>Winning_Method</th>\n",
       "    </tr>\n",
       "  </thead>\n",
       "  <tbody>\n",
       "    <tr>\n",
       "      <th>count</th>\n",
       "      <td>598</td>\n",
       "      <td>598</td>\n",
       "      <td>598</td>\n",
       "      <td>408</td>\n",
       "      <td>598</td>\n",
       "    </tr>\n",
       "    <tr>\n",
       "      <th>unique</th>\n",
       "      <td>2</td>\n",
       "      <td>163</td>\n",
       "      <td>10</td>\n",
       "      <td>192</td>\n",
       "      <td>48</td>\n",
       "    </tr>\n",
       "    <tr>\n",
       "      <th>top</th>\n",
       "      <td>W</td>\n",
       "      <td>ADCC</td>\n",
       "      <td>Kaynan Duarte</td>\n",
       "      <td>Keenan Cornelius</td>\n",
       "      <td>Pts</td>\n",
       "    </tr>\n",
       "    <tr>\n",
       "      <th>freq</th>\n",
       "      <td>495</td>\n",
       "      <td>45</td>\n",
       "      <td>116</td>\n",
       "      <td>12</td>\n",
       "      <td>198</td>\n",
       "    </tr>\n",
       "  </tbody>\n",
       "</table>\n",
       "</div>"
      ],
      "text/plain": [
       "        W/L Competition        Fighter          Opponent Winning_Method\n",
       "count   598         598            598               408            598\n",
       "unique    2         163             10               192             48\n",
       "top       W        ADCC  Kaynan Duarte  Keenan Cornelius            Pts\n",
       "freq    495          45            116                12            198"
      ]
     },
     "execution_count": 14,
     "metadata": {},
     "output_type": "execute_result"
    }
   ],
   "source": [
    "# check basic stats of the object cols\n",
    "df_clean.describe(include='object')"
   ]
  },
  {
   "cell_type": "markdown",
   "metadata": {},
   "source": [
    "From the above results, we can see that:\n",
    "1. there are __192 different opponents__\n",
    "\n",
    "\n",
    "2. __48 unique methods of winning__, the most common being `Pts`\n",
    "\n",
    "\n",
    "3. __163 different competitions__, the most commong beign `ADCC`\n",
    "\n",
    "\n",
    "4. the __most data are held for__ `Kaynan Duarte`\n",
    "\n",
    "\n",
    "5. most fighters had as `Opponent` the athlete `Keenan Cornelius`"
   ]
  },
  {
   "cell_type": "code",
   "execution_count": 15,
   "metadata": {
    "scrolled": true
   },
   "outputs": [
    {
     "data": {
      "text/plain": [
       "Kaynan Duarte       116\n",
       "Gordan Ryan          94\n",
       "Tim Spriggs          94\n",
       "Kennedy Maciel       73\n",
       "Craig Jones          67\n",
       "Diego Olivera        60\n",
       "Michael Musumeci     52\n",
       "Tye Ruotolo          18\n",
       "Micael Galvao        13\n",
       "Kade Ruotolo         11\n",
       "Name: Fighter, dtype: int64"
      ]
     },
     "execution_count": 15,
     "metadata": {},
     "output_type": "execute_result"
    }
   ],
   "source": [
    "# check athletes\n",
    "df_clean.Fighter.value_counts()"
   ]
  },
  {
   "cell_type": "markdown",
   "metadata": {},
   "source": [
    "<a name=\"questions\"></a>\n",
    "# 3. Formulating Questions"
   ]
  },
  {
   "cell_type": "markdown",
   "metadata": {},
   "source": [
    "There are very useful libraries for a \"quick\" but detailed look at one or multiple dataframes.\n",
    "\n",
    "The first is called [`pandas_profiling`](https://github.com/ydataai/pandas-profiling#pandas-profiling), with which I have created a report below, but I will only display a second similar library which I personally prefer, i.e. [`sweetviz`](https://pypi.org/project/sweetviz/).\n",
    "\n",
    "We will try to answer the following 3 questions:\n",
    "\n",
    "1. [What are the top 5 methods to win a match?](#q1)\n",
    "\n",
    "\n",
    "2. [Who are the top 3 grapplers?](#q2)\n",
    "\n",
    "\n",
    "3. [Which is the most exciting competition to watch? That is, which competition has the most submissions?](#q3)"
   ]
  },
  {
   "cell_type": "code",
   "execution_count": 16,
   "metadata": {
    "scrolled": true
   },
   "outputs": [],
   "source": [
    "# from pandas_profiling import ProfileReport\n",
    "\n",
    "# # instantiate ProfileReport`\n",
    "# profile = ProfileReport(df_clean, title='Pandas Profiling Report', html={'style': {'full_width': True}})"
   ]
  },
  {
   "cell_type": "code",
   "execution_count": 17,
   "metadata": {
    "scrolled": false
   },
   "outputs": [],
   "source": [
    "# # invoke report\n",
    "# profile"
   ]
  },
  {
   "cell_type": "code",
   "execution_count": 18,
   "metadata": {
    "scrolled": false
   },
   "outputs": [
    {
     "data": {
      "application/vnd.jupyter.widget-view+json": {
       "model_id": "c5b6d3e6f9d344919a77769c8f6f472f",
       "version_major": 2,
       "version_minor": 0
      },
      "text/plain": [
       "                                             |          | [  0%]   00:00 -> (? left)"
      ]
     },
     "metadata": {},
     "output_type": "display_data"
    },
    {
     "name": "stdout",
     "output_type": "stream",
     "text": [
      "Report SWEETVIZ_REPORT.html was generated! NOTEBOOK/COLAB USERS: the web browser MAY not pop up, regardless, the report IS saved in your notebook/colab files.\n"
     ]
    }
   ],
   "source": [
    "import sweetviz as sv\n",
    "\n",
    "# analyze dataset\n",
    "analyze_report = sv.analyze(df_clean)\n",
    "\n",
    "# display report as html page\n",
    "analyze_report.show_html()\n",
    "\n",
    "# # display report inside notebook\n",
    "# analyze_report.show_notebook()"
   ]
  },
  {
   "cell_type": "markdown",
   "metadata": {},
   "source": [
    "<a name=\"q1\"></a>\n",
    "## 1. What are the top 5 methods to win a match?"
   ]
  },
  {
   "attachments": {
    "perce_subs.PNG": {
     "image/png": "[encoded data removed]"
    }
   },
   "cell_type": "markdown",
   "metadata": {},
   "source": [
    "`sweetviz` generates a beautiful table that directly answers out first question:\n",
    "\n",
    "![perce_subs.PNG](attachment:perce_subs.PNG)"
   ]
  },
  {
   "cell_type": "markdown",
   "metadata": {},
   "source": [
    "Almost half of the matches (47%) are won either via __points__ (33%) or __Referee Decision__ (14%)! \n",
    "\n",
    "Then we have the __RNC__ (9%), which stands for Rear Naked Choke, __Inside Heel Hook__ (6%), and __Choke from the back__ (4%).\n",
    "\n",
    "We can easily confirm these numbers using the `pandas` library."
   ]
  },
  {
   "cell_type": "code",
   "execution_count": 19,
   "metadata": {
    "scrolled": true
   },
   "outputs": [
    {
     "data": {
      "text/plain": [
       "Pts                 198\n",
       "Referee Decision     82\n",
       "RNC                  53\n",
       "Inside heel hook     36\n",
       "Choke from back      23\n",
       "Name: Winning_Method, dtype: int64"
      ]
     },
     "execution_count": 19,
     "metadata": {},
     "output_type": "execute_result"
    }
   ],
   "source": [
    "# check top5 winning methods\n",
    "df_clean.Winning_Method.value_counts()[:5]"
   ]
  },
  {
   "cell_type": "code",
   "execution_count": 20,
   "metadata": {
    "scrolled": true
   },
   "outputs": [
    {
     "data": {
      "text/plain": [
       "Pts                 0.331104\n",
       "Referee Decision    0.137124\n",
       "RNC                 0.088629\n",
       "Inside heel hook    0.060201\n",
       "Choke from back     0.038462\n",
       "Name: Winning_Method, dtype: float64"
      ]
     },
     "execution_count": 20,
     "metadata": {},
     "output_type": "execute_result"
    }
   ],
   "source": [
    "# check % of top5 winning methods\n",
    "df_clean.Winning_Method.value_counts(normalize=True)[:5]"
   ]
  },
  {
   "attachments": {},
   "cell_type": "markdown",
   "metadata": {},
   "source": [
    "<a name=\"q2\"></a>\n",
    "## 2. Who are the top 3 grapplers?"
   ]
  },
  {
   "attachments": {
    "matches_num.PNG": {
     "image/png": "[encoded data removed]"
    }
   },
   "cell_type": "markdown",
   "metadata": {},
   "source": [
    "We can __calculate the win percentage__ of each grappler in order to find out the top3 athletes. We can first check how many matches each athletes has via `sweetviz` and then confirm the number with `pandas`:\n",
    "\n",
    "![matches_num.PNG](attachment:matches_num.PNG)"
   ]
  },
  {
   "cell_type": "code",
   "execution_count": 21,
   "metadata": {
    "scrolled": true
   },
   "outputs": [
    {
     "data": {
      "text/plain": [
       "Kaynan Duarte       116\n",
       "Gordan Ryan          94\n",
       "Tim Spriggs          94\n",
       "Kennedy Maciel       73\n",
       "Craig Jones          67\n",
       "Diego Olivera        60\n",
       "Michael Musumeci     52\n",
       "Tye Ruotolo          18\n",
       "Micael Galvao        13\n",
       "Kade Ruotolo         11\n",
       "Name: Fighter, dtype: int64"
      ]
     },
     "execution_count": 21,
     "metadata": {},
     "output_type": "execute_result"
    }
   ],
   "source": [
    "# check matches per athlete\n",
    "df_clean.Fighter.value_counts()"
   ]
  },
  {
   "cell_type": "markdown",
   "metadata": {},
   "source": [
    "The `W/L` column contains both Wins and Losses as strings, so we will have to find a way to:\n",
    "1. __calculate the wins of each athlete__\n",
    "\n",
    "\n",
    "2. __calculate his win percentage__"
   ]
  },
  {
   "cell_type": "code",
   "execution_count": 22,
   "metadata": {
    "scrolled": true
   },
   "outputs": [
    {
     "data": {
      "text/plain": [
       "0     L\n",
       "1     L\n",
       "2     L\n",
       "3     L\n",
       "4     L\n",
       "     ..\n",
       "13    W\n",
       "14    W\n",
       "15    W\n",
       "16    W\n",
       "17    W\n",
       "Name: W/L, Length: 598, dtype: object"
      ]
     },
     "execution_count": 22,
     "metadata": {},
     "output_type": "execute_result"
    }
   ],
   "source": [
    "df_clean['W/L']"
   ]
  },
  {
   "cell_type": "markdown",
   "metadata": {},
   "source": [
    "We can start by __replacing__ the letters `W` and `L` with `1` and `0`, respectively."
   ]
  },
  {
   "cell_type": "code",
   "execution_count": 23,
   "metadata": {},
   "outputs": [
    {
     "data": {
      "text/html": [
       "<div>\n",
       "<style scoped>\n",
       "    .dataframe tbody tr th:only-of-type {\n",
       "        vertical-align: middle;\n",
       "    }\n",
       "\n",
       "    .dataframe tbody tr th {\n",
       "        vertical-align: top;\n",
       "    }\n",
       "\n",
       "    .dataframe thead th {\n",
       "        text-align: right;\n",
       "    }\n",
       "</style>\n",
       "<table border=\"1\" class=\"dataframe\">\n",
       "  <thead>\n",
       "    <tr style=\"text-align: right;\">\n",
       "      <th></th>\n",
       "      <th>W/L</th>\n",
       "      <th>Competition</th>\n",
       "      <th>Year</th>\n",
       "      <th>Fighter</th>\n",
       "      <th>Opponent</th>\n",
       "      <th>Winning_Method</th>\n",
       "    </tr>\n",
       "  </thead>\n",
       "  <tbody>\n",
       "    <tr>\n",
       "      <th>0</th>\n",
       "      <td>0</td>\n",
       "      <td>EBI 11</td>\n",
       "      <td>2017</td>\n",
       "      <td>Craig Jones</td>\n",
       "      <td>Vagner Rocha</td>\n",
       "      <td>EBI/OT</td>\n",
       "    </tr>\n",
       "    <tr>\n",
       "      <th>1</th>\n",
       "      <td>0</td>\n",
       "      <td>ADCC</td>\n",
       "      <td>2017</td>\n",
       "      <td>Craig Jones</td>\n",
       "      <td>Keenan Cornelius</td>\n",
       "      <td>Pts</td>\n",
       "    </tr>\n",
       "    <tr>\n",
       "      <th>2</th>\n",
       "      <td>0</td>\n",
       "      <td>ADCC</td>\n",
       "      <td>2017</td>\n",
       "      <td>Craig Jones</td>\n",
       "      <td>Alexandre Ribeiro</td>\n",
       "      <td>Pts</td>\n",
       "    </tr>\n",
       "    <tr>\n",
       "      <th>3</th>\n",
       "      <td>0</td>\n",
       "      <td>ADCC</td>\n",
       "      <td>2017</td>\n",
       "      <td>Craig Jones</td>\n",
       "      <td>Gordon Ryan</td>\n",
       "      <td>Katagatame</td>\n",
       "    </tr>\n",
       "    <tr>\n",
       "      <th>4</th>\n",
       "      <td>0</td>\n",
       "      <td>EBI 14</td>\n",
       "      <td>2017</td>\n",
       "      <td>Craig Jones</td>\n",
       "      <td>Gordon Ryan</td>\n",
       "      <td>EBI/OT</td>\n",
       "    </tr>\n",
       "    <tr>\n",
       "      <th>...</th>\n",
       "      <td>...</td>\n",
       "      <td>...</td>\n",
       "      <td>...</td>\n",
       "      <td>...</td>\n",
       "      <td>...</td>\n",
       "      <td>...</td>\n",
       "    </tr>\n",
       "    <tr>\n",
       "      <th>13</th>\n",
       "      <td>1</td>\n",
       "      <td>WNO 5</td>\n",
       "      <td>2020</td>\n",
       "      <td>Tye Ruotolo</td>\n",
       "      <td>Kody Steele</td>\n",
       "      <td>Inside heel hook</td>\n",
       "    </tr>\n",
       "    <tr>\n",
       "      <th>14</th>\n",
       "      <td>1</td>\n",
       "      <td>WNO 8</td>\n",
       "      <td>2021</td>\n",
       "      <td>Tye Ruotolo</td>\n",
       "      <td>William Tackett</td>\n",
       "      <td>Referee Decision</td>\n",
       "    </tr>\n",
       "    <tr>\n",
       "      <th>15</th>\n",
       "      <td>1</td>\n",
       "      <td>WNO Champ.</td>\n",
       "      <td>2021</td>\n",
       "      <td>Tye Ruotolo</td>\n",
       "      <td>Johnny Tama</td>\n",
       "      <td>Darce choke</td>\n",
       "    </tr>\n",
       "    <tr>\n",
       "      <th>16</th>\n",
       "      <td>1</td>\n",
       "      <td>WNO Champ.</td>\n",
       "      <td>2021</td>\n",
       "      <td>Tye Ruotolo</td>\n",
       "      <td>Dante Leon</td>\n",
       "      <td>Guillotine</td>\n",
       "    </tr>\n",
       "    <tr>\n",
       "      <th>17</th>\n",
       "      <td>1</td>\n",
       "      <td>WNO Champ.</td>\n",
       "      <td>2021</td>\n",
       "      <td>Tye Ruotolo</td>\n",
       "      <td>Mica Galvao</td>\n",
       "      <td>Referee Decision</td>\n",
       "    </tr>\n",
       "  </tbody>\n",
       "</table>\n",
       "<p>598 rows × 6 columns</p>\n",
       "</div>"
      ],
      "text/plain": [
       "    W/L Competition  Year      Fighter           Opponent    Winning_Method\n",
       "0     0      EBI 11  2017  Craig Jones       Vagner Rocha            EBI/OT\n",
       "1     0        ADCC  2017  Craig Jones   Keenan Cornelius               Pts\n",
       "2     0        ADCC  2017  Craig Jones  Alexandre Ribeiro               Pts\n",
       "3     0        ADCC  2017  Craig Jones        Gordon Ryan        Katagatame\n",
       "4     0      EBI 14  2017  Craig Jones        Gordon Ryan            EBI/OT\n",
       "..  ...         ...   ...          ...                ...               ...\n",
       "13    1       WNO 5  2020  Tye Ruotolo        Kody Steele  Inside heel hook\n",
       "14    1       WNO 8  2021  Tye Ruotolo    William Tackett  Referee Decision\n",
       "15    1  WNO Champ.  2021  Tye Ruotolo        Johnny Tama       Darce choke\n",
       "16    1  WNO Champ.  2021  Tye Ruotolo         Dante Leon        Guillotine\n",
       "17    1  WNO Champ.  2021  Tye Ruotolo        Mica Galvao  Referee Decision\n",
       "\n",
       "[598 rows x 6 columns]"
      ]
     },
     "execution_count": 23,
     "metadata": {},
     "output_type": "execute_result"
    }
   ],
   "source": [
    "# replace 'W' with 1 and `L` with 0\n",
    "df_clean['W/L'].replace(['W', 'L'], [1, 0], inplace=True)\n",
    "df_clean"
   ]
  },
  {
   "cell_type": "markdown",
   "metadata": {},
   "source": [
    "Next, we can __group athletes by name__ with `groupby` and `sum` their wins, since a `W` is now represented by `1`."
   ]
  },
  {
   "cell_type": "code",
   "execution_count": 24,
   "metadata": {
    "scrolled": true
   },
   "outputs": [
    {
     "data": {
      "text/html": [
       "<div>\n",
       "<style scoped>\n",
       "    .dataframe tbody tr th:only-of-type {\n",
       "        vertical-align: middle;\n",
       "    }\n",
       "\n",
       "    .dataframe tbody tr th {\n",
       "        vertical-align: top;\n",
       "    }\n",
       "\n",
       "    .dataframe thead th {\n",
       "        text-align: right;\n",
       "    }\n",
       "</style>\n",
       "<table border=\"1\" class=\"dataframe\">\n",
       "  <thead>\n",
       "    <tr style=\"text-align: right;\">\n",
       "      <th></th>\n",
       "      <th>Wins</th>\n",
       "    </tr>\n",
       "    <tr>\n",
       "      <th>Fighter</th>\n",
       "      <th></th>\n",
       "    </tr>\n",
       "  </thead>\n",
       "  <tbody>\n",
       "    <tr>\n",
       "      <th>Craig Jones</th>\n",
       "      <td>51</td>\n",
       "    </tr>\n",
       "    <tr>\n",
       "      <th>Diego Olivera</th>\n",
       "      <td>53</td>\n",
       "    </tr>\n",
       "    <tr>\n",
       "      <th>Gordan Ryan</th>\n",
       "      <td>89</td>\n",
       "    </tr>\n",
       "    <tr>\n",
       "      <th>Kade Ruotolo</th>\n",
       "      <td>9</td>\n",
       "    </tr>\n",
       "    <tr>\n",
       "      <th>Kaynan Duarte</th>\n",
       "      <td>102</td>\n",
       "    </tr>\n",
       "    <tr>\n",
       "      <th>Kennedy Maciel</th>\n",
       "      <td>59</td>\n",
       "    </tr>\n",
       "    <tr>\n",
       "      <th>Micael Galvao</th>\n",
       "      <td>10</td>\n",
       "    </tr>\n",
       "    <tr>\n",
       "      <th>Michael Musumeci</th>\n",
       "      <td>48</td>\n",
       "    </tr>\n",
       "    <tr>\n",
       "      <th>Tim Spriggs</th>\n",
       "      <td>62</td>\n",
       "    </tr>\n",
       "    <tr>\n",
       "      <th>Tye Ruotolo</th>\n",
       "      <td>12</td>\n",
       "    </tr>\n",
       "  </tbody>\n",
       "</table>\n",
       "</div>"
      ],
      "text/plain": [
       "                  Wins\n",
       "Fighter               \n",
       "Craig Jones         51\n",
       "Diego Olivera       53\n",
       "Gordan Ryan         89\n",
       "Kade Ruotolo         9\n",
       "Kaynan Duarte      102\n",
       "Kennedy Maciel      59\n",
       "Micael Galvao       10\n",
       "Michael Musumeci    48\n",
       "Tim Spriggs         62\n",
       "Tye Ruotolo         12"
      ]
     },
     "execution_count": 24,
     "metadata": {},
     "output_type": "execute_result"
    }
   ],
   "source": [
    "# calculate number of wins per athlete\n",
    "wins_per_athlete = df_clean['W/L'].groupby(df_clean['Fighter']).sum()\n",
    "\n",
    "# convert Series to DataFrame\n",
    "df_wins_per_athlete = pd.DataFrame(wins_per_athlete)\n",
    "\n",
    "# rename column appropriately\n",
    "df_wins_per_athlete.rename(columns={'W/L': 'Wins'}, inplace=True)\n",
    "\n",
    "# sort athletes alphabetically\n",
    "df_wins_per_athlete.sort_values('Fighter', inplace=True)\n",
    "\n",
    "# display DataFrame\n",
    "df_wins_per_athlete"
   ]
  },
  {
   "cell_type": "markdown",
   "metadata": {},
   "source": [
    "Finally, we have to __calculate the win percentage of each athlete__ by diving the number of `Wins` with the total matches of each athlete."
   ]
  },
  {
   "cell_type": "code",
   "execution_count": 25,
   "metadata": {
    "scrolled": true
   },
   "outputs": [
    {
     "data": {
      "text/plain": [
       "Kaynan Duarte       116\n",
       "Gordan Ryan          94\n",
       "Tim Spriggs          94\n",
       "Kennedy Maciel       73\n",
       "Craig Jones          67\n",
       "Diego Olivera        60\n",
       "Michael Musumeci     52\n",
       "Tye Ruotolo          18\n",
       "Micael Galvao        13\n",
       "Kade Ruotolo         11\n",
       "Name: Fighter, dtype: int64"
      ]
     },
     "execution_count": 25,
     "metadata": {},
     "output_type": "execute_result"
    }
   ],
   "source": [
    "df_clean.Fighter.value_counts()"
   ]
  },
  {
   "cell_type": "code",
   "execution_count": 26,
   "metadata": {
    "scrolled": false
   },
   "outputs": [
    {
     "data": {
      "text/html": [
       "<div>\n",
       "<style scoped>\n",
       "    .dataframe tbody tr th:only-of-type {\n",
       "        vertical-align: middle;\n",
       "    }\n",
       "\n",
       "    .dataframe tbody tr th {\n",
       "        vertical-align: top;\n",
       "    }\n",
       "\n",
       "    .dataframe thead th {\n",
       "        text-align: right;\n",
       "    }\n",
       "</style>\n",
       "<table border=\"1\" class=\"dataframe\">\n",
       "  <thead>\n",
       "    <tr style=\"text-align: right;\">\n",
       "      <th></th>\n",
       "      <th>index</th>\n",
       "      <th>Fighter</th>\n",
       "    </tr>\n",
       "  </thead>\n",
       "  <tbody>\n",
       "    <tr>\n",
       "      <th>4</th>\n",
       "      <td>Craig Jones</td>\n",
       "      <td>67</td>\n",
       "    </tr>\n",
       "    <tr>\n",
       "      <th>5</th>\n",
       "      <td>Diego Olivera</td>\n",
       "      <td>60</td>\n",
       "    </tr>\n",
       "    <tr>\n",
       "      <th>1</th>\n",
       "      <td>Gordan Ryan</td>\n",
       "      <td>94</td>\n",
       "    </tr>\n",
       "    <tr>\n",
       "      <th>9</th>\n",
       "      <td>Kade Ruotolo</td>\n",
       "      <td>11</td>\n",
       "    </tr>\n",
       "    <tr>\n",
       "      <th>0</th>\n",
       "      <td>Kaynan Duarte</td>\n",
       "      <td>116</td>\n",
       "    </tr>\n",
       "    <tr>\n",
       "      <th>3</th>\n",
       "      <td>Kennedy Maciel</td>\n",
       "      <td>73</td>\n",
       "    </tr>\n",
       "    <tr>\n",
       "      <th>8</th>\n",
       "      <td>Micael Galvao</td>\n",
       "      <td>13</td>\n",
       "    </tr>\n",
       "    <tr>\n",
       "      <th>6</th>\n",
       "      <td>Michael Musumeci</td>\n",
       "      <td>52</td>\n",
       "    </tr>\n",
       "    <tr>\n",
       "      <th>2</th>\n",
       "      <td>Tim Spriggs</td>\n",
       "      <td>94</td>\n",
       "    </tr>\n",
       "    <tr>\n",
       "      <th>7</th>\n",
       "      <td>Tye Ruotolo</td>\n",
       "      <td>18</td>\n",
       "    </tr>\n",
       "  </tbody>\n",
       "</table>\n",
       "</div>"
      ],
      "text/plain": [
       "              index  Fighter\n",
       "4       Craig Jones       67\n",
       "5     Diego Olivera       60\n",
       "1       Gordan Ryan       94\n",
       "9      Kade Ruotolo       11\n",
       "0     Kaynan Duarte      116\n",
       "3    Kennedy Maciel       73\n",
       "8     Micael Galvao       13\n",
       "6  Michael Musumeci       52\n",
       "2       Tim Spriggs       94\n",
       "7       Tye Ruotolo       18"
      ]
     },
     "execution_count": 26,
     "metadata": {},
     "output_type": "execute_result"
    }
   ],
   "source": [
    "# calculate number of matches per athlete\n",
    "matches_per_athlete = df_clean.Fighter.value_counts()\n",
    "\n",
    "# convert Series to DataFrame\n",
    "df_matches_per_athlete = pd.DataFrame(matches_per_athlete)\n",
    "\n",
    "# display DataFrame\n",
    "df_matches_per_athlete.reset_index().sort_values('index')"
   ]
  },
  {
   "cell_type": "code",
   "execution_count": 27,
   "metadata": {
    "scrolled": true
   },
   "outputs": [
    {
     "data": {
      "text/html": [
       "<div>\n",
       "<style scoped>\n",
       "    .dataframe tbody tr th:only-of-type {\n",
       "        vertical-align: middle;\n",
       "    }\n",
       "\n",
       "    .dataframe tbody tr th {\n",
       "        vertical-align: top;\n",
       "    }\n",
       "\n",
       "    .dataframe thead th {\n",
       "        text-align: right;\n",
       "    }\n",
       "</style>\n",
       "<table border=\"1\" class=\"dataframe\">\n",
       "  <thead>\n",
       "    <tr style=\"text-align: right;\">\n",
       "      <th></th>\n",
       "      <th>Wins</th>\n",
       "      <th>Matches</th>\n",
       "    </tr>\n",
       "  </thead>\n",
       "  <tbody>\n",
       "    <tr>\n",
       "      <th>Craig Jones</th>\n",
       "      <td>51</td>\n",
       "      <td>67</td>\n",
       "    </tr>\n",
       "    <tr>\n",
       "      <th>Diego Olivera</th>\n",
       "      <td>53</td>\n",
       "      <td>60</td>\n",
       "    </tr>\n",
       "    <tr>\n",
       "      <th>Gordan Ryan</th>\n",
       "      <td>89</td>\n",
       "      <td>94</td>\n",
       "    </tr>\n",
       "    <tr>\n",
       "      <th>Kade Ruotolo</th>\n",
       "      <td>9</td>\n",
       "      <td>11</td>\n",
       "    </tr>\n",
       "    <tr>\n",
       "      <th>Kaynan Duarte</th>\n",
       "      <td>102</td>\n",
       "      <td>116</td>\n",
       "    </tr>\n",
       "    <tr>\n",
       "      <th>Kennedy Maciel</th>\n",
       "      <td>59</td>\n",
       "      <td>73</td>\n",
       "    </tr>\n",
       "    <tr>\n",
       "      <th>Micael Galvao</th>\n",
       "      <td>10</td>\n",
       "      <td>13</td>\n",
       "    </tr>\n",
       "    <tr>\n",
       "      <th>Michael Musumeci</th>\n",
       "      <td>48</td>\n",
       "      <td>52</td>\n",
       "    </tr>\n",
       "    <tr>\n",
       "      <th>Tim Spriggs</th>\n",
       "      <td>62</td>\n",
       "      <td>94</td>\n",
       "    </tr>\n",
       "    <tr>\n",
       "      <th>Tye Ruotolo</th>\n",
       "      <td>12</td>\n",
       "      <td>18</td>\n",
       "    </tr>\n",
       "  </tbody>\n",
       "</table>\n",
       "</div>"
      ],
      "text/plain": [
       "                  Wins  Matches\n",
       "Craig Jones         51       67\n",
       "Diego Olivera       53       60\n",
       "Gordan Ryan         89       94\n",
       "Kade Ruotolo         9       11\n",
       "Kaynan Duarte      102      116\n",
       "Kennedy Maciel      59       73\n",
       "Micael Galvao       10       13\n",
       "Michael Musumeci    48       52\n",
       "Tim Spriggs         62       94\n",
       "Tye Ruotolo         12       18"
      ]
     },
     "execution_count": 27,
     "metadata": {},
     "output_type": "execute_result"
    }
   ],
   "source": [
    "# concatenate the two DataFrames\n",
    "df_win_perce = pd.concat([df_wins_per_athlete, df_matches_per_athlete], axis=1)\n",
    "\n",
    "# rename column\n",
    "df_win_perce.rename(columns={'Fighter': 'Matches'}, inplace=True)\n",
    "\n",
    "# display DataFrame\n",
    "df_win_perce"
   ]
  },
  {
   "cell_type": "code",
   "execution_count": 28,
   "metadata": {
    "scrolled": false
   },
   "outputs": [
    {
     "data": {
      "text/html": [
       "<div>\n",
       "<style scoped>\n",
       "    .dataframe tbody tr th:only-of-type {\n",
       "        vertical-align: middle;\n",
       "    }\n",
       "\n",
       "    .dataframe tbody tr th {\n",
       "        vertical-align: top;\n",
       "    }\n",
       "\n",
       "    .dataframe thead th {\n",
       "        text-align: right;\n",
       "    }\n",
       "</style>\n",
       "<table border=\"1\" class=\"dataframe\">\n",
       "  <thead>\n",
       "    <tr style=\"text-align: right;\">\n",
       "      <th></th>\n",
       "      <th>Fighter</th>\n",
       "      <th>Wins</th>\n",
       "      <th>Matches</th>\n",
       "      <th>win_perce</th>\n",
       "    </tr>\n",
       "  </thead>\n",
       "  <tbody>\n",
       "    <tr>\n",
       "      <th>2</th>\n",
       "      <td>Gordan Ryan</td>\n",
       "      <td>89</td>\n",
       "      <td>94</td>\n",
       "      <td>94.68</td>\n",
       "    </tr>\n",
       "    <tr>\n",
       "      <th>7</th>\n",
       "      <td>Michael Musumeci</td>\n",
       "      <td>48</td>\n",
       "      <td>52</td>\n",
       "      <td>92.31</td>\n",
       "    </tr>\n",
       "    <tr>\n",
       "      <th>1</th>\n",
       "      <td>Diego Olivera</td>\n",
       "      <td>53</td>\n",
       "      <td>60</td>\n",
       "      <td>88.33</td>\n",
       "    </tr>\n",
       "    <tr>\n",
       "      <th>4</th>\n",
       "      <td>Kaynan Duarte</td>\n",
       "      <td>102</td>\n",
       "      <td>116</td>\n",
       "      <td>87.93</td>\n",
       "    </tr>\n",
       "    <tr>\n",
       "      <th>3</th>\n",
       "      <td>Kade Ruotolo</td>\n",
       "      <td>9</td>\n",
       "      <td>11</td>\n",
       "      <td>81.82</td>\n",
       "    </tr>\n",
       "    <tr>\n",
       "      <th>5</th>\n",
       "      <td>Kennedy Maciel</td>\n",
       "      <td>59</td>\n",
       "      <td>73</td>\n",
       "      <td>80.82</td>\n",
       "    </tr>\n",
       "    <tr>\n",
       "      <th>6</th>\n",
       "      <td>Micael Galvao</td>\n",
       "      <td>10</td>\n",
       "      <td>13</td>\n",
       "      <td>76.92</td>\n",
       "    </tr>\n",
       "    <tr>\n",
       "      <th>0</th>\n",
       "      <td>Craig Jones</td>\n",
       "      <td>51</td>\n",
       "      <td>67</td>\n",
       "      <td>76.12</td>\n",
       "    </tr>\n",
       "    <tr>\n",
       "      <th>9</th>\n",
       "      <td>Tye Ruotolo</td>\n",
       "      <td>12</td>\n",
       "      <td>18</td>\n",
       "      <td>66.67</td>\n",
       "    </tr>\n",
       "    <tr>\n",
       "      <th>8</th>\n",
       "      <td>Tim Spriggs</td>\n",
       "      <td>62</td>\n",
       "      <td>94</td>\n",
       "      <td>65.96</td>\n",
       "    </tr>\n",
       "  </tbody>\n",
       "</table>\n",
       "</div>"
      ],
      "text/plain": [
       "            Fighter  Wins  Matches  win_perce\n",
       "2       Gordan Ryan    89       94      94.68\n",
       "7  Michael Musumeci    48       52      92.31\n",
       "1     Diego Olivera    53       60      88.33\n",
       "4     Kaynan Duarte   102      116      87.93\n",
       "3      Kade Ruotolo     9       11      81.82\n",
       "5    Kennedy Maciel    59       73      80.82\n",
       "6     Micael Galvao    10       13      76.92\n",
       "0       Craig Jones    51       67      76.12\n",
       "9       Tye Ruotolo    12       18      66.67\n",
       "8       Tim Spriggs    62       94      65.96"
      ]
     },
     "execution_count": 28,
     "metadata": {},
     "output_type": "execute_result"
    }
   ],
   "source": [
    "# calculate win %\n",
    "df_win_perce['win_perce'] = round((df_win_perce['Wins'] / df_win_perce['Matches'])*100, 2)\n",
    "\n",
    "# reset index\n",
    "df_win_perce.reset_index(inplace=True, drop=False)\n",
    "\n",
    "# rename col\n",
    "df_win_perce.rename(columns={'index': 'Fighter'}, inplace=True)\n",
    "\n",
    "# sort DataFrame by win %\n",
    "df_sorted_win = df_win_perce.sort_values('win_perce', ascending=False)\n",
    "\n",
    "# display DataFrame\n",
    "df_sorted_win"
   ]
  },
  {
   "cell_type": "code",
   "execution_count": 29,
   "metadata": {
    "scrolled": false
   },
   "outputs": [
    {
     "data": {
      "image/png": "[encoded data removed]",
      "text/plain": [
       "<Figure size 1440x720 with 1 Axes>"
      ]
     },
     "metadata": {},
     "output_type": "display_data"
    }
   ],
   "source": [
    "import matplotlib.pyplot as plt\n",
    "%matplotlib inline\n",
    "plt.style.use('ggplot')\n",
    "plt.rcParams[\"figure.figsize\"] = (20,10)\n",
    "plt.rc('xtick', labelsize=15) \n",
    "plt.rc('ytick', labelsize=15) \n",
    "\n",
    "plt.barh(df_sorted_win.Fighter, df_sorted_win.win_perce, color='green')\n",
    "plt.xlabel(\"Fighter\")\n",
    "plt.ylabel(\"Win Percentage (%)\")\n",
    "plt.title(\"Athlete's Win Percentage\")\n",
    "\n",
    "\n",
    "plt.show()"
   ]
  },
  {
   "attachments": {},
   "cell_type": "markdown",
   "metadata": {},
   "source": [
    "<a name=\"q2\"></a>\n",
    "## 2. Who are the top 3 grapplers?"
   ]
  },
  {
   "cell_type": "markdown",
   "metadata": {},
   "source": [
    "<a name='conc'></a>\n",
    "# 4. Conclusions"
   ]
  },
  {
   "cell_type": "markdown",
   "metadata": {},
   "source": [
    "After a __brief analysis__ of a __limited and of an unkown trustworthiness dataset__ we have some interesting findings:\n",
    "1. Almost half of the matches (47%) are won either via points (33%) or Referee Decision (14%) followed by the RNC (9%), Inside Heel Hook (6%), and Choke from the back (4%).\n",
    "\n",
    "\n",
    "2.  The __top3 athletes__ (based on win %) are: Gordan Ryan (95%), Michael Musumeci (92%), and Diego Olivera (88%). \n",
    "\n",
    "\n",
    "3. The __most exciting event__ to watch is "
   ]
  }
 ],
 "metadata": {
  "colab": {
   "collapsed_sections": [],
   "name": "DPhi Pandas Bootcamp Assignment.ipynb",
   "provenance": []
  },
  "kernelspec": {
   "display_name": "Python 3 (ipykernel)",
   "language": "python",
   "name": "python3"
  },
  "language_info": {
   "codemirror_mode": {
    "name": "ipython",
    "version": 3
   },
   "file_extension": ".py",
   "mimetype": "text/x-python",
   "name": "python",
   "nbconvert_exporter": "python",
   "pygments_lexer": "ipython3",
   "version": "3.9.7"
  }
 },
 "nbformat": 4,
 "nbformat_minor": 1
}
