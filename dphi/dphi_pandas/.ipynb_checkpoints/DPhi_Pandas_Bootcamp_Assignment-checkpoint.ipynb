{
 "cells": [
  {
   "cell_type": "markdown",
   "metadata": {
    "id": "gAcWVKAu7-XY"
   },
   "source": [
    "# DPhi Pandas Final Assignment\n",
    "[Intro to Pandas 10-day Bootcamp](https://dphi.tech/bootcamps/introduction-to-pandas?utm_source=header)<br>\n",
    "by [CSpanias](https://cspanias.github.io/aboutme/), 02/2022 "
   ]
  },
  {
   "cell_type": "markdown",
   "metadata": {},
   "source": [
    "# CONTENT\n",
    "1. [Data Wrangling](#wrangling)\n",
    "1. [Exploring Data](#eda)\n",
    "1. [Formulating Questions](#questions)\n",
    "1. [Conclusions](#conc)"
   ]
  },
  {
   "cell_type": "markdown",
   "metadata": {},
   "source": [
    "<a name='wrangling'></a>\n",
    "# 1. Data Wrangling"
   ]
  },
  {
   "cell_type": "markdown",
   "metadata": {
    "id": "rwrGCwC28gYK"
   },
   "source": [
    "I choose to find a dataset close to my personal interests, hence, as a Brazilian jiu-jitsu practitioner, I managed to found a Kaggle [dataset](https://www.kaggle.com/drewskidata/top-10-bjj-grapplers) with data from the __top10 BJJ Grapplers__.\n",
    "\n",
    "This dataset includes __no metadata__, so I have no information on __how it was obtained, from where and for what purpose__. As a result, I can't really check if it contains __legit data or not__, but since this is a practice exercise it does not really matter! \n",
    "\n",
    "Our data files consists of:\n",
    "1. One `.xlxs` file, which contains __data for all 10 athletes__\n",
    "2. Ten `.xlxs` files, which contain __data for each athlete individually__.\n",
    "\n",
    "For practising purposes, we will ignore the former, so we can practice joining different files ourselves.\n",
    "\n",
    "Our files are in the form `athlete_name1.xlxs`, `athlete_name2.xlxs`, etc. Our first goal is to __get all of the relevant information into one table__ so that we can analyze the aggregate data.\n",
    "\n",
    "We can combine the use of `glob`, which can __open multiple files__ by using __regex matching__ to get the filenames, with `pandas` to organize this data better."
   ]
  },
  {
   "cell_type": "code",
   "execution_count": 1,
   "metadata": {},
   "outputs": [
    {
     "name": "stdout",
     "output_type": "stream",
     "text": [
      "We have found the following 10 files:\n",
      "\n",
      "['craig_jones.xlsx', 'diego_pato_oliveira.xlsx', 'gordon_ryan.xlsx', 'kade_ruotolo.xlsx', 'kaynan_duarte.xlsx', 'kennedy_maciel.xlsx', 'micael_galvo.xlsx', 'michael_musumeci.xlsx', 'tim_spriggs.xlsx', 'tye_ruotolo.xlsx']\n"
     ]
    }
   ],
   "source": [
    "import glob\n",
    "import re\n",
    "\n",
    "# return all file paths that match the specific pattern\n",
    "files = glob.glob(r\"*.xlsx\")\n",
    "\n",
    "print(f\"We have found the following {len(files)} files:\\n\\n{files}\")"
   ]
  },
  {
   "cell_type": "markdown",
   "metadata": {},
   "source": [
    "We can see that we managed to put all 10 file names into a list, and now we have to __extract the data from each one__."
   ]
  },
  {
   "cell_type": "code",
   "execution_count": 2,
   "metadata": {
    "scrolled": false
   },
   "outputs": [
    {
     "name": "stdout",
     "output_type": "stream",
     "text": [
      " We have 10 elements in our list. The 1st element is the data for the Fighter named Craig Jones.\n"
     ]
    },
    {
     "data": {
      "text/html": [
       "<div>\n",
       "<style scoped>\n",
       "    .dataframe tbody tr th:only-of-type {\n",
       "        vertical-align: middle;\n",
       "    }\n",
       "\n",
       "    .dataframe tbody tr th {\n",
       "        vertical-align: top;\n",
       "    }\n",
       "\n",
       "    .dataframe thead th {\n",
       "        text-align: right;\n",
       "    }\n",
       "</style>\n",
       "<table border=\"1\" class=\"dataframe\">\n",
       "  <thead>\n",
       "    <tr style=\"text-align: right;\">\n",
       "      <th></th>\n",
       "      <th>Column1</th>\n",
       "      <th>Opponent</th>\n",
       "      <th>W/L</th>\n",
       "      <th>Method</th>\n",
       "      <th>Competition</th>\n",
       "      <th>Year</th>\n",
       "      <th>Fighter</th>\n",
       "    </tr>\n",
       "  </thead>\n",
       "  <tbody>\n",
       "    <tr>\n",
       "      <th>0</th>\n",
       "      <td>0</td>\n",
       "      <td>Vagner RochaVagner Rocha</td>\n",
       "      <td>L</td>\n",
       "      <td>EBI/OT</td>\n",
       "      <td>EBI 11</td>\n",
       "      <td>2017</td>\n",
       "      <td>Craig Jones</td>\n",
       "    </tr>\n",
       "    <tr>\n",
       "      <th>1</th>\n",
       "      <td>1</td>\n",
       "      <td>Keenan CorneliusKeenan Cornelius</td>\n",
       "      <td>L</td>\n",
       "      <td>Pts: 13x0</td>\n",
       "      <td>ADCC</td>\n",
       "      <td>2017</td>\n",
       "      <td>Craig Jones</td>\n",
       "    </tr>\n",
       "    <tr>\n",
       "      <th>2</th>\n",
       "      <td>2</td>\n",
       "      <td>Alexandre RibeiroAlexandre Ribeiro</td>\n",
       "      <td>L</td>\n",
       "      <td>Pts: 2x0</td>\n",
       "      <td>ADCC</td>\n",
       "      <td>2017</td>\n",
       "      <td>Craig Jones</td>\n",
       "    </tr>\n",
       "    <tr>\n",
       "      <th>3</th>\n",
       "      <td>3</td>\n",
       "      <td>Gordon RyanGordon Ryan</td>\n",
       "      <td>L</td>\n",
       "      <td>Katagatame</td>\n",
       "      <td>ADCC</td>\n",
       "      <td>2017</td>\n",
       "      <td>Craig Jones</td>\n",
       "    </tr>\n",
       "    <tr>\n",
       "      <th>4</th>\n",
       "      <td>4</td>\n",
       "      <td>Gordon RyanGordon Ryan</td>\n",
       "      <td>L</td>\n",
       "      <td>EBI/OT</td>\n",
       "      <td>EBI 14</td>\n",
       "      <td>2017</td>\n",
       "      <td>Craig Jones</td>\n",
       "    </tr>\n",
       "    <tr>\n",
       "      <th>...</th>\n",
       "      <td>...</td>\n",
       "      <td>...</td>\n",
       "      <td>...</td>\n",
       "      <td>...</td>\n",
       "      <td>...</td>\n",
       "      <td>...</td>\n",
       "      <td>...</td>\n",
       "    </tr>\n",
       "    <tr>\n",
       "      <th>62</th>\n",
       "      <td>64</td>\n",
       "      <td>Satoshi Ishii</td>\n",
       "      <td>W</td>\n",
       "      <td>RNC</td>\n",
       "      <td>SUG 20</td>\n",
       "      <td>2020</td>\n",
       "      <td>Craig Jones</td>\n",
       "    </tr>\n",
       "    <tr>\n",
       "      <th>63</th>\n",
       "      <td>65</td>\n",
       "      <td>Ronaldo JuniorRonaldo Junior</td>\n",
       "      <td>W</td>\n",
       "      <td>Inside heel hook</td>\n",
       "      <td>WNO 6</td>\n",
       "      <td>2021</td>\n",
       "      <td>Craig Jones</td>\n",
       "    </tr>\n",
       "    <tr>\n",
       "      <th>64</th>\n",
       "      <td>66</td>\n",
       "      <td>Luiz PanzaLuiz Panza</td>\n",
       "      <td>W</td>\n",
       "      <td>Inside heel hook</td>\n",
       "      <td>WNO 9</td>\n",
       "      <td>2021</td>\n",
       "      <td>Craig Jones</td>\n",
       "    </tr>\n",
       "    <tr>\n",
       "      <th>65</th>\n",
       "      <td>67</td>\n",
       "      <td>Tye RuotoloTye Ruotolo</td>\n",
       "      <td>W</td>\n",
       "      <td>Referee Decision</td>\n",
       "      <td>WNO 10</td>\n",
       "      <td>2021</td>\n",
       "      <td>Craig Jones</td>\n",
       "    </tr>\n",
       "    <tr>\n",
       "      <th>66</th>\n",
       "      <td>68</td>\n",
       "      <td>Davi RamosDavi Ramos</td>\n",
       "      <td>W</td>\n",
       "      <td>Referee Decision</td>\n",
       "      <td>Polaris 17</td>\n",
       "      <td>2021</td>\n",
       "      <td>Craig Jones</td>\n",
       "    </tr>\n",
       "  </tbody>\n",
       "</table>\n",
       "<p>67 rows × 7 columns</p>\n",
       "</div>"
      ],
      "text/plain": [
       "    Column1                            Opponent W/L            Method  \\\n",
       "0         0            Vagner RochaVagner Rocha   L            EBI/OT   \n",
       "1         1    Keenan CorneliusKeenan Cornelius   L         Pts: 13x0   \n",
       "2         2  Alexandre RibeiroAlexandre Ribeiro   L          Pts: 2x0   \n",
       "3         3              Gordon RyanGordon Ryan   L        Katagatame   \n",
       "4         4              Gordon RyanGordon Ryan   L            EBI/OT   \n",
       "..      ...                                 ...  ..               ...   \n",
       "62       64                       Satoshi Ishii   W               RNC   \n",
       "63       65        Ronaldo JuniorRonaldo Junior   W  Inside heel hook   \n",
       "64       66                Luiz PanzaLuiz Panza   W  Inside heel hook   \n",
       "65       67              Tye RuotoloTye Ruotolo   W  Referee Decision   \n",
       "66       68                Davi RamosDavi Ramos   W  Referee Decision   \n",
       "\n",
       "   Competition  Year      Fighter  \n",
       "0       EBI 11  2017  Craig Jones  \n",
       "1         ADCC  2017  Craig Jones  \n",
       "2         ADCC  2017  Craig Jones  \n",
       "3         ADCC  2017  Craig Jones  \n",
       "4       EBI 14  2017  Craig Jones  \n",
       "..         ...   ...          ...  \n",
       "62      SUG 20  2020  Craig Jones  \n",
       "63       WNO 6  2021  Craig Jones  \n",
       "64       WNO 9  2021  Craig Jones  \n",
       "65      WNO 10  2021  Craig Jones  \n",
       "66  Polaris 17  2021  Craig Jones  \n",
       "\n",
       "[67 rows x 7 columns]"
      ]
     },
     "execution_count": 2,
     "metadata": {},
     "output_type": "execute_result"
    }
   ],
   "source": [
    "import pandas as pd\n",
    "\n",
    "# create empty list\n",
    "df_list = []\n",
    "\n",
    "# iterate through files\n",
    "for filename in files:\n",
    "    # extract data from each file as DataFrame\n",
    "    data = pd.read_excel(filename)\n",
    "    # append file's data\n",
    "    df_list.append(data)\n",
    "    \n",
    "print(f\" We have {len(df_list)} elements in our list.\\\n",
    " The 1st element is the data for the Fighter named {df_list[0]['Fighter'][0]}.\")\n",
    "\n",
    "df_list[0]"
   ]
  },
  {
   "cell_type": "markdown",
   "metadata": {},
   "source": [
    "We have now successfuly imported every file as a pandas DataFrame, and we have a list of 10 DataFrames. The last step if to __convert the list into one pandas DataFrame__. "
   ]
  },
  {
   "cell_type": "code",
   "execution_count": 3,
   "metadata": {
    "scrolled": false
   },
   "outputs": [
    {
     "data": {
      "text/html": [
       "<div>\n",
       "<style scoped>\n",
       "    .dataframe tbody tr th:only-of-type {\n",
       "        vertical-align: middle;\n",
       "    }\n",
       "\n",
       "    .dataframe tbody tr th {\n",
       "        vertical-align: top;\n",
       "    }\n",
       "\n",
       "    .dataframe thead th {\n",
       "        text-align: right;\n",
       "    }\n",
       "</style>\n",
       "<table border=\"1\" class=\"dataframe\">\n",
       "  <thead>\n",
       "    <tr style=\"text-align: right;\">\n",
       "      <th></th>\n",
       "      <th>Column1</th>\n",
       "      <th>Opponent</th>\n",
       "      <th>W/L</th>\n",
       "      <th>Method</th>\n",
       "      <th>Competition</th>\n",
       "      <th>Year</th>\n",
       "      <th>Fighter</th>\n",
       "    </tr>\n",
       "  </thead>\n",
       "  <tbody>\n",
       "    <tr>\n",
       "      <th>0</th>\n",
       "      <td>0</td>\n",
       "      <td>Vagner RochaVagner Rocha</td>\n",
       "      <td>L</td>\n",
       "      <td>EBI/OT</td>\n",
       "      <td>EBI 11</td>\n",
       "      <td>2017</td>\n",
       "      <td>Craig Jones</td>\n",
       "    </tr>\n",
       "    <tr>\n",
       "      <th>1</th>\n",
       "      <td>1</td>\n",
       "      <td>Keenan CorneliusKeenan Cornelius</td>\n",
       "      <td>L</td>\n",
       "      <td>Pts: 13x0</td>\n",
       "      <td>ADCC</td>\n",
       "      <td>2017</td>\n",
       "      <td>Craig Jones</td>\n",
       "    </tr>\n",
       "    <tr>\n",
       "      <th>2</th>\n",
       "      <td>2</td>\n",
       "      <td>Alexandre RibeiroAlexandre Ribeiro</td>\n",
       "      <td>L</td>\n",
       "      <td>Pts: 2x0</td>\n",
       "      <td>ADCC</td>\n",
       "      <td>2017</td>\n",
       "      <td>Craig Jones</td>\n",
       "    </tr>\n",
       "    <tr>\n",
       "      <th>3</th>\n",
       "      <td>3</td>\n",
       "      <td>Gordon RyanGordon Ryan</td>\n",
       "      <td>L</td>\n",
       "      <td>Katagatame</td>\n",
       "      <td>ADCC</td>\n",
       "      <td>2017</td>\n",
       "      <td>Craig Jones</td>\n",
       "    </tr>\n",
       "    <tr>\n",
       "      <th>4</th>\n",
       "      <td>4</td>\n",
       "      <td>Gordon RyanGordon Ryan</td>\n",
       "      <td>L</td>\n",
       "      <td>EBI/OT</td>\n",
       "      <td>EBI 14</td>\n",
       "      <td>2017</td>\n",
       "      <td>Craig Jones</td>\n",
       "    </tr>\n",
       "    <tr>\n",
       "      <th>...</th>\n",
       "      <td>...</td>\n",
       "      <td>...</td>\n",
       "      <td>...</td>\n",
       "      <td>...</td>\n",
       "      <td>...</td>\n",
       "      <td>...</td>\n",
       "      <td>...</td>\n",
       "    </tr>\n",
       "    <tr>\n",
       "      <th>13</th>\n",
       "      <td>13</td>\n",
       "      <td>Kody SteeleKody Steele</td>\n",
       "      <td>W</td>\n",
       "      <td>Inside heel hook</td>\n",
       "      <td>WNO 5</td>\n",
       "      <td>2020</td>\n",
       "      <td>Tye Ruotolo</td>\n",
       "    </tr>\n",
       "    <tr>\n",
       "      <th>14</th>\n",
       "      <td>14</td>\n",
       "      <td>William TackettWilliam Tackett</td>\n",
       "      <td>W</td>\n",
       "      <td>Referee Decision</td>\n",
       "      <td>WNO 8</td>\n",
       "      <td>2021</td>\n",
       "      <td>Tye Ruotolo</td>\n",
       "    </tr>\n",
       "    <tr>\n",
       "      <th>15</th>\n",
       "      <td>15</td>\n",
       "      <td>Johnny TamaJohnny Tama</td>\n",
       "      <td>W</td>\n",
       "      <td>Darce choke</td>\n",
       "      <td>WNO Champ.</td>\n",
       "      <td>2021</td>\n",
       "      <td>Tye Ruotolo</td>\n",
       "    </tr>\n",
       "    <tr>\n",
       "      <th>16</th>\n",
       "      <td>16</td>\n",
       "      <td>Dante LeonDante Leon</td>\n",
       "      <td>W</td>\n",
       "      <td>Guillotine</td>\n",
       "      <td>WNO Champ.</td>\n",
       "      <td>2021</td>\n",
       "      <td>Tye Ruotolo</td>\n",
       "    </tr>\n",
       "    <tr>\n",
       "      <th>17</th>\n",
       "      <td>17</td>\n",
       "      <td>Mica GalvaoMica Galvao</td>\n",
       "      <td>W</td>\n",
       "      <td>Referee Decision</td>\n",
       "      <td>WNO Champ.</td>\n",
       "      <td>2021</td>\n",
       "      <td>Tye Ruotolo</td>\n",
       "    </tr>\n",
       "  </tbody>\n",
       "</table>\n",
       "<p>598 rows × 7 columns</p>\n",
       "</div>"
      ],
      "text/plain": [
       "    Column1                            Opponent W/L            Method  \\\n",
       "0         0            Vagner RochaVagner Rocha   L            EBI/OT   \n",
       "1         1    Keenan CorneliusKeenan Cornelius   L         Pts: 13x0   \n",
       "2         2  Alexandre RibeiroAlexandre Ribeiro   L          Pts: 2x0   \n",
       "3         3              Gordon RyanGordon Ryan   L        Katagatame   \n",
       "4         4              Gordon RyanGordon Ryan   L            EBI/OT   \n",
       "..      ...                                 ...  ..               ...   \n",
       "13       13              Kody SteeleKody Steele   W  Inside heel hook   \n",
       "14       14      William TackettWilliam Tackett   W  Referee Decision   \n",
       "15       15              Johnny TamaJohnny Tama   W       Darce choke   \n",
       "16       16                Dante LeonDante Leon   W        Guillotine   \n",
       "17       17              Mica GalvaoMica Galvao   W  Referee Decision   \n",
       "\n",
       "   Competition  Year      Fighter  \n",
       "0       EBI 11  2017  Craig Jones  \n",
       "1         ADCC  2017  Craig Jones  \n",
       "2         ADCC  2017  Craig Jones  \n",
       "3         ADCC  2017  Craig Jones  \n",
       "4       EBI 14  2017  Craig Jones  \n",
       "..         ...   ...          ...  \n",
       "13       WNO 5  2020  Tye Ruotolo  \n",
       "14       WNO 8  2021  Tye Ruotolo  \n",
       "15  WNO Champ.  2021  Tye Ruotolo  \n",
       "16  WNO Champ.  2021  Tye Ruotolo  \n",
       "17  WNO Champ.  2021  Tye Ruotolo  \n",
       "\n",
       "[598 rows x 7 columns]"
      ]
     },
     "execution_count": 3,
     "metadata": {},
     "output_type": "execute_result"
    }
   ],
   "source": [
    "# concatenate all elements    \n",
    "df = pd.concat(df_list)\n",
    "\n",
    "# check first 5 rows\n",
    "df"
   ]
  },
  {
   "cell_type": "markdown",
   "metadata": {},
   "source": [
    "There are __3 issues__ on this DataFrame:\n",
    "1. We can see that the `Column1` column is just an index, and thus unecessary information for us.\n",
    "\n",
    "\n",
    "2. The column `Opponent` has the name of the athlete repeated.\n",
    "\n",
    "\n",
    "3. The `Method` column includes numerical characters (`13x0`) as well as special characters (`:`) which we are not interesting in. We want to know just the winning method, e.g. `Pts` which means that the match was won on points, and not the exact score.\n",
    "\n",
    "We will first __create a copy of the DataFrame__ and work on that, so if something goes wrong we can go back to the original DataFrame without a problem."
   ]
  },
  {
   "cell_type": "code",
   "execution_count": 4,
   "metadata": {},
   "outputs": [
    {
     "data": {
      "text/html": [
       "<div>\n",
       "<style scoped>\n",
       "    .dataframe tbody tr th:only-of-type {\n",
       "        vertical-align: middle;\n",
       "    }\n",
       "\n",
       "    .dataframe tbody tr th {\n",
       "        vertical-align: top;\n",
       "    }\n",
       "\n",
       "    .dataframe thead th {\n",
       "        text-align: right;\n",
       "    }\n",
       "</style>\n",
       "<table border=\"1\" class=\"dataframe\">\n",
       "  <thead>\n",
       "    <tr style=\"text-align: right;\">\n",
       "      <th></th>\n",
       "      <th>Column1</th>\n",
       "      <th>Opponent</th>\n",
       "      <th>W/L</th>\n",
       "      <th>Method</th>\n",
       "      <th>Competition</th>\n",
       "      <th>Year</th>\n",
       "      <th>Fighter</th>\n",
       "    </tr>\n",
       "  </thead>\n",
       "  <tbody>\n",
       "    <tr>\n",
       "      <th>0</th>\n",
       "      <td>0</td>\n",
       "      <td>Vagner RochaVagner Rocha</td>\n",
       "      <td>L</td>\n",
       "      <td>EBI/OT</td>\n",
       "      <td>EBI 11</td>\n",
       "      <td>2017</td>\n",
       "      <td>Craig Jones</td>\n",
       "    </tr>\n",
       "    <tr>\n",
       "      <th>1</th>\n",
       "      <td>1</td>\n",
       "      <td>Keenan CorneliusKeenan Cornelius</td>\n",
       "      <td>L</td>\n",
       "      <td>Pts: 13x0</td>\n",
       "      <td>ADCC</td>\n",
       "      <td>2017</td>\n",
       "      <td>Craig Jones</td>\n",
       "    </tr>\n",
       "    <tr>\n",
       "      <th>2</th>\n",
       "      <td>2</td>\n",
       "      <td>Alexandre RibeiroAlexandre Ribeiro</td>\n",
       "      <td>L</td>\n",
       "      <td>Pts: 2x0</td>\n",
       "      <td>ADCC</td>\n",
       "      <td>2017</td>\n",
       "      <td>Craig Jones</td>\n",
       "    </tr>\n",
       "    <tr>\n",
       "      <th>3</th>\n",
       "      <td>3</td>\n",
       "      <td>Gordon RyanGordon Ryan</td>\n",
       "      <td>L</td>\n",
       "      <td>Katagatame</td>\n",
       "      <td>ADCC</td>\n",
       "      <td>2017</td>\n",
       "      <td>Craig Jones</td>\n",
       "    </tr>\n",
       "    <tr>\n",
       "      <th>4</th>\n",
       "      <td>4</td>\n",
       "      <td>Gordon RyanGordon Ryan</td>\n",
       "      <td>L</td>\n",
       "      <td>EBI/OT</td>\n",
       "      <td>EBI 14</td>\n",
       "      <td>2017</td>\n",
       "      <td>Craig Jones</td>\n",
       "    </tr>\n",
       "    <tr>\n",
       "      <th>...</th>\n",
       "      <td>...</td>\n",
       "      <td>...</td>\n",
       "      <td>...</td>\n",
       "      <td>...</td>\n",
       "      <td>...</td>\n",
       "      <td>...</td>\n",
       "      <td>...</td>\n",
       "    </tr>\n",
       "    <tr>\n",
       "      <th>13</th>\n",
       "      <td>13</td>\n",
       "      <td>Kody SteeleKody Steele</td>\n",
       "      <td>W</td>\n",
       "      <td>Inside heel hook</td>\n",
       "      <td>WNO 5</td>\n",
       "      <td>2020</td>\n",
       "      <td>Tye Ruotolo</td>\n",
       "    </tr>\n",
       "    <tr>\n",
       "      <th>14</th>\n",
       "      <td>14</td>\n",
       "      <td>William TackettWilliam Tackett</td>\n",
       "      <td>W</td>\n",
       "      <td>Referee Decision</td>\n",
       "      <td>WNO 8</td>\n",
       "      <td>2021</td>\n",
       "      <td>Tye Ruotolo</td>\n",
       "    </tr>\n",
       "    <tr>\n",
       "      <th>15</th>\n",
       "      <td>15</td>\n",
       "      <td>Johnny TamaJohnny Tama</td>\n",
       "      <td>W</td>\n",
       "      <td>Darce choke</td>\n",
       "      <td>WNO Champ.</td>\n",
       "      <td>2021</td>\n",
       "      <td>Tye Ruotolo</td>\n",
       "    </tr>\n",
       "    <tr>\n",
       "      <th>16</th>\n",
       "      <td>16</td>\n",
       "      <td>Dante LeonDante Leon</td>\n",
       "      <td>W</td>\n",
       "      <td>Guillotine</td>\n",
       "      <td>WNO Champ.</td>\n",
       "      <td>2021</td>\n",
       "      <td>Tye Ruotolo</td>\n",
       "    </tr>\n",
       "    <tr>\n",
       "      <th>17</th>\n",
       "      <td>17</td>\n",
       "      <td>Mica GalvaoMica Galvao</td>\n",
       "      <td>W</td>\n",
       "      <td>Referee Decision</td>\n",
       "      <td>WNO Champ.</td>\n",
       "      <td>2021</td>\n",
       "      <td>Tye Ruotolo</td>\n",
       "    </tr>\n",
       "  </tbody>\n",
       "</table>\n",
       "<p>598 rows × 7 columns</p>\n",
       "</div>"
      ],
      "text/plain": [
       "    Column1                            Opponent W/L            Method  \\\n",
       "0         0            Vagner RochaVagner Rocha   L            EBI/OT   \n",
       "1         1    Keenan CorneliusKeenan Cornelius   L         Pts: 13x0   \n",
       "2         2  Alexandre RibeiroAlexandre Ribeiro   L          Pts: 2x0   \n",
       "3         3              Gordon RyanGordon Ryan   L        Katagatame   \n",
       "4         4              Gordon RyanGordon Ryan   L            EBI/OT   \n",
       "..      ...                                 ...  ..               ...   \n",
       "13       13              Kody SteeleKody Steele   W  Inside heel hook   \n",
       "14       14      William TackettWilliam Tackett   W  Referee Decision   \n",
       "15       15              Johnny TamaJohnny Tama   W       Darce choke   \n",
       "16       16                Dante LeonDante Leon   W        Guillotine   \n",
       "17       17              Mica GalvaoMica Galvao   W  Referee Decision   \n",
       "\n",
       "   Competition  Year      Fighter  \n",
       "0       EBI 11  2017  Craig Jones  \n",
       "1         ADCC  2017  Craig Jones  \n",
       "2         ADCC  2017  Craig Jones  \n",
       "3         ADCC  2017  Craig Jones  \n",
       "4       EBI 14  2017  Craig Jones  \n",
       "..         ...   ...          ...  \n",
       "13       WNO 5  2020  Tye Ruotolo  \n",
       "14       WNO 8  2021  Tye Ruotolo  \n",
       "15  WNO Champ.  2021  Tye Ruotolo  \n",
       "16  WNO Champ.  2021  Tye Ruotolo  \n",
       "17  WNO Champ.  2021  Tye Ruotolo  \n",
       "\n",
       "[598 rows x 7 columns]"
      ]
     },
     "execution_count": 4,
     "metadata": {},
     "output_type": "execute_result"
    }
   ],
   "source": [
    "# create copy\n",
    "df_bjj = df.copy()\n",
    "\n",
    "# check DF\n",
    "df_bjj"
   ]
  },
  {
   "cell_type": "markdown",
   "metadata": {},
   "source": [
    "We will first tackle the simplest issue out of the three: __removing__ `Column1`."
   ]
  },
  {
   "cell_type": "code",
   "execution_count": 5,
   "metadata": {
    "scrolled": false
   },
   "outputs": [
    {
     "data": {
      "text/html": [
       "<div>\n",
       "<style scoped>\n",
       "    .dataframe tbody tr th:only-of-type {\n",
       "        vertical-align: middle;\n",
       "    }\n",
       "\n",
       "    .dataframe tbody tr th {\n",
       "        vertical-align: top;\n",
       "    }\n",
       "\n",
       "    .dataframe thead th {\n",
       "        text-align: right;\n",
       "    }\n",
       "</style>\n",
       "<table border=\"1\" class=\"dataframe\">\n",
       "  <thead>\n",
       "    <tr style=\"text-align: right;\">\n",
       "      <th></th>\n",
       "      <th>Opponent</th>\n",
       "      <th>W/L</th>\n",
       "      <th>Method</th>\n",
       "      <th>Competition</th>\n",
       "      <th>Year</th>\n",
       "      <th>Fighter</th>\n",
       "    </tr>\n",
       "  </thead>\n",
       "  <tbody>\n",
       "    <tr>\n",
       "      <th>0</th>\n",
       "      <td>Vagner RochaVagner Rocha</td>\n",
       "      <td>L</td>\n",
       "      <td>EBI/OT</td>\n",
       "      <td>EBI 11</td>\n",
       "      <td>2017</td>\n",
       "      <td>Craig Jones</td>\n",
       "    </tr>\n",
       "    <tr>\n",
       "      <th>1</th>\n",
       "      <td>Keenan CorneliusKeenan Cornelius</td>\n",
       "      <td>L</td>\n",
       "      <td>Pts: 13x0</td>\n",
       "      <td>ADCC</td>\n",
       "      <td>2017</td>\n",
       "      <td>Craig Jones</td>\n",
       "    </tr>\n",
       "    <tr>\n",
       "      <th>2</th>\n",
       "      <td>Alexandre RibeiroAlexandre Ribeiro</td>\n",
       "      <td>L</td>\n",
       "      <td>Pts: 2x0</td>\n",
       "      <td>ADCC</td>\n",
       "      <td>2017</td>\n",
       "      <td>Craig Jones</td>\n",
       "    </tr>\n",
       "    <tr>\n",
       "      <th>3</th>\n",
       "      <td>Gordon RyanGordon Ryan</td>\n",
       "      <td>L</td>\n",
       "      <td>Katagatame</td>\n",
       "      <td>ADCC</td>\n",
       "      <td>2017</td>\n",
       "      <td>Craig Jones</td>\n",
       "    </tr>\n",
       "    <tr>\n",
       "      <th>4</th>\n",
       "      <td>Gordon RyanGordon Ryan</td>\n",
       "      <td>L</td>\n",
       "      <td>EBI/OT</td>\n",
       "      <td>EBI 14</td>\n",
       "      <td>2017</td>\n",
       "      <td>Craig Jones</td>\n",
       "    </tr>\n",
       "  </tbody>\n",
       "</table>\n",
       "</div>"
      ],
      "text/plain": [
       "                             Opponent W/L      Method Competition  Year  \\\n",
       "0            Vagner RochaVagner Rocha   L      EBI/OT      EBI 11  2017   \n",
       "1    Keenan CorneliusKeenan Cornelius   L   Pts: 13x0        ADCC  2017   \n",
       "2  Alexandre RibeiroAlexandre Ribeiro   L    Pts: 2x0        ADCC  2017   \n",
       "3              Gordon RyanGordon Ryan   L  Katagatame        ADCC  2017   \n",
       "4              Gordon RyanGordon Ryan   L      EBI/OT      EBI 14  2017   \n",
       "\n",
       "       Fighter  \n",
       "0  Craig Jones  \n",
       "1  Craig Jones  \n",
       "2  Craig Jones  \n",
       "3  Craig Jones  \n",
       "4  Craig Jones  "
      ]
     },
     "execution_count": 5,
     "metadata": {},
     "output_type": "execute_result"
    }
   ],
   "source": [
    "# drop col\n",
    "df_bjj.drop(columns='Column1', axis=1, inplace=True)\n",
    "\n",
    "# check that it worked\n",
    "df_bjj.head()"
   ]
  },
  {
   "cell_type": "markdown",
   "metadata": {},
   "source": [
    "We can know deal with the slightly more complex issue of the `Opponent` column. Let's start by inspecting the column."
   ]
  },
  {
   "cell_type": "code",
   "execution_count": 6,
   "metadata": {
    "scrolled": true
   },
   "outputs": [
    {
     "data": {
      "text/plain": [
       "Keenan CorneliusKeenan Cornelius    12\n",
       "Tex JohnsonTex Johnson              10\n",
       "Yuri SimoesYuri Simoes               8\n",
       "Gabriel SousaGabriel Sousa           7\n",
       "Matheus DinizMatheus Diniz           7\n",
       "                                    ..\n",
       "David Newton                         1\n",
       "Abraham Hall                         1\n",
       "Benjamin Dixon                       1\n",
       "Chad Allen                           1\n",
       "Mica GalvaoMica Galvao               1\n",
       "Name: Opponent, Length: 364, dtype: int64"
      ]
     },
     "execution_count": 6,
     "metadata": {},
     "output_type": "execute_result"
    }
   ],
   "source": [
    "# check unique values\n",
    "df_bjj.Opponent.value_counts()"
   ]
  },
  {
   "cell_type": "markdown",
   "metadata": {},
   "source": [
    "We can see that __some names__ are in the form `first_name last_namefirst_name last_name`, but __other names are as it should be__.\n",
    "\n",
    "Possible solution:\n",
    "1. `split` each string on __whitespace__ and __expand__ each value on a new column\n",
    "\n",
    "\n",
    "2. __concatenate__ the 1st and 3rd value, i.e. `first_name` and `last_name` with a whitespace in between them\n",
    "\n",
    "\n",
    "3. `drop` the middle column, i.e. `last_namefirst_name`,\n",
    "\n",
    "Job (almost) done!"
   ]
  },
  {
   "cell_type": "code",
   "execution_count": 7,
   "metadata": {
    "scrolled": false
   },
   "outputs": [
    {
     "data": {
      "text/html": [
       "<div>\n",
       "<style scoped>\n",
       "    .dataframe tbody tr th:only-of-type {\n",
       "        vertical-align: middle;\n",
       "    }\n",
       "\n",
       "    .dataframe tbody tr th {\n",
       "        vertical-align: top;\n",
       "    }\n",
       "\n",
       "    .dataframe thead th {\n",
       "        text-align: right;\n",
       "    }\n",
       "</style>\n",
       "<table border=\"1\" class=\"dataframe\">\n",
       "  <thead>\n",
       "    <tr style=\"text-align: right;\">\n",
       "      <th></th>\n",
       "      <th>0</th>\n",
       "      <th>1</th>\n",
       "      <th>2</th>\n",
       "    </tr>\n",
       "  </thead>\n",
       "  <tbody>\n",
       "    <tr>\n",
       "      <th>0</th>\n",
       "      <td>Vagner</td>\n",
       "      <td>RochaVagner</td>\n",
       "      <td>Rocha</td>\n",
       "    </tr>\n",
       "    <tr>\n",
       "      <th>1</th>\n",
       "      <td>Keenan</td>\n",
       "      <td>CorneliusKeenan</td>\n",
       "      <td>Cornelius</td>\n",
       "    </tr>\n",
       "    <tr>\n",
       "      <th>2</th>\n",
       "      <td>Alexandre</td>\n",
       "      <td>RibeiroAlexandre</td>\n",
       "      <td>Ribeiro</td>\n",
       "    </tr>\n",
       "    <tr>\n",
       "      <th>3</th>\n",
       "      <td>Gordon</td>\n",
       "      <td>RyanGordon</td>\n",
       "      <td>Ryan</td>\n",
       "    </tr>\n",
       "    <tr>\n",
       "      <th>4</th>\n",
       "      <td>Gordon</td>\n",
       "      <td>RyanGordon</td>\n",
       "      <td>Ryan</td>\n",
       "    </tr>\n",
       "    <tr>\n",
       "      <th>...</th>\n",
       "      <td>...</td>\n",
       "      <td>...</td>\n",
       "      <td>...</td>\n",
       "    </tr>\n",
       "    <tr>\n",
       "      <th>13</th>\n",
       "      <td>Kody</td>\n",
       "      <td>SteeleKody</td>\n",
       "      <td>Steele</td>\n",
       "    </tr>\n",
       "    <tr>\n",
       "      <th>14</th>\n",
       "      <td>William</td>\n",
       "      <td>TackettWilliam</td>\n",
       "      <td>Tackett</td>\n",
       "    </tr>\n",
       "    <tr>\n",
       "      <th>15</th>\n",
       "      <td>Johnny</td>\n",
       "      <td>TamaJohnny</td>\n",
       "      <td>Tama</td>\n",
       "    </tr>\n",
       "    <tr>\n",
       "      <th>16</th>\n",
       "      <td>Dante</td>\n",
       "      <td>LeonDante</td>\n",
       "      <td>Leon</td>\n",
       "    </tr>\n",
       "    <tr>\n",
       "      <th>17</th>\n",
       "      <td>Mica</td>\n",
       "      <td>GalvaoMica</td>\n",
       "      <td>Galvao</td>\n",
       "    </tr>\n",
       "  </tbody>\n",
       "</table>\n",
       "<p>598 rows × 3 columns</p>\n",
       "</div>"
      ],
      "text/plain": [
       "            0                 1          2\n",
       "0      Vagner       RochaVagner      Rocha\n",
       "1      Keenan   CorneliusKeenan  Cornelius\n",
       "2   Alexandre  RibeiroAlexandre    Ribeiro\n",
       "3      Gordon        RyanGordon       Ryan\n",
       "4      Gordon        RyanGordon       Ryan\n",
       "..        ...               ...        ...\n",
       "13       Kody        SteeleKody     Steele\n",
       "14    William    TackettWilliam    Tackett\n",
       "15     Johnny        TamaJohnny       Tama\n",
       "16      Dante         LeonDante       Leon\n",
       "17       Mica        GalvaoMica     Galvao\n",
       "\n",
       "[598 rows x 3 columns]"
      ]
     },
     "execution_count": 7,
     "metadata": {},
     "output_type": "execute_result"
    }
   ],
   "source": [
    "# split column on empty space\n",
    "split_opp = df_bjj.Opponent.str.split(' ', expand=True)\n",
    "split_opp"
   ]
  },
  {
   "cell_type": "markdown",
   "metadata": {},
   "source": [
    "We can see that `Opponent` column was successfuly split into what is seems like:\n",
    "1. first_name (`0`)\n",
    "2. first_last_name (`1`)\n",
    "3. last_name (`2`)\n",
    "\n",
    "If we check the `shape` of `split.opp` we will see that if we just concatenate columns `0` and `2`, we will __lose 190__ values, as column `2` has only 408 values because some names format were fine to begin with, e.g. `Chad Allen`, so they have been split only in the column `0` and `1`."
   ]
  },
  {
   "cell_type": "code",
   "execution_count": 8,
   "metadata": {
    "scrolled": false
   },
   "outputs": [
    {
     "name": "stdout",
     "output_type": "stream",
     "text": [
      "<class 'pandas.core.frame.DataFrame'>\n",
      "Int64Index: 598 entries, 0 to 17\n",
      "Data columns (total 3 columns):\n",
      " #   Column  Non-Null Count  Dtype \n",
      "---  ------  --------------  ----- \n",
      " 0   0       598 non-null    object\n",
      " 1   1       598 non-null    object\n",
      " 2   2       408 non-null    object\n",
      "dtypes: object(3)\n",
      "memory usage: 18.7+ KB\n"
     ]
    }
   ],
   "source": [
    "# check df's shape\n",
    "split_opp.info()"
   ]
  },
  {
   "cell_type": "markdown",
   "metadata": {},
   "source": [
    "Let's first __assign all columns__ to our working `df_bjj` DataFrame."
   ]
  },
  {
   "cell_type": "code",
   "execution_count": 9,
   "metadata": {},
   "outputs": [
    {
     "data": {
      "text/html": [
       "<div>\n",
       "<style scoped>\n",
       "    .dataframe tbody tr th:only-of-type {\n",
       "        vertical-align: middle;\n",
       "    }\n",
       "\n",
       "    .dataframe tbody tr th {\n",
       "        vertical-align: top;\n",
       "    }\n",
       "\n",
       "    .dataframe thead th {\n",
       "        text-align: right;\n",
       "    }\n",
       "</style>\n",
       "<table border=\"1\" class=\"dataframe\">\n",
       "  <thead>\n",
       "    <tr style=\"text-align: right;\">\n",
       "      <th></th>\n",
       "      <th>Opponent</th>\n",
       "      <th>W/L</th>\n",
       "      <th>Method</th>\n",
       "      <th>Competition</th>\n",
       "      <th>Year</th>\n",
       "      <th>Fighter</th>\n",
       "      <th>Opp_fname</th>\n",
       "      <th>Opp_lname</th>\n",
       "      <th>Opp_first_lname</th>\n",
       "    </tr>\n",
       "  </thead>\n",
       "  <tbody>\n",
       "    <tr>\n",
       "      <th>0</th>\n",
       "      <td>Vagner RochaVagner Rocha</td>\n",
       "      <td>L</td>\n",
       "      <td>EBI/OT</td>\n",
       "      <td>EBI 11</td>\n",
       "      <td>2017</td>\n",
       "      <td>Craig Jones</td>\n",
       "      <td>Vagner</td>\n",
       "      <td>Rocha</td>\n",
       "      <td>RochaVagner</td>\n",
       "    </tr>\n",
       "    <tr>\n",
       "      <th>1</th>\n",
       "      <td>Keenan CorneliusKeenan Cornelius</td>\n",
       "      <td>L</td>\n",
       "      <td>Pts: 13x0</td>\n",
       "      <td>ADCC</td>\n",
       "      <td>2017</td>\n",
       "      <td>Craig Jones</td>\n",
       "      <td>Keenan</td>\n",
       "      <td>Cornelius</td>\n",
       "      <td>CorneliusKeenan</td>\n",
       "    </tr>\n",
       "    <tr>\n",
       "      <th>2</th>\n",
       "      <td>Alexandre RibeiroAlexandre Ribeiro</td>\n",
       "      <td>L</td>\n",
       "      <td>Pts: 2x0</td>\n",
       "      <td>ADCC</td>\n",
       "      <td>2017</td>\n",
       "      <td>Craig Jones</td>\n",
       "      <td>Alexandre</td>\n",
       "      <td>Ribeiro</td>\n",
       "      <td>RibeiroAlexandre</td>\n",
       "    </tr>\n",
       "    <tr>\n",
       "      <th>3</th>\n",
       "      <td>Gordon RyanGordon Ryan</td>\n",
       "      <td>L</td>\n",
       "      <td>Katagatame</td>\n",
       "      <td>ADCC</td>\n",
       "      <td>2017</td>\n",
       "      <td>Craig Jones</td>\n",
       "      <td>Gordon</td>\n",
       "      <td>Ryan</td>\n",
       "      <td>RyanGordon</td>\n",
       "    </tr>\n",
       "    <tr>\n",
       "      <th>4</th>\n",
       "      <td>Gordon RyanGordon Ryan</td>\n",
       "      <td>L</td>\n",
       "      <td>EBI/OT</td>\n",
       "      <td>EBI 14</td>\n",
       "      <td>2017</td>\n",
       "      <td>Craig Jones</td>\n",
       "      <td>Gordon</td>\n",
       "      <td>Ryan</td>\n",
       "      <td>RyanGordon</td>\n",
       "    </tr>\n",
       "    <tr>\n",
       "      <th>...</th>\n",
       "      <td>...</td>\n",
       "      <td>...</td>\n",
       "      <td>...</td>\n",
       "      <td>...</td>\n",
       "      <td>...</td>\n",
       "      <td>...</td>\n",
       "      <td>...</td>\n",
       "      <td>...</td>\n",
       "      <td>...</td>\n",
       "    </tr>\n",
       "    <tr>\n",
       "      <th>13</th>\n",
       "      <td>Kody SteeleKody Steele</td>\n",
       "      <td>W</td>\n",
       "      <td>Inside heel hook</td>\n",
       "      <td>WNO 5</td>\n",
       "      <td>2020</td>\n",
       "      <td>Tye Ruotolo</td>\n",
       "      <td>Kody</td>\n",
       "      <td>Steele</td>\n",
       "      <td>SteeleKody</td>\n",
       "    </tr>\n",
       "    <tr>\n",
       "      <th>14</th>\n",
       "      <td>William TackettWilliam Tackett</td>\n",
       "      <td>W</td>\n",
       "      <td>Referee Decision</td>\n",
       "      <td>WNO 8</td>\n",
       "      <td>2021</td>\n",
       "      <td>Tye Ruotolo</td>\n",
       "      <td>William</td>\n",
       "      <td>Tackett</td>\n",
       "      <td>TackettWilliam</td>\n",
       "    </tr>\n",
       "    <tr>\n",
       "      <th>15</th>\n",
       "      <td>Johnny TamaJohnny Tama</td>\n",
       "      <td>W</td>\n",
       "      <td>Darce choke</td>\n",
       "      <td>WNO Champ.</td>\n",
       "      <td>2021</td>\n",
       "      <td>Tye Ruotolo</td>\n",
       "      <td>Johnny</td>\n",
       "      <td>Tama</td>\n",
       "      <td>TamaJohnny</td>\n",
       "    </tr>\n",
       "    <tr>\n",
       "      <th>16</th>\n",
       "      <td>Dante LeonDante Leon</td>\n",
       "      <td>W</td>\n",
       "      <td>Guillotine</td>\n",
       "      <td>WNO Champ.</td>\n",
       "      <td>2021</td>\n",
       "      <td>Tye Ruotolo</td>\n",
       "      <td>Dante</td>\n",
       "      <td>Leon</td>\n",
       "      <td>LeonDante</td>\n",
       "    </tr>\n",
       "    <tr>\n",
       "      <th>17</th>\n",
       "      <td>Mica GalvaoMica Galvao</td>\n",
       "      <td>W</td>\n",
       "      <td>Referee Decision</td>\n",
       "      <td>WNO Champ.</td>\n",
       "      <td>2021</td>\n",
       "      <td>Tye Ruotolo</td>\n",
       "      <td>Mica</td>\n",
       "      <td>Galvao</td>\n",
       "      <td>GalvaoMica</td>\n",
       "    </tr>\n",
       "  </tbody>\n",
       "</table>\n",
       "<p>598 rows × 9 columns</p>\n",
       "</div>"
      ],
      "text/plain": [
       "                              Opponent W/L            Method Competition  \\\n",
       "0             Vagner RochaVagner Rocha   L            EBI/OT      EBI 11   \n",
       "1     Keenan CorneliusKeenan Cornelius   L         Pts: 13x0        ADCC   \n",
       "2   Alexandre RibeiroAlexandre Ribeiro   L          Pts: 2x0        ADCC   \n",
       "3               Gordon RyanGordon Ryan   L        Katagatame        ADCC   \n",
       "4               Gordon RyanGordon Ryan   L            EBI/OT      EBI 14   \n",
       "..                                 ...  ..               ...         ...   \n",
       "13              Kody SteeleKody Steele   W  Inside heel hook       WNO 5   \n",
       "14      William TackettWilliam Tackett   W  Referee Decision       WNO 8   \n",
       "15              Johnny TamaJohnny Tama   W       Darce choke  WNO Champ.   \n",
       "16                Dante LeonDante Leon   W        Guillotine  WNO Champ.   \n",
       "17              Mica GalvaoMica Galvao   W  Referee Decision  WNO Champ.   \n",
       "\n",
       "    Year      Fighter  Opp_fname  Opp_lname   Opp_first_lname  \n",
       "0   2017  Craig Jones     Vagner      Rocha       RochaVagner  \n",
       "1   2017  Craig Jones     Keenan  Cornelius   CorneliusKeenan  \n",
       "2   2017  Craig Jones  Alexandre    Ribeiro  RibeiroAlexandre  \n",
       "3   2017  Craig Jones     Gordon       Ryan        RyanGordon  \n",
       "4   2017  Craig Jones     Gordon       Ryan        RyanGordon  \n",
       "..   ...          ...        ...        ...               ...  \n",
       "13  2020  Tye Ruotolo       Kody     Steele        SteeleKody  \n",
       "14  2021  Tye Ruotolo    William    Tackett    TackettWilliam  \n",
       "15  2021  Tye Ruotolo     Johnny       Tama        TamaJohnny  \n",
       "16  2021  Tye Ruotolo      Dante       Leon         LeonDante  \n",
       "17  2021  Tye Ruotolo       Mica     Galvao        GalvaoMica  \n",
       "\n",
       "[598 rows x 9 columns]"
      ]
     },
     "execution_count": 9,
     "metadata": {},
     "output_type": "execute_result"
    }
   ],
   "source": [
    "# assign splitted cols to DF\n",
    "df_bjj = df_bjj.assign(Opp_fname = split_opp[0], Opp_lname = split_opp[2], Opp_first_lname = split_opp[1])\n",
    "df_bjj"
   ]
  },
  {
   "cell_type": "code",
   "execution_count": 10,
   "metadata": {
    "scrolled": false
   },
   "outputs": [
    {
     "data": {
      "text/html": [
       "<div>\n",
       "<style scoped>\n",
       "    .dataframe tbody tr th:only-of-type {\n",
       "        vertical-align: middle;\n",
       "    }\n",
       "\n",
       "    .dataframe tbody tr th {\n",
       "        vertical-align: top;\n",
       "    }\n",
       "\n",
       "    .dataframe thead th {\n",
       "        text-align: right;\n",
       "    }\n",
       "</style>\n",
       "<table border=\"1\" class=\"dataframe\">\n",
       "  <thead>\n",
       "    <tr style=\"text-align: right;\">\n",
       "      <th></th>\n",
       "      <th>W/L</th>\n",
       "      <th>Method</th>\n",
       "      <th>Competition</th>\n",
       "      <th>Year</th>\n",
       "      <th>Fighter</th>\n",
       "      <th>Opp_fname</th>\n",
       "      <th>Opp_lname</th>\n",
       "      <th>Opp_first_lname</th>\n",
       "    </tr>\n",
       "  </thead>\n",
       "  <tbody>\n",
       "    <tr>\n",
       "      <th>0</th>\n",
       "      <td>L</td>\n",
       "      <td>EBI/OT</td>\n",
       "      <td>EBI 11</td>\n",
       "      <td>2017</td>\n",
       "      <td>Craig Jones</td>\n",
       "      <td>Vagner</td>\n",
       "      <td>Rocha</td>\n",
       "      <td>RochaVagner</td>\n",
       "    </tr>\n",
       "    <tr>\n",
       "      <th>1</th>\n",
       "      <td>L</td>\n",
       "      <td>Pts: 13x0</td>\n",
       "      <td>ADCC</td>\n",
       "      <td>2017</td>\n",
       "      <td>Craig Jones</td>\n",
       "      <td>Keenan</td>\n",
       "      <td>Cornelius</td>\n",
       "      <td>CorneliusKeenan</td>\n",
       "    </tr>\n",
       "    <tr>\n",
       "      <th>2</th>\n",
       "      <td>L</td>\n",
       "      <td>Pts: 2x0</td>\n",
       "      <td>ADCC</td>\n",
       "      <td>2017</td>\n",
       "      <td>Craig Jones</td>\n",
       "      <td>Alexandre</td>\n",
       "      <td>Ribeiro</td>\n",
       "      <td>RibeiroAlexandre</td>\n",
       "    </tr>\n",
       "    <tr>\n",
       "      <th>3</th>\n",
       "      <td>L</td>\n",
       "      <td>Katagatame</td>\n",
       "      <td>ADCC</td>\n",
       "      <td>2017</td>\n",
       "      <td>Craig Jones</td>\n",
       "      <td>Gordon</td>\n",
       "      <td>Ryan</td>\n",
       "      <td>RyanGordon</td>\n",
       "    </tr>\n",
       "    <tr>\n",
       "      <th>4</th>\n",
       "      <td>L</td>\n",
       "      <td>EBI/OT</td>\n",
       "      <td>EBI 14</td>\n",
       "      <td>2017</td>\n",
       "      <td>Craig Jones</td>\n",
       "      <td>Gordon</td>\n",
       "      <td>Ryan</td>\n",
       "      <td>RyanGordon</td>\n",
       "    </tr>\n",
       "    <tr>\n",
       "      <th>...</th>\n",
       "      <td>...</td>\n",
       "      <td>...</td>\n",
       "      <td>...</td>\n",
       "      <td>...</td>\n",
       "      <td>...</td>\n",
       "      <td>...</td>\n",
       "      <td>...</td>\n",
       "      <td>...</td>\n",
       "    </tr>\n",
       "    <tr>\n",
       "      <th>13</th>\n",
       "      <td>W</td>\n",
       "      <td>Inside heel hook</td>\n",
       "      <td>WNO 5</td>\n",
       "      <td>2020</td>\n",
       "      <td>Tye Ruotolo</td>\n",
       "      <td>Kody</td>\n",
       "      <td>Steele</td>\n",
       "      <td>SteeleKody</td>\n",
       "    </tr>\n",
       "    <tr>\n",
       "      <th>14</th>\n",
       "      <td>W</td>\n",
       "      <td>Referee Decision</td>\n",
       "      <td>WNO 8</td>\n",
       "      <td>2021</td>\n",
       "      <td>Tye Ruotolo</td>\n",
       "      <td>William</td>\n",
       "      <td>Tackett</td>\n",
       "      <td>TackettWilliam</td>\n",
       "    </tr>\n",
       "    <tr>\n",
       "      <th>15</th>\n",
       "      <td>W</td>\n",
       "      <td>Darce choke</td>\n",
       "      <td>WNO Champ.</td>\n",
       "      <td>2021</td>\n",
       "      <td>Tye Ruotolo</td>\n",
       "      <td>Johnny</td>\n",
       "      <td>Tama</td>\n",
       "      <td>TamaJohnny</td>\n",
       "    </tr>\n",
       "    <tr>\n",
       "      <th>16</th>\n",
       "      <td>W</td>\n",
       "      <td>Guillotine</td>\n",
       "      <td>WNO Champ.</td>\n",
       "      <td>2021</td>\n",
       "      <td>Tye Ruotolo</td>\n",
       "      <td>Dante</td>\n",
       "      <td>Leon</td>\n",
       "      <td>LeonDante</td>\n",
       "    </tr>\n",
       "    <tr>\n",
       "      <th>17</th>\n",
       "      <td>W</td>\n",
       "      <td>Referee Decision</td>\n",
       "      <td>WNO Champ.</td>\n",
       "      <td>2021</td>\n",
       "      <td>Tye Ruotolo</td>\n",
       "      <td>Mica</td>\n",
       "      <td>Galvao</td>\n",
       "      <td>GalvaoMica</td>\n",
       "    </tr>\n",
       "  </tbody>\n",
       "</table>\n",
       "<p>598 rows × 8 columns</p>\n",
       "</div>"
      ],
      "text/plain": [
       "   W/L            Method Competition  Year      Fighter  Opp_fname  Opp_lname  \\\n",
       "0    L            EBI/OT      EBI 11  2017  Craig Jones     Vagner      Rocha   \n",
       "1    L         Pts: 13x0        ADCC  2017  Craig Jones     Keenan  Cornelius   \n",
       "2    L          Pts: 2x0        ADCC  2017  Craig Jones  Alexandre    Ribeiro   \n",
       "3    L        Katagatame        ADCC  2017  Craig Jones     Gordon       Ryan   \n",
       "4    L            EBI/OT      EBI 14  2017  Craig Jones     Gordon       Ryan   \n",
       "..  ..               ...         ...   ...          ...        ...        ...   \n",
       "13   W  Inside heel hook       WNO 5  2020  Tye Ruotolo       Kody     Steele   \n",
       "14   W  Referee Decision       WNO 8  2021  Tye Ruotolo    William    Tackett   \n",
       "15   W       Darce choke  WNO Champ.  2021  Tye Ruotolo     Johnny       Tama   \n",
       "16   W        Guillotine  WNO Champ.  2021  Tye Ruotolo      Dante       Leon   \n",
       "17   W  Referee Decision  WNO Champ.  2021  Tye Ruotolo       Mica     Galvao   \n",
       "\n",
       "     Opp_first_lname  \n",
       "0        RochaVagner  \n",
       "1    CorneliusKeenan  \n",
       "2   RibeiroAlexandre  \n",
       "3         RyanGordon  \n",
       "4         RyanGordon  \n",
       "..               ...  \n",
       "13        SteeleKody  \n",
       "14    TackettWilliam  \n",
       "15        TamaJohnny  \n",
       "16         LeonDante  \n",
       "17        GalvaoMica  \n",
       "\n",
       "[598 rows x 8 columns]"
      ]
     },
     "execution_count": 10,
     "metadata": {},
     "output_type": "execute_result"
    }
   ],
   "source": [
    "# remove the old col\n",
    "df_bjj.drop(columns='Opponent', axis=1, inplace=True)\n",
    "\n",
    "# check new df\n",
    "df_bjj"
   ]
  },
  {
   "cell_type": "markdown",
   "metadata": {},
   "source": [
    "In order to not lose any value from the original `Opponent` column, we will use a __conditional statement__ to check if there is or there isn't a value and concatenate appropriately."
   ]
  },
  {
   "cell_type": "code",
   "execution_count": 85,
   "metadata": {},
   "outputs": [
    {
     "ename": "TypeError",
     "evalue": "can only concatenate str (not \"NoneType\") to str",
     "output_type": "error",
     "traceback": [
      "\u001b[1;31m---------------------------------------------------------------------------\u001b[0m",
      "\u001b[1;31mTypeError\u001b[0m                                 Traceback (most recent call last)",
      "\u001b[1;32m~\\AppData\\Local\\Temp/ipykernel_6928/2769209589.py\u001b[0m in \u001b[0;36m<module>\u001b[1;34m\u001b[0m\n\u001b[0;32m      6\u001b[0m         \u001b[1;32mif\u001b[0m \u001b[0mname\u001b[0m\u001b[1;33m:\u001b[0m\u001b[1;33m\u001b[0m\u001b[1;33m\u001b[0m\u001b[0m\n\u001b[0;32m      7\u001b[0m             \u001b[1;31m# concatenate `Opp_fname` and 'Opp_lname'\u001b[0m\u001b[1;33m\u001b[0m\u001b[1;33m\u001b[0m\u001b[0m\n\u001b[1;32m----> 8\u001b[1;33m             \u001b[0mnew_name_list\u001b[0m\u001b[1;33m.\u001b[0m\u001b[0mappend\u001b[0m\u001b[1;33m(\u001b[0m\u001b[0mdf_bjj\u001b[0m\u001b[1;33m.\u001b[0m\u001b[0mOpp_fname\u001b[0m\u001b[1;33m[\u001b[0m\u001b[0mi\u001b[0m\u001b[1;33m]\u001b[0m \u001b[1;33m+\u001b[0m \u001b[1;34m\" \"\u001b[0m \u001b[1;33m+\u001b[0m \u001b[0mdf_bjj\u001b[0m\u001b[1;33m.\u001b[0m\u001b[0mOpp_lname\u001b[0m\u001b[1;33m[\u001b[0m\u001b[0mi\u001b[0m\u001b[1;33m]\u001b[0m\u001b[1;33m)\u001b[0m\u001b[1;33m\u001b[0m\u001b[1;33m\u001b[0m\u001b[0m\n\u001b[0m\u001b[0;32m      9\u001b[0m         \u001b[1;31m# if value is a name\u001b[0m\u001b[1;33m\u001b[0m\u001b[1;33m\u001b[0m\u001b[0m\n\u001b[0;32m     10\u001b[0m         \u001b[1;32melse\u001b[0m\u001b[1;33m:\u001b[0m\u001b[1;33m\u001b[0m\u001b[1;33m\u001b[0m\u001b[0m\n",
      "\u001b[1;31mTypeError\u001b[0m: can only concatenate str (not \"NoneType\") to str"
     ]
    }
   ],
   "source": [
    "name_list = list(df_bjj.Opp_lname)\n",
    "new_name_list = []\n",
    "\n",
    "for i in range(len(name_list)):\n",
    "    for name in name_list:\n",
    "        if name:\n",
    "            # concatenate `Opp_fname` and 'Opp_lname'\n",
    "            new_name_list.append(df_bjj.Opp_fname[i] + \" \" + df_bjj.Opp_lname[i])\n",
    "        # if value is a name\n",
    "        else:\n",
    "            # concatenate `Opp_fname` and 'Opp_first_lname'\n",
    "            new_name_list.append(df_bjj.Opp_fname[i] + \" \" + df_bjj.Opp_first_lname[i])\n",
    "                                 \n",
    "new_name_list"
   ]
  },
  {
   "cell_type": "markdown",
   "metadata": {},
   "source": [
    "Let's make sure that we did not lost any value, i.e. that the `Opponent` column has 598 values."
   ]
  },
  {
   "cell_type": "code",
   "execution_count": 77,
   "metadata": {
    "scrolled": false
   },
   "outputs": [
    {
     "name": "stdout",
     "output_type": "stream",
     "text": [
      "<class 'pandas.core.frame.DataFrame'>\n",
      "Int64Index: 598 entries, 0 to 17\n",
      "Data columns (total 9 columns):\n",
      " #   Column           Non-Null Count  Dtype \n",
      "---  ------           --------------  ----- \n",
      " 0   W/L              598 non-null    object\n",
      " 1   Method           598 non-null    object\n",
      " 2   Competition      598 non-null    object\n",
      " 3   Year             598 non-null    int64 \n",
      " 4   Fighter          598 non-null    object\n",
      " 5   Opp_fname        598 non-null    object\n",
      " 6   Opp_lname        408 non-null    object\n",
      " 7   Opp_first_lname  598 non-null    object\n",
      " 8   Opponent         408 non-null    object\n",
      "dtypes: int64(1), object(8)\n",
      "memory usage: 62.9+ KB\n"
     ]
    }
   ],
   "source": [
    "df_bjj.info()"
   ]
  },
  {
   "cell_type": "markdown",
   "metadata": {},
   "source": [
    "Now we can __remove the unecessary columns__."
   ]
  },
  {
   "cell_type": "code",
   "execution_count": null,
   "metadata": {
    "scrolled": false
   },
   "outputs": [],
   "source": [
    "# remove the unecessary cols\n",
    "df_bjj.drop(columns=['Opp_fname', 'Opp_first_lname', 'Opp_lname'], axis=1, inplace=True)\n",
    "\n",
    "# check new df\n",
    "df_bjj"
   ]
  },
  {
   "cell_type": "markdown",
   "metadata": {},
   "source": [
    "Everything looks better now. The last issue we need to deal with is removing both the numerical and special characters from the `Method` column.\n",
    "\n",
    "We can `split` while __extracting__ digits and special chars using __regular expressions__ and `expand` values into new columns."
   ]
  },
  {
   "cell_type": "code",
   "execution_count": null,
   "metadata": {
    "scrolled": false
   },
   "outputs": [],
   "source": [
    "# extract and split on digits\n",
    "df_method = df_bjj.Method.str.split(r'(\\d+)|:', expand=True)\n",
    "df_method"
   ]
  },
  {
   "cell_type": "markdown",
   "metadata": {},
   "source": [
    "We can see that the $1st$ column is just what we need, thus, we can `assign` it to our DataFrame, while __droping__ the old `Method` column."
   ]
  },
  {
   "cell_type": "code",
   "execution_count": null,
   "metadata": {},
   "outputs": [],
   "source": [
    "# assign first col to df_clean\n",
    "df_bjj = df_bjj.assign(Winning_Method = df_method[0])\n",
    "\n",
    "# remove old col\n",
    "df_bjj.drop(columns='Method', axis=1, inplace=True)\n",
    "\n",
    "# check df\n",
    "df_bjj.head()"
   ]
  },
  {
   "cell_type": "markdown",
   "metadata": {},
   "source": [
    "Our DataFrame looks good; the `Opponent` and `Winning_Method` columns look much more useful now.\n",
    "\n",
    "We can now __start exploring__ our dataset!"
   ]
  },
  {
   "cell_type": "markdown",
   "metadata": {},
   "source": [
    "<a name='eda'></a>\n",
    "# 2. Exploring Data "
   ]
  },
  {
   "cell_type": "markdown",
   "metadata": {},
   "source": [
    "Since, we __did not collect the data ourselves to answer a specific question__, we can explore what we have and see what we can come up with.  "
   ]
  },
  {
   "cell_type": "code",
   "execution_count": null,
   "metadata": {},
   "outputs": [],
   "source": [
    "# check shape\n",
    "df_bjj.shape"
   ]
  },
  {
   "cell_type": "markdown",
   "metadata": {},
   "source": [
    "As we can see our dataset has __598 rows__ and __6 columns__."
   ]
  },
  {
   "cell_type": "code",
   "execution_count": null,
   "metadata": {
    "scrolled": true
   },
   "outputs": [],
   "source": [
    "# check basic info\n",
    "df_bjj.info()"
   ]
  },
  {
   "cell_type": "markdown",
   "metadata": {},
   "source": [
    "Our DataFrame contains __no null values__ (almost all rows have 598 values)  in 5 out of 6 cols, and we have __5 columns of type `object`__ and __1 column of type `integer`__.\n",
    "\n",
    "While 'cleaning' the names we probla"
   ]
  },
  {
   "cell_type": "code",
   "execution_count": null,
   "metadata": {},
   "outputs": [],
   "source": [
    "# check year values\n",
    "df_bjj.Year.value_counts()"
   ]
  },
  {
   "cell_type": "code",
   "execution_count": null,
   "metadata": {
    "scrolled": false
   },
   "outputs": [],
   "source": [
    "# check basic stats of the numerical col\n",
    "df_bjj.describe()"
   ]
  },
  {
   "cell_type": "markdown",
   "metadata": {},
   "source": [
    "Looking at the `Year` column we can see that the dataset includes relatively __recent matches (2014 to 2021)__, and that __the majority__ of them took place in __2019__. "
   ]
  },
  {
   "cell_type": "code",
   "execution_count": null,
   "metadata": {
    "scrolled": true
   },
   "outputs": [],
   "source": [
    "# check basic stats of the object cols\n",
    "df_bjj.describe(include='object')"
   ]
  },
  {
   "cell_type": "markdown",
   "metadata": {},
   "source": [
    "From the above results, we can see that:\n",
    "1. there are __192 different opponents__\n",
    "\n",
    "\n",
    "2. __48 unique methods of winning__, the most common being `Pts`\n",
    "\n",
    "\n",
    "3. __163 different competitions__, the most commong beign `ADCC`\n",
    "\n",
    "\n",
    "4. the __most data are held for__ `Kaynan Duarte`\n",
    "\n",
    "\n",
    "5. most fighters had as `Opponent` the athlete `Keenan Cornelius`"
   ]
  },
  {
   "cell_type": "code",
   "execution_count": null,
   "metadata": {
    "scrolled": true
   },
   "outputs": [],
   "source": [
    "# check athletes\n",
    "df_bjj.Fighter.value_counts()"
   ]
  },
  {
   "cell_type": "markdown",
   "metadata": {},
   "source": [
    "<a name=\"questions\"></a>\n",
    "# 3. Formulating Questions"
   ]
  },
  {
   "cell_type": "markdown",
   "metadata": {},
   "source": [
    "There are very useful libraries for a \"quick\" but detailed look at one or multiple dataframes.\n",
    "\n",
    "The first is called [`pandas_profiling`](https://github.com/ydataai/pandas-profiling#pandas-profiling), with which I have created a report below, but I will only display a second similar library which I personally prefer, i.e. [`sweetviz`](https://pypi.org/project/sweetviz/).\n",
    "\n",
    "We will try to answer the following 3 questions:\n",
    "\n",
    "1. [What are the top 5 methods to win a match?](#q1)\n",
    "\n",
    "\n",
    "2. [Who are the top 3 grapplers?](#q2)\n",
    "\n",
    "\n",
    "3. [Which is the most exciting competition to watch? That is, which competition has the most submissions?](#q3)"
   ]
  },
  {
   "cell_type": "code",
   "execution_count": null,
   "metadata": {
    "scrolled": true
   },
   "outputs": [],
   "source": [
    "# from pandas_profiling import ProfileReport\n",
    "\n",
    "# # instantiate ProfileReport`\n",
    "# profile = ProfileReport(df_clean, title='Pandas Profiling Report', html={'style': {'full_width': True}})"
   ]
  },
  {
   "cell_type": "code",
   "execution_count": null,
   "metadata": {
    "scrolled": false
   },
   "outputs": [],
   "source": [
    "# # invoke report\n",
    "# profile"
   ]
  },
  {
   "cell_type": "code",
   "execution_count": null,
   "metadata": {
    "scrolled": false
   },
   "outputs": [],
   "source": [
    "import sweetviz as sv\n",
    "\n",
    "# analyze dataset\n",
    "analyze_report = sv.analyze(df_bjj)\n",
    "\n",
    "# display report as html page\n",
    "analyze_report.show_html()\n",
    "\n",
    "# # display report inside notebook\n",
    "# analyze_report.show_notebook()"
   ]
  },
  {
   "cell_type": "markdown",
   "metadata": {},
   "source": [
    "<a name=\"q1\"></a>\n",
    "## 1. What are the top 5 methods to win a match?"
   ]
  },
  {
   "attachments": {
    "perce_subs.PNG": {
     "image/png": "[encoded data removed]"
    }
   },
   "cell_type": "markdown",
   "metadata": {},
   "source": [
    "`sweetviz` generates a beautiful table that directly answers out first question:\n",
    "\n",
    "![perce_subs.PNG](attachment:perce_subs.PNG)"
   ]
  },
  {
   "cell_type": "markdown",
   "metadata": {},
   "source": [
    "Almost half of the matches (47%) are won either via __points__ (33%) or __Referee Decision__ (14%)! \n",
    "\n",
    "Then we have the __RNC__ (9%), which stands for Rear Naked Choke, __Inside Heel Hook__ (6%), and __Choke from the back__ (4%).\n",
    "\n",
    "We can easily confirm these numbers using the `pandas` library."
   ]
  },
  {
   "cell_type": "code",
   "execution_count": null,
   "metadata": {
    "scrolled": true
   },
   "outputs": [],
   "source": [
    "# check top5 winning methods\n",
    "df_bjj.Winning_Method.value_counts()[:5]"
   ]
  },
  {
   "cell_type": "code",
   "execution_count": null,
   "metadata": {
    "scrolled": true
   },
   "outputs": [],
   "source": [
    "# check % of top5 winning methods\n",
    "df_bjj.Winning_Method.value_counts(normalize=True)[:5]"
   ]
  },
  {
   "cell_type": "markdown",
   "metadata": {},
   "source": [
    "<a name=\"q2\"></a>\n",
    "## 2. Who are the top 3 grapplers?"
   ]
  },
  {
   "attachments": {
    "matches_num.PNG": {
     "image/png": "[encoded data removed]"
    }
   },
   "cell_type": "markdown",
   "metadata": {},
   "source": [
    "We can __calculate the win percentage__ of each grappler in order to find out the top3 athletes. We can first check how many matches each athletes has via `sweetviz` and then confirm the number with `pandas`:\n",
    "\n",
    "![matches_num.PNG](attachment:matches_num.PNG)"
   ]
  },
  {
   "cell_type": "code",
   "execution_count": null,
   "metadata": {
    "scrolled": true
   },
   "outputs": [],
   "source": [
    "# check matches per athlete\n",
    "df_bjj.Fighter.value_counts()"
   ]
  },
  {
   "cell_type": "markdown",
   "metadata": {},
   "source": [
    "The `W/L` column contains both Wins and Losses as strings, so we will have to find a way to:\n",
    "1. __calculate the wins of each athlete__\n",
    "\n",
    "\n",
    "2. __calculate his win percentage__"
   ]
  },
  {
   "cell_type": "code",
   "execution_count": null,
   "metadata": {
    "scrolled": true
   },
   "outputs": [],
   "source": [
    "df_bjj['W/L']"
   ]
  },
  {
   "cell_type": "markdown",
   "metadata": {},
   "source": [
    "We can start by __replacing__ the letters `W` and `L` with `1` and `0`, respectively."
   ]
  },
  {
   "cell_type": "code",
   "execution_count": null,
   "metadata": {},
   "outputs": [],
   "source": [
    "# replace 'W' with 1 and `L` with 0\n",
    "df_bjj['W/L'].replace(['W', 'L'], [1, 0], inplace=True)\n",
    "df_bjj"
   ]
  },
  {
   "cell_type": "markdown",
   "metadata": {},
   "source": [
    "Next, we can __group athletes by name__ with `groupby` and `sum` their wins, since a `W` is now represented by `1`."
   ]
  },
  {
   "cell_type": "code",
   "execution_count": null,
   "metadata": {
    "scrolled": true
   },
   "outputs": [],
   "source": [
    "# calculate number of wins per athlete\n",
    "wins_per_athlete = df_bjj['W/L'].groupby(df_bjj['Fighter']).sum()\n",
    "\n",
    "# convert Series to DataFrame\n",
    "df_wins_per_athlete = pd.DataFrame(wins_per_athlete)\n",
    "\n",
    "# rename column appropriately\n",
    "df_wins_per_athlete.rename(columns={'W/L': 'Wins'}, inplace=True)\n",
    "\n",
    "# sort athletes alphabetically\n",
    "df_wins_per_athlete.sort_values('Fighter', inplace=True)\n",
    "\n",
    "# display DataFrame\n",
    "df_wins_per_athlete"
   ]
  },
  {
   "cell_type": "markdown",
   "metadata": {},
   "source": [
    "Finally, we have to __calculate the win percentage of each athlete__ by diving the number of `Wins` with the total matches of each athlete."
   ]
  },
  {
   "cell_type": "code",
   "execution_count": null,
   "metadata": {
    "scrolled": true
   },
   "outputs": [],
   "source": [
    "df_bjj.Fighter.value_counts()"
   ]
  },
  {
   "cell_type": "code",
   "execution_count": null,
   "metadata": {
    "scrolled": false
   },
   "outputs": [],
   "source": [
    "# calculate number of matches per athlete\n",
    "matches_per_athlete = df_bjj.Fighter.value_counts()\n",
    "\n",
    "# convert Series to DataFrame\n",
    "df_matches_per_athlete = pd.DataFrame(matches_per_athlete)\n",
    "\n",
    "# display DataFrame\n",
    "df_matches_per_athlete.reset_index().sort_values('index')"
   ]
  },
  {
   "cell_type": "code",
   "execution_count": null,
   "metadata": {
    "scrolled": true
   },
   "outputs": [],
   "source": [
    "# concatenate the two DataFrames\n",
    "df_win_perce = pd.concat([df_wins_per_athlete, df_matches_per_athlete], axis=1)\n",
    "\n",
    "# rename column\n",
    "df_win_perce.rename(columns={'Fighter': 'Matches'}, inplace=True)\n",
    "\n",
    "# display DataFrame\n",
    "df_win_perce"
   ]
  },
  {
   "cell_type": "code",
   "execution_count": null,
   "metadata": {
    "scrolled": false
   },
   "outputs": [],
   "source": [
    "# calculate win %\n",
    "df_win_perce['win_perce'] = round((df_win_perce['Wins'] / df_win_perce['Matches'])*100, 2)\n",
    "\n",
    "# reset index\n",
    "df_win_perce.reset_index(inplace=True, drop=False)\n",
    "\n",
    "# rename col\n",
    "df_win_perce.rename(columns={'index': 'Fighter'}, inplace=True)\n",
    "\n",
    "# sort DataFrame by win %\n",
    "df_sorted_win = df_win_perce.sort_values('win_perce', ascending=False)\n",
    "\n",
    "# display DataFrame\n",
    "df_sorted_win"
   ]
  },
  {
   "cell_type": "code",
   "execution_count": null,
   "metadata": {
    "scrolled": false
   },
   "outputs": [],
   "source": [
    "import matplotlib.pyplot as plt\n",
    "%matplotlib inline\n",
    "plt.style.use('ggplot')\n",
    "plt.rcParams[\"figure.figsize\"] = (20,10)\n",
    "plt.rc('xtick', labelsize=15) \n",
    "plt.rc('ytick', labelsize=15) \n",
    "\n",
    "plt.barh(df_sorted_win.Fighter, df_sorted_win.win_perce, color='green')\n",
    "plt.xlabel(\"Win Percentage (%)\")\n",
    "plt.ylabel(\"Fighter\")\n",
    "plt.title(\"Athlete's Win Percentage\")\n",
    "\n",
    "\n",
    "plt.show()"
   ]
  },
  {
   "cell_type": "markdown",
   "metadata": {},
   "source": [
    "<a name=\"q3\"></a>\n",
    "## 3. Which is the top3 most exciting events to watch? That is, which events has the most relative submissions?"
   ]
  },
  {
   "cell_type": "code",
   "execution_count": null,
   "metadata": {},
   "outputs": [],
   "source": [
    "df_clean"
   ]
  },
  {
   "cell_type": "code",
   "execution_count": null,
   "metadata": {
    "scrolled": false
   },
   "outputs": [],
   "source": [
    "# check how many times each comp appears\n",
    "df_comps = df_clean.Competition.value_counts()\n",
    "\n",
    "# convert series to DF\n",
    "df_comps = pd.DataFrame(df_comps)\n",
    "\n",
    "# display DF\n",
    "df_comps"
   ]
  },
  {
   "cell_type": "code",
   "execution_count": null,
   "metadata": {},
   "outputs": [],
   "source": [
    "# select only the comps that appear more that 10 times\n",
    "df_comps_top = df_comps[df_comps.Competition > 10].reset_index()\n",
    "\n",
    "# display DF\n",
    "df_comps_top"
   ]
  },
  {
   "cell_type": "code",
   "execution_count": null,
   "metadata": {
    "scrolled": true
   },
   "outputs": [],
   "source": [
    "df_top = df_clean[\n",
    "    ((df_clean.Competition == 'ADCC') | \n",
    "    (df_clean.Competition == 'NoGi Worlds') |\n",
    "    (df_clean.Competition == 'World Champ') |\n",
    "    (df_clean.Competition == 'Pan American') |\n",
    "    (df_clean.Competition == 'WNO Champ.') | \n",
    "    (df_clean.Competition == 'European Open.') |\n",
    "    (df_clean.Competition == 'No Gi Pan Am.') |\n",
    "    (df_clean.Competition == 'Copa Podio') |\n",
    "    (df_clean.Competition == 'Grappling ind.')) &\n",
    "    (df_clean.Winning_Method != 'Pts') &\n",
    "    (df_clean.Winning_Method != 'Referee Decision')\n",
    "]\n",
    "\n",
    "# display DF\n",
    "df_top.head()"
   ]
  },
  {
   "cell_type": "code",
   "execution_count": null,
   "metadata": {
    "scrolled": true
   },
   "outputs": [],
   "source": [
    "df_top = df_top.loc[:, ['Competition', 'Winning_Method']]\n",
    "\n",
    "# display DF\n",
    "df_top"
   ]
  },
  {
   "cell_type": "code",
   "execution_count": null,
   "metadata": {
    "scrolled": true
   },
   "outputs": [],
   "source": [
    "# count subs per comp\n",
    "df_top = df_top.groupby('Competition').count()\n",
    "\n",
    "# sort DF\n",
    "df_top_sorted = df_top.sort_values('Winning_Method', ascending=False)\n",
    "\n",
    "# rename col\n",
    "df_top_sorted.rename(columns={'Winning_Method': 'Total_Subs'}, inplace=True)\n",
    "\n",
    "# display DF\n",
    "df_top_sorted"
   ]
  },
  {
   "cell_type": "code",
   "execution_count": null,
   "metadata": {
    "scrolled": true
   },
   "outputs": [],
   "source": [
    "# obtain the matches count per comp\n",
    "df_allmatches = df_clean.groupby('Competition').count().sort_values('Winning_Method', ascending=False)[:8]\n",
    "\n",
    "# rename col\n",
    "df_allmatches.rename(columns={'Winning_Method': 'Total_Matches'}, inplace=True)\n",
    "\n",
    "# create a subset\n",
    "df_allmatches = df_allmatches[['Total_Matches']]\n",
    "                              \n",
    "# display DF\n",
    "df_allmatches"
   ]
  },
  {
   "cell_type": "code",
   "execution_count": null,
   "metadata": {},
   "outputs": [],
   "source": [
    "# concatenate DFs\n",
    "final_df = pd.concat([df_top_sorted, df_allmatches], axis=1)\n",
    "\n",
    "# calculate submission percentage per event\n",
    "final_df['Sub_Perce'] = round((final_df.Total_Subs / final_df.Total_Matches) * 100, 2)\n",
    "\n",
    "# sort DF\n",
    "final_df.sort_values('Sub_Perce', inplace=True, ascending=False)\n",
    "\n",
    "# display DF\n",
    "final_df"
   ]
  },
  {
   "cell_type": "markdown",
   "metadata": {},
   "source": [
    "This effectively answer our third and final question which is almost a tie between three events: __the most exciting events to watch__ (based on submission percentage) seems to be __NoGi PanAms__, __WNO__, and __ADCC__!"
   ]
  },
  {
   "cell_type": "markdown",
   "metadata": {},
   "source": [
    "<a name='conc'></a>\n",
    "# 4. Conclusions"
   ]
  },
  {
   "cell_type": "markdown",
   "metadata": {},
   "source": [
    "After a __brief analysis__ of a __limited and of an unkown trustworthiness dataset__ we have some interesting findings:\n",
    "1. Almost half of the matches (47%) are won either via __points__ (33%) or __Referee Decision__ (14%) followed by the __RNC__ (9%), __Inside Heel Hook__ (6%), and __Choke from the back__ (4%).\n",
    "\n",
    "\n",
    "2.  The __top3 athletes__ (based on win %) are: __Gordan Ryan__ (95%), __Michael Musumeci__ (92%), and __Diego Olivera__ (88%). \n",
    "\n",
    "\n",
    "3. The __most exciting events__ to watch (based on submission percentage) are: __NoGi PanAms__, __WNO__, and __ADCC__!"
   ]
  }
 ],
 "metadata": {
  "colab": {
   "collapsed_sections": [],
   "name": "DPhi Pandas Bootcamp Assignment.ipynb",
   "provenance": []
  },
  "kernelspec": {
   "display_name": "Python 3 (ipykernel)",
   "language": "python",
   "name": "python3"
  },
  "language_info": {
   "codemirror_mode": {
    "name": "ipython",
    "version": 3
   },
   "file_extension": ".py",
   "mimetype": "text/x-python",
   "name": "python",
   "nbconvert_exporter": "python",
   "pygments_lexer": "ipython3",
   "version": "3.9.7"
  }
 },
 "nbformat": 4,
 "nbformat_minor": 1
}
