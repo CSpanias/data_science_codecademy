{
 "cells": [
  {
   "cell_type": "markdown",
   "id": "c227dd6e",
   "metadata": {},
   "source": [
    "# `re.search`\n",
    "matches only the __1st occurrence__ of the pattern"
   ]
  },
  {
   "cell_type": "code",
   "execution_count": 2,
   "id": "1a5c5cdf",
   "metadata": {},
   "outputs": [],
   "source": [
    "text = \"Python is cool!\""
   ]
  },
  {
   "cell_type": "code",
   "execution_count": 13,
   "id": "26075e39",
   "metadata": {},
   "outputs": [
    {
     "data": {
      "text/plain": [
       "<re.Match object; span=(7, 14), match='is cool'>"
      ]
     },
     "execution_count": 13,
     "metadata": {},
     "output_type": "execute_result"
    }
   ],
   "source": [
    "import re\n",
    "\n",
    "m = re.search(r'is (\\w+)', text)\n",
    "m"
   ]
  },
  {
   "cell_type": "code",
   "execution_count": 14,
   "id": "d94f1276",
   "metadata": {},
   "outputs": [
    {
     "data": {
      "text/plain": [
       "'is cool'"
      ]
     },
     "execution_count": 14,
     "metadata": {},
     "output_type": "execute_result"
    }
   ],
   "source": [
    "m.group()"
   ]
  },
  {
   "cell_type": "code",
   "execution_count": 15,
   "id": "6b41710f",
   "metadata": {},
   "outputs": [
    {
     "data": {
      "text/plain": [
       "'cool'"
      ]
     },
     "execution_count": 15,
     "metadata": {},
     "output_type": "execute_result"
    }
   ],
   "source": [
    "m.group(1)"
   ]
  },
  {
   "cell_type": "code",
   "execution_count": 19,
   "id": "2eb6bc4e",
   "metadata": {},
   "outputs": [
    {
     "data": {
      "text/plain": [
       "<re.Match object; span=(0, 6), match='Python'>"
      ]
     },
     "execution_count": 19,
     "metadata": {},
     "output_type": "execute_result"
    }
   ],
   "source": [
    "m = re.search(r'(^[A-Z][a-zA-Z]+)', text)\n",
    "m"
   ]
  },
  {
   "cell_type": "code",
   "execution_count": 20,
   "id": "f4cdc94f",
   "metadata": {},
   "outputs": [
    {
     "data": {
      "text/plain": [
       "'Python'"
      ]
     },
     "execution_count": 20,
     "metadata": {},
     "output_type": "execute_result"
    }
   ],
   "source": [
    "m.group()"
   ]
  },
  {
   "cell_type": "code",
   "execution_count": 21,
   "id": "4684a714",
   "metadata": {},
   "outputs": [
    {
     "data": {
      "text/plain": [
       "'Python'"
      ]
     },
     "execution_count": 21,
     "metadata": {},
     "output_type": "execute_result"
    }
   ],
   "source": [
    "m.group(1)"
   ]
  },
  {
   "cell_type": "code",
   "execution_count": 22,
   "id": "be29e616",
   "metadata": {},
   "outputs": [
    {
     "data": {
      "text/plain": [
       "<re.Match object; span=(0, 6), match='Python'>"
      ]
     },
     "execution_count": 22,
     "metadata": {},
     "output_type": "execute_result"
    }
   ],
   "source": [
    "m = re.search(r'(python|java)', text, re.IGNORECASE)\n",
    "m"
   ]
  },
  {
   "cell_type": "code",
   "execution_count": 23,
   "id": "b23fae58",
   "metadata": {
    "scrolled": true
   },
   "outputs": [
    {
     "data": {
      "text/plain": [
       "'Python'"
      ]
     },
     "execution_count": 23,
     "metadata": {},
     "output_type": "execute_result"
    }
   ],
   "source": [
    "m.group(1)"
   ]
  },
  {
   "cell_type": "markdown",
   "id": "fcacad94",
   "metadata": {},
   "source": [
    "# `re.findall`\n",
    "matches __all pattern occurrences__"
   ]
  },
  {
   "cell_type": "code",
   "execution_count": 24,
   "id": "5bb0417a",
   "metadata": {},
   "outputs": [],
   "source": [
    "text = 'Python is cool, Javascript is fine, Perl is bad'"
   ]
  },
  {
   "cell_type": "code",
   "execution_count": 25,
   "id": "5eca19a1",
   "metadata": {},
   "outputs": [
    {
     "data": {
      "text/plain": [
       "<re.Match object; span=(0, 14), match='Python is cool'>"
      ]
     },
     "execution_count": 25,
     "metadata": {},
     "output_type": "execute_result"
    }
   ],
   "source": [
    "m = re.search(r'(\\w+) is (\\w+)', text)\n",
    "m"
   ]
  },
  {
   "cell_type": "code",
   "execution_count": 26,
   "id": "6ac29d68",
   "metadata": {
    "scrolled": true
   },
   "outputs": [
    {
     "data": {
      "text/plain": [
       "('Python', 'cool')"
      ]
     },
     "execution_count": 26,
     "metadata": {},
     "output_type": "execute_result"
    }
   ],
   "source": [
    "m.groups()"
   ]
  },
  {
   "cell_type": "code",
   "execution_count": 27,
   "id": "da33866f",
   "metadata": {},
   "outputs": [
    {
     "data": {
      "text/plain": [
       "[('Python', 'cool'), ('Javascript', 'fine'), ('Perl', 'bad')]"
      ]
     },
     "execution_count": 27,
     "metadata": {},
     "output_type": "execute_result"
    }
   ],
   "source": [
    "re.findall('(\\w+) is (\\w+)', text)"
   ]
  },
  {
   "cell_type": "markdown",
   "id": "a56d5f1a",
   "metadata": {},
   "source": [
    "# Greedy and Lazy Matches"
   ]
  },
  {
   "cell_type": "code",
   "execution_count": 28,
   "id": "b4e9bdcf",
   "metadata": {},
   "outputs": [],
   "source": [
    "string = 'a, b, c'"
   ]
  },
  {
   "cell_type": "code",
   "execution_count": 36,
   "id": "6f5aaec3",
   "metadata": {},
   "outputs": [
    {
     "data": {
      "text/plain": [
       "('a, b', 'c')"
      ]
     },
     "execution_count": 36,
     "metadata": {},
     "output_type": "execute_result"
    }
   ],
   "source": [
    "m = re.search(r'(.*), (.*)', string)\n",
    "m.groups()"
   ]
  },
  {
   "cell_type": "markdown",
   "id": "e7f11af7",
   "metadata": {},
   "source": [
    "By default `.*` match is greedy, i.e. it consumes as much of the input as possible. We have to make it non-greedy (or lazy) by putting a `?` next to it."
   ]
  },
  {
   "cell_type": "code",
   "execution_count": 35,
   "id": "7c56ba67",
   "metadata": {},
   "outputs": [
    {
     "data": {
      "text/plain": [
       "('a', 'b, c')"
      ]
     },
     "execution_count": 35,
     "metadata": {},
     "output_type": "execute_result"
    }
   ],
   "source": [
    "m = re.search(r'(.*?), (.*)', string)\n",
    "m.groups()"
   ]
  },
  {
   "cell_type": "code",
   "execution_count": 37,
   "id": "2e54b17a",
   "metadata": {},
   "outputs": [
    {
     "data": {
      "text/plain": [
       "['5']"
      ]
     },
     "execution_count": 37,
     "metadata": {},
     "output_type": "execute_result"
    }
   ],
   "source": [
    "string = \"Views: 39, Comments: 5\"\n",
    "\n",
    "re.findall(\"Views.*(\\d+)\", string)"
   ]
  },
  {
   "cell_type": "code",
   "execution_count": 38,
   "id": "3dd51132",
   "metadata": {},
   "outputs": [
    {
     "data": {
      "text/plain": [
       "['39']"
      ]
     },
     "execution_count": 38,
     "metadata": {},
     "output_type": "execute_result"
    }
   ],
   "source": [
    "re.findall(\"Views.*?(\\d+)\", string)"
   ]
  }
 ],
 "metadata": {
  "kernelspec": {
   "display_name": "Python 3 (ipykernel)",
   "language": "python",
   "name": "python3"
  },
  "language_info": {
   "codemirror_mode": {
    "name": "ipython",
    "version": 3
   },
   "file_extension": ".py",
   "mimetype": "text/x-python",
   "name": "python",
   "nbconvert_exporter": "python",
   "pygments_lexer": "ipython3",
   "version": "3.9.7"
  }
 },
 "nbformat": 4,
 "nbformat_minor": 5
}
